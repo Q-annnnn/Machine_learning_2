{
  "cells": [
    {
      "cell_type": "markdown",
      "metadata": {
        "id": "view-in-github",
        "colab_type": "text"
      },
      "source": [
        "<a href=\"https://colab.research.google.com/github/Q-annnnn/USTH_Machine_learning_2/blob/main/LW2_Trung_Quan.ipynb\" target=\"_parent\"><img src=\"https://colab.research.google.com/assets/colab-badge.svg\" alt=\"Open In Colab\"/></a>"
      ]
    },
    {
      "cell_type": "code",
      "execution_count": null,
      "metadata": {
        "id": "pmpaYRSi0KnQ"
      },
      "outputs": [],
      "source": [
        "import pandas as pd\n",
        "import numpy as  np\n",
        "import matplotlib.pyplot as plt\n",
        "\n",
        "import scipy.cluster.hierarchy as sch\n",
        "from sklearn.cluster import AgglomerativeClustering\n",
        "from sklearn.cluster import KMeans\n",
        "from plotnine import ggplot, aes, geom_point\n",
        "from sklearn.decomposition import PCA"
      ]
    },
    {
      "cell_type": "code",
      "execution_count": null,
      "metadata": {
        "colab": {
          "base_uri": "https://localhost:8080/",
          "height": 424
        },
        "id": "7Kh7LvwN0rP0",
        "outputId": "d73f8990-523f-4303-d44a-e778d26cae3e"
      },
      "outputs": [
        {
          "output_type": "execute_result",
          "data": {
            "text/plain": [
              "     sepal length  sepal width  petal length  petal width           class\n",
              "0             5.1          3.5           1.4          0.2     Iris-setosa\n",
              "1             4.9          3.0           1.4          0.2     Iris-setosa\n",
              "2             4.7          3.2           1.3          0.2     Iris-setosa\n",
              "3             4.6          3.1           1.5          0.2     Iris-setosa\n",
              "4             5.0          3.6           1.4          0.2     Iris-setosa\n",
              "..            ...          ...           ...          ...             ...\n",
              "145           6.7          3.0           5.2          2.3  Iris-virginica\n",
              "146           6.3          2.5           5.0          1.9  Iris-virginica\n",
              "147           6.5          3.0           5.2          2.0  Iris-virginica\n",
              "148           6.2          3.4           5.4          2.3  Iris-virginica\n",
              "149           5.9          3.0           5.1          1.8  Iris-virginica\n",
              "\n",
              "[150 rows x 5 columns]"
            ],
            "text/html": [
              "\n",
              "  <div id=\"df-a4f0e1c6-895f-4c08-a13a-40e7273133c1\">\n",
              "    <div class=\"colab-df-container\">\n",
              "      <div>\n",
              "<style scoped>\n",
              "    .dataframe tbody tr th:only-of-type {\n",
              "        vertical-align: middle;\n",
              "    }\n",
              "\n",
              "    .dataframe tbody tr th {\n",
              "        vertical-align: top;\n",
              "    }\n",
              "\n",
              "    .dataframe thead th {\n",
              "        text-align: right;\n",
              "    }\n",
              "</style>\n",
              "<table border=\"1\" class=\"dataframe\">\n",
              "  <thead>\n",
              "    <tr style=\"text-align: right;\">\n",
              "      <th></th>\n",
              "      <th>sepal length</th>\n",
              "      <th>sepal width</th>\n",
              "      <th>petal length</th>\n",
              "      <th>petal width</th>\n",
              "      <th>class</th>\n",
              "    </tr>\n",
              "  </thead>\n",
              "  <tbody>\n",
              "    <tr>\n",
              "      <th>0</th>\n",
              "      <td>5.1</td>\n",
              "      <td>3.5</td>\n",
              "      <td>1.4</td>\n",
              "      <td>0.2</td>\n",
              "      <td>Iris-setosa</td>\n",
              "    </tr>\n",
              "    <tr>\n",
              "      <th>1</th>\n",
              "      <td>4.9</td>\n",
              "      <td>3.0</td>\n",
              "      <td>1.4</td>\n",
              "      <td>0.2</td>\n",
              "      <td>Iris-setosa</td>\n",
              "    </tr>\n",
              "    <tr>\n",
              "      <th>2</th>\n",
              "      <td>4.7</td>\n",
              "      <td>3.2</td>\n",
              "      <td>1.3</td>\n",
              "      <td>0.2</td>\n",
              "      <td>Iris-setosa</td>\n",
              "    </tr>\n",
              "    <tr>\n",
              "      <th>3</th>\n",
              "      <td>4.6</td>\n",
              "      <td>3.1</td>\n",
              "      <td>1.5</td>\n",
              "      <td>0.2</td>\n",
              "      <td>Iris-setosa</td>\n",
              "    </tr>\n",
              "    <tr>\n",
              "      <th>4</th>\n",
              "      <td>5.0</td>\n",
              "      <td>3.6</td>\n",
              "      <td>1.4</td>\n",
              "      <td>0.2</td>\n",
              "      <td>Iris-setosa</td>\n",
              "    </tr>\n",
              "    <tr>\n",
              "      <th>...</th>\n",
              "      <td>...</td>\n",
              "      <td>...</td>\n",
              "      <td>...</td>\n",
              "      <td>...</td>\n",
              "      <td>...</td>\n",
              "    </tr>\n",
              "    <tr>\n",
              "      <th>145</th>\n",
              "      <td>6.7</td>\n",
              "      <td>3.0</td>\n",
              "      <td>5.2</td>\n",
              "      <td>2.3</td>\n",
              "      <td>Iris-virginica</td>\n",
              "    </tr>\n",
              "    <tr>\n",
              "      <th>146</th>\n",
              "      <td>6.3</td>\n",
              "      <td>2.5</td>\n",
              "      <td>5.0</td>\n",
              "      <td>1.9</td>\n",
              "      <td>Iris-virginica</td>\n",
              "    </tr>\n",
              "    <tr>\n",
              "      <th>147</th>\n",
              "      <td>6.5</td>\n",
              "      <td>3.0</td>\n",
              "      <td>5.2</td>\n",
              "      <td>2.0</td>\n",
              "      <td>Iris-virginica</td>\n",
              "    </tr>\n",
              "    <tr>\n",
              "      <th>148</th>\n",
              "      <td>6.2</td>\n",
              "      <td>3.4</td>\n",
              "      <td>5.4</td>\n",
              "      <td>2.3</td>\n",
              "      <td>Iris-virginica</td>\n",
              "    </tr>\n",
              "    <tr>\n",
              "      <th>149</th>\n",
              "      <td>5.9</td>\n",
              "      <td>3.0</td>\n",
              "      <td>5.1</td>\n",
              "      <td>1.8</td>\n",
              "      <td>Iris-virginica</td>\n",
              "    </tr>\n",
              "  </tbody>\n",
              "</table>\n",
              "<p>150 rows × 5 columns</p>\n",
              "</div>\n",
              "      <button class=\"colab-df-convert\" onclick=\"convertToInteractive('df-a4f0e1c6-895f-4c08-a13a-40e7273133c1')\"\n",
              "              title=\"Convert this dataframe to an interactive table.\"\n",
              "              style=\"display:none;\">\n",
              "        \n",
              "  <svg xmlns=\"http://www.w3.org/2000/svg\" height=\"24px\"viewBox=\"0 0 24 24\"\n",
              "       width=\"24px\">\n",
              "    <path d=\"M0 0h24v24H0V0z\" fill=\"none\"/>\n",
              "    <path d=\"M18.56 5.44l.94 2.06.94-2.06 2.06-.94-2.06-.94-.94-2.06-.94 2.06-2.06.94zm-11 1L8.5 8.5l.94-2.06 2.06-.94-2.06-.94L8.5 2.5l-.94 2.06-2.06.94zm10 10l.94 2.06.94-2.06 2.06-.94-2.06-.94-.94-2.06-.94 2.06-2.06.94z\"/><path d=\"M17.41 7.96l-1.37-1.37c-.4-.4-.92-.59-1.43-.59-.52 0-1.04.2-1.43.59L10.3 9.45l-7.72 7.72c-.78.78-.78 2.05 0 2.83L4 21.41c.39.39.9.59 1.41.59.51 0 1.02-.2 1.41-.59l7.78-7.78 2.81-2.81c.8-.78.8-2.07 0-2.86zM5.41 20L4 18.59l7.72-7.72 1.47 1.35L5.41 20z\"/>\n",
              "  </svg>\n",
              "      </button>\n",
              "      \n",
              "  <style>\n",
              "    .colab-df-container {\n",
              "      display:flex;\n",
              "      flex-wrap:wrap;\n",
              "      gap: 12px;\n",
              "    }\n",
              "\n",
              "    .colab-df-convert {\n",
              "      background-color: #E8F0FE;\n",
              "      border: none;\n",
              "      border-radius: 50%;\n",
              "      cursor: pointer;\n",
              "      display: none;\n",
              "      fill: #1967D2;\n",
              "      height: 32px;\n",
              "      padding: 0 0 0 0;\n",
              "      width: 32px;\n",
              "    }\n",
              "\n",
              "    .colab-df-convert:hover {\n",
              "      background-color: #E2EBFA;\n",
              "      box-shadow: 0px 1px 2px rgba(60, 64, 67, 0.3), 0px 1px 3px 1px rgba(60, 64, 67, 0.15);\n",
              "      fill: #174EA6;\n",
              "    }\n",
              "\n",
              "    [theme=dark] .colab-df-convert {\n",
              "      background-color: #3B4455;\n",
              "      fill: #D2E3FC;\n",
              "    }\n",
              "\n",
              "    [theme=dark] .colab-df-convert:hover {\n",
              "      background-color: #434B5C;\n",
              "      box-shadow: 0px 1px 3px 1px rgba(0, 0, 0, 0.15);\n",
              "      filter: drop-shadow(0px 1px 2px rgba(0, 0, 0, 0.3));\n",
              "      fill: #FFFFFF;\n",
              "    }\n",
              "  </style>\n",
              "\n",
              "      <script>\n",
              "        const buttonEl =\n",
              "          document.querySelector('#df-a4f0e1c6-895f-4c08-a13a-40e7273133c1 button.colab-df-convert');\n",
              "        buttonEl.style.display =\n",
              "          google.colab.kernel.accessAllowed ? 'block' : 'none';\n",
              "\n",
              "        async function convertToInteractive(key) {\n",
              "          const element = document.querySelector('#df-a4f0e1c6-895f-4c08-a13a-40e7273133c1');\n",
              "          const dataTable =\n",
              "            await google.colab.kernel.invokeFunction('convertToInteractive',\n",
              "                                                     [key], {});\n",
              "          if (!dataTable) return;\n",
              "\n",
              "          const docLinkHtml = 'Like what you see? Visit the ' +\n",
              "            '<a target=\"_blank\" href=https://colab.research.google.com/notebooks/data_table.ipynb>data table notebook</a>'\n",
              "            + ' to learn more about interactive tables.';\n",
              "          element.innerHTML = '';\n",
              "          dataTable['output_type'] = 'display_data';\n",
              "          await google.colab.output.renderOutput(dataTable, element);\n",
              "          const docLink = document.createElement('div');\n",
              "          docLink.innerHTML = docLinkHtml;\n",
              "          element.appendChild(docLink);\n",
              "        }\n",
              "      </script>\n",
              "    </div>\n",
              "  </div>\n",
              "  "
            ]
          },
          "metadata": {},
          "execution_count": 3
        }
      ],
      "source": [
        "df = pd.read_csv(\"https://archive.ics.uci.edu/ml/machine-learning-databases/iris/iris.data\", names =[ \"sepal length\", \"sepal width\", \"petal length\", \"petal width\", \"class\"] )\n",
        "df"
      ]
    },
    {
      "cell_type": "code",
      "source": [
        "from sklearn.preprocessing import LabelEncoder\n",
        "lae= LabelEncoder()\n",
        "df[\"class\"]= lae.fit_transform(df[\"class\"])\n",
        "df"
      ],
      "metadata": {
        "colab": {
          "base_uri": "https://localhost:8080/",
          "height": 424
        },
        "id": "kMNDH3zqzSLw",
        "outputId": "cc5a07da-d2f1-472a-feee-01aedb4ed150"
      },
      "execution_count": null,
      "outputs": [
        {
          "output_type": "execute_result",
          "data": {
            "text/plain": [
              "     sepal length  sepal width  petal length  petal width  class\n",
              "0             5.1          3.5           1.4          0.2      0\n",
              "1             4.9          3.0           1.4          0.2      0\n",
              "2             4.7          3.2           1.3          0.2      0\n",
              "3             4.6          3.1           1.5          0.2      0\n",
              "4             5.0          3.6           1.4          0.2      0\n",
              "..            ...          ...           ...          ...    ...\n",
              "145           6.7          3.0           5.2          2.3      2\n",
              "146           6.3          2.5           5.0          1.9      2\n",
              "147           6.5          3.0           5.2          2.0      2\n",
              "148           6.2          3.4           5.4          2.3      2\n",
              "149           5.9          3.0           5.1          1.8      2\n",
              "\n",
              "[150 rows x 5 columns]"
            ],
            "text/html": [
              "\n",
              "  <div id=\"df-1b6e38bc-1ab9-4c16-9fd2-9fa118c54ff3\">\n",
              "    <div class=\"colab-df-container\">\n",
              "      <div>\n",
              "<style scoped>\n",
              "    .dataframe tbody tr th:only-of-type {\n",
              "        vertical-align: middle;\n",
              "    }\n",
              "\n",
              "    .dataframe tbody tr th {\n",
              "        vertical-align: top;\n",
              "    }\n",
              "\n",
              "    .dataframe thead th {\n",
              "        text-align: right;\n",
              "    }\n",
              "</style>\n",
              "<table border=\"1\" class=\"dataframe\">\n",
              "  <thead>\n",
              "    <tr style=\"text-align: right;\">\n",
              "      <th></th>\n",
              "      <th>sepal length</th>\n",
              "      <th>sepal width</th>\n",
              "      <th>petal length</th>\n",
              "      <th>petal width</th>\n",
              "      <th>class</th>\n",
              "    </tr>\n",
              "  </thead>\n",
              "  <tbody>\n",
              "    <tr>\n",
              "      <th>0</th>\n",
              "      <td>5.1</td>\n",
              "      <td>3.5</td>\n",
              "      <td>1.4</td>\n",
              "      <td>0.2</td>\n",
              "      <td>0</td>\n",
              "    </tr>\n",
              "    <tr>\n",
              "      <th>1</th>\n",
              "      <td>4.9</td>\n",
              "      <td>3.0</td>\n",
              "      <td>1.4</td>\n",
              "      <td>0.2</td>\n",
              "      <td>0</td>\n",
              "    </tr>\n",
              "    <tr>\n",
              "      <th>2</th>\n",
              "      <td>4.7</td>\n",
              "      <td>3.2</td>\n",
              "      <td>1.3</td>\n",
              "      <td>0.2</td>\n",
              "      <td>0</td>\n",
              "    </tr>\n",
              "    <tr>\n",
              "      <th>3</th>\n",
              "      <td>4.6</td>\n",
              "      <td>3.1</td>\n",
              "      <td>1.5</td>\n",
              "      <td>0.2</td>\n",
              "      <td>0</td>\n",
              "    </tr>\n",
              "    <tr>\n",
              "      <th>4</th>\n",
              "      <td>5.0</td>\n",
              "      <td>3.6</td>\n",
              "      <td>1.4</td>\n",
              "      <td>0.2</td>\n",
              "      <td>0</td>\n",
              "    </tr>\n",
              "    <tr>\n",
              "      <th>...</th>\n",
              "      <td>...</td>\n",
              "      <td>...</td>\n",
              "      <td>...</td>\n",
              "      <td>...</td>\n",
              "      <td>...</td>\n",
              "    </tr>\n",
              "    <tr>\n",
              "      <th>145</th>\n",
              "      <td>6.7</td>\n",
              "      <td>3.0</td>\n",
              "      <td>5.2</td>\n",
              "      <td>2.3</td>\n",
              "      <td>2</td>\n",
              "    </tr>\n",
              "    <tr>\n",
              "      <th>146</th>\n",
              "      <td>6.3</td>\n",
              "      <td>2.5</td>\n",
              "      <td>5.0</td>\n",
              "      <td>1.9</td>\n",
              "      <td>2</td>\n",
              "    </tr>\n",
              "    <tr>\n",
              "      <th>147</th>\n",
              "      <td>6.5</td>\n",
              "      <td>3.0</td>\n",
              "      <td>5.2</td>\n",
              "      <td>2.0</td>\n",
              "      <td>2</td>\n",
              "    </tr>\n",
              "    <tr>\n",
              "      <th>148</th>\n",
              "      <td>6.2</td>\n",
              "      <td>3.4</td>\n",
              "      <td>5.4</td>\n",
              "      <td>2.3</td>\n",
              "      <td>2</td>\n",
              "    </tr>\n",
              "    <tr>\n",
              "      <th>149</th>\n",
              "      <td>5.9</td>\n",
              "      <td>3.0</td>\n",
              "      <td>5.1</td>\n",
              "      <td>1.8</td>\n",
              "      <td>2</td>\n",
              "    </tr>\n",
              "  </tbody>\n",
              "</table>\n",
              "<p>150 rows × 5 columns</p>\n",
              "</div>\n",
              "      <button class=\"colab-df-convert\" onclick=\"convertToInteractive('df-1b6e38bc-1ab9-4c16-9fd2-9fa118c54ff3')\"\n",
              "              title=\"Convert this dataframe to an interactive table.\"\n",
              "              style=\"display:none;\">\n",
              "        \n",
              "  <svg xmlns=\"http://www.w3.org/2000/svg\" height=\"24px\"viewBox=\"0 0 24 24\"\n",
              "       width=\"24px\">\n",
              "    <path d=\"M0 0h24v24H0V0z\" fill=\"none\"/>\n",
              "    <path d=\"M18.56 5.44l.94 2.06.94-2.06 2.06-.94-2.06-.94-.94-2.06-.94 2.06-2.06.94zm-11 1L8.5 8.5l.94-2.06 2.06-.94-2.06-.94L8.5 2.5l-.94 2.06-2.06.94zm10 10l.94 2.06.94-2.06 2.06-.94-2.06-.94-.94-2.06-.94 2.06-2.06.94z\"/><path d=\"M17.41 7.96l-1.37-1.37c-.4-.4-.92-.59-1.43-.59-.52 0-1.04.2-1.43.59L10.3 9.45l-7.72 7.72c-.78.78-.78 2.05 0 2.83L4 21.41c.39.39.9.59 1.41.59.51 0 1.02-.2 1.41-.59l7.78-7.78 2.81-2.81c.8-.78.8-2.07 0-2.86zM5.41 20L4 18.59l7.72-7.72 1.47 1.35L5.41 20z\"/>\n",
              "  </svg>\n",
              "      </button>\n",
              "      \n",
              "  <style>\n",
              "    .colab-df-container {\n",
              "      display:flex;\n",
              "      flex-wrap:wrap;\n",
              "      gap: 12px;\n",
              "    }\n",
              "\n",
              "    .colab-df-convert {\n",
              "      background-color: #E8F0FE;\n",
              "      border: none;\n",
              "      border-radius: 50%;\n",
              "      cursor: pointer;\n",
              "      display: none;\n",
              "      fill: #1967D2;\n",
              "      height: 32px;\n",
              "      padding: 0 0 0 0;\n",
              "      width: 32px;\n",
              "    }\n",
              "\n",
              "    .colab-df-convert:hover {\n",
              "      background-color: #E2EBFA;\n",
              "      box-shadow: 0px 1px 2px rgba(60, 64, 67, 0.3), 0px 1px 3px 1px rgba(60, 64, 67, 0.15);\n",
              "      fill: #174EA6;\n",
              "    }\n",
              "\n",
              "    [theme=dark] .colab-df-convert {\n",
              "      background-color: #3B4455;\n",
              "      fill: #D2E3FC;\n",
              "    }\n",
              "\n",
              "    [theme=dark] .colab-df-convert:hover {\n",
              "      background-color: #434B5C;\n",
              "      box-shadow: 0px 1px 3px 1px rgba(0, 0, 0, 0.15);\n",
              "      filter: drop-shadow(0px 1px 2px rgba(0, 0, 0, 0.3));\n",
              "      fill: #FFFFFF;\n",
              "    }\n",
              "  </style>\n",
              "\n",
              "      <script>\n",
              "        const buttonEl =\n",
              "          document.querySelector('#df-1b6e38bc-1ab9-4c16-9fd2-9fa118c54ff3 button.colab-df-convert');\n",
              "        buttonEl.style.display =\n",
              "          google.colab.kernel.accessAllowed ? 'block' : 'none';\n",
              "\n",
              "        async function convertToInteractive(key) {\n",
              "          const element = document.querySelector('#df-1b6e38bc-1ab9-4c16-9fd2-9fa118c54ff3');\n",
              "          const dataTable =\n",
              "            await google.colab.kernel.invokeFunction('convertToInteractive',\n",
              "                                                     [key], {});\n",
              "          if (!dataTable) return;\n",
              "\n",
              "          const docLinkHtml = 'Like what you see? Visit the ' +\n",
              "            '<a target=\"_blank\" href=https://colab.research.google.com/notebooks/data_table.ipynb>data table notebook</a>'\n",
              "            + ' to learn more about interactive tables.';\n",
              "          element.innerHTML = '';\n",
              "          dataTable['output_type'] = 'display_data';\n",
              "          await google.colab.output.renderOutput(dataTable, element);\n",
              "          const docLink = document.createElement('div');\n",
              "          docLink.innerHTML = docLinkHtml;\n",
              "          element.appendChild(docLink);\n",
              "        }\n",
              "      </script>\n",
              "    </div>\n",
              "  </div>\n",
              "  "
            ]
          },
          "metadata": {},
          "execution_count": 4
        }
      ]
    },
    {
      "cell_type": "code",
      "execution_count": null,
      "metadata": {
        "colab": {
          "base_uri": "https://localhost:8080/"
        },
        "id": "658uKmzX1mkf",
        "outputId": "02e60de2-51e8-4f3a-c2b6-eb288282d6a2"
      },
      "outputs": [
        {
          "output_type": "execute_result",
          "data": {
            "text/plain": [
              "array([[5.1, 3.5, 1.4, 0.2],\n",
              "       [4.9, 3. , 1.4, 0.2],\n",
              "       [4.7, 3.2, 1.3, 0.2],\n",
              "       [4.6, 3.1, 1.5, 0.2],\n",
              "       [5. , 3.6, 1.4, 0.2],\n",
              "       [5.4, 3.9, 1.7, 0.4],\n",
              "       [4.6, 3.4, 1.4, 0.3],\n",
              "       [5. , 3.4, 1.5, 0.2],\n",
              "       [4.4, 2.9, 1.4, 0.2],\n",
              "       [4.9, 3.1, 1.5, 0.1],\n",
              "       [5.4, 3.7, 1.5, 0.2],\n",
              "       [4.8, 3.4, 1.6, 0.2],\n",
              "       [4.8, 3. , 1.4, 0.1],\n",
              "       [4.3, 3. , 1.1, 0.1],\n",
              "       [5.8, 4. , 1.2, 0.2],\n",
              "       [5.7, 4.4, 1.5, 0.4],\n",
              "       [5.4, 3.9, 1.3, 0.4],\n",
              "       [5.1, 3.5, 1.4, 0.3],\n",
              "       [5.7, 3.8, 1.7, 0.3],\n",
              "       [5.1, 3.8, 1.5, 0.3],\n",
              "       [5.4, 3.4, 1.7, 0.2],\n",
              "       [5.1, 3.7, 1.5, 0.4],\n",
              "       [4.6, 3.6, 1. , 0.2],\n",
              "       [5.1, 3.3, 1.7, 0.5],\n",
              "       [4.8, 3.4, 1.9, 0.2],\n",
              "       [5. , 3. , 1.6, 0.2],\n",
              "       [5. , 3.4, 1.6, 0.4],\n",
              "       [5.2, 3.5, 1.5, 0.2],\n",
              "       [5.2, 3.4, 1.4, 0.2],\n",
              "       [4.7, 3.2, 1.6, 0.2],\n",
              "       [4.8, 3.1, 1.6, 0.2],\n",
              "       [5.4, 3.4, 1.5, 0.4],\n",
              "       [5.2, 4.1, 1.5, 0.1],\n",
              "       [5.5, 4.2, 1.4, 0.2],\n",
              "       [4.9, 3.1, 1.5, 0.1],\n",
              "       [5. , 3.2, 1.2, 0.2],\n",
              "       [5.5, 3.5, 1.3, 0.2],\n",
              "       [4.9, 3.1, 1.5, 0.1],\n",
              "       [4.4, 3. , 1.3, 0.2],\n",
              "       [5.1, 3.4, 1.5, 0.2],\n",
              "       [5. , 3.5, 1.3, 0.3],\n",
              "       [4.5, 2.3, 1.3, 0.3],\n",
              "       [4.4, 3.2, 1.3, 0.2],\n",
              "       [5. , 3.5, 1.6, 0.6],\n",
              "       [5.1, 3.8, 1.9, 0.4],\n",
              "       [4.8, 3. , 1.4, 0.3],\n",
              "       [5.1, 3.8, 1.6, 0.2],\n",
              "       [4.6, 3.2, 1.4, 0.2],\n",
              "       [5.3, 3.7, 1.5, 0.2],\n",
              "       [5. , 3.3, 1.4, 0.2],\n",
              "       [7. , 3.2, 4.7, 1.4],\n",
              "       [6.4, 3.2, 4.5, 1.5],\n",
              "       [6.9, 3.1, 4.9, 1.5],\n",
              "       [5.5, 2.3, 4. , 1.3],\n",
              "       [6.5, 2.8, 4.6, 1.5],\n",
              "       [5.7, 2.8, 4.5, 1.3],\n",
              "       [6.3, 3.3, 4.7, 1.6],\n",
              "       [4.9, 2.4, 3.3, 1. ],\n",
              "       [6.6, 2.9, 4.6, 1.3],\n",
              "       [5.2, 2.7, 3.9, 1.4],\n",
              "       [5. , 2. , 3.5, 1. ],\n",
              "       [5.9, 3. , 4.2, 1.5],\n",
              "       [6. , 2.2, 4. , 1. ],\n",
              "       [6.1, 2.9, 4.7, 1.4],\n",
              "       [5.6, 2.9, 3.6, 1.3],\n",
              "       [6.7, 3.1, 4.4, 1.4],\n",
              "       [5.6, 3. , 4.5, 1.5],\n",
              "       [5.8, 2.7, 4.1, 1. ],\n",
              "       [6.2, 2.2, 4.5, 1.5],\n",
              "       [5.6, 2.5, 3.9, 1.1],\n",
              "       [5.9, 3.2, 4.8, 1.8],\n",
              "       [6.1, 2.8, 4. , 1.3],\n",
              "       [6.3, 2.5, 4.9, 1.5],\n",
              "       [6.1, 2.8, 4.7, 1.2],\n",
              "       [6.4, 2.9, 4.3, 1.3],\n",
              "       [6.6, 3. , 4.4, 1.4],\n",
              "       [6.8, 2.8, 4.8, 1.4],\n",
              "       [6.7, 3. , 5. , 1.7],\n",
              "       [6. , 2.9, 4.5, 1.5],\n",
              "       [5.7, 2.6, 3.5, 1. ],\n",
              "       [5.5, 2.4, 3.8, 1.1],\n",
              "       [5.5, 2.4, 3.7, 1. ],\n",
              "       [5.8, 2.7, 3.9, 1.2],\n",
              "       [6. , 2.7, 5.1, 1.6],\n",
              "       [5.4, 3. , 4.5, 1.5],\n",
              "       [6. , 3.4, 4.5, 1.6],\n",
              "       [6.7, 3.1, 4.7, 1.5],\n",
              "       [6.3, 2.3, 4.4, 1.3],\n",
              "       [5.6, 3. , 4.1, 1.3],\n",
              "       [5.5, 2.5, 4. , 1.3],\n",
              "       [5.5, 2.6, 4.4, 1.2],\n",
              "       [6.1, 3. , 4.6, 1.4],\n",
              "       [5.8, 2.6, 4. , 1.2],\n",
              "       [5. , 2.3, 3.3, 1. ],\n",
              "       [5.6, 2.7, 4.2, 1.3],\n",
              "       [5.7, 3. , 4.2, 1.2],\n",
              "       [5.7, 2.9, 4.2, 1.3],\n",
              "       [6.2, 2.9, 4.3, 1.3],\n",
              "       [5.1, 2.5, 3. , 1.1],\n",
              "       [5.7, 2.8, 4.1, 1.3],\n",
              "       [6.3, 3.3, 6. , 2.5],\n",
              "       [5.8, 2.7, 5.1, 1.9],\n",
              "       [7.1, 3. , 5.9, 2.1],\n",
              "       [6.3, 2.9, 5.6, 1.8],\n",
              "       [6.5, 3. , 5.8, 2.2],\n",
              "       [7.6, 3. , 6.6, 2.1],\n",
              "       [4.9, 2.5, 4.5, 1.7],\n",
              "       [7.3, 2.9, 6.3, 1.8],\n",
              "       [6.7, 2.5, 5.8, 1.8],\n",
              "       [7.2, 3.6, 6.1, 2.5],\n",
              "       [6.5, 3.2, 5.1, 2. ],\n",
              "       [6.4, 2.7, 5.3, 1.9],\n",
              "       [6.8, 3. , 5.5, 2.1],\n",
              "       [5.7, 2.5, 5. , 2. ],\n",
              "       [5.8, 2.8, 5.1, 2.4],\n",
              "       [6.4, 3.2, 5.3, 2.3],\n",
              "       [6.5, 3. , 5.5, 1.8],\n",
              "       [7.7, 3.8, 6.7, 2.2],\n",
              "       [7.7, 2.6, 6.9, 2.3],\n",
              "       [6. , 2.2, 5. , 1.5],\n",
              "       [6.9, 3.2, 5.7, 2.3],\n",
              "       [5.6, 2.8, 4.9, 2. ],\n",
              "       [7.7, 2.8, 6.7, 2. ],\n",
              "       [6.3, 2.7, 4.9, 1.8],\n",
              "       [6.7, 3.3, 5.7, 2.1],\n",
              "       [7.2, 3.2, 6. , 1.8],\n",
              "       [6.2, 2.8, 4.8, 1.8],\n",
              "       [6.1, 3. , 4.9, 1.8],\n",
              "       [6.4, 2.8, 5.6, 2.1],\n",
              "       [7.2, 3. , 5.8, 1.6],\n",
              "       [7.4, 2.8, 6.1, 1.9],\n",
              "       [7.9, 3.8, 6.4, 2. ],\n",
              "       [6.4, 2.8, 5.6, 2.2],\n",
              "       [6.3, 2.8, 5.1, 1.5],\n",
              "       [6.1, 2.6, 5.6, 1.4],\n",
              "       [7.7, 3. , 6.1, 2.3],\n",
              "       [6.3, 3.4, 5.6, 2.4],\n",
              "       [6.4, 3.1, 5.5, 1.8],\n",
              "       [6. , 3. , 4.8, 1.8],\n",
              "       [6.9, 3.1, 5.4, 2.1],\n",
              "       [6.7, 3.1, 5.6, 2.4],\n",
              "       [6.9, 3.1, 5.1, 2.3],\n",
              "       [5.8, 2.7, 5.1, 1.9],\n",
              "       [6.8, 3.2, 5.9, 2.3],\n",
              "       [6.7, 3.3, 5.7, 2.5],\n",
              "       [6.7, 3. , 5.2, 2.3],\n",
              "       [6.3, 2.5, 5. , 1.9],\n",
              "       [6.5, 3. , 5.2, 2. ],\n",
              "       [6.2, 3.4, 5.4, 2.3],\n",
              "       [5.9, 3. , 5.1, 1.8]])"
            ]
          },
          "metadata": {},
          "execution_count": 5
        }
      ],
      "source": [
        "x = df.iloc[:, 0:4].values\n",
        "x"
      ]
    },
    {
      "cell_type": "markdown",
      "source": [
        "AHC"
      ],
      "metadata": {
        "id": "6EgMppSUhxiI"
      }
    },
    {
      "cell_type": "code",
      "execution_count": null,
      "metadata": {
        "colab": {
          "base_uri": "https://localhost:8080/",
          "height": 424
        },
        "id": "9uVYUkRz-VEk",
        "outputId": "d651b8b8-54b9-48af-8b20-cbc400a4dc95"
      },
      "outputs": [
        {
          "output_type": "execute_result",
          "data": {
            "text/plain": [
              "     sepal length  sepal width  petal length  petal width\n",
              "0             5.1          3.5           1.4          0.2\n",
              "1             4.9          3.0           1.4          0.2\n",
              "2             4.7          3.2           1.3          0.2\n",
              "3             4.6          3.1           1.5          0.2\n",
              "4             5.0          3.6           1.4          0.2\n",
              "..            ...          ...           ...          ...\n",
              "145           6.7          3.0           5.2          2.3\n",
              "146           6.3          2.5           5.0          1.9\n",
              "147           6.5          3.0           5.2          2.0\n",
              "148           6.2          3.4           5.4          2.3\n",
              "149           5.9          3.0           5.1          1.8\n",
              "\n",
              "[150 rows x 4 columns]"
            ],
            "text/html": [
              "\n",
              "  <div id=\"df-4dfa0910-b673-484b-8910-c5c3e08d74b6\">\n",
              "    <div class=\"colab-df-container\">\n",
              "      <div>\n",
              "<style scoped>\n",
              "    .dataframe tbody tr th:only-of-type {\n",
              "        vertical-align: middle;\n",
              "    }\n",
              "\n",
              "    .dataframe tbody tr th {\n",
              "        vertical-align: top;\n",
              "    }\n",
              "\n",
              "    .dataframe thead th {\n",
              "        text-align: right;\n",
              "    }\n",
              "</style>\n",
              "<table border=\"1\" class=\"dataframe\">\n",
              "  <thead>\n",
              "    <tr style=\"text-align: right;\">\n",
              "      <th></th>\n",
              "      <th>sepal length</th>\n",
              "      <th>sepal width</th>\n",
              "      <th>petal length</th>\n",
              "      <th>petal width</th>\n",
              "    </tr>\n",
              "  </thead>\n",
              "  <tbody>\n",
              "    <tr>\n",
              "      <th>0</th>\n",
              "      <td>5.1</td>\n",
              "      <td>3.5</td>\n",
              "      <td>1.4</td>\n",
              "      <td>0.2</td>\n",
              "    </tr>\n",
              "    <tr>\n",
              "      <th>1</th>\n",
              "      <td>4.9</td>\n",
              "      <td>3.0</td>\n",
              "      <td>1.4</td>\n",
              "      <td>0.2</td>\n",
              "    </tr>\n",
              "    <tr>\n",
              "      <th>2</th>\n",
              "      <td>4.7</td>\n",
              "      <td>3.2</td>\n",
              "      <td>1.3</td>\n",
              "      <td>0.2</td>\n",
              "    </tr>\n",
              "    <tr>\n",
              "      <th>3</th>\n",
              "      <td>4.6</td>\n",
              "      <td>3.1</td>\n",
              "      <td>1.5</td>\n",
              "      <td>0.2</td>\n",
              "    </tr>\n",
              "    <tr>\n",
              "      <th>4</th>\n",
              "      <td>5.0</td>\n",
              "      <td>3.6</td>\n",
              "      <td>1.4</td>\n",
              "      <td>0.2</td>\n",
              "    </tr>\n",
              "    <tr>\n",
              "      <th>...</th>\n",
              "      <td>...</td>\n",
              "      <td>...</td>\n",
              "      <td>...</td>\n",
              "      <td>...</td>\n",
              "    </tr>\n",
              "    <tr>\n",
              "      <th>145</th>\n",
              "      <td>6.7</td>\n",
              "      <td>3.0</td>\n",
              "      <td>5.2</td>\n",
              "      <td>2.3</td>\n",
              "    </tr>\n",
              "    <tr>\n",
              "      <th>146</th>\n",
              "      <td>6.3</td>\n",
              "      <td>2.5</td>\n",
              "      <td>5.0</td>\n",
              "      <td>1.9</td>\n",
              "    </tr>\n",
              "    <tr>\n",
              "      <th>147</th>\n",
              "      <td>6.5</td>\n",
              "      <td>3.0</td>\n",
              "      <td>5.2</td>\n",
              "      <td>2.0</td>\n",
              "    </tr>\n",
              "    <tr>\n",
              "      <th>148</th>\n",
              "      <td>6.2</td>\n",
              "      <td>3.4</td>\n",
              "      <td>5.4</td>\n",
              "      <td>2.3</td>\n",
              "    </tr>\n",
              "    <tr>\n",
              "      <th>149</th>\n",
              "      <td>5.9</td>\n",
              "      <td>3.0</td>\n",
              "      <td>5.1</td>\n",
              "      <td>1.8</td>\n",
              "    </tr>\n",
              "  </tbody>\n",
              "</table>\n",
              "<p>150 rows × 4 columns</p>\n",
              "</div>\n",
              "      <button class=\"colab-df-convert\" onclick=\"convertToInteractive('df-4dfa0910-b673-484b-8910-c5c3e08d74b6')\"\n",
              "              title=\"Convert this dataframe to an interactive table.\"\n",
              "              style=\"display:none;\">\n",
              "        \n",
              "  <svg xmlns=\"http://www.w3.org/2000/svg\" height=\"24px\"viewBox=\"0 0 24 24\"\n",
              "       width=\"24px\">\n",
              "    <path d=\"M0 0h24v24H0V0z\" fill=\"none\"/>\n",
              "    <path d=\"M18.56 5.44l.94 2.06.94-2.06 2.06-.94-2.06-.94-.94-2.06-.94 2.06-2.06.94zm-11 1L8.5 8.5l.94-2.06 2.06-.94-2.06-.94L8.5 2.5l-.94 2.06-2.06.94zm10 10l.94 2.06.94-2.06 2.06-.94-2.06-.94-.94-2.06-.94 2.06-2.06.94z\"/><path d=\"M17.41 7.96l-1.37-1.37c-.4-.4-.92-.59-1.43-.59-.52 0-1.04.2-1.43.59L10.3 9.45l-7.72 7.72c-.78.78-.78 2.05 0 2.83L4 21.41c.39.39.9.59 1.41.59.51 0 1.02-.2 1.41-.59l7.78-7.78 2.81-2.81c.8-.78.8-2.07 0-2.86zM5.41 20L4 18.59l7.72-7.72 1.47 1.35L5.41 20z\"/>\n",
              "  </svg>\n",
              "      </button>\n",
              "      \n",
              "  <style>\n",
              "    .colab-df-container {\n",
              "      display:flex;\n",
              "      flex-wrap:wrap;\n",
              "      gap: 12px;\n",
              "    }\n",
              "\n",
              "    .colab-df-convert {\n",
              "      background-color: #E8F0FE;\n",
              "      border: none;\n",
              "      border-radius: 50%;\n",
              "      cursor: pointer;\n",
              "      display: none;\n",
              "      fill: #1967D2;\n",
              "      height: 32px;\n",
              "      padding: 0 0 0 0;\n",
              "      width: 32px;\n",
              "    }\n",
              "\n",
              "    .colab-df-convert:hover {\n",
              "      background-color: #E2EBFA;\n",
              "      box-shadow: 0px 1px 2px rgba(60, 64, 67, 0.3), 0px 1px 3px 1px rgba(60, 64, 67, 0.15);\n",
              "      fill: #174EA6;\n",
              "    }\n",
              "\n",
              "    [theme=dark] .colab-df-convert {\n",
              "      background-color: #3B4455;\n",
              "      fill: #D2E3FC;\n",
              "    }\n",
              "\n",
              "    [theme=dark] .colab-df-convert:hover {\n",
              "      background-color: #434B5C;\n",
              "      box-shadow: 0px 1px 3px 1px rgba(0, 0, 0, 0.15);\n",
              "      filter: drop-shadow(0px 1px 2px rgba(0, 0, 0, 0.3));\n",
              "      fill: #FFFFFF;\n",
              "    }\n",
              "  </style>\n",
              "\n",
              "      <script>\n",
              "        const buttonEl =\n",
              "          document.querySelector('#df-4dfa0910-b673-484b-8910-c5c3e08d74b6 button.colab-df-convert');\n",
              "        buttonEl.style.display =\n",
              "          google.colab.kernel.accessAllowed ? 'block' : 'none';\n",
              "\n",
              "        async function convertToInteractive(key) {\n",
              "          const element = document.querySelector('#df-4dfa0910-b673-484b-8910-c5c3e08d74b6');\n",
              "          const dataTable =\n",
              "            await google.colab.kernel.invokeFunction('convertToInteractive',\n",
              "                                                     [key], {});\n",
              "          if (!dataTable) return;\n",
              "\n",
              "          const docLinkHtml = 'Like what you see? Visit the ' +\n",
              "            '<a target=\"_blank\" href=https://colab.research.google.com/notebooks/data_table.ipynb>data table notebook</a>'\n",
              "            + ' to learn more about interactive tables.';\n",
              "          element.innerHTML = '';\n",
              "          dataTable['output_type'] = 'display_data';\n",
              "          await google.colab.output.renderOutput(dataTable, element);\n",
              "          const docLink = document.createElement('div');\n",
              "          docLink.innerHTML = docLinkHtml;\n",
              "          element.appendChild(docLink);\n",
              "        }\n",
              "      </script>\n",
              "    </div>\n",
              "  </div>\n",
              "  "
            ]
          },
          "metadata": {},
          "execution_count": 6
        }
      ],
      "source": [
        "y = df.iloc[:,0:4]\n",
        "y"
      ]
    },
    {
      "cell_type": "code",
      "execution_count": null,
      "metadata": {
        "colab": {
          "base_uri": "https://localhost:8080/"
        },
        "id": "AleJTGxD-qR7",
        "outputId": "804616b4-3f10-4059-8ef9-f3fd43899bd4"
      },
      "outputs": [
        {
          "output_type": "execute_result",
          "data": {
            "text/plain": [
              "AgglomerativeClustering()"
            ]
          },
          "metadata": {},
          "execution_count": 7
        }
      ],
      "source": [
        "ahc= AgglomerativeClustering()\n",
        "ahc.fit(x)"
      ]
    },
    {
      "cell_type": "code",
      "source": [
        "sl = sch.linkage(x, method=\"single\", metric= \"euclidean\")\n",
        "sl"
      ],
      "metadata": {
        "colab": {
          "base_uri": "https://localhost:8080/"
        },
        "id": "LA0L1wOvxkA4",
        "outputId": "56e4abd9-aa25-4a1f-e45c-5c987017c22e"
      },
      "execution_count": null,
      "outputs": [
        {
          "output_type": "execute_result",
          "data": {
            "text/plain": [
              "array([[9.00000000e+00, 3.40000000e+01, 0.00000000e+00, 2.00000000e+00],\n",
              "       [3.70000000e+01, 1.50000000e+02, 0.00000000e+00, 3.00000000e+00],\n",
              "       [1.01000000e+02, 1.42000000e+02, 0.00000000e+00, 2.00000000e+00],\n",
              "       [7.00000000e+00, 3.90000000e+01, 1.00000000e-01, 2.00000000e+00],\n",
              "       [0.00000000e+00, 1.70000000e+01, 1.00000000e-01, 2.00000000e+00],\n",
              "       [1.28000000e+02, 1.32000000e+02, 1.00000000e-01, 2.00000000e+00],\n",
              "       [1.00000000e+01, 4.80000000e+01, 1.00000000e-01, 2.00000000e+00],\n",
              "       [4.00000000e+01, 1.54000000e+02, 1.41421356e-01, 3.00000000e+00],\n",
              "       [1.90000000e+01, 2.10000000e+01, 1.41421356e-01, 2.00000000e+00],\n",
              "       [4.00000000e+00, 1.57000000e+02, 1.41421356e-01, 4.00000000e+00],\n",
              "       [2.90000000e+01, 3.00000000e+01, 1.41421356e-01, 2.00000000e+00],\n",
              "       [5.70000000e+01, 9.30000000e+01, 1.41421356e-01, 2.00000000e+00],\n",
              "       [8.00000000e+01, 8.10000000e+01, 1.41421356e-01, 2.00000000e+00],\n",
              "       [1.16000000e+02, 1.37000000e+02, 1.41421356e-01, 2.00000000e+00],\n",
              "       [8.00000000e+00, 3.80000000e+01, 1.41421356e-01, 2.00000000e+00],\n",
              "       [4.60000000e+01, 1.58000000e+02, 1.41421356e-01, 3.00000000e+00],\n",
              "       [1.53000000e+02, 1.59000000e+02, 1.41421356e-01, 6.00000000e+00],\n",
              "       [4.90000000e+01, 1.66000000e+02, 1.41421356e-01, 7.00000000e+00],\n",
              "       [2.70000000e+01, 2.80000000e+01, 1.41421356e-01, 2.00000000e+00],\n",
              "       [3.00000000e+00, 4.70000000e+01, 1.41421356e-01, 2.00000000e+00],\n",
              "       [8.20000000e+01, 9.20000000e+01, 1.41421356e-01, 2.00000000e+00],\n",
              "       [9.50000000e+01, 9.60000000e+01, 1.41421356e-01, 2.00000000e+00],\n",
              "       [1.27000000e+02, 1.38000000e+02, 1.41421356e-01, 2.00000000e+00],\n",
              "       [2.00000000e+00, 1.69000000e+02, 1.41421356e-01, 3.00000000e+00],\n",
              "       [1.00000000e+00, 4.50000000e+01, 1.41421356e-01, 2.00000000e+00],\n",
              "       [1.20000000e+01, 1.74000000e+02, 1.41421356e-01, 3.00000000e+00],\n",
              "       [1.67000000e+02, 1.68000000e+02, 1.41421356e-01, 9.00000000e+00],\n",
              "       [9.90000000e+01, 1.71000000e+02, 1.41421356e-01, 3.00000000e+00],\n",
              "       [6.30000000e+01, 9.10000000e+01, 1.41421356e-01, 2.00000000e+00],\n",
              "       [6.50000000e+01, 7.50000000e+01, 1.41421356e-01, 2.00000000e+00],\n",
              "       [6.90000000e+01, 1.62000000e+02, 1.73205081e-01, 3.00000000e+00],\n",
              "       [1.23000000e+02, 1.26000000e+02, 1.73205081e-01, 2.00000000e+00],\n",
              "       [1.51000000e+02, 1.75000000e+02, 1.73205081e-01, 6.00000000e+00],\n",
              "       [1.12000000e+02, 1.39000000e+02, 1.73205081e-01, 2.00000000e+00],\n",
              "       [1.60000000e+02, 1.82000000e+02, 1.73205081e-01, 8.00000000e+00],\n",
              "       [1.73000000e+02, 1.84000000e+02, 1.73205081e-01, 1.10000000e+01],\n",
              "       [9.40000000e+01, 1.77000000e+02, 1.73205081e-01, 4.00000000e+00],\n",
              "       [8.80000000e+01, 1.86000000e+02, 1.73205081e-01, 5.00000000e+00],\n",
              "       [6.60000000e+01, 8.40000000e+01, 2.00000000e-01, 2.00000000e+00],\n",
              "       [7.80000000e+01, 1.78000000e+02, 2.00000000e-01, 3.00000000e+00],\n",
              "       [2.30000000e+01, 2.60000000e+01, 2.00000000e-01, 2.00000000e+00],\n",
              "       [2.50000000e+01, 1.85000000e+02, 2.00000000e-01, 1.20000000e+01],\n",
              "       [4.20000000e+01, 1.64000000e+02, 2.00000000e-01, 3.00000000e+00],\n",
              "       [5.30000000e+01, 8.90000000e+01, 2.00000000e-01, 2.00000000e+00],\n",
              "       [7.40000000e+01, 9.70000000e+01, 2.00000000e-01, 2.00000000e+00],\n",
              "       [1.91000000e+02, 1.92000000e+02, 2.23606798e-01, 1.50000000e+01],\n",
              "       [1.10000000e+01, 1.95000000e+02, 2.23606798e-01, 1.60000000e+01],\n",
              "       [6.00000000e+00, 1.96000000e+02, 2.23606798e-01, 1.70000000e+01],\n",
              "       [3.50000000e+01, 1.76000000e+02, 2.23606798e-01, 1.00000000e+01],\n",
              "       [1.56000000e+02, 1.98000000e+02, 2.23606798e-01, 1.20000000e+01],\n",
              "       [4.30000000e+01, 1.90000000e+02, 2.23606798e-01, 3.00000000e+00],\n",
              "       [7.30000000e+01, 1.89000000e+02, 2.23606798e-01, 4.00000000e+00],\n",
              "       [7.00000000e+01, 1.72000000e+02, 2.23606798e-01, 3.00000000e+00],\n",
              "       [1.99000000e+02, 2.00000000e+02, 2.23606798e-01, 1.50000000e+01],\n",
              "       [1.97000000e+02, 2.03000000e+02, 2.23606798e-01, 3.20000000e+01],\n",
              "       [1.10000000e+02, 1.47000000e+02, 2.23606798e-01, 2.00000000e+00],\n",
              "       [1.20000000e+02, 1.43000000e+02, 2.23606798e-01, 2.00000000e+00],\n",
              "       [1.36000000e+02, 1.48000000e+02, 2.44948974e-01, 2.00000000e+00],\n",
              "       [5.80000000e+01, 1.79000000e+02, 2.44948974e-01, 3.00000000e+00],\n",
              "       [1.80000000e+02, 1.93000000e+02, 2.44948974e-01, 5.00000000e+00],\n",
              "       [6.70000000e+01, 1.70000000e+02, 2.44948974e-01, 3.00000000e+00],\n",
              "       [5.40000000e+01, 2.08000000e+02, 2.44948974e-01, 4.00000000e+00],\n",
              "       [1.46000000e+02, 1.81000000e+02, 2.44948974e-01, 3.00000000e+00],\n",
              "       [1.65000000e+02, 2.04000000e+02, 2.44948974e-01, 3.50000000e+01],\n",
              "       [1.03000000e+02, 1.63000000e+02, 2.44948974e-01, 3.00000000e+00],\n",
              "       [1.40000000e+02, 1.44000000e+02, 2.44948974e-01, 2.00000000e+00],\n",
              "       [1.30000000e+01, 2.13000000e+02, 2.44948974e-01, 3.60000000e+01],\n",
              "       [1.41000000e+02, 1.45000000e+02, 2.44948974e-01, 2.00000000e+00],\n",
              "       [2.02000000e+02, 2.12000000e+02, 2.44948974e-01, 6.00000000e+00],\n",
              "       [1.87000000e+02, 2.10000000e+02, 2.64575131e-01, 8.00000000e+00],\n",
              "       [6.80000000e+01, 8.70000000e+01, 2.64575131e-01, 2.00000000e+00],\n",
              "       [1.94000000e+02, 2.11000000e+02, 2.64575131e-01, 6.00000000e+00],\n",
              "       [1.13000000e+02, 1.52000000e+02, 2.64575131e-01, 3.00000000e+00],\n",
              "       [9.00000000e+01, 2.19000000e+02, 2.64575131e-01, 9.00000000e+00],\n",
              "       [5.00000000e+01, 5.20000000e+01, 2.64575131e-01, 2.00000000e+00],\n",
              "       [2.09000000e+02, 2.23000000e+02, 2.64575131e-01, 1.40000000e+01],\n",
              "       [5.10000000e+01, 5.60000000e+01, 2.64575131e-01, 2.00000000e+00],\n",
              "       [1.07000000e+02, 1.30000000e+02, 2.64575131e-01, 2.00000000e+00],\n",
              "       [2.06000000e+02, 2.15000000e+02, 2.64575131e-01, 4.00000000e+00],\n",
              "       [1.05000000e+02, 1.22000000e+02, 2.64575131e-01, 2.00000000e+00],\n",
              "       [1.49000000e+02, 2.18000000e+02, 2.82842712e-01, 7.00000000e+00],\n",
              "       [2.00000000e+01, 3.10000000e+01, 2.82842712e-01, 2.00000000e+00],\n",
              "       [8.60000000e+01, 2.24000000e+02, 2.82842712e-01, 3.00000000e+00],\n",
              "       [2.40000000e+01, 2.16000000e+02, 3.00000000e-01, 3.70000000e+01],\n",
              "       [1.24000000e+02, 2.28000000e+02, 3.00000000e-01, 5.00000000e+00],\n",
              "       [3.60000000e+01, 2.33000000e+02, 3.00000000e-01, 3.80000000e+01],\n",
              "       [2.31000000e+02, 2.35000000e+02, 3.00000000e-01, 4.00000000e+01],\n",
              "       [6.10000000e+01, 2.25000000e+02, 3.00000000e-01, 1.50000000e+01],\n",
              "       [1.15000000e+02, 2.07000000e+02, 3.00000000e-01, 3.00000000e+00],\n",
              "       [1.04000000e+02, 1.55000000e+02, 3.00000000e-01, 3.00000000e+00],\n",
              "       [5.50000000e+01, 1.88000000e+02, 3.00000000e-01, 3.00000000e+00],\n",
              "       [2.21000000e+02, 2.26000000e+02, 3.16227766e-01, 8.00000000e+00],\n",
              "       [1.21000000e+02, 2.22000000e+02, 3.16227766e-01, 4.00000000e+00],\n",
              "       [2.37000000e+02, 2.40000000e+02, 3.16227766e-01, 1.80000000e+01],\n",
              "       [2.32000000e+02, 2.41000000e+02, 3.16227766e-01, 1.10000000e+01],\n",
              "       [7.70000000e+01, 2.44000000e+02, 3.16227766e-01, 1.20000000e+01],\n",
              "       [7.60000000e+01, 2.45000000e+02, 3.16227766e-01, 1.30000000e+01],\n",
              "       [2.01000000e+02, 2.43000000e+02, 3.31662479e-01, 2.20000000e+01],\n",
              "       [8.30000000e+01, 1.33000000e+02, 3.31662479e-01, 2.00000000e+00],\n",
              "       [5.00000000e+00, 1.80000000e+01, 3.31662479e-01, 2.00000000e+00],\n",
              "       [2.30000000e+02, 2.42000000e+02, 3.31662479e-01, 1.10000000e+01],\n",
              "       [7.10000000e+01, 2.46000000e+02, 3.31662479e-01, 1.40000000e+01],\n",
              "       [2.14000000e+02, 2.39000000e+02, 3.31662479e-01, 6.00000000e+00],\n",
              "       [1.11000000e+02, 2.05000000e+02, 3.46410162e-01, 3.00000000e+00],\n",
              "       [1.83000000e+02, 2.34000000e+02, 3.46410162e-01, 7.00000000e+00],\n",
              "       [2.36000000e+02, 2.49000000e+02, 3.46410162e-01, 4.20000000e+01],\n",
              "       [1.60000000e+01, 2.55000000e+02, 3.46410162e-01, 4.30000000e+01],\n",
              "       [2.47000000e+02, 2.51000000e+02, 3.46410162e-01, 3.60000000e+01],\n",
              "       [3.20000000e+01, 2.56000000e+02, 3.46410162e-01, 4.40000000e+01],\n",
              "       [3.30000000e+01, 2.58000000e+02, 3.46410162e-01, 4.50000000e+01],\n",
              "       [1.25000000e+02, 1.29000000e+02, 3.46410162e-01, 2.00000000e+00],\n",
              "       [7.90000000e+01, 2.57000000e+02, 3.46410162e-01, 3.70000000e+01],\n",
              "       [7.20000000e+01, 2.48000000e+02, 3.60555128e-01, 3.00000000e+00],\n",
              "       [4.40000000e+01, 2.59000000e+02, 3.60555128e-01, 4.60000000e+01],\n",
              "       [2.52000000e+02, 2.53000000e+02, 3.60555128e-01, 9.00000000e+00],\n",
              "       [6.00000000e+01, 1.61000000e+02, 3.60555128e-01, 3.00000000e+00],\n",
              "       [2.17000000e+02, 2.64000000e+02, 3.60555128e-01, 1.10000000e+01],\n",
              "       [2.50000000e+02, 2.62000000e+02, 3.60555128e-01, 1.40000000e+01],\n",
              "       [2.54000000e+02, 2.66000000e+02, 3.60555128e-01, 1.80000000e+01],\n",
              "       [1.50000000e+01, 2.63000000e+02, 3.60555128e-01, 4.70000000e+01],\n",
              "       [2.38000000e+02, 2.68000000e+02, 3.74165739e-01, 2.10000000e+01],\n",
              "       [8.50000000e+01, 2.61000000e+02, 3.74165739e-01, 3.80000000e+01],\n",
              "       [2.67000000e+02, 2.70000000e+02, 3.74165739e-01, 3.50000000e+01],\n",
              "       [9.80000000e+01, 2.65000000e+02, 3.87298335e-01, 4.00000000e+00],\n",
              "       [5.90000000e+01, 2.71000000e+02, 3.87298335e-01, 3.90000000e+01],\n",
              "       [1.02000000e+02, 2.60000000e+02, 3.87298335e-01, 3.00000000e+00],\n",
              "       [2.72000000e+02, 2.75000000e+02, 4.00000000e-01, 3.80000000e+01],\n",
              "       [1.18000000e+02, 2.29000000e+02, 4.12310563e-01, 3.00000000e+00],\n",
              "       [1.40000000e+01, 2.69000000e+02, 4.12310563e-01, 4.80000000e+01],\n",
              "       [1.17000000e+02, 1.31000000e+02, 4.12310563e-01, 2.00000000e+00],\n",
              "       [2.74000000e+02, 2.76000000e+02, 4.12310563e-01, 7.70000000e+01],\n",
              "       [6.40000000e+01, 2.80000000e+02, 4.24264069e-01, 7.80000000e+01],\n",
              "       [1.00000000e+02, 2.81000000e+02, 4.24264069e-01, 7.90000000e+01],\n",
              "       [1.19000000e+02, 2.82000000e+02, 4.35889894e-01, 8.00000000e+01],\n",
              "       [2.27000000e+02, 2.83000000e+02, 4.35889894e-01, 8.20000000e+01],\n",
              "       [2.20000000e+01, 2.78000000e+02, 4.58257569e-01, 4.90000000e+01],\n",
              "       [1.14000000e+02, 2.84000000e+02, 4.89897949e-01, 8.30000000e+01],\n",
              "       [6.20000000e+01, 2.86000000e+02, 4.89897949e-01, 8.40000000e+01],\n",
              "       [2.20000000e+02, 2.87000000e+02, 5.09901951e-01, 8.60000000e+01],\n",
              "       [2.77000000e+02, 2.88000000e+02, 5.29150262e-01, 8.90000000e+01],\n",
              "       [1.35000000e+02, 2.89000000e+02, 5.38516481e-01, 9.00000000e+01],\n",
              "       [1.34000000e+02, 2.90000000e+02, 5.38516481e-01, 9.10000000e+01],\n",
              "       [1.08000000e+02, 2.91000000e+02, 5.56776436e-01, 9.20000000e+01],\n",
              "       [4.10000000e+01, 2.85000000e+02, 6.24499800e-01, 5.00000000e+01],\n",
              "       [1.09000000e+02, 2.92000000e+02, 6.32455532e-01, 9.30000000e+01],\n",
              "       [2.73000000e+02, 2.94000000e+02, 6.48074070e-01, 9.70000000e+01],\n",
              "       [1.06000000e+02, 2.95000000e+02, 7.34846923e-01, 9.80000000e+01],\n",
              "       [2.79000000e+02, 2.96000000e+02, 8.18535277e-01, 1.00000000e+02],\n",
              "       [2.93000000e+02, 2.97000000e+02, 1.64012195e+00, 1.50000000e+02]])"
            ]
          },
          "metadata": {},
          "execution_count": 8
        }
      ]
    },
    {
      "cell_type": "code",
      "source": [
        "cl = sch.linkage(x, method=\"complete\", metric= \"euclidean\")\n",
        "cl"
      ],
      "metadata": {
        "colab": {
          "base_uri": "https://localhost:8080/"
        },
        "id": "qjRR_Jb5xkJF",
        "outputId": "13ed4929-c47e-4045-f745-6f86b3137be9"
      },
      "execution_count": null,
      "outputs": [
        {
          "output_type": "execute_result",
          "data": {
            "text/plain": [
              "array([[9.00000000e+00, 3.40000000e+01, 0.00000000e+00, 2.00000000e+00],\n",
              "       [3.70000000e+01, 1.50000000e+02, 0.00000000e+00, 3.00000000e+00],\n",
              "       [1.01000000e+02, 1.42000000e+02, 0.00000000e+00, 2.00000000e+00],\n",
              "       [7.00000000e+00, 3.90000000e+01, 1.00000000e-01, 2.00000000e+00],\n",
              "       [0.00000000e+00, 1.70000000e+01, 1.00000000e-01, 2.00000000e+00],\n",
              "       [1.28000000e+02, 1.32000000e+02, 1.00000000e-01, 2.00000000e+00],\n",
              "       [1.00000000e+01, 4.80000000e+01, 1.00000000e-01, 2.00000000e+00],\n",
              "       [1.90000000e+01, 2.10000000e+01, 1.41421356e-01, 2.00000000e+00],\n",
              "       [2.90000000e+01, 3.00000000e+01, 1.41421356e-01, 2.00000000e+00],\n",
              "       [5.70000000e+01, 9.30000000e+01, 1.41421356e-01, 2.00000000e+00],\n",
              "       [8.00000000e+01, 8.10000000e+01, 1.41421356e-01, 2.00000000e+00],\n",
              "       [1.16000000e+02, 1.37000000e+02, 1.41421356e-01, 2.00000000e+00],\n",
              "       [8.00000000e+00, 3.80000000e+01, 1.41421356e-01, 2.00000000e+00],\n",
              "       [3.00000000e+00, 4.70000000e+01, 1.41421356e-01, 2.00000000e+00],\n",
              "       [2.70000000e+01, 2.80000000e+01, 1.41421356e-01, 2.00000000e+00],\n",
              "       [8.20000000e+01, 9.20000000e+01, 1.41421356e-01, 2.00000000e+00],\n",
              "       [9.50000000e+01, 9.60000000e+01, 1.41421356e-01, 2.00000000e+00],\n",
              "       [1.27000000e+02, 1.38000000e+02, 1.41421356e-01, 2.00000000e+00],\n",
              "       [1.00000000e+00, 4.50000000e+01, 1.41421356e-01, 2.00000000e+00],\n",
              "       [6.30000000e+01, 9.10000000e+01, 1.41421356e-01, 2.00000000e+00],\n",
              "       [6.50000000e+01, 7.50000000e+01, 1.41421356e-01, 2.00000000e+00],\n",
              "       [4.00000000e+01, 1.54000000e+02, 1.73205081e-01, 3.00000000e+00],\n",
              "       [4.90000000e+01, 1.53000000e+02, 1.73205081e-01, 3.00000000e+00],\n",
              "       [1.23000000e+02, 1.26000000e+02, 1.73205081e-01, 2.00000000e+00],\n",
              "       [4.00000000e+00, 1.71000000e+02, 1.73205081e-01, 4.00000000e+00],\n",
              "       [1.12000000e+02, 1.39000000e+02, 1.73205081e-01, 2.00000000e+00],\n",
              "       [1.20000000e+01, 1.51000000e+02, 1.73205081e-01, 4.00000000e+00],\n",
              "       [9.40000000e+01, 9.90000000e+01, 1.73205081e-01, 2.00000000e+00],\n",
              "       [8.80000000e+01, 1.66000000e+02, 1.73205081e-01, 3.00000000e+00],\n",
              "       [6.60000000e+01, 8.40000000e+01, 2.00000000e-01, 2.00000000e+00],\n",
              "       [2.30000000e+01, 2.60000000e+01, 2.00000000e-01, 2.00000000e+00],\n",
              "       [5.30000000e+01, 8.90000000e+01, 2.00000000e-01, 2.00000000e+00],\n",
              "       [7.40000000e+01, 9.70000000e+01, 2.00000000e-01, 2.00000000e+00],\n",
              "       [1.10000000e+02, 1.47000000e+02, 2.23606798e-01, 2.00000000e+00],\n",
              "       [1.20000000e+02, 1.43000000e+02, 2.23606798e-01, 2.00000000e+00],\n",
              "       [1.36000000e+02, 1.48000000e+02, 2.44948974e-01, 2.00000000e+00],\n",
              "       [5.40000000e+01, 5.80000000e+01, 2.44948974e-01, 2.00000000e+00],\n",
              "       [4.60000000e+01, 1.57000000e+02, 2.44948974e-01, 3.00000000e+00],\n",
              "       [7.80000000e+01, 1.69000000e+02, 2.44948974e-01, 3.00000000e+00],\n",
              "       [1.40000000e+02, 1.44000000e+02, 2.44948974e-01, 2.00000000e+00],\n",
              "       [2.00000000e+00, 1.63000000e+02, 2.44948974e-01, 3.00000000e+00],\n",
              "       [1.03000000e+02, 1.61000000e+02, 2.44948974e-01, 3.00000000e+00],\n",
              "       [1.41000000e+02, 1.45000000e+02, 2.44948974e-01, 2.00000000e+00],\n",
              "       [6.80000000e+01, 8.70000000e+01, 2.64575131e-01, 2.00000000e+00],\n",
              "       [6.90000000e+01, 1.60000000e+02, 2.64575131e-01, 3.00000000e+00],\n",
              "       [1.13000000e+02, 1.52000000e+02, 2.64575131e-01, 3.00000000e+00],\n",
              "       [4.30000000e+01, 1.80000000e+02, 2.64575131e-01, 3.00000000e+00],\n",
              "       [5.00000000e+01, 5.20000000e+01, 2.64575131e-01, 2.00000000e+00],\n",
              "       [1.68000000e+02, 1.76000000e+02, 2.64575131e-01, 6.00000000e+00],\n",
              "       [5.10000000e+01, 5.60000000e+01, 2.64575131e-01, 2.00000000e+00],\n",
              "       [1.07000000e+02, 1.30000000e+02, 2.64575131e-01, 2.00000000e+00],\n",
              "       [1.05000000e+02, 1.22000000e+02, 2.64575131e-01, 2.00000000e+00],\n",
              "       [6.70000000e+01, 1.65000000e+02, 2.82842712e-01, 3.00000000e+00],\n",
              "       [2.00000000e+01, 3.10000000e+01, 2.82842712e-01, 2.00000000e+00],\n",
              "       [1.10000000e+01, 2.40000000e+01, 3.00000000e-01, 2.00000000e+00],\n",
              "       [4.20000000e+01, 1.90000000e+02, 3.00000000e-01, 4.00000000e+00],\n",
              "       [7.00000000e+01, 1.67000000e+02, 3.00000000e-01, 3.00000000e+00],\n",
              "       [1.64000000e+02, 1.74000000e+02, 3.00000000e-01, 6.00000000e+00],\n",
              "       [2.50000000e+01, 1.98000000e+02, 3.00000000e-01, 7.00000000e+00],\n",
              "       [1.72000000e+02, 2.07000000e+02, 3.00000000e-01, 9.00000000e+00],\n",
              "       [1.24000000e+02, 1.84000000e+02, 3.16227766e-01, 3.00000000e+00],\n",
              "       [5.50000000e+01, 9.00000000e+01, 3.16227766e-01, 2.00000000e+00],\n",
              "       [1.04000000e+02, 1.55000000e+02, 3.16227766e-01, 3.00000000e+00],\n",
              "       [8.30000000e+01, 1.33000000e+02, 3.31662479e-01, 2.00000000e+00],\n",
              "       [5.00000000e+00, 1.80000000e+01, 3.31662479e-01, 2.00000000e+00],\n",
              "       [6.00000000e+00, 2.05000000e+02, 3.31662479e-01, 5.00000000e+00],\n",
              "       [1.21000000e+02, 1.95000000e+02, 3.31662479e-01, 4.00000000e+00],\n",
              "       [8.60000000e+01, 1.97000000e+02, 3.31662479e-01, 3.00000000e+00],\n",
              "       [1.77000000e+02, 1.78000000e+02, 3.31662479e-01, 5.00000000e+00],\n",
              "       [1.30000000e+01, 1.62000000e+02, 3.46410162e-01, 3.00000000e+00],\n",
              "       [3.20000000e+01, 3.30000000e+01, 3.46410162e-01, 2.00000000e+00],\n",
              "       [3.60000000e+01, 1.56000000e+02, 3.46410162e-01, 3.00000000e+00],\n",
              "       [1.25000000e+02, 1.29000000e+02, 3.46410162e-01, 2.00000000e+00],\n",
              "       [1.58000000e+02, 2.08000000e+02, 3.60555128e-01, 9.00000000e+00],\n",
              "       [1.49000000e+02, 2.06000000e+02, 3.60555128e-01, 4.00000000e+00],\n",
              "       [7.60000000e+01, 1.86000000e+02, 3.74165739e-01, 3.00000000e+00],\n",
              "       [1.11000000e+02, 1.46000000e+02, 3.74165739e-01, 2.00000000e+00],\n",
              "       [1.15000000e+02, 1.83000000e+02, 3.87298335e-01, 3.00000000e+00],\n",
              "       [9.80000000e+01, 1.59000000e+02, 3.87298335e-01, 3.00000000e+00],\n",
              "       [7.30000000e+01, 1.88000000e+02, 3.87298335e-01, 4.00000000e+00],\n",
              "       [6.10000000e+01, 7.10000000e+01, 4.00000000e-01, 2.00000000e+00],\n",
              "       [1.89000000e+02, 2.10000000e+02, 4.00000000e-01, 5.00000000e+00],\n",
              "       [4.40000000e+01, 1.87000000e+02, 4.12310563e-01, 4.00000000e+00],\n",
              "       [1.17000000e+02, 1.31000000e+02, 4.12310563e-01, 2.00000000e+00],\n",
              "       [7.20000000e+01, 2.13000000e+02, 4.24264069e-01, 3.00000000e+00],\n",
              "       [2.03000000e+02, 2.21000000e+02, 4.24264069e-01, 5.00000000e+00],\n",
              "       [1.81000000e+02, 1.94000000e+02, 4.35889894e-01, 5.00000000e+00],\n",
              "       [1.73000000e+02, 2.34000000e+02, 4.47213595e-01, 5.00000000e+00],\n",
              "       [6.40000000e+01, 7.90000000e+01, 4.47213595e-01, 2.00000000e+00],\n",
              "       [1.60000000e+01, 2.20000000e+02, 4.58257569e-01, 3.00000000e+00],\n",
              "       [8.50000000e+01, 1.99000000e+02, 4.58257569e-01, 3.00000000e+00],\n",
              "       [3.50000000e+01, 2.09000000e+02, 4.69041576e-01, 1.00000000e+01],\n",
              "       [2.02000000e+02, 2.18000000e+02, 4.69041576e-01, 8.00000000e+00],\n",
              "       [1.75000000e+02, 1.92000000e+02, 4.69041576e-01, 4.00000000e+00],\n",
              "       [1.70000000e+02, 2.25000000e+02, 5.09901951e-01, 5.00000000e+00],\n",
              "       [1.14000000e+02, 2.16000000e+02, 5.19615242e-01, 5.00000000e+00],\n",
              "       [1.79000000e+02, 2.11000000e+02, 5.19615242e-01, 4.00000000e+00],\n",
              "       [1.91000000e+02, 2.12000000e+02, 5.19615242e-01, 6.00000000e+00],\n",
              "       [1.02000000e+02, 2.22000000e+02, 5.19615242e-01, 3.00000000e+00],\n",
              "       [1.82000000e+02, 2.29000000e+02, 5.19615242e-01, 6.00000000e+00],\n",
              "       [1.96000000e+02, 2.04000000e+02, 5.47722558e-01, 5.00000000e+00],\n",
              "       [1.40000000e+01, 1.50000000e+01, 5.47722558e-01, 2.00000000e+00],\n",
              "       [1.18000000e+02, 2.01000000e+02, 5.47722558e-01, 3.00000000e+00],\n",
              "       [7.70000000e+01, 2.17000000e+02, 5.56776436e-01, 4.00000000e+00],\n",
              "       [2.00000000e+02, 2.48000000e+02, 5.56776436e-01, 5.00000000e+00],\n",
              "       [2.27000000e+02, 2.43000000e+02, 5.56776436e-01, 7.00000000e+00],\n",
              "       [2.30000000e+02, 2.42000000e+02, 6.00000000e-01, 1.00000000e+01],\n",
              "       [2.26000000e+02, 2.37000000e+02, 6.08276253e-01, 7.00000000e+00],\n",
              "       [2.14000000e+02, 2.35000000e+02, 6.08276253e-01, 7.00000000e+00],\n",
              "       [2.15000000e+02, 2.19000000e+02, 6.16441400e-01, 8.00000000e+00],\n",
              "       [5.90000000e+01, 2.36000000e+02, 6.16441400e-01, 6.00000000e+00],\n",
              "       [1.00000000e+02, 1.85000000e+02, 6.48074070e-01, 3.00000000e+00],\n",
              "       [2.32000000e+02, 2.50000000e+02, 6.48074070e-01, 9.00000000e+00],\n",
              "       [2.23000000e+02, 2.41000000e+02, 6.55743852e-01, 1.90000000e+01],\n",
              "       [2.44000000e+02, 2.53000000e+02, 6.78232998e-01, 9.00000000e+00],\n",
              "       [2.39000000e+02, 2.51000000e+02, 6.85565460e-01, 5.00000000e+00],\n",
              "       [1.19000000e+02, 1.93000000e+02, 7.07106781e-01, 3.00000000e+00],\n",
              "       [6.00000000e+01, 2.28000000e+02, 7.21110255e-01, 4.00000000e+00],\n",
              "       [1.08000000e+02, 2.47000000e+02, 7.34846923e-01, 7.00000000e+00],\n",
              "       [2.40000000e+02, 2.49000000e+02, 7.54983444e-01, 9.00000000e+00],\n",
              "       [2.38000000e+02, 2.60000000e+02, 7.61577311e-01, 8.00000000e+00],\n",
              "       [2.24000000e+02, 2.45000000e+02, 7.87400787e-01, 9.00000000e+00],\n",
              "       [2.31000000e+02, 2.61000000e+02, 8.06225775e-01, 8.00000000e+00],\n",
              "       [1.09000000e+02, 1.35000000e+02, 8.06225775e-01, 2.00000000e+00],\n",
              "       [2.20000000e+01, 2.59000000e+02, 8.30662386e-01, 9.00000000e+00],\n",
              "       [2.46000000e+02, 2.56000000e+02, 9.05538514e-01, 1.40000000e+01],\n",
              "       [1.34000000e+02, 2.57000000e+02, 9.21954446e-01, 8.00000000e+00],\n",
              "       [2.33000000e+02, 2.73000000e+02, 1.00498756e+00, 4.00000000e+00],\n",
              "       [2.58000000e+02, 2.62000000e+02, 1.00995049e+00, 1.60000000e+01],\n",
              "       [6.20000000e+01, 2.70000000e+02, 1.02956301e+00, 9.00000000e+00],\n",
              "       [2.64000000e+02, 2.69000000e+02, 1.06770783e+00, 1.80000000e+01],\n",
              "       [2.55000000e+02, 2.68000000e+02, 1.06770783e+00, 1.40000000e+01],\n",
              "       [2.63000000e+02, 2.74000000e+02, 1.10905365e+00, 2.80000000e+01],\n",
              "       [2.71000000e+02, 2.76000000e+02, 1.17473401e+00, 1.70000000e+01],\n",
              "       [2.72000000e+02, 2.81000000e+02, 1.21243557e+00, 2.20000000e+01],\n",
              "       [2.75000000e+02, 2.79000000e+02, 1.22474487e+00, 2.30000000e+01],\n",
              "       [2.52000000e+02, 2.77000000e+02, 1.38924440e+00, 7.00000000e+00],\n",
              "       [4.10000000e+01, 2.82000000e+02, 1.40712473e+00, 2.90000000e+01],\n",
              "       [2.65000000e+02, 2.78000000e+02, 1.41774469e+00, 2.10000000e+01],\n",
              "       [2.66000000e+02, 2.80000000e+02, 1.44913767e+00, 2.10000000e+01],\n",
              "       [2.54000000e+02, 2.86000000e+02, 1.45258390e+00, 1.20000000e+01],\n",
              "       [1.06000000e+02, 2.85000000e+02, 1.46287388e+00, 2.40000000e+01],\n",
              "       [2.83000000e+02, 2.89000000e+02, 1.66132477e+00, 3.80000000e+01],\n",
              "       [2.67000000e+02, 2.91000000e+02, 1.70587221e+00, 2.80000000e+01],\n",
              "       [2.84000000e+02, 2.92000000e+02, 2.23606798e+00, 6.00000000e+01],\n",
              "       [2.87000000e+02, 2.88000000e+02, 2.42899156e+00, 5.00000000e+01],\n",
              "       [2.90000000e+02, 2.94000000e+02, 3.21091887e+00, 7.20000000e+01],\n",
              "       [2.93000000e+02, 2.95000000e+02, 4.02492236e+00, 7.80000000e+01],\n",
              "       [2.96000000e+02, 2.97000000e+02, 7.08519583e+00, 1.50000000e+02]])"
            ]
          },
          "metadata": {},
          "execution_count": 9
        }
      ]
    },
    {
      "cell_type": "code",
      "source": [
        "s_linkage= sch.dendrogram(sch.linkage(x, method=\"single\", metric= \"euclidean\"))"
      ],
      "metadata": {
        "colab": {
          "base_uri": "https://localhost:8080/",
          "height": 265
        },
        "id": "47SIct8a50PO",
        "outputId": "533e329c-991d-4f44-d42c-61199464d966"
      },
      "execution_count": null,
      "outputs": [
        {
          "output_type": "display_data",
          "data": {
            "text/plain": [
              "<Figure size 432x288 with 1 Axes>"
            ],
            "image/png": "[encoded data removed]"
          },
          "metadata": {
            "needs_background": "light"
          }
        }
      ]
    },
    {
      "cell_type": "code",
      "execution_count": null,
      "metadata": {
        "colab": {
          "base_uri": "https://localhost:8080/",
          "height": 265
        },
        "id": "SHpcgP9c-rBK",
        "outputId": "f18d1f52-d051-494c-fc47-e281e1b7df0d"
      },
      "outputs": [
        {
          "output_type": "display_data",
          "data": {
            "text/plain": [
              "<Figure size 432x288 with 1 Axes>"
            ],
            "image/png": "[encoded data removed]"
          },
          "metadata": {
            "needs_background": "light"
          }
        }
      ],
      "source": [
        "c_linkage= sch.dendrogram(sch.linkage(x, method=\"complete\", metric= \"euclidean\"))"
      ]
    },
    {
      "cell_type": "code",
      "execution_count": null,
      "metadata": {
        "colab": {
          "base_uri": "https://localhost:8080/"
        },
        "id": "4Y2SnfxUG26Q",
        "outputId": "9e4455f2-2777-4050-8388-682b0abd9bfe"
      },
      "outputs": [
        {
          "output_type": "execute_result",
          "data": {
            "text/plain": [
              "array([1, 1, 1, 1, 1, 1, 1, 1, 1, 1, 1, 1, 1, 1, 1, 1, 1, 1, 1, 1, 1, 1,\n",
              "       1, 1, 1, 1, 1, 1, 1, 1, 1, 1, 1, 1, 1, 1, 1, 1, 1, 1, 1, 1, 1, 1,\n",
              "       1, 1, 1, 1, 1, 1, 0, 0, 0, 0, 0, 0, 0, 0, 0, 0, 0, 0, 0, 0, 0, 0,\n",
              "       0, 0, 0, 0, 0, 0, 0, 0, 0, 0, 0, 0, 0, 0, 0, 0, 0, 0, 0, 0, 0, 0,\n",
              "       0, 0, 0, 0, 0, 0, 0, 0, 0, 0, 0, 0, 0, 0, 0, 0, 0, 0, 0, 0, 0, 0,\n",
              "       0, 0, 0, 0, 0, 0, 0, 0, 0, 0, 0, 0, 0, 0, 0, 0, 0, 0, 0, 0, 0, 0,\n",
              "       0, 0, 0, 0, 0, 0, 0, 0, 0, 0, 0, 0, 0, 0, 0, 0, 0, 0])"
            ]
          },
          "metadata": {},
          "execution_count": 12
        }
      ],
      "source": [
        "auth = ahc.labels_\n",
        "auth"
      ]
    },
    {
      "cell_type": "code",
      "execution_count": null,
      "metadata": {
        "colab": {
          "base_uri": "https://localhost:8080/",
          "height": 424
        },
        "id": "XT899BYbIkgK",
        "outputId": "cd561afe-0b15-44ee-c87a-ce9db16ffad2"
      },
      "outputs": [
        {
          "output_type": "execute_result",
          "data": {
            "text/plain": [
              "     sepal length  sepal width  petal length  petal width  AHC\n",
              "0             5.1          3.5           1.4          0.2    1\n",
              "1             4.9          3.0           1.4          0.2    1\n",
              "2             4.7          3.2           1.3          0.2    1\n",
              "3             4.6          3.1           1.5          0.2    1\n",
              "4             5.0          3.6           1.4          0.2    1\n",
              "..            ...          ...           ...          ...  ...\n",
              "145           6.7          3.0           5.2          2.3    0\n",
              "146           6.3          2.5           5.0          1.9    0\n",
              "147           6.5          3.0           5.2          2.0    0\n",
              "148           6.2          3.4           5.4          2.3    0\n",
              "149           5.9          3.0           5.1          1.8    0\n",
              "\n",
              "[150 rows x 5 columns]"
            ],
            "text/html": [
              "\n",
              "  <div id=\"df-0e842de6-080c-4463-b0be-2e93c151a15a\">\n",
              "    <div class=\"colab-df-container\">\n",
              "      <div>\n",
              "<style scoped>\n",
              "    .dataframe tbody tr th:only-of-type {\n",
              "        vertical-align: middle;\n",
              "    }\n",
              "\n",
              "    .dataframe tbody tr th {\n",
              "        vertical-align: top;\n",
              "    }\n",
              "\n",
              "    .dataframe thead th {\n",
              "        text-align: right;\n",
              "    }\n",
              "</style>\n",
              "<table border=\"1\" class=\"dataframe\">\n",
              "  <thead>\n",
              "    <tr style=\"text-align: right;\">\n",
              "      <th></th>\n",
              "      <th>sepal length</th>\n",
              "      <th>sepal width</th>\n",
              "      <th>petal length</th>\n",
              "      <th>petal width</th>\n",
              "      <th>AHC</th>\n",
              "    </tr>\n",
              "  </thead>\n",
              "  <tbody>\n",
              "    <tr>\n",
              "      <th>0</th>\n",
              "      <td>5.1</td>\n",
              "      <td>3.5</td>\n",
              "      <td>1.4</td>\n",
              "      <td>0.2</td>\n",
              "      <td>1</td>\n",
              "    </tr>\n",
              "    <tr>\n",
              "      <th>1</th>\n",
              "      <td>4.9</td>\n",
              "      <td>3.0</td>\n",
              "      <td>1.4</td>\n",
              "      <td>0.2</td>\n",
              "      <td>1</td>\n",
              "    </tr>\n",
              "    <tr>\n",
              "      <th>2</th>\n",
              "      <td>4.7</td>\n",
              "      <td>3.2</td>\n",
              "      <td>1.3</td>\n",
              "      <td>0.2</td>\n",
              "      <td>1</td>\n",
              "    </tr>\n",
              "    <tr>\n",
              "      <th>3</th>\n",
              "      <td>4.6</td>\n",
              "      <td>3.1</td>\n",
              "      <td>1.5</td>\n",
              "      <td>0.2</td>\n",
              "      <td>1</td>\n",
              "    </tr>\n",
              "    <tr>\n",
              "      <th>4</th>\n",
              "      <td>5.0</td>\n",
              "      <td>3.6</td>\n",
              "      <td>1.4</td>\n",
              "      <td>0.2</td>\n",
              "      <td>1</td>\n",
              "    </tr>\n",
              "    <tr>\n",
              "      <th>...</th>\n",
              "      <td>...</td>\n",
              "      <td>...</td>\n",
              "      <td>...</td>\n",
              "      <td>...</td>\n",
              "      <td>...</td>\n",
              "    </tr>\n",
              "    <tr>\n",
              "      <th>145</th>\n",
              "      <td>6.7</td>\n",
              "      <td>3.0</td>\n",
              "      <td>5.2</td>\n",
              "      <td>2.3</td>\n",
              "      <td>0</td>\n",
              "    </tr>\n",
              "    <tr>\n",
              "      <th>146</th>\n",
              "      <td>6.3</td>\n",
              "      <td>2.5</td>\n",
              "      <td>5.0</td>\n",
              "      <td>1.9</td>\n",
              "      <td>0</td>\n",
              "    </tr>\n",
              "    <tr>\n",
              "      <th>147</th>\n",
              "      <td>6.5</td>\n",
              "      <td>3.0</td>\n",
              "      <td>5.2</td>\n",
              "      <td>2.0</td>\n",
              "      <td>0</td>\n",
              "    </tr>\n",
              "    <tr>\n",
              "      <th>148</th>\n",
              "      <td>6.2</td>\n",
              "      <td>3.4</td>\n",
              "      <td>5.4</td>\n",
              "      <td>2.3</td>\n",
              "      <td>0</td>\n",
              "    </tr>\n",
              "    <tr>\n",
              "      <th>149</th>\n",
              "      <td>5.9</td>\n",
              "      <td>3.0</td>\n",
              "      <td>5.1</td>\n",
              "      <td>1.8</td>\n",
              "      <td>0</td>\n",
              "    </tr>\n",
              "  </tbody>\n",
              "</table>\n",
              "<p>150 rows × 5 columns</p>\n",
              "</div>\n",
              "      <button class=\"colab-df-convert\" onclick=\"convertToInteractive('df-0e842de6-080c-4463-b0be-2e93c151a15a')\"\n",
              "              title=\"Convert this dataframe to an interactive table.\"\n",
              "              style=\"display:none;\">\n",
              "        \n",
              "  <svg xmlns=\"http://www.w3.org/2000/svg\" height=\"24px\"viewBox=\"0 0 24 24\"\n",
              "       width=\"24px\">\n",
              "    <path d=\"M0 0h24v24H0V0z\" fill=\"none\"/>\n",
              "    <path d=\"M18.56 5.44l.94 2.06.94-2.06 2.06-.94-2.06-.94-.94-2.06-.94 2.06-2.06.94zm-11 1L8.5 8.5l.94-2.06 2.06-.94-2.06-.94L8.5 2.5l-.94 2.06-2.06.94zm10 10l.94 2.06.94-2.06 2.06-.94-2.06-.94-.94-2.06-.94 2.06-2.06.94z\"/><path d=\"M17.41 7.96l-1.37-1.37c-.4-.4-.92-.59-1.43-.59-.52 0-1.04.2-1.43.59L10.3 9.45l-7.72 7.72c-.78.78-.78 2.05 0 2.83L4 21.41c.39.39.9.59 1.41.59.51 0 1.02-.2 1.41-.59l7.78-7.78 2.81-2.81c.8-.78.8-2.07 0-2.86zM5.41 20L4 18.59l7.72-7.72 1.47 1.35L5.41 20z\"/>\n",
              "  </svg>\n",
              "      </button>\n",
              "      \n",
              "  <style>\n",
              "    .colab-df-container {\n",
              "      display:flex;\n",
              "      flex-wrap:wrap;\n",
              "      gap: 12px;\n",
              "    }\n",
              "\n",
              "    .colab-df-convert {\n",
              "      background-color: #E8F0FE;\n",
              "      border: none;\n",
              "      border-radius: 50%;\n",
              "      cursor: pointer;\n",
              "      display: none;\n",
              "      fill: #1967D2;\n",
              "      height: 32px;\n",
              "      padding: 0 0 0 0;\n",
              "      width: 32px;\n",
              "    }\n",
              "\n",
              "    .colab-df-convert:hover {\n",
              "      background-color: #E2EBFA;\n",
              "      box-shadow: 0px 1px 2px rgba(60, 64, 67, 0.3), 0px 1px 3px 1px rgba(60, 64, 67, 0.15);\n",
              "      fill: #174EA6;\n",
              "    }\n",
              "\n",
              "    [theme=dark] .colab-df-convert {\n",
              "      background-color: #3B4455;\n",
              "      fill: #D2E3FC;\n",
              "    }\n",
              "\n",
              "    [theme=dark] .colab-df-convert:hover {\n",
              "      background-color: #434B5C;\n",
              "      box-shadow: 0px 1px 3px 1px rgba(0, 0, 0, 0.15);\n",
              "      filter: drop-shadow(0px 1px 2px rgba(0, 0, 0, 0.3));\n",
              "      fill: #FFFFFF;\n",
              "    }\n",
              "  </style>\n",
              "\n",
              "      <script>\n",
              "        const buttonEl =\n",
              "          document.querySelector('#df-0e842de6-080c-4463-b0be-2e93c151a15a button.colab-df-convert');\n",
              "        buttonEl.style.display =\n",
              "          google.colab.kernel.accessAllowed ? 'block' : 'none';\n",
              "\n",
              "        async function convertToInteractive(key) {\n",
              "          const element = document.querySelector('#df-0e842de6-080c-4463-b0be-2e93c151a15a');\n",
              "          const dataTable =\n",
              "            await google.colab.kernel.invokeFunction('convertToInteractive',\n",
              "                                                     [key], {});\n",
              "          if (!dataTable) return;\n",
              "\n",
              "          const docLinkHtml = 'Like what you see? Visit the ' +\n",
              "            '<a target=\"_blank\" href=https://colab.research.google.com/notebooks/data_table.ipynb>data table notebook</a>'\n",
              "            + ' to learn more about interactive tables.';\n",
              "          element.innerHTML = '';\n",
              "          dataTable['output_type'] = 'display_data';\n",
              "          await google.colab.output.renderOutput(dataTable, element);\n",
              "          const docLink = document.createElement('div');\n",
              "          docLink.innerHTML = docLinkHtml;\n",
              "          element.appendChild(docLink);\n",
              "        }\n",
              "      </script>\n",
              "    </div>\n",
              "  </div>\n",
              "  "
            ]
          },
          "metadata": {},
          "execution_count": 13
        }
      ],
      "source": [
        "y[\"AHC\"] = auth\n",
        "y"
      ]
    },
    {
      "cell_type": "code",
      "execution_count": null,
      "metadata": {
        "colab": {
          "base_uri": "https://localhost:8080/",
          "height": 295
        },
        "id": "nNd7x3lWJit_",
        "outputId": "521d6709-988b-423e-ecee-73d3dd4cb742"
      },
      "outputs": [
        {
          "output_type": "display_data",
          "data": {
            "text/plain": [
              "<Figure size 432x288 with 1 Axes>"
            ],
            "image/png": "[encoded data removed]"
          },
          "metadata": {
            "needs_background": "light"
          }
        }
      ],
      "source": [
        "wcss = []\n",
        "\n",
        "for i in range(1, 15):\n",
        "    kmeans = KMeans(n_clusters = i, init = 'k-means++', max_iter = 300, n_init = 10, random_state = 0)\n",
        "    kmeans.fit(x)\n",
        "    wcss.append(kmeans.inertia_)\n",
        "\n",
        "plt.plot(range(1, 15), wcss)\n",
        "plt.title('The elbow method')\n",
        "plt.xlabel('Number of clusters')\n",
        "plt.ylabel('WCSS') #within cluster sum of squares\n",
        "plt.show()"
      ]
    },
    {
      "cell_type": "code",
      "execution_count": null,
      "metadata": {
        "id": "HTdhfqWQLJIZ"
      },
      "outputs": [],
      "source": [
        "kmeans2 = KMeans(n_clusters = 2)\n",
        "y_kmeans2 = kmeans2.fit_predict(x)\n"
      ]
    },
    {
      "cell_type": "code",
      "source": [
        "y_kmeans2"
      ],
      "metadata": {
        "colab": {
          "base_uri": "https://localhost:8080/"
        },
        "id": "f1Urqwo0J2UB",
        "outputId": "a4492adf-a80c-4d13-eb22-77f6860b0ee9"
      },
      "execution_count": null,
      "outputs": [
        {
          "output_type": "execute_result",
          "data": {
            "text/plain": [
              "array([1, 1, 1, 1, 1, 1, 1, 1, 1, 1, 1, 1, 1, 1, 1, 1, 1, 1, 1, 1, 1, 1,\n",
              "       1, 1, 1, 1, 1, 1, 1, 1, 1, 1, 1, 1, 1, 1, 1, 1, 1, 1, 1, 1, 1, 1,\n",
              "       1, 1, 1, 1, 1, 1, 0, 0, 0, 0, 0, 0, 0, 1, 0, 0, 0, 0, 0, 0, 0, 0,\n",
              "       0, 0, 0, 0, 0, 0, 0, 0, 0, 0, 0, 0, 0, 0, 0, 0, 0, 0, 0, 0, 0, 0,\n",
              "       0, 0, 0, 0, 0, 1, 0, 0, 0, 0, 1, 0, 0, 0, 0, 0, 0, 0, 0, 0, 0, 0,\n",
              "       0, 0, 0, 0, 0, 0, 0, 0, 0, 0, 0, 0, 0, 0, 0, 0, 0, 0, 0, 0, 0, 0,\n",
              "       0, 0, 0, 0, 0, 0, 0, 0, 0, 0, 0, 0, 0, 0, 0, 0, 0, 0], dtype=int32)"
            ]
          },
          "metadata": {},
          "execution_count": 16
        }
      ]
    },
    {
      "cell_type": "code",
      "execution_count": null,
      "metadata": {
        "colab": {
          "base_uri": "https://localhost:8080/",
          "height": 285
        },
        "id": "G8D91zhNLntu",
        "outputId": "d7d3d474-df50-4096-9ea1-6e4920778df0"
      },
      "outputs": [
        {
          "output_type": "execute_result",
          "data": {
            "text/plain": [
              "<matplotlib.legend.Legend at 0x7f65584c2a00>"
            ]
          },
          "metadata": {},
          "execution_count": 17
        },
        {
          "output_type": "display_data",
          "data": {
            "text/plain": [
              "<Figure size 432x288 with 1 Axes>"
            ],
            "image/png": "[encoded data removed]"
          },
          "metadata": {
            "needs_background": "light"
          }
        }
      ],
      "source": [
        "#\n",
        "plt.scatter(x[y_kmeans2 == 0, 0], x[y_kmeans2 == 0, 1], s = 100, c = 'red', label = 'Cluster 1')\n",
        "plt.scatter(x[y_kmeans2 == 1, 0], x[y_kmeans2 == 1, 1], s = 100, c = 'blue', label = 'Cluster 2')\n",
        "#\n",
        "plt.scatter(kmeans2.cluster_centers_[:, 0], kmeans2.cluster_centers_[:,1], s = 100, c = 'yellow', label = 'Centroids')\n",
        "\n",
        "plt.legend()"
      ]
    },
    {
      "cell_type": "code",
      "execution_count": null,
      "metadata": {
        "id": "meLFZs3-Qe22",
        "colab": {
          "base_uri": "https://localhost:8080/"
        },
        "outputId": "e2228797-5210-4921-e358-5c2d28e99979"
      },
      "outputs": [
        {
          "output_type": "stream",
          "name": "stdout",
          "text": [
            "0      0\n",
            "1      0\n",
            "2      0\n",
            "3      0\n",
            "4      0\n",
            "      ..\n",
            "145    2\n",
            "146    2\n",
            "147    2\n",
            "148    2\n",
            "149    2\n",
            "Name: class, Length: 150, dtype: int64\n",
            "     0\n",
            "0    1\n",
            "1    1\n",
            "2    1\n",
            "3    1\n",
            "4    1\n",
            "..  ..\n",
            "145  0\n",
            "146  2\n",
            "147  0\n",
            "148  0\n",
            "149  2\n",
            "\n",
            "[150 rows x 1 columns]\n"
          ]
        }
      ],
      "source": [
        "kmeans3 = KMeans(n_clusters = 3)\n",
        "y_kmeans3 = kmeans3.fit_predict(x)\n",
        "kmeans.fit_predict(x)\n",
        "df_y_kmeans3= pd.DataFrame(y_kmeans3)\n",
        "print(df[\"class\"])\n",
        "print(df_y_kmeans3)"
      ]
    },
    {
      "cell_type": "code",
      "source": [
        "ev=pd.DataFrame({\"labels\": y_kmeans3, \"class\": df[\"class\"]})\n",
        "ev"
      ],
      "metadata": {
        "colab": {
          "base_uri": "https://localhost:8080/",
          "height": 424
        },
        "id": "aNK2P2PWJQfx",
        "outputId": "5a307814-b806-4e71-9ba8-10dbf58ccd54"
      },
      "execution_count": null,
      "outputs": [
        {
          "output_type": "execute_result",
          "data": {
            "text/plain": [
              "     labels  class\n",
              "0         1      0\n",
              "1         1      0\n",
              "2         1      0\n",
              "3         1      0\n",
              "4         1      0\n",
              "..      ...    ...\n",
              "145       0      2\n",
              "146       2      2\n",
              "147       0      2\n",
              "148       0      2\n",
              "149       2      2\n",
              "\n",
              "[150 rows x 2 columns]"
            ],
            "text/html": [
              "\n",
              "  <div id=\"df-075be673-043a-451e-b884-4e574ced31eb\">\n",
              "    <div class=\"colab-df-container\">\n",
              "      <div>\n",
              "<style scoped>\n",
              "    .dataframe tbody tr th:only-of-type {\n",
              "        vertical-align: middle;\n",
              "    }\n",
              "\n",
              "    .dataframe tbody tr th {\n",
              "        vertical-align: top;\n",
              "    }\n",
              "\n",
              "    .dataframe thead th {\n",
              "        text-align: right;\n",
              "    }\n",
              "</style>\n",
              "<table border=\"1\" class=\"dataframe\">\n",
              "  <thead>\n",
              "    <tr style=\"text-align: right;\">\n",
              "      <th></th>\n",
              "      <th>labels</th>\n",
              "      <th>class</th>\n",
              "    </tr>\n",
              "  </thead>\n",
              "  <tbody>\n",
              "    <tr>\n",
              "      <th>0</th>\n",
              "      <td>1</td>\n",
              "      <td>0</td>\n",
              "    </tr>\n",
              "    <tr>\n",
              "      <th>1</th>\n",
              "      <td>1</td>\n",
              "      <td>0</td>\n",
              "    </tr>\n",
              "    <tr>\n",
              "      <th>2</th>\n",
              "      <td>1</td>\n",
              "      <td>0</td>\n",
              "    </tr>\n",
              "    <tr>\n",
              "      <th>3</th>\n",
              "      <td>1</td>\n",
              "      <td>0</td>\n",
              "    </tr>\n",
              "    <tr>\n",
              "      <th>4</th>\n",
              "      <td>1</td>\n",
              "      <td>0</td>\n",
              "    </tr>\n",
              "    <tr>\n",
              "      <th>...</th>\n",
              "      <td>...</td>\n",
              "      <td>...</td>\n",
              "    </tr>\n",
              "    <tr>\n",
              "      <th>145</th>\n",
              "      <td>0</td>\n",
              "      <td>2</td>\n",
              "    </tr>\n",
              "    <tr>\n",
              "      <th>146</th>\n",
              "      <td>2</td>\n",
              "      <td>2</td>\n",
              "    </tr>\n",
              "    <tr>\n",
              "      <th>147</th>\n",
              "      <td>0</td>\n",
              "      <td>2</td>\n",
              "    </tr>\n",
              "    <tr>\n",
              "      <th>148</th>\n",
              "      <td>0</td>\n",
              "      <td>2</td>\n",
              "    </tr>\n",
              "    <tr>\n",
              "      <th>149</th>\n",
              "      <td>2</td>\n",
              "      <td>2</td>\n",
              "    </tr>\n",
              "  </tbody>\n",
              "</table>\n",
              "<p>150 rows × 2 columns</p>\n",
              "</div>\n",
              "      <button class=\"colab-df-convert\" onclick=\"convertToInteractive('df-075be673-043a-451e-b884-4e574ced31eb')\"\n",
              "              title=\"Convert this dataframe to an interactive table.\"\n",
              "              style=\"display:none;\">\n",
              "        \n",
              "  <svg xmlns=\"http://www.w3.org/2000/svg\" height=\"24px\"viewBox=\"0 0 24 24\"\n",
              "       width=\"24px\">\n",
              "    <path d=\"M0 0h24v24H0V0z\" fill=\"none\"/>\n",
              "    <path d=\"M18.56 5.44l.94 2.06.94-2.06 2.06-.94-2.06-.94-.94-2.06-.94 2.06-2.06.94zm-11 1L8.5 8.5l.94-2.06 2.06-.94-2.06-.94L8.5 2.5l-.94 2.06-2.06.94zm10 10l.94 2.06.94-2.06 2.06-.94-2.06-.94-.94-2.06-.94 2.06-2.06.94z\"/><path d=\"M17.41 7.96l-1.37-1.37c-.4-.4-.92-.59-1.43-.59-.52 0-1.04.2-1.43.59L10.3 9.45l-7.72 7.72c-.78.78-.78 2.05 0 2.83L4 21.41c.39.39.9.59 1.41.59.51 0 1.02-.2 1.41-.59l7.78-7.78 2.81-2.81c.8-.78.8-2.07 0-2.86zM5.41 20L4 18.59l7.72-7.72 1.47 1.35L5.41 20z\"/>\n",
              "  </svg>\n",
              "      </button>\n",
              "      \n",
              "  <style>\n",
              "    .colab-df-container {\n",
              "      display:flex;\n",
              "      flex-wrap:wrap;\n",
              "      gap: 12px;\n",
              "    }\n",
              "\n",
              "    .colab-df-convert {\n",
              "      background-color: #E8F0FE;\n",
              "      border: none;\n",
              "      border-radius: 50%;\n",
              "      cursor: pointer;\n",
              "      display: none;\n",
              "      fill: #1967D2;\n",
              "      height: 32px;\n",
              "      padding: 0 0 0 0;\n",
              "      width: 32px;\n",
              "    }\n",
              "\n",
              "    .colab-df-convert:hover {\n",
              "      background-color: #E2EBFA;\n",
              "      box-shadow: 0px 1px 2px rgba(60, 64, 67, 0.3), 0px 1px 3px 1px rgba(60, 64, 67, 0.15);\n",
              "      fill: #174EA6;\n",
              "    }\n",
              "\n",
              "    [theme=dark] .colab-df-convert {\n",
              "      background-color: #3B4455;\n",
              "      fill: #D2E3FC;\n",
              "    }\n",
              "\n",
              "    [theme=dark] .colab-df-convert:hover {\n",
              "      background-color: #434B5C;\n",
              "      box-shadow: 0px 1px 3px 1px rgba(0, 0, 0, 0.15);\n",
              "      filter: drop-shadow(0px 1px 2px rgba(0, 0, 0, 0.3));\n",
              "      fill: #FFFFFF;\n",
              "    }\n",
              "  </style>\n",
              "\n",
              "      <script>\n",
              "        const buttonEl =\n",
              "          document.querySelector('#df-075be673-043a-451e-b884-4e574ced31eb button.colab-df-convert');\n",
              "        buttonEl.style.display =\n",
              "          google.colab.kernel.accessAllowed ? 'block' : 'none';\n",
              "\n",
              "        async function convertToInteractive(key) {\n",
              "          const element = document.querySelector('#df-075be673-043a-451e-b884-4e574ced31eb');\n",
              "          const dataTable =\n",
              "            await google.colab.kernel.invokeFunction('convertToInteractive',\n",
              "                                                     [key], {});\n",
              "          if (!dataTable) return;\n",
              "\n",
              "          const docLinkHtml = 'Like what you see? Visit the ' +\n",
              "            '<a target=\"_blank\" href=https://colab.research.google.com/notebooks/data_table.ipynb>data table notebook</a>'\n",
              "            + ' to learn more about interactive tables.';\n",
              "          element.innerHTML = '';\n",
              "          dataTable['output_type'] = 'display_data';\n",
              "          await google.colab.output.renderOutput(dataTable, element);\n",
              "          const docLink = document.createElement('div');\n",
              "          docLink.innerHTML = docLinkHtml;\n",
              "          element.appendChild(docLink);\n",
              "        }\n",
              "      </script>\n",
              "    </div>\n",
              "  </div>\n",
              "  "
            ]
          },
          "metadata": {},
          "execution_count": 19
        }
      ]
    },
    {
      "cell_type": "code",
      "source": [
        "ct = pd.crosstab(ev[\"labels\"], ev[\"class\"])\n",
        "print(ct)"
      ],
      "metadata": {
        "colab": {
          "base_uri": "https://localhost:8080/"
        },
        "id": "tww6H35xKEyq",
        "outputId": "36151c80-02a2-4153-f36b-a30012dd3550"
      },
      "execution_count": null,
      "outputs": [
        {
          "output_type": "stream",
          "name": "stdout",
          "text": [
            "class    0   1   2\n",
            "labels            \n",
            "0        0   2  36\n",
            "1       50   0   0\n",
            "2        0  48  14\n"
          ]
        }
      ]
    },
    {
      "cell_type": "code",
      "execution_count": null,
      "metadata": {
        "colab": {
          "base_uri": "https://localhost:8080/",
          "height": 285
        },
        "id": "rcJwepRaQh2l",
        "outputId": "d7bfd741-1267-4589-bb82-319d7d481f03"
      },
      "outputs": [
        {
          "output_type": "execute_result",
          "data": {
            "text/plain": [
              "<matplotlib.legend.Legend at 0x7f6558463940>"
            ]
          },
          "metadata": {},
          "execution_count": 21
        },
        {
          "output_type": "display_data",
          "data": {
            "text/plain": [
              "<Figure size 432x288 with 1 Axes>"
            ],
            "image/png": "[encoded data removed]"
          },
          "metadata": {
            "needs_background": "light"
          }
        }
      ],
      "source": [
        "#\n",
        "plt.scatter(x[y_kmeans3 == 0, 0], x[y_kmeans3 == 0, 1], s = 100, c = 'red', label = 'Cluster 1')\n",
        "plt.scatter(x[y_kmeans3 == 1, 0], x[y_kmeans3 == 1, 1], s = 100, c = 'blue', label = 'Cluster 2')\n",
        "plt.scatter(x[y_kmeans3 == 2, 0], x[y_kmeans3 == 2, 1], s = 100, c = 'green', label = 'Cluster 3')\n",
        "#\n",
        "plt.scatter(kmeans3.cluster_centers_[:, 0], kmeans3.cluster_centers_[:,1], s = 100, c = 'yellow', label = 'Centroids')\n",
        "\n",
        "plt.legend()"
      ]
    },
    {
      "cell_type": "code",
      "source": [
        "# calculate the accuracy of the model.\n",
        "correct = 0\n",
        "\n",
        "for i in range(0,150):\n",
        "    if df[\"class\"][i] == df_y_kmeans3[0][i]:\n",
        "        correct+=1\n",
        "print(correct/150)"
      ],
      "metadata": {
        "colab": {
          "base_uri": "https://localhost:8080/"
        },
        "id": "ivIw77j989uW",
        "outputId": "b1e35d34-d471-4c83-c6e4-7f875c517ef7"
      },
      "execution_count": null,
      "outputs": [
        {
          "output_type": "stream",
          "name": "stdout",
          "text": [
            "0.09333333333333334\n"
          ]
        }
      ]
    },
    {
      "cell_type": "code",
      "source": [
        "from sklearn.cluster import KMeans\n",
        "kmeans4 = KMeans(n_clusters = 4)\n",
        "y_kmeans4 = kmeans4.fit_predict(x)"
      ],
      "metadata": {
        "id": "E0yJgz5jGafl"
      },
      "execution_count": null,
      "outputs": []
    },
    {
      "cell_type": "code",
      "source": [
        "#\n",
        "plt.scatter(x[y_kmeans4 == 0, 0], x[y_kmeans4 == 0, 1], s = 100, c = 'red', label = 'Cluster 1')\n",
        "plt.scatter(x[y_kmeans4 == 1, 0], x[y_kmeans4 == 1, 1], s = 100, c = 'blue', label = 'Cluster 2')\n",
        "plt.scatter(x[y_kmeans4 == 2, 0], x[y_kmeans4 == 2, 1], s = 100, c = 'green', label = 'Cluster 3')\n",
        "plt.scatter(x[y_kmeans4 == 3, 0], x[y_kmeans4 == 3, 1], s = 100, c = 'brown', label = 'Cluster 4')\n",
        "#\n",
        "plt.scatter(kmeans4.cluster_centers_[:, 0], kmeans4.cluster_centers_[:,1], s = 100, c = 'yellow', label = 'Centroids')\n",
        "\n",
        "plt.legend()"
      ],
      "metadata": {
        "colab": {
          "base_uri": "https://localhost:8080/",
          "height": 285
        },
        "id": "s1QQE6YmGanc",
        "outputId": "c76204fa-e935-416c-d28a-8a6918792abb"
      },
      "execution_count": null,
      "outputs": [
        {
          "output_type": "execute_result",
          "data": {
            "text/plain": [
              "<matplotlib.legend.Legend at 0x7f65584232b0>"
            ]
          },
          "metadata": {},
          "execution_count": 24
        },
        {
          "output_type": "display_data",
          "data": {
            "text/plain": [
              "<Figure size 432x288 with 1 Axes>"
            ],
            "image/png": "[encoded data removed]"
          },
          "metadata": {
            "needs_background": "light"
          }
        }
      ]
    },
    {
      "cell_type": "code",
      "source": [
        "from sklearn.cluster import KMeans\n",
        "kmeans5 = KMeans(n_clusters = 5)\n",
        "y_kmeans5 = kmeans5.fit_predict(x)"
      ],
      "metadata": {
        "id": "bUHcu8QqGawF"
      },
      "execution_count": null,
      "outputs": []
    },
    {
      "cell_type": "code",
      "source": [
        "#\n",
        "plt.scatter(x[y_kmeans5 == 0, 0], x[y_kmeans5 == 0, 1], s = 100, c = 'red', label = 'Cluster 1')\n",
        "plt.scatter(x[y_kmeans5 == 1, 0], x[y_kmeans5 == 1, 1], s = 100, c = 'blue', label = 'Cluster 2')\n",
        "plt.scatter(x[y_kmeans5 == 2, 0], x[y_kmeans5 == 2, 1], s = 100, c = 'green', label = 'Cluster 3')\n",
        "plt.scatter(x[y_kmeans5 == 3, 0], x[y_kmeans5 == 3, 1], s = 100, c = 'brown', label = 'Cluster 4')\n",
        "plt.scatter(x[y_kmeans5 == 4, 0], x[y_kmeans5 == 4, 1], s = 100, c = 'orange', label = 'Cluster 5')\n",
        "#\n",
        "plt.scatter(kmeans5.cluster_centers_[:, 0], kmeans5.cluster_centers_[:,1], s = 100, c = 'yellow', label = 'Centroids')\n",
        "\n",
        "plt.legend()"
      ],
      "metadata": {
        "colab": {
          "base_uri": "https://localhost:8080/",
          "height": 285
        },
        "id": "72vFy1HJGa3k",
        "outputId": "13af67d0-0eda-41a6-9c55-a46e910f003c"
      },
      "execution_count": null,
      "outputs": [
        {
          "output_type": "execute_result",
          "data": {
            "text/plain": [
              "<matplotlib.legend.Legend at 0x7f655834aeb0>"
            ]
          },
          "metadata": {},
          "execution_count": 26
        },
        {
          "output_type": "display_data",
          "data": {
            "text/plain": [
              "<Figure size 432x288 with 1 Axes>"
            ],
            "image/png": "[encoded data removed]"
          },
          "metadata": {
            "needs_background": "light"
          }
        }
      ]
    },
    {
      "cell_type": "markdown",
      "source": [
        "PCA after clustering"
      ],
      "metadata": {
        "id": "OGBbjnZqKP6b"
      }
    },
    {
      "cell_type": "markdown",
      "source": [
        "PCA 2D"
      ],
      "metadata": {
        "id": "bHgDTeQZeu9W"
      }
    },
    {
      "cell_type": "code",
      "source": [
        "from sklearn.preprocessing import StandardScaler\n",
        "datascaled = StandardScaler().fit_transform(x)"
      ],
      "metadata": {
        "id": "kTgNKiU1ev6V"
      },
      "execution_count": null,
      "outputs": []
    },
    {
      "cell_type": "code",
      "source": [
        "from sklearn.decomposition import PCA\n",
        "#PCA 2D projection\n",
        "pca = PCA(n_components=2)\n",
        "principalComponents = pca.fit_transform(datascaled)\n",
        "\n",
        "principalDf = pd.DataFrame(data = principalComponents\n",
        "             , columns = ['principal component 1', 'principal component 2'])\n",
        "principalComponents"
      ],
      "metadata": {
        "id": "RhaPGPFKexdP",
        "colab": {
          "base_uri": "https://localhost:8080/"
        },
        "outputId": "a694ecd0-2632-412d-bb88-a560c7ba51da"
      },
      "execution_count": null,
      "outputs": [
        {
          "output_type": "execute_result",
          "data": {
            "text/plain": [
              "array([[-2.26454173e+00,  5.05703903e-01],\n",
              "       [-2.08642550e+00, -6.55404729e-01],\n",
              "       [-2.36795045e+00, -3.18477311e-01],\n",
              "       [-2.30419716e+00, -5.75367713e-01],\n",
              "       [-2.38877749e+00,  6.74767397e-01],\n",
              "       [-2.07053681e+00,  1.51854856e+00],\n",
              "       [-2.44571134e+00,  7.45626750e-02],\n",
              "       [-2.23384186e+00,  2.47613932e-01],\n",
              "       [-2.34195768e+00, -1.09514636e+00],\n",
              "       [-2.18867576e+00, -4.48629048e-01],\n",
              "       [-2.16348656e+00,  1.07059558e+00],\n",
              "       [-2.32737775e+00,  1.58587455e-01],\n",
              "       [-2.22408272e+00, -7.09118158e-01],\n",
              "       [-2.63971626e+00, -9.38281982e-01],\n",
              "       [-2.19229151e+00,  1.88997851e+00],\n",
              "       [-2.25146521e+00,  2.72237108e+00],\n",
              "       [-2.20275048e+00,  1.51375028e+00],\n",
              "       [-2.19017916e+00,  5.14304308e-01],\n",
              "       [-1.89407429e+00,  1.43111071e+00],\n",
              "       [-2.33994907e+00,  1.15803343e+00],\n",
              "       [-1.91455639e+00,  4.30465163e-01],\n",
              "       [-2.20464540e+00,  9.52457317e-01],\n",
              "       [-2.77416979e+00,  4.89517027e-01],\n",
              "       [-1.82041156e+00,  1.06750793e-01],\n",
              "       [-2.22821750e+00,  1.62186163e-01],\n",
              "       [-1.95702401e+00, -6.07892567e-01],\n",
              "       [-2.05206331e+00,  2.66014312e-01],\n",
              "       [-2.16819365e+00,  5.52016495e-01],\n",
              "       [-2.14030596e+00,  3.36640409e-01],\n",
              "       [-2.26879019e+00, -3.14878603e-01],\n",
              "       [-2.14455443e+00, -4.83942097e-01],\n",
              "       [-1.83193810e+00,  4.45266836e-01],\n",
              "       [-2.60820287e+00,  1.82847519e+00],\n",
              "       [-2.43795086e+00,  2.18539162e+00],\n",
              "       [-2.18867576e+00, -4.48629048e-01],\n",
              "       [-2.21111990e+00, -1.84337811e-01],\n",
              "       [-2.04441652e+00,  6.84956426e-01],\n",
              "       [-2.18867576e+00, -4.48629048e-01],\n",
              "       [-2.43595220e+00, -8.82169415e-01],\n",
              "       [-2.17054720e+00,  2.92726955e-01],\n",
              "       [-2.28652724e+00,  4.67991716e-01],\n",
              "       [-1.87170722e+00, -2.32769161e+00],\n",
              "       [-2.55783442e+00, -4.53816380e-01],\n",
              "       [-1.96427929e+00,  4.97391640e-01],\n",
              "       [-2.13337283e+00,  1.17143211e+00],\n",
              "       [-2.07535759e+00, -6.91917347e-01],\n",
              "       [-2.38125822e+00,  1.15063259e+00],\n",
              "       [-2.39819169e+00, -3.62390765e-01],\n",
              "       [-2.22678121e+00,  1.02548255e+00],\n",
              "       [-2.20595417e+00,  3.22378453e-02],\n",
              "       [ 1.10399365e+00,  8.63112446e-01],\n",
              "       [ 7.32481440e-01,  5.98635573e-01],\n",
              "       [ 1.24210951e+00,  6.14822450e-01],\n",
              "       [ 3.97307283e-01, -1.75816895e+00],\n",
              "       [ 1.07259395e+00, -2.11757903e-01],\n",
              "       [ 3.84458146e-01, -5.91062469e-01],\n",
              "       [ 7.48715076e-01,  7.78698611e-01],\n",
              "       [-4.97863388e-01, -1.84886877e+00],\n",
              "       [ 9.26222368e-01,  3.03308268e-02],\n",
              "       [ 4.96802558e-03, -1.02940111e+00],\n",
              "       [-1.24697461e-01, -2.65806268e+00],\n",
              "       [ 4.38730118e-01, -5.88812850e-02],\n",
              "       [ 5.51633981e-01, -1.77258156e+00],\n",
              "       [ 7.17165066e-01, -1.85434315e-01],\n",
              "       [-3.72583830e-02, -4.32795099e-01],\n",
              "       [ 8.75890536e-01,  5.09998151e-01],\n",
              "       [ 3.48006402e-01, -1.90621647e-01],\n",
              "       [ 1.53392545e-01, -7.90725456e-01],\n",
              "       [ 1.21530321e+00, -1.63335564e+00],\n",
              "       [ 1.56941176e-01, -1.30310327e+00],\n",
              "       [ 7.38256104e-01,  4.02470382e-01],\n",
              "       [ 4.72369682e-01, -4.16608222e-01],\n",
              "       [ 1.22798821e+00, -9.40914793e-01],\n",
              "       [ 6.29381045e-01, -4.16811643e-01],\n",
              "       [ 7.00472799e-01, -6.34939277e-02],\n",
              "       [ 8.73536987e-01,  2.50708611e-01],\n",
              "       [ 1.25422219e+00, -8.26200998e-02],\n",
              "       [ 1.35823985e+00,  3.28820266e-01],\n",
              "       [ 6.62126138e-01, -2.24346071e-01],\n",
              "       [-4.72815133e-02, -1.05721241e+00],\n",
              "       [ 1.21534209e-01, -1.56359238e+00],\n",
              "       [ 1.41182261e-02, -1.57339235e+00],\n",
              "       [ 2.36010837e-01, -7.75923784e-01],\n",
              "       [ 1.05669143e+00, -6.36901284e-01],\n",
              "       [ 2.21417088e-01, -2.80847693e-01],\n",
              "       [ 4.31783161e-01,  8.55136920e-01],\n",
              "       [ 1.04941336e+00,  5.22197265e-01],\n",
              "       [ 1.03587821e+00, -1.39246648e+00],\n",
              "       [ 6.70675999e-02, -2.12620735e-01],\n",
              "       [ 2.75425066e-01, -1.32981591e+00],\n",
              "       [ 2.72335066e-01, -1.11944152e+00],\n",
              "       [ 6.23170540e-01,  2.75426333e-02],\n",
              "       [ 3.30005364e-01, -9.88900732e-01],\n",
              "       [-3.73627623e-01, -2.01793227e+00],\n",
              "       [ 2.82944343e-01, -8.53950717e-01],\n",
              "       [ 8.90531103e-02, -1.74908548e-01],\n",
              "       [ 2.24356783e-01, -3.80484659e-01],\n",
              "       [ 5.73883486e-01, -1.53719974e-01],\n",
              "       [-4.57012873e-01, -1.53946451e+00],\n",
              "       [ 2.52244473e-01, -5.95860746e-01],\n",
              "       [ 1.84767259e+00,  8.71696662e-01],\n",
              "       [ 1.15318981e+00, -7.01326114e-01],\n",
              "       [ 2.20634950e+00,  5.54470105e-01],\n",
              "       [ 1.43868540e+00, -5.00105223e-02],\n",
              "       [ 1.86789070e+00,  2.91192802e-01],\n",
              "       [ 2.75419671e+00,  7.88432206e-01],\n",
              "       [ 3.58374475e-01, -1.56009458e+00],\n",
              "       [ 2.30300590e+00,  4.09516695e-01],\n",
              "       [ 2.00173530e+00, -7.23865359e-01],\n",
              "       [ 2.26755460e+00,  1.92144299e+00],\n",
              "       [ 1.36590943e+00,  6.93948040e-01],\n",
              "       [ 1.59906459e+00, -4.28248836e-01],\n",
              "       [ 1.88425185e+00,  4.14332758e-01],\n",
              "       [ 1.25308651e+00, -1.16739134e+00],\n",
              "       [ 1.46406152e+00, -4.44147569e-01],\n",
              "       [ 1.59180930e+00,  6.77035372e-01],\n",
              "       [ 1.47128019e+00,  2.53192472e-01],\n",
              "       [ 2.43737848e+00,  2.55675734e+00],\n",
              "       [ 3.30914118e+00, -2.36132010e-03],\n",
              "       [ 1.25398099e+00, -1.71758384e+00],\n",
              "       [ 2.04049626e+00,  9.07398765e-01],\n",
              "       [ 9.73915114e-01, -5.71174376e-01],\n",
              "       [ 2.89806444e+00,  3.97791359e-01],\n",
              "       [ 1.32919369e+00, -4.86760542e-01],\n",
              "       [ 1.70424071e+00,  1.01414842e+00],\n",
              "       [ 1.95772766e+00,  1.00333452e+00],\n",
              "       [ 1.17190451e+00, -3.18896617e-01],\n",
              "       [ 1.01978105e+00,  6.55429631e-02],\n",
              "       [ 1.78600886e+00, -1.93272800e-01],\n",
              "       [ 1.86477791e+00,  5.55381532e-01],\n",
              "       [ 2.43549739e+00,  2.46654468e-01],\n",
              "       [ 2.31608241e+00,  2.62618387e+00],\n",
              "       [ 1.86037143e+00, -1.84672394e-01],\n",
              "       [ 1.11127173e+00, -2.95986102e-01],\n",
              "       [ 1.19746916e+00, -8.17167742e-01],\n",
              "       [ 2.80094940e+00,  8.44748194e-01],\n",
              "       [ 1.58015525e+00,  1.07247450e+00],\n",
              "       [ 1.34704442e+00,  4.22255966e-01],\n",
              "       [ 9.23432978e-01,  1.92303705e-02],\n",
              "       [ 1.85355198e+00,  6.72422729e-01],\n",
              "       [ 2.01615720e+00,  6.10397038e-01],\n",
              "       [ 1.90311686e+00,  6.86024832e-01],\n",
              "       [ 1.15318981e+00, -7.01326114e-01],\n",
              "       [ 2.04330844e+00,  8.64684880e-01],\n",
              "       [ 2.00169097e+00,  1.04855005e+00],\n",
              "       [ 1.87052207e+00,  3.82821838e-01],\n",
              "       [ 1.55849189e+00, -9.05313601e-01],\n",
              "       [ 1.52084506e+00,  2.66794575e-01],\n",
              "       [ 1.37639119e+00,  1.01636193e+00],\n",
              "       [ 9.59298576e-01, -2.22839447e-02]])"
            ]
          },
          "metadata": {},
          "execution_count": 28
        }
      ]
    },
    {
      "cell_type": "code",
      "source": [
        "plt.figure(figsize=(8,6))\n",
        "plt.scatter(principalComponents[:,0],principalComponents[:,1], c=y_kmeans3)\n",
        "plt.xlable= (\"component 1\")\n",
        "plt.ylable= (\"component 2\")"
      ],
      "metadata": {
        "colab": {
          "base_uri": "https://localhost:8080/",
          "height": 374
        },
        "id": "EAvGKgiOe0GQ",
        "outputId": "5426616a-d422-4149-dcdb-77832519bc9e"
      },
      "execution_count": null,
      "outputs": [
        {
          "output_type": "display_data",
          "data": {
            "text/plain": [
              "<Figure size 576x432 with 1 Axes>"
            ],
            "image/png": "[encoded data removed]"
          },
          "metadata": {
            "needs_background": "light"
          }
        }
      ]
    },
    {
      "cell_type": "markdown",
      "source": [
        "PCA 3D"
      ],
      "metadata": {
        "id": "N5UAAyUOiZqj"
      }
    },
    {
      "cell_type": "code",
      "source": [
        "pca3D = PCA(n_components = 3)\n",
        "principalComponents3 = pca3D.fit_transform(datascaled)\n",
        "principal3Df = pd.DataFrame(data = principalComponents3\n",
        "             , columns = ['principal component 1', 'principal component 2', 'principal component 3'])\n"
      ],
      "metadata": {
        "id": "M5ibtUBnibLv"
      },
      "execution_count": null,
      "outputs": []
    },
    {
      "cell_type": "code",
      "source": [
        "final3Df = pd.concat([principal3Df, df_y_kmeans3],axis=1)\n",
        "final3Df"
      ],
      "metadata": {
        "colab": {
          "base_uri": "https://localhost:8080/",
          "height": 424
        },
        "id": "t3unrol4lVXq",
        "outputId": "956a5c57-a420-4a0a-8c1e-77be3b158f9f"
      },
      "execution_count": null,
      "outputs": [
        {
          "output_type": "execute_result",
          "data": {
            "text/plain": [
              "     principal component 1  principal component 2  principal component 3  0\n",
              "0                -2.264542               0.505704              -0.121943  1\n",
              "1                -2.086426              -0.655405              -0.227251  1\n",
              "2                -2.367950              -0.318477               0.051480  1\n",
              "3                -2.304197              -0.575368               0.098860  1\n",
              "4                -2.388777               0.674767               0.021428  1\n",
              "..                     ...                    ...                    ... ..\n",
              "145               1.870522               0.382822               0.254532  0\n",
              "146               1.558492              -0.905314              -0.025382  2\n",
              "147               1.520845               0.266795               0.179277  0\n",
              "148               1.376391               1.016362               0.931405  0\n",
              "149               0.959299              -0.022284               0.528794  2\n",
              "\n",
              "[150 rows x 4 columns]"
            ],
            "text/html": [
              "\n",
              "  <div id=\"df-d7c3ce86-8b3b-4433-b749-a2b72d8e9026\">\n",
              "    <div class=\"colab-df-container\">\n",
              "      <div>\n",
              "<style scoped>\n",
              "    .dataframe tbody tr th:only-of-type {\n",
              "        vertical-align: middle;\n",
              "    }\n",
              "\n",
              "    .dataframe tbody tr th {\n",
              "        vertical-align: top;\n",
              "    }\n",
              "\n",
              "    .dataframe thead th {\n",
              "        text-align: right;\n",
              "    }\n",
              "</style>\n",
              "<table border=\"1\" class=\"dataframe\">\n",
              "  <thead>\n",
              "    <tr style=\"text-align: right;\">\n",
              "      <th></th>\n",
              "      <th>principal component 1</th>\n",
              "      <th>principal component 2</th>\n",
              "      <th>principal component 3</th>\n",
              "      <th>0</th>\n",
              "    </tr>\n",
              "  </thead>\n",
              "  <tbody>\n",
              "    <tr>\n",
              "      <th>0</th>\n",
              "      <td>-2.264542</td>\n",
              "      <td>0.505704</td>\n",
              "      <td>-0.121943</td>\n",
              "      <td>1</td>\n",
              "    </tr>\n",
              "    <tr>\n",
              "      <th>1</th>\n",
              "      <td>-2.086426</td>\n",
              "      <td>-0.655405</td>\n",
              "      <td>-0.227251</td>\n",
              "      <td>1</td>\n",
              "    </tr>\n",
              "    <tr>\n",
              "      <th>2</th>\n",
              "      <td>-2.367950</td>\n",
              "      <td>-0.318477</td>\n",
              "      <td>0.051480</td>\n",
              "      <td>1</td>\n",
              "    </tr>\n",
              "    <tr>\n",
              "      <th>3</th>\n",
              "      <td>-2.304197</td>\n",
              "      <td>-0.575368</td>\n",
              "      <td>0.098860</td>\n",
              "      <td>1</td>\n",
              "    </tr>\n",
              "    <tr>\n",
              "      <th>4</th>\n",
              "      <td>-2.388777</td>\n",
              "      <td>0.674767</td>\n",
              "      <td>0.021428</td>\n",
              "      <td>1</td>\n",
              "    </tr>\n",
              "    <tr>\n",
              "      <th>...</th>\n",
              "      <td>...</td>\n",
              "      <td>...</td>\n",
              "      <td>...</td>\n",
              "      <td>...</td>\n",
              "    </tr>\n",
              "    <tr>\n",
              "      <th>145</th>\n",
              "      <td>1.870522</td>\n",
              "      <td>0.382822</td>\n",
              "      <td>0.254532</td>\n",
              "      <td>0</td>\n",
              "    </tr>\n",
              "    <tr>\n",
              "      <th>146</th>\n",
              "      <td>1.558492</td>\n",
              "      <td>-0.905314</td>\n",
              "      <td>-0.025382</td>\n",
              "      <td>2</td>\n",
              "    </tr>\n",
              "    <tr>\n",
              "      <th>147</th>\n",
              "      <td>1.520845</td>\n",
              "      <td>0.266795</td>\n",
              "      <td>0.179277</td>\n",
              "      <td>0</td>\n",
              "    </tr>\n",
              "    <tr>\n",
              "      <th>148</th>\n",
              "      <td>1.376391</td>\n",
              "      <td>1.016362</td>\n",
              "      <td>0.931405</td>\n",
              "      <td>0</td>\n",
              "    </tr>\n",
              "    <tr>\n",
              "      <th>149</th>\n",
              "      <td>0.959299</td>\n",
              "      <td>-0.022284</td>\n",
              "      <td>0.528794</td>\n",
              "      <td>2</td>\n",
              "    </tr>\n",
              "  </tbody>\n",
              "</table>\n",
              "<p>150 rows × 4 columns</p>\n",
              "</div>\n",
              "      <button class=\"colab-df-convert\" onclick=\"convertToInteractive('df-d7c3ce86-8b3b-4433-b749-a2b72d8e9026')\"\n",
              "              title=\"Convert this dataframe to an interactive table.\"\n",
              "              style=\"display:none;\">\n",
              "        \n",
              "  <svg xmlns=\"http://www.w3.org/2000/svg\" height=\"24px\"viewBox=\"0 0 24 24\"\n",
              "       width=\"24px\">\n",
              "    <path d=\"M0 0h24v24H0V0z\" fill=\"none\"/>\n",
              "    <path d=\"M18.56 5.44l.94 2.06.94-2.06 2.06-.94-2.06-.94-.94-2.06-.94 2.06-2.06.94zm-11 1L8.5 8.5l.94-2.06 2.06-.94-2.06-.94L8.5 2.5l-.94 2.06-2.06.94zm10 10l.94 2.06.94-2.06 2.06-.94-2.06-.94-.94-2.06-.94 2.06-2.06.94z\"/><path d=\"M17.41 7.96l-1.37-1.37c-.4-.4-.92-.59-1.43-.59-.52 0-1.04.2-1.43.59L10.3 9.45l-7.72 7.72c-.78.78-.78 2.05 0 2.83L4 21.41c.39.39.9.59 1.41.59.51 0 1.02-.2 1.41-.59l7.78-7.78 2.81-2.81c.8-.78.8-2.07 0-2.86zM5.41 20L4 18.59l7.72-7.72 1.47 1.35L5.41 20z\"/>\n",
              "  </svg>\n",
              "      </button>\n",
              "      \n",
              "  <style>\n",
              "    .colab-df-container {\n",
              "      display:flex;\n",
              "      flex-wrap:wrap;\n",
              "      gap: 12px;\n",
              "    }\n",
              "\n",
              "    .colab-df-convert {\n",
              "      background-color: #E8F0FE;\n",
              "      border: none;\n",
              "      border-radius: 50%;\n",
              "      cursor: pointer;\n",
              "      display: none;\n",
              "      fill: #1967D2;\n",
              "      height: 32px;\n",
              "      padding: 0 0 0 0;\n",
              "      width: 32px;\n",
              "    }\n",
              "\n",
              "    .colab-df-convert:hover {\n",
              "      background-color: #E2EBFA;\n",
              "      box-shadow: 0px 1px 2px rgba(60, 64, 67, 0.3), 0px 1px 3px 1px rgba(60, 64, 67, 0.15);\n",
              "      fill: #174EA6;\n",
              "    }\n",
              "\n",
              "    [theme=dark] .colab-df-convert {\n",
              "      background-color: #3B4455;\n",
              "      fill: #D2E3FC;\n",
              "    }\n",
              "\n",
              "    [theme=dark] .colab-df-convert:hover {\n",
              "      background-color: #434B5C;\n",
              "      box-shadow: 0px 1px 3px 1px rgba(0, 0, 0, 0.15);\n",
              "      filter: drop-shadow(0px 1px 2px rgba(0, 0, 0, 0.3));\n",
              "      fill: #FFFFFF;\n",
              "    }\n",
              "  </style>\n",
              "\n",
              "      <script>\n",
              "        const buttonEl =\n",
              "          document.querySelector('#df-d7c3ce86-8b3b-4433-b749-a2b72d8e9026 button.colab-df-convert');\n",
              "        buttonEl.style.display =\n",
              "          google.colab.kernel.accessAllowed ? 'block' : 'none';\n",
              "\n",
              "        async function convertToInteractive(key) {\n",
              "          const element = document.querySelector('#df-d7c3ce86-8b3b-4433-b749-a2b72d8e9026');\n",
              "          const dataTable =\n",
              "            await google.colab.kernel.invokeFunction('convertToInteractive',\n",
              "                                                     [key], {});\n",
              "          if (!dataTable) return;\n",
              "\n",
              "          const docLinkHtml = 'Like what you see? Visit the ' +\n",
              "            '<a target=\"_blank\" href=https://colab.research.google.com/notebooks/data_table.ipynb>data table notebook</a>'\n",
              "            + ' to learn more about interactive tables.';\n",
              "          element.innerHTML = '';\n",
              "          dataTable['output_type'] = 'display_data';\n",
              "          await google.colab.output.renderOutput(dataTable, element);\n",
              "          const docLink = document.createElement('div');\n",
              "          docLink.innerHTML = docLinkHtml;\n",
              "          element.appendChild(docLink);\n",
              "        }\n",
              "      </script>\n",
              "    </div>\n",
              "  </div>\n",
              "  "
            ]
          },
          "metadata": {},
          "execution_count": 31
        }
      ]
    },
    {
      "cell_type": "code",
      "source": [
        "import plotly.express as pe\n",
        "pe.scatter_3d(final3Df,x=\"principal component 1\",y=\"principal component 2\",z=\"principal component 3\", color = y_kmeans3)"
      ],
      "metadata": {
        "colab": {
          "base_uri": "https://localhost:8080/",
          "height": 542
        },
        "id": "1GgC4a50lYIx",
        "outputId": "37d52eae-a2bf-440e-d48b-945b2afe11a7"
      },
      "execution_count": null,
      "outputs": [
        {
          "output_type": "display_data",
          "data": {
            "text/html": [
              "<html>\n",
              "<head><meta charset=\"utf-8\" /></head>\n",
              "<body>\n",
              "    <div>            <script src=\"https://cdnjs.cloudflare.com/ajax/libs/mathjax/2.7.5/MathJax.js?config=TeX-AMS-MML_SVG\"></script><script type=\"text/javascript\">if (window.MathJax) {MathJax.Hub.Config({SVG: {font: \"STIX-Web\"}});}</script>                <script type=\"text/javascript\">window.PlotlyConfig = {MathJaxConfig: 'local'};</script>\n",
              "        <script src=\"https://cdn.plot.ly/plotly-2.8.3.min.js\"></script>                <div id=\"94cc5a54-35dd-47e5-9ef2-b571fb5a1a9f\" class=\"plotly-graph-div\" style=\"height:525px; width:100%;\"></div>            <script type=\"text/javascript\">                                    window.PLOTLYENV=window.PLOTLYENV || {};                                    if (document.getElementById(\"94cc5a54-35dd-47e5-9ef2-b571fb5a1a9f\")) {                    Plotly.newPlot(                        \"94cc5a54-35dd-47e5-9ef2-b571fb5a1a9f\",                        [{\"hovertemplate\":\"principal component 1=%{x}<br>principal component 2=%{y}<br>principal component 3=%{z}<br>color=%{marker.color}<extra></extra>\",\"legendgroup\":\"\",\"marker\":{\"color\":[1,1,1,1,1,1,1,1,1,1,1,1,1,1,1,1,1,1,1,1,1,1,1,1,1,1,1,1,1,1,1,1,1,1,1,1,1,1,1,1,1,1,1,1,1,1,1,1,1,1,2,2,0,2,2,2,2,2,2,2,2,2,2,2,2,2,2,2,2,2,2,2,2,2,2,2,2,0,2,2,2,2,2,2,2,2,2,2,2,2,2,2,2,2,2,2,2,2,2,2,0,2,0,0,0,0,2,0,0,0,0,0,0,2,2,0,0,0,0,2,0,2,0,2,0,0,2,2,0,0,0,0,0,2,0,0,0,0,2,0,0,0,2,0,0,0,2,0,0,2],\"coloraxis\":\"coloraxis\",\"symbol\":\"circle\"},\"mode\":\"markers\",\"name\":\"\",\"scene\":\"scene\",\"showlegend\":false,\"x\":[-2.2645417283949034,-2.086425500616158,-2.3679504490625254,-2.3041971611520085,-2.3887774935056414,-2.070536807180553,-2.445711339630283,-2.233841858709265,-2.34195767645539,-2.1886757552808693,-2.1634865562665224,-2.3273777541343734,-2.2240827220450017,-2.6397162608446285,-2.1922915084984287,-2.2514652145840643,-2.202750480080085,-2.1901791637910515,-1.8940742930236676,-2.3399490704234074,-1.9145563949595166,-2.2046453975338136,-2.7741697937051564,-1.8204115633372133,-2.2282174994597246,-1.9570240073413965,-2.052063311276686,-2.168193653345021,-2.140305963284157,-2.2687901943878765,-2.1445544292771346,-1.8319381022015864,-2.6082028676633464,-2.437950859095142,-2.1886757552808693,-2.2111198968124217,-2.0444165193198,-2.1886757552808693,-2.4359522029660194,-2.17054720188427,-2.2865272388409297,-1.8717072235369505,-2.557834419537513,-1.9642792903547366,-2.1333728329200277,-2.075357592837306,-2.3812582168023724,-2.398191687662638,-2.226781213091518,-2.2059541686484017,1.1039936528045722,0.7324814400086807,1.2421095053189377,0.3973072828233272,1.072593948201545,0.3844581461690013,0.7487150759515526,-0.4978633877981182,0.9262223675330984,0.004968025584318978,-0.12469746138037062,0.4387301177805465,0.5516339814225077,0.7171650662368513,-0.03725838296568845,0.8758905359406832,0.3480064019802084,0.15339254456866705,1.215303209216154,0.15694117564425067,0.7382561043698956,0.47236968234456844,1.2279882140834424,0.6293810453149018,0.7004727992084582,0.8735369874014337,1.25422219052245,1.3582398473872712,0.6621261375659374,-0.04728151331988002,0.12153420888011869,0.014118226051387753,0.23601083732659692,1.0566914280905764,0.22141708833021762,0.43178316074105333,1.0494133552191802,1.0358782103228246,0.06706759987298008,0.27542506625183405,0.2723350662617718,0.6231705397262214,0.3300053638372265,-0.3736276226873762,0.2829443429551026,0.08905311031901127,0.22435678320860597,0.5738834855584669,-0.4570128725046748,0.25224447326946914,1.8476725943096637,1.1531898082521288,2.206349497126593,1.4386854023261815,1.867890702555584,2.7541967088257526,0.35837447484166746,2.3030058981503188,2.0017352992189164,2.267554599102268,1.3659094292022136,1.5990645856518693,1.8842518537520743,1.253086514377591,1.4640615229856224,1.5918093026385283,1.4712801894655434,2.437378482193507,3.309141182676078,1.2539809866905776,2.0404962596630387,0.9739151144704733,2.8980644358432763,1.3291936913234932,1.7042407085196052,1.957727661793435,1.1719045079878683,1.0197810528162627,1.786008861248468,1.8647779127074662,2.4354973914151428,2.3160824119611534,1.8603714258523156,1.1112717256759688,1.1974691551180376,2.800949403734028,1.5801552485205363,1.3470444243548017,0.923432977766384,1.8535519840664405,2.0161572006777586,1.9031168585994869,1.1531898082521288,2.043308439287809,2.0016909669349974,1.870522071460125,1.558491890723717,1.5208450639985898,1.3763911906419273,0.9592985756160376],\"y\":[0.5057039027737841,-0.6554047293691346,-0.3184773108472492,-0.5753677125331953,0.6747673967025152,1.518548559888513,0.07456267500687389,0.24761393175226507,-1.0951463625829554,-0.44862904833755896,1.0705955760377264,0.15858745465947602,-0.709118158030226,-0.938281982107854,1.8899785123164656,2.722371076574469,1.5137502825462188,0.5143043082206927,1.431110706941237,1.1580334289850007,0.4304651632801381,0.952457317288998,0.48951702650349477,0.10675079283540627,0.16218616266619693,-0.6078925674838078,0.26601431198165504,0.5520164953235399,0.3366404088450542,-0.31487860284052827,-0.48394209676925876,0.4452668355028073,1.8284751927341,2.1853916156308917,-0.44862904833755896,-0.18433781054027856,0.6849564262949368,-0.44862904833755896,-0.882169414775617,0.29272695496644646,0.46799171567093784,-2.3276916061149096,-0.45381638048979317,0.4973916400183832,1.1714321117742033,-0.6919173471364096,1.1506325928736663,-0.3623907647258571,1.0254825528235447,0.0322378452737796,0.8631124458513245,0.5986355733419972,0.6148224496122869,-1.7581689474435256,-0.2117579026798954,-0.5910624686227365,0.7786986113887819,-1.8488687712754417,0.03033082678338136,-1.029401112403088,-2.6580626779617607,-0.05888128502145437,-1.7725815648562542,-0.18543431450504383,-0.4327950987141687,0.5099981510591476,-0.19062164665727788,-0.7907254562344853,-1.633355644515482,-1.3031032701729108,0.4024703816185357,-0.4166082224438792,-0.940914792530272,-0.4168116425417719,-0.06349392765170202,0.25070861070205414,-0.0826200998131122,0.3288202662704021,-0.22434607094346407,-1.0572124126050202,-1.5635923798655775,-1.5733923546480593,-0.7759237840118163,-0.6369012837689368,-0.2808476930856404,0.8551369202180025,0.5221972645127767,-1.39246648438778,-0.21262073489338879,-1.3298159131577019,-1.1194415241194038,0.027542633302294464,-0.9889007318191547,-2.017932265204172,-0.85395071698655,-0.17490854779054174,-0.3804846594865455,-0.15371997408006488,-1.5394645102639806,-0.595860745965031,0.8716966617734127,-0.7013261138565754,0.5544701049349228,-0.05001052226888553,0.29119280176116913,0.7884322063548452,-1.560094583977289,0.4095166952219437,-0.723865359312659,1.9214429914653548,0.6939480398041611,-0.42824883590033935,0.4143327579500842,-1.1673913352452454,-0.4441475694791236,0.6770353716018516,0.25319247196681555,2.5567573414948015,-0.0023613201020824923,-1.7175838442659768,0.9073987650150531,-0.5711743763662661,0.3977913591718686,-0.4867605419037237,1.014148424835785,1.0033345154297773,-0.3188966173105676,0.06554296309664809,-0.19327279985689128,0.55538153157899,0.24665446806897456,2.6261838690226273,-0.18467239440998312,-0.29598610243039014,-0.8171677419136159,0.8447481937849748,1.0724744961271222,0.42225596589554615,0.019230370546893197,0.672422728971604,0.6103970375551129,0.6860248318586996,-0.7013261138565754,0.8646848804720187,1.0485500466234177,0.3828218376229984,-0.9053136014070654,0.2667945748539109,1.0163619287948853,-0.022283944660567125],\"z\":[-0.12194334778175998,-0.22725083239924815,0.05147962364496686,0.09886044443740301,0.021427848973115612,0.03068425828072543,0.34219763621375454,-0.08257446445485098,0.15356239869462499,-0.24655952238860812,-0.26400937334710467,0.10016561562692805,-0.22321451399276113,0.18957003015127183,-0.46948009463594725,0.03260379665903335,-0.0013634915813940118,-0.03861559488011966,-0.37074283399203317,0.1374177189256545,-0.4160068747562896,0.1647383463805436,0.33883638434349445,0.04006147242624758,0.12420142802351761,-0.2985910287763137,0.09209297881395304,-0.2012954816243518,-0.2653145445366299,0.07551543604155617,-0.06785576071331634,-0.265375243884075,0.05141951815449983,-0.07934975488701793,-0.24655952238860812,-0.2186245277449367,-0.47941157047978483,-0.24655952238860812,0.20155758667584342,-0.16993853576297513,0.04073653896247463,-0.19452860985788084,0.3135718375693399,0.31475561006397534,0.252793221689411,-0.05655900818948713,0.062101903489547215,0.1468556324186213,-0.17664530203897957,-0.14659352736712902,-0.6855551077942373,-0.09406680197491321,-0.5548465341001644,-0.018569482353449428,-0.39744743760450035,0.1267976895916914,0.14865602261265656,0.2555552499784254,-0.5954598892691505,0.5428670487940238,-0.03981344818563184,0.20670349127562324,-0.7613802230457309,-0.06729984236136119,0.19806144915679597,-0.5035058317132016,0.49283151759658705,-0.29860451573021124,-0.4794099138261456,-0.16858674603688112,0.61677262566721,-0.26271828296845523,-0.3667048589319061,-0.28996247361138344,-0.44476755904949167,-0.472148885851825,-0.7268435294994512,-0.26145807366185964,0.0873681069173404,-0.31531919466201436,-0.145241737641035,-0.23658142800820198,-0.1479728848579969,0.10675323371866048,0.6675596602128353,0.4507314870527183,-0.3961422664149752,-0.6854343029563257,0.2941282619311934,0.09344476854004695,0.09817189094727745,-0.019304654380142876,-0.19596807283921527,0.11218405322355292,0.13411882305647888,0.13144837518696117,0.15876900264185015,-0.2700394164332425,0.1961261733139727,0.09474993972957203,1.002760985779278,0.5314646350398206,-0.20549591009804036,0.16339046381870664,0.39400433318681355,-0.5862327043799539,0.9909998953229909,-0.6541666870038293,-0.39407044826972454,0.39251765781193165,0.28327951601832685,0.023304082122132967,0.024548553964213574,0.5821302708905556,1.0041105249947537,0.6366507209624217,0.03665750918367596,-0.13420008174692682,-0.7069339592752082,-0.2646220838822472,0.23187811428391875,0.8295037810733951,-0.8609268420176824,-0.0047073493334984584,0.2959578765436418,-0.42281705175205014,0.13065190995584375,0.3380421696229951,0.2700025257687445,-0.7175106833798804,-0.7302340057881253,-0.4996195425630397,0.35333027867038164,-0.182659607660602,-0.16321378151183688,-0.5470009572124543,0.9433926084622694,0.18002870593854817,0.41739430346558937,-0.01482032936269286,0.42591494688952675,0.12779936404399145,0.5314646350398206,0.33526606052310326,0.6292688881501901,0.2545323186790221,-0.025381909859828047,0.1792772025903603,0.9314050519376967,0.5287941871703031],\"type\":\"scatter3d\"}],                        {\"template\":{\"data\":{\"bar\":[{\"error_x\":{\"color\":\"#2a3f5f\"},\"error_y\":{\"color\":\"#2a3f5f\"},\"marker\":{\"line\":{\"color\":\"#E5ECF6\",\"width\":0.5},\"pattern\":{\"fillmode\":\"overlay\",\"size\":10,\"solidity\":0.2}},\"type\":\"bar\"}],\"barpolar\":[{\"marker\":{\"line\":{\"color\":\"#E5ECF6\",\"width\":0.5},\"pattern\":{\"fillmode\":\"overlay\",\"size\":10,\"solidity\":0.2}},\"type\":\"barpolar\"}],\"carpet\":[{\"aaxis\":{\"endlinecolor\":\"#2a3f5f\",\"gridcolor\":\"white\",\"linecolor\":\"white\",\"minorgridcolor\":\"white\",\"startlinecolor\":\"#2a3f5f\"},\"baxis\":{\"endlinecolor\":\"#2a3f5f\",\"gridcolor\":\"white\",\"linecolor\":\"white\",\"minorgridcolor\":\"white\",\"startlinecolor\":\"#2a3f5f\"},\"type\":\"carpet\"}],\"choropleth\":[{\"colorbar\":{\"outlinewidth\":0,\"ticks\":\"\"},\"type\":\"choropleth\"}],\"contour\":[{\"colorbar\":{\"outlinewidth\":0,\"ticks\":\"\"},\"colorscale\":[[0.0,\"#0d0887\"],[0.1111111111111111,\"#46039f\"],[0.2222222222222222,\"#7201a8\"],[0.3333333333333333,\"#9c179e\"],[0.4444444444444444,\"#bd3786\"],[0.5555555555555556,\"#d8576b\"],[0.6666666666666666,\"#ed7953\"],[0.7777777777777778,\"#fb9f3a\"],[0.8888888888888888,\"#fdca26\"],[1.0,\"#f0f921\"]],\"type\":\"contour\"}],\"contourcarpet\":[{\"colorbar\":{\"outlinewidth\":0,\"ticks\":\"\"},\"type\":\"contourcarpet\"}],\"heatmap\":[{\"colorbar\":{\"outlinewidth\":0,\"ticks\":\"\"},\"colorscale\":[[0.0,\"#0d0887\"],[0.1111111111111111,\"#46039f\"],[0.2222222222222222,\"#7201a8\"],[0.3333333333333333,\"#9c179e\"],[0.4444444444444444,\"#bd3786\"],[0.5555555555555556,\"#d8576b\"],[0.6666666666666666,\"#ed7953\"],[0.7777777777777778,\"#fb9f3a\"],[0.8888888888888888,\"#fdca26\"],[1.0,\"#f0f921\"]],\"type\":\"heatmap\"}],\"heatmapgl\":[{\"colorbar\":{\"outlinewidth\":0,\"ticks\":\"\"},\"colorscale\":[[0.0,\"#0d0887\"],[0.1111111111111111,\"#46039f\"],[0.2222222222222222,\"#7201a8\"],[0.3333333333333333,\"#9c179e\"],[0.4444444444444444,\"#bd3786\"],[0.5555555555555556,\"#d8576b\"],[0.6666666666666666,\"#ed7953\"],[0.7777777777777778,\"#fb9f3a\"],[0.8888888888888888,\"#fdca26\"],[1.0,\"#f0f921\"]],\"type\":\"heatmapgl\"}],\"histogram\":[{\"marker\":{\"pattern\":{\"fillmode\":\"overlay\",\"size\":10,\"solidity\":0.2}},\"type\":\"histogram\"}],\"histogram2d\":[{\"colorbar\":{\"outlinewidth\":0,\"ticks\":\"\"},\"colorscale\":[[0.0,\"#0d0887\"],[0.1111111111111111,\"#46039f\"],[0.2222222222222222,\"#7201a8\"],[0.3333333333333333,\"#9c179e\"],[0.4444444444444444,\"#bd3786\"],[0.5555555555555556,\"#d8576b\"],[0.6666666666666666,\"#ed7953\"],[0.7777777777777778,\"#fb9f3a\"],[0.8888888888888888,\"#fdca26\"],[1.0,\"#f0f921\"]],\"type\":\"histogram2d\"}],\"histogram2dcontour\":[{\"colorbar\":{\"outlinewidth\":0,\"ticks\":\"\"},\"colorscale\":[[0.0,\"#0d0887\"],[0.1111111111111111,\"#46039f\"],[0.2222222222222222,\"#7201a8\"],[0.3333333333333333,\"#9c179e\"],[0.4444444444444444,\"#bd3786\"],[0.5555555555555556,\"#d8576b\"],[0.6666666666666666,\"#ed7953\"],[0.7777777777777778,\"#fb9f3a\"],[0.8888888888888888,\"#fdca26\"],[1.0,\"#f0f921\"]],\"type\":\"histogram2dcontour\"}],\"mesh3d\":[{\"colorbar\":{\"outlinewidth\":0,\"ticks\":\"\"},\"type\":\"mesh3d\"}],\"parcoords\":[{\"line\":{\"colorbar\":{\"outlinewidth\":0,\"ticks\":\"\"}},\"type\":\"parcoords\"}],\"pie\":[{\"automargin\":true,\"type\":\"pie\"}],\"scatter\":[{\"marker\":{\"colorbar\":{\"outlinewidth\":0,\"ticks\":\"\"}},\"type\":\"scatter\"}],\"scatter3d\":[{\"line\":{\"colorbar\":{\"outlinewidth\":0,\"ticks\":\"\"}},\"marker\":{\"colorbar\":{\"outlinewidth\":0,\"ticks\":\"\"}},\"type\":\"scatter3d\"}],\"scattercarpet\":[{\"marker\":{\"colorbar\":{\"outlinewidth\":0,\"ticks\":\"\"}},\"type\":\"scattercarpet\"}],\"scattergeo\":[{\"marker\":{\"colorbar\":{\"outlinewidth\":0,\"ticks\":\"\"}},\"type\":\"scattergeo\"}],\"scattergl\":[{\"marker\":{\"colorbar\":{\"outlinewidth\":0,\"ticks\":\"\"}},\"type\":\"scattergl\"}],\"scattermapbox\":[{\"marker\":{\"colorbar\":{\"outlinewidth\":0,\"ticks\":\"\"}},\"type\":\"scattermapbox\"}],\"scatterpolar\":[{\"marker\":{\"colorbar\":{\"outlinewidth\":0,\"ticks\":\"\"}},\"type\":\"scatterpolar\"}],\"scatterpolargl\":[{\"marker\":{\"colorbar\":{\"outlinewidth\":0,\"ticks\":\"\"}},\"type\":\"scatterpolargl\"}],\"scatterternary\":[{\"marker\":{\"colorbar\":{\"outlinewidth\":0,\"ticks\":\"\"}},\"type\":\"scatterternary\"}],\"surface\":[{\"colorbar\":{\"outlinewidth\":0,\"ticks\":\"\"},\"colorscale\":[[0.0,\"#0d0887\"],[0.1111111111111111,\"#46039f\"],[0.2222222222222222,\"#7201a8\"],[0.3333333333333333,\"#9c179e\"],[0.4444444444444444,\"#bd3786\"],[0.5555555555555556,\"#d8576b\"],[0.6666666666666666,\"#ed7953\"],[0.7777777777777778,\"#fb9f3a\"],[0.8888888888888888,\"#fdca26\"],[1.0,\"#f0f921\"]],\"type\":\"surface\"}],\"table\":[{\"cells\":{\"fill\":{\"color\":\"#EBF0F8\"},\"line\":{\"color\":\"white\"}},\"header\":{\"fill\":{\"color\":\"#C8D4E3\"},\"line\":{\"color\":\"white\"}},\"type\":\"table\"}]},\"layout\":{\"annotationdefaults\":{\"arrowcolor\":\"#2a3f5f\",\"arrowhead\":0,\"arrowwidth\":1},\"autotypenumbers\":\"strict\",\"coloraxis\":{\"colorbar\":{\"outlinewidth\":0,\"ticks\":\"\"}},\"colorscale\":{\"diverging\":[[0,\"#8e0152\"],[0.1,\"#c51b7d\"],[0.2,\"#de77ae\"],[0.3,\"#f1b6da\"],[0.4,\"#fde0ef\"],[0.5,\"#f7f7f7\"],[0.6,\"#e6f5d0\"],[0.7,\"#b8e186\"],[0.8,\"#7fbc41\"],[0.9,\"#4d9221\"],[1,\"#276419\"]],\"sequential\":[[0.0,\"#0d0887\"],[0.1111111111111111,\"#46039f\"],[0.2222222222222222,\"#7201a8\"],[0.3333333333333333,\"#9c179e\"],[0.4444444444444444,\"#bd3786\"],[0.5555555555555556,\"#d8576b\"],[0.6666666666666666,\"#ed7953\"],[0.7777777777777778,\"#fb9f3a\"],[0.8888888888888888,\"#fdca26\"],[1.0,\"#f0f921\"]],\"sequentialminus\":[[0.0,\"#0d0887\"],[0.1111111111111111,\"#46039f\"],[0.2222222222222222,\"#7201a8\"],[0.3333333333333333,\"#9c179e\"],[0.4444444444444444,\"#bd3786\"],[0.5555555555555556,\"#d8576b\"],[0.6666666666666666,\"#ed7953\"],[0.7777777777777778,\"#fb9f3a\"],[0.8888888888888888,\"#fdca26\"],[1.0,\"#f0f921\"]]},\"colorway\":[\"#636efa\",\"#EF553B\",\"#00cc96\",\"#ab63fa\",\"#FFA15A\",\"#19d3f3\",\"#FF6692\",\"#B6E880\",\"#FF97FF\",\"#FECB52\"],\"font\":{\"color\":\"#2a3f5f\"},\"geo\":{\"bgcolor\":\"white\",\"lakecolor\":\"white\",\"landcolor\":\"#E5ECF6\",\"showlakes\":true,\"showland\":true,\"subunitcolor\":\"white\"},\"hoverlabel\":{\"align\":\"left\"},\"hovermode\":\"closest\",\"mapbox\":{\"style\":\"light\"},\"paper_bgcolor\":\"white\",\"plot_bgcolor\":\"#E5ECF6\",\"polar\":{\"angularaxis\":{\"gridcolor\":\"white\",\"linecolor\":\"white\",\"ticks\":\"\"},\"bgcolor\":\"#E5ECF6\",\"radialaxis\":{\"gridcolor\":\"white\",\"linecolor\":\"white\",\"ticks\":\"\"}},\"scene\":{\"xaxis\":{\"backgroundcolor\":\"#E5ECF6\",\"gridcolor\":\"white\",\"gridwidth\":2,\"linecolor\":\"white\",\"showbackground\":true,\"ticks\":\"\",\"zerolinecolor\":\"white\"},\"yaxis\":{\"backgroundcolor\":\"#E5ECF6\",\"gridcolor\":\"white\",\"gridwidth\":2,\"linecolor\":\"white\",\"showbackground\":true,\"ticks\":\"\",\"zerolinecolor\":\"white\"},\"zaxis\":{\"backgroundcolor\":\"#E5ECF6\",\"gridcolor\":\"white\",\"gridwidth\":2,\"linecolor\":\"white\",\"showbackground\":true,\"ticks\":\"\",\"zerolinecolor\":\"white\"}},\"shapedefaults\":{\"line\":{\"color\":\"#2a3f5f\"}},\"ternary\":{\"aaxis\":{\"gridcolor\":\"white\",\"linecolor\":\"white\",\"ticks\":\"\"},\"baxis\":{\"gridcolor\":\"white\",\"linecolor\":\"white\",\"ticks\":\"\"},\"bgcolor\":\"#E5ECF6\",\"caxis\":{\"gridcolor\":\"white\",\"linecolor\":\"white\",\"ticks\":\"\"}},\"title\":{\"x\":0.05},\"xaxis\":{\"automargin\":true,\"gridcolor\":\"white\",\"linecolor\":\"white\",\"ticks\":\"\",\"title\":{\"standoff\":15},\"zerolinecolor\":\"white\",\"zerolinewidth\":2},\"yaxis\":{\"automargin\":true,\"gridcolor\":\"white\",\"linecolor\":\"white\",\"ticks\":\"\",\"title\":{\"standoff\":15},\"zerolinecolor\":\"white\",\"zerolinewidth\":2}}},\"scene\":{\"domain\":{\"x\":[0.0,1.0],\"y\":[0.0,1.0]},\"xaxis\":{\"title\":{\"text\":\"principal component 1\"}},\"yaxis\":{\"title\":{\"text\":\"principal component 2\"}},\"zaxis\":{\"title\":{\"text\":\"principal component 3\"}}},\"coloraxis\":{\"colorbar\":{\"title\":{\"text\":\"color\"}},\"colorscale\":[[0.0,\"#0d0887\"],[0.1111111111111111,\"#46039f\"],[0.2222222222222222,\"#7201a8\"],[0.3333333333333333,\"#9c179e\"],[0.4444444444444444,\"#bd3786\"],[0.5555555555555556,\"#d8576b\"],[0.6666666666666666,\"#ed7953\"],[0.7777777777777778,\"#fb9f3a\"],[0.8888888888888888,\"#fdca26\"],[1.0,\"#f0f921\"]]},\"legend\":{\"tracegroupgap\":0},\"margin\":{\"t\":60}},                        {\"responsive\": true}                    ).then(function(){\n",
              "                            \n",
              "var gd = document.getElementById('94cc5a54-35dd-47e5-9ef2-b571fb5a1a9f');\n",
              "var x = new MutationObserver(function (mutations, observer) {{\n",
              "        var display = window.getComputedStyle(gd).display;\n",
              "        if (!display || display === 'none') {{\n",
              "            console.log([gd, 'removed!']);\n",
              "            Plotly.purge(gd);\n",
              "            observer.disconnect();\n",
              "        }}\n",
              "}});\n",
              "\n",
              "// Listen for the removal of the full notebook cells\n",
              "var notebookContainer = gd.closest('#notebook-container');\n",
              "if (notebookContainer) {{\n",
              "    x.observe(notebookContainer, {childList: true});\n",
              "}}\n",
              "\n",
              "// Listen for the clearing of the current output cell\n",
              "var outputEl = gd.closest('.output');\n",
              "if (outputEl) {{\n",
              "    x.observe(outputEl, {childList: true});\n",
              "}}\n",
              "\n",
              "                        })                };                            </script>        </div>\n",
              "</body>\n",
              "</html>"
            ]
          },
          "metadata": {}
        }
      ]
    },
    {
      "cell_type": "markdown",
      "source": [
        "PCA before clustering"
      ],
      "metadata": {
        "id": "AYkPifqZnOHJ"
      }
    },
    {
      "cell_type": "markdown",
      "source": [
        "PCA 2D"
      ],
      "metadata": {
        "id": "st6hdshinepB"
      }
    },
    {
      "cell_type": "code",
      "source": [
        "from sklearn.preprocessing import StandardScaler\n",
        "datascaled2 = StandardScaler().fit_transform(x)"
      ],
      "metadata": {
        "id": "zPn4fVCEnavE"
      },
      "execution_count": null,
      "outputs": []
    },
    {
      "cell_type": "code",
      "source": [
        "from sklearn.decomposition import PCA\n",
        "#PCA 2D projection\n",
        "pca2 = PCA(n_components=2)\n",
        "principalComponents2 = pca2.fit_transform(datascaled2)\n",
        "\n",
        "principalDf2 = pd.DataFrame(data = principalComponents2\n",
        "             , columns = ['principal component 1', 'principal component 2'])"
      ],
      "metadata": {
        "id": "SDbEWoyYpLka"
      },
      "execution_count": null,
      "outputs": []
    },
    {
      "cell_type": "code",
      "source": [
        "from sklearn.cluster import KMeans\n",
        "kmeanspca = KMeans(n_clusters = 3)\n",
        "y_kmeanPCA2 = kmeanspca.fit_predict(principalDf2)"
      ],
      "metadata": {
        "id": "tZpv_jkHpNBl"
      },
      "execution_count": null,
      "outputs": []
    },
    {
      "cell_type": "code",
      "source": [
        "kmeanspca.fit(principalDf2)"
      ],
      "metadata": {
        "colab": {
          "base_uri": "https://localhost:8080/"
        },
        "id": "CmK6ojhIpOKy",
        "outputId": "0325d153-0f44-4a2e-d861-60a9259ac3ab"
      },
      "execution_count": null,
      "outputs": [
        {
          "output_type": "execute_result",
          "data": {
            "text/plain": [
              "KMeans(n_clusters=3)"
            ]
          },
          "metadata": {},
          "execution_count": 36
        }
      ]
    },
    {
      "cell_type": "code",
      "source": [
        "#\n",
        "plt.scatter(principalComponents2[y_kmeanPCA2 == 0, 0], principalComponents2[y_kmeanPCA2 == 0, 1], s = 100, c = 'red', label = 'Cluster 1')\n",
        "plt.scatter(principalComponents2[y_kmeanPCA2 == 1, 0], principalComponents2[y_kmeanPCA2 == 1, 1], s = 100, c = 'blue', label = 'Cluster 2')\n",
        "plt.scatter(principalComponents2[y_kmeanPCA2 == 2, 0], principalComponents2[y_kmeanPCA2 == 2, 1], s = 100, c = 'green', label = 'Cluster 3')\n",
        "#\n",
        "plt.scatter(kmeanspca.cluster_centers_[:, 0], kmeanspca.cluster_centers_[:,1], s = 100, c = 'yellow', label = 'Centroids')\n",
        "\n",
        "plt.legend()"
      ],
      "metadata": {
        "colab": {
          "base_uri": "https://localhost:8080/",
          "height": 282
        },
        "id": "vEdH1W-2pPsI",
        "outputId": "a01c4ecb-5e37-4042-b406-84b592f37e59"
      },
      "execution_count": null,
      "outputs": [
        {
          "output_type": "execute_result",
          "data": {
            "text/plain": [
              "<matplotlib.legend.Legend at 0x7f6556b21cd0>"
            ]
          },
          "metadata": {},
          "execution_count": 37
        },
        {
          "output_type": "display_data",
          "data": {
            "text/plain": [
              "<Figure size 432x288 with 1 Axes>"
            ],
            "image/png": "[encoded data removed]"
          },
          "metadata": {
            "needs_background": "light"
          }
        }
      ]
    },
    {
      "cell_type": "code",
      "source": [
        "plt.figure(figsize=(8,6))\n",
        "plt.scatter(principalComponents2[:,0],principalComponents2[:,1], c=y_kmeanPCA2)\n",
        "plt.scatter(kmeanspca.cluster_centers_[:, 0], kmeanspca.cluster_centers_[:,1], s = 40, c = 'red', label = 'Centroids')\n",
        "plt.xlable= (\"component 1\")\n",
        "plt.ylable= (\"component 2\")"
      ],
      "metadata": {
        "colab": {
          "base_uri": "https://localhost:8080/",
          "height": 374
        },
        "id": "yB_7GQi8pQ6j",
        "outputId": "f59be10c-2005-4410-deb1-b2a458ec8f76"
      },
      "execution_count": null,
      "outputs": [
        {
          "output_type": "display_data",
          "data": {
            "text/plain": [
              "<Figure size 576x432 with 1 Axes>"
            ],
            "image/png": "[encoded data removed]"
          },
          "metadata": {
            "needs_background": "light"
          }
        }
      ]
    },
    {
      "cell_type": "markdown",
      "source": [
        "PCA 3 components"
      ],
      "metadata": {
        "id": "RA6hYOsupUM_"
      }
    },
    {
      "cell_type": "code",
      "source": [
        "pca3D2 = PCA(n_components = 3)\n",
        "principalComponents32 = pca3D2.fit_transform(datascaled)\n",
        "principal3Df2 = pd.DataFrame(data = principalComponents32\n",
        "             , columns = ['principal component 1', 'principal component 2', 'principal component 3'])\n",
        "principalComponents32"
      ],
      "metadata": {
        "colab": {
          "base_uri": "https://localhost:8080/"
        },
        "id": "-HH-4NEOpU7w",
        "outputId": "0a7be479-e469-4521-eca1-28f8bf0dd074"
      },
      "execution_count": null,
      "outputs": [
        {
          "output_type": "execute_result",
          "data": {
            "text/plain": [
              "array([[-2.26454173e+00,  5.05703903e-01, -1.21943348e-01],\n",
              "       [-2.08642550e+00, -6.55404729e-01, -2.27250832e-01],\n",
              "       [-2.36795045e+00, -3.18477311e-01,  5.14796236e-02],\n",
              "       [-2.30419716e+00, -5.75367713e-01,  9.88604444e-02],\n",
              "       [-2.38877749e+00,  6.74767397e-01,  2.14278490e-02],\n",
              "       [-2.07053681e+00,  1.51854856e+00,  3.06842583e-02],\n",
              "       [-2.44571134e+00,  7.45626750e-02,  3.42197636e-01],\n",
              "       [-2.23384186e+00,  2.47613932e-01, -8.25744645e-02],\n",
              "       [-2.34195768e+00, -1.09514636e+00,  1.53562399e-01],\n",
              "       [-2.18867576e+00, -4.48629048e-01, -2.46559522e-01],\n",
              "       [-2.16348656e+00,  1.07059558e+00, -2.64009373e-01],\n",
              "       [-2.32737775e+00,  1.58587455e-01,  1.00165616e-01],\n",
              "       [-2.22408272e+00, -7.09118158e-01, -2.23214514e-01],\n",
              "       [-2.63971626e+00, -9.38281982e-01,  1.89570030e-01],\n",
              "       [-2.19229151e+00,  1.88997851e+00, -4.69480095e-01],\n",
              "       [-2.25146521e+00,  2.72237108e+00,  3.26037967e-02],\n",
              "       [-2.20275048e+00,  1.51375028e+00, -1.36349158e-03],\n",
              "       [-2.19017916e+00,  5.14304308e-01, -3.86155949e-02],\n",
              "       [-1.89407429e+00,  1.43111071e+00, -3.70742834e-01],\n",
              "       [-2.33994907e+00,  1.15803343e+00,  1.37417719e-01],\n",
              "       [-1.91455639e+00,  4.30465163e-01, -4.16006875e-01],\n",
              "       [-2.20464540e+00,  9.52457317e-01,  1.64738346e-01],\n",
              "       [-2.77416979e+00,  4.89517027e-01,  3.38836384e-01],\n",
              "       [-1.82041156e+00,  1.06750793e-01,  4.00614724e-02],\n",
              "       [-2.22821750e+00,  1.62186163e-01,  1.24201428e-01],\n",
              "       [-1.95702401e+00, -6.07892567e-01, -2.98591029e-01],\n",
              "       [-2.05206331e+00,  2.66014312e-01,  9.20929788e-02],\n",
              "       [-2.16819365e+00,  5.52016495e-01, -2.01295482e-01],\n",
              "       [-2.14030596e+00,  3.36640409e-01, -2.65314545e-01],\n",
              "       [-2.26879019e+00, -3.14878603e-01,  7.55154360e-02],\n",
              "       [-2.14455443e+00, -4.83942097e-01, -6.78557607e-02],\n",
              "       [-1.83193810e+00,  4.45266836e-01, -2.65375244e-01],\n",
              "       [-2.60820287e+00,  1.82847519e+00,  5.14195182e-02],\n",
              "       [-2.43795086e+00,  2.18539162e+00, -7.93497549e-02],\n",
              "       [-2.18867576e+00, -4.48629048e-01, -2.46559522e-01],\n",
              "       [-2.21111990e+00, -1.84337811e-01, -2.18624528e-01],\n",
              "       [-2.04441652e+00,  6.84956426e-01, -4.79411570e-01],\n",
              "       [-2.18867576e+00, -4.48629048e-01, -2.46559522e-01],\n",
              "       [-2.43595220e+00, -8.82169415e-01,  2.01557587e-01],\n",
              "       [-2.17054720e+00,  2.92726955e-01, -1.69938536e-01],\n",
              "       [-2.28652724e+00,  4.67991716e-01,  4.07365390e-02],\n",
              "       [-1.87170722e+00, -2.32769161e+00, -1.94528610e-01],\n",
              "       [-2.55783442e+00, -4.53816380e-01,  3.13571838e-01],\n",
              "       [-1.96427929e+00,  4.97391640e-01,  3.14755610e-01],\n",
              "       [-2.13337283e+00,  1.17143211e+00,  2.52793222e-01],\n",
              "       [-2.07535759e+00, -6.91917347e-01, -5.65590082e-02],\n",
              "       [-2.38125822e+00,  1.15063259e+00,  6.21019035e-02],\n",
              "       [-2.39819169e+00, -3.62390765e-01,  1.46855632e-01],\n",
              "       [-2.22678121e+00,  1.02548255e+00, -1.76645302e-01],\n",
              "       [-2.20595417e+00,  3.22378453e-02, -1.46593527e-01],\n",
              "       [ 1.10399365e+00,  8.63112446e-01, -6.85555108e-01],\n",
              "       [ 7.32481440e-01,  5.98635573e-01, -9.40668020e-02],\n",
              "       [ 1.24210951e+00,  6.14822450e-01, -5.54846534e-01],\n",
              "       [ 3.97307283e-01, -1.75816895e+00, -1.85694824e-02],\n",
              "       [ 1.07259395e+00, -2.11757903e-01, -3.97447438e-01],\n",
              "       [ 3.84458146e-01, -5.91062469e-01,  1.26797690e-01],\n",
              "       [ 7.48715076e-01,  7.78698611e-01,  1.48656023e-01],\n",
              "       [-4.97863388e-01, -1.84886877e+00,  2.55555250e-01],\n",
              "       [ 9.26222368e-01,  3.03308268e-02, -5.95459889e-01],\n",
              "       [ 4.96802558e-03, -1.02940111e+00,  5.42867049e-01],\n",
              "       [-1.24697461e-01, -2.65806268e+00, -3.98134482e-02],\n",
              "       [ 4.38730118e-01, -5.88812850e-02,  2.06703491e-01],\n",
              "       [ 5.51633981e-01, -1.77258156e+00, -7.61380223e-01],\n",
              "       [ 7.17165066e-01, -1.85434315e-01, -6.72998424e-02],\n",
              "       [-3.72583830e-02, -4.32795099e-01,  1.98061449e-01],\n",
              "       [ 8.75890536e-01,  5.09998151e-01, -5.03505832e-01],\n",
              "       [ 3.48006402e-01, -1.90621647e-01,  4.92831518e-01],\n",
              "       [ 1.53392545e-01, -7.90725456e-01, -2.98604516e-01],\n",
              "       [ 1.21530321e+00, -1.63335564e+00, -4.79409914e-01],\n",
              "       [ 1.56941176e-01, -1.30310327e+00, -1.68586746e-01],\n",
              "       [ 7.38256104e-01,  4.02470382e-01,  6.16772626e-01],\n",
              "       [ 4.72369682e-01, -4.16608222e-01, -2.62718283e-01],\n",
              "       [ 1.22798821e+00, -9.40914793e-01, -3.66704859e-01],\n",
              "       [ 6.29381045e-01, -4.16811643e-01, -2.89962474e-01],\n",
              "       [ 7.00472799e-01, -6.34939277e-02, -4.44767559e-01],\n",
              "       [ 8.73536987e-01,  2.50708611e-01, -4.72148886e-01],\n",
              "       [ 1.25422219e+00, -8.26200998e-02, -7.26843529e-01],\n",
              "       [ 1.35823985e+00,  3.28820266e-01, -2.61458074e-01],\n",
              "       [ 6.62126138e-01, -2.24346071e-01,  8.73681069e-02],\n",
              "       [-4.72815133e-02, -1.05721241e+00, -3.15319195e-01],\n",
              "       [ 1.21534209e-01, -1.56359238e+00, -1.45241738e-01],\n",
              "       [ 1.41182261e-02, -1.57339235e+00, -2.36581428e-01],\n",
              "       [ 2.36010837e-01, -7.75923784e-01, -1.47972885e-01],\n",
              "       [ 1.05669143e+00, -6.36901284e-01,  1.06753234e-01],\n",
              "       [ 2.21417088e-01, -2.80847693e-01,  6.67559660e-01],\n",
              "       [ 4.31783161e-01,  8.55136920e-01,  4.50731487e-01],\n",
              "       [ 1.04941336e+00,  5.22197265e-01, -3.96142266e-01],\n",
              "       [ 1.03587821e+00, -1.39246648e+00, -6.85434303e-01],\n",
              "       [ 6.70675999e-02, -2.12620735e-01,  2.94128262e-01],\n",
              "       [ 2.75425066e-01, -1.32981591e+00,  9.34447685e-02],\n",
              "       [ 2.72335066e-01, -1.11944152e+00,  9.81718909e-02],\n",
              "       [ 6.23170540e-01,  2.75426333e-02, -1.93046544e-02],\n",
              "       [ 3.30005364e-01, -9.88900732e-01, -1.95968073e-01],\n",
              "       [-3.73627623e-01, -2.01793227e+00,  1.12184053e-01],\n",
              "       [ 2.82944343e-01, -8.53950717e-01,  1.34118823e-01],\n",
              "       [ 8.90531103e-02, -1.74908548e-01,  1.31448375e-01],\n",
              "       [ 2.24356783e-01, -3.80484659e-01,  1.58769003e-01],\n",
              "       [ 5.73883486e-01, -1.53719974e-01, -2.70039416e-01],\n",
              "       [-4.57012873e-01, -1.53946451e+00,  1.96126173e-01],\n",
              "       [ 2.52244473e-01, -5.95860746e-01,  9.47499397e-02],\n",
              "       [ 1.84767259e+00,  8.71696662e-01,  1.00276099e+00],\n",
              "       [ 1.15318981e+00, -7.01326114e-01,  5.31464635e-01],\n",
              "       [ 2.20634950e+00,  5.54470105e-01, -2.05495910e-01],\n",
              "       [ 1.43868540e+00, -5.00105223e-02,  1.63390464e-01],\n",
              "       [ 1.86789070e+00,  2.91192802e-01,  3.94004333e-01],\n",
              "       [ 2.75419671e+00,  7.88432206e-01, -5.86232704e-01],\n",
              "       [ 3.58374475e-01, -1.56009458e+00,  9.90999895e-01],\n",
              "       [ 2.30300590e+00,  4.09516695e-01, -6.54166687e-01],\n",
              "       [ 2.00173530e+00, -7.23865359e-01, -3.94070448e-01],\n",
              "       [ 2.26755460e+00,  1.92144299e+00,  3.92517658e-01],\n",
              "       [ 1.36590943e+00,  6.93948040e-01,  2.83279516e-01],\n",
              "       [ 1.59906459e+00, -4.28248836e-01,  2.33040821e-02],\n",
              "       [ 1.88425185e+00,  4.14332758e-01,  2.45485540e-02],\n",
              "       [ 1.25308651e+00, -1.16739134e+00,  5.82130271e-01],\n",
              "       [ 1.46406152e+00, -4.44147569e-01,  1.00411052e+00],\n",
              "       [ 1.59180930e+00,  6.77035372e-01,  6.36650721e-01],\n",
              "       [ 1.47128019e+00,  2.53192472e-01,  3.66575092e-02],\n",
              "       [ 2.43737848e+00,  2.55675734e+00, -1.34200082e-01],\n",
              "       [ 3.30914118e+00, -2.36132010e-03, -7.06933959e-01],\n",
              "       [ 1.25398099e+00, -1.71758384e+00, -2.64622084e-01],\n",
              "       [ 2.04049626e+00,  9.07398765e-01,  2.31878114e-01],\n",
              "       [ 9.73915114e-01, -5.71174376e-01,  8.29503781e-01],\n",
              "       [ 2.89806444e+00,  3.97791359e-01, -8.60926842e-01],\n",
              "       [ 1.32919369e+00, -4.86760542e-01, -4.70734933e-03],\n",
              "       [ 1.70424071e+00,  1.01414842e+00,  2.95957877e-01],\n",
              "       [ 1.95772766e+00,  1.00333452e+00, -4.22817052e-01],\n",
              "       [ 1.17190451e+00, -3.18896617e-01,  1.30651910e-01],\n",
              "       [ 1.01978105e+00,  6.55429631e-02,  3.38042170e-01],\n",
              "       [ 1.78600886e+00, -1.93272800e-01,  2.70002526e-01],\n",
              "       [ 1.86477791e+00,  5.55381532e-01, -7.17510683e-01],\n",
              "       [ 2.43549739e+00,  2.46654468e-01, -7.30234006e-01],\n",
              "       [ 2.31608241e+00,  2.62618387e+00, -4.99619543e-01],\n",
              "       [ 1.86037143e+00, -1.84672394e-01,  3.53330279e-01],\n",
              "       [ 1.11127173e+00, -2.95986102e-01, -1.82659608e-01],\n",
              "       [ 1.19746916e+00, -8.17167742e-01, -1.63213782e-01],\n",
              "       [ 2.80094940e+00,  8.44748194e-01, -5.47000957e-01],\n",
              "       [ 1.58015525e+00,  1.07247450e+00,  9.43392608e-01],\n",
              "       [ 1.34704442e+00,  4.22255966e-01,  1.80028706e-01],\n",
              "       [ 9.23432978e-01,  1.92303705e-02,  4.17394303e-01],\n",
              "       [ 1.85355198e+00,  6.72422729e-01, -1.48203294e-02],\n",
              "       [ 2.01615720e+00,  6.10397038e-01,  4.25914947e-01],\n",
              "       [ 1.90311686e+00,  6.86024832e-01,  1.27799364e-01],\n",
              "       [ 1.15318981e+00, -7.01326114e-01,  5.31464635e-01],\n",
              "       [ 2.04330844e+00,  8.64684880e-01,  3.35266061e-01],\n",
              "       [ 2.00169097e+00,  1.04855005e+00,  6.29268888e-01],\n",
              "       [ 1.87052207e+00,  3.82821838e-01,  2.54532319e-01],\n",
              "       [ 1.55849189e+00, -9.05313601e-01, -2.53819099e-02],\n",
              "       [ 1.52084506e+00,  2.66794575e-01,  1.79277203e-01],\n",
              "       [ 1.37639119e+00,  1.01636193e+00,  9.31405052e-01],\n",
              "       [ 9.59298576e-01, -2.22839447e-02,  5.28794187e-01]])"
            ]
          },
          "metadata": {},
          "execution_count": 39
        }
      ]
    },
    {
      "cell_type": "code",
      "source": [
        "from sklearn.cluster import KMeans\n",
        "kmeans = KMeans(n_clusters=3)\n",
        "y_kmeanPCA2 = kmeans.fit_predict(principal3Df2)"
      ],
      "metadata": {
        "id": "P3V8l5kwpXsv"
      },
      "execution_count": null,
      "outputs": []
    },
    {
      "cell_type": "code",
      "source": [
        "kmeans.fit(principal3Df2)"
      ],
      "metadata": {
        "colab": {
          "base_uri": "https://localhost:8080/"
        },
        "id": "ObHqiYkJpZIY",
        "outputId": "d9b8dfce-9b03-4ccd-bfa0-c684c0390715"
      },
      "execution_count": null,
      "outputs": [
        {
          "output_type": "execute_result",
          "data": {
            "text/plain": [
              "KMeans(n_clusters=3)"
            ]
          },
          "metadata": {},
          "execution_count": 41
        }
      ]
    },
    {
      "cell_type": "code",
      "source": [
        "df_ykmeanPCA2=pd.DataFrame(y_kmeanPCA2)"
      ],
      "metadata": {
        "id": "v082TN5QpaVn"
      },
      "execution_count": null,
      "outputs": []
    },
    {
      "cell_type": "code",
      "source": [
        "final3Df2 = pd.concat([principal3Df2, df_ykmeanPCA2],axis=1)\n",
        "final3Df"
      ],
      "metadata": {
        "colab": {
          "base_uri": "https://localhost:8080/",
          "height": 424
        },
        "id": "5_30a_OQpbor",
        "outputId": "154c50dd-807c-4040-833c-6f7daaa00b56"
      },
      "execution_count": null,
      "outputs": [
        {
          "output_type": "execute_result",
          "data": {
            "text/plain": [
              "     principal component 1  principal component 2  principal component 3  0\n",
              "0                -2.264542               0.505704              -0.121943  1\n",
              "1                -2.086426              -0.655405              -0.227251  1\n",
              "2                -2.367950              -0.318477               0.051480  1\n",
              "3                -2.304197              -0.575368               0.098860  1\n",
              "4                -2.388777               0.674767               0.021428  1\n",
              "..                     ...                    ...                    ... ..\n",
              "145               1.870522               0.382822               0.254532  0\n",
              "146               1.558492              -0.905314              -0.025382  2\n",
              "147               1.520845               0.266795               0.179277  0\n",
              "148               1.376391               1.016362               0.931405  0\n",
              "149               0.959299              -0.022284               0.528794  2\n",
              "\n",
              "[150 rows x 4 columns]"
            ],
            "text/html": [
              "\n",
              "  <div id=\"df-7c3ba268-1536-4e74-ad88-1ad93f2825d3\">\n",
              "    <div class=\"colab-df-container\">\n",
              "      <div>\n",
              "<style scoped>\n",
              "    .dataframe tbody tr th:only-of-type {\n",
              "        vertical-align: middle;\n",
              "    }\n",
              "\n",
              "    .dataframe tbody tr th {\n",
              "        vertical-align: top;\n",
              "    }\n",
              "\n",
              "    .dataframe thead th {\n",
              "        text-align: right;\n",
              "    }\n",
              "</style>\n",
              "<table border=\"1\" class=\"dataframe\">\n",
              "  <thead>\n",
              "    <tr style=\"text-align: right;\">\n",
              "      <th></th>\n",
              "      <th>principal component 1</th>\n",
              "      <th>principal component 2</th>\n",
              "      <th>principal component 3</th>\n",
              "      <th>0</th>\n",
              "    </tr>\n",
              "  </thead>\n",
              "  <tbody>\n",
              "    <tr>\n",
              "      <th>0</th>\n",
              "      <td>-2.264542</td>\n",
              "      <td>0.505704</td>\n",
              "      <td>-0.121943</td>\n",
              "      <td>1</td>\n",
              "    </tr>\n",
              "    <tr>\n",
              "      <th>1</th>\n",
              "      <td>-2.086426</td>\n",
              "      <td>-0.655405</td>\n",
              "      <td>-0.227251</td>\n",
              "      <td>1</td>\n",
              "    </tr>\n",
              "    <tr>\n",
              "      <th>2</th>\n",
              "      <td>-2.367950</td>\n",
              "      <td>-0.318477</td>\n",
              "      <td>0.051480</td>\n",
              "      <td>1</td>\n",
              "    </tr>\n",
              "    <tr>\n",
              "      <th>3</th>\n",
              "      <td>-2.304197</td>\n",
              "      <td>-0.575368</td>\n",
              "      <td>0.098860</td>\n",
              "      <td>1</td>\n",
              "    </tr>\n",
              "    <tr>\n",
              "      <th>4</th>\n",
              "      <td>-2.388777</td>\n",
              "      <td>0.674767</td>\n",
              "      <td>0.021428</td>\n",
              "      <td>1</td>\n",
              "    </tr>\n",
              "    <tr>\n",
              "      <th>...</th>\n",
              "      <td>...</td>\n",
              "      <td>...</td>\n",
              "      <td>...</td>\n",
              "      <td>...</td>\n",
              "    </tr>\n",
              "    <tr>\n",
              "      <th>145</th>\n",
              "      <td>1.870522</td>\n",
              "      <td>0.382822</td>\n",
              "      <td>0.254532</td>\n",
              "      <td>0</td>\n",
              "    </tr>\n",
              "    <tr>\n",
              "      <th>146</th>\n",
              "      <td>1.558492</td>\n",
              "      <td>-0.905314</td>\n",
              "      <td>-0.025382</td>\n",
              "      <td>2</td>\n",
              "    </tr>\n",
              "    <tr>\n",
              "      <th>147</th>\n",
              "      <td>1.520845</td>\n",
              "      <td>0.266795</td>\n",
              "      <td>0.179277</td>\n",
              "      <td>0</td>\n",
              "    </tr>\n",
              "    <tr>\n",
              "      <th>148</th>\n",
              "      <td>1.376391</td>\n",
              "      <td>1.016362</td>\n",
              "      <td>0.931405</td>\n",
              "      <td>0</td>\n",
              "    </tr>\n",
              "    <tr>\n",
              "      <th>149</th>\n",
              "      <td>0.959299</td>\n",
              "      <td>-0.022284</td>\n",
              "      <td>0.528794</td>\n",
              "      <td>2</td>\n",
              "    </tr>\n",
              "  </tbody>\n",
              "</table>\n",
              "<p>150 rows × 4 columns</p>\n",
              "</div>\n",
              "      <button class=\"colab-df-convert\" onclick=\"convertToInteractive('df-7c3ba268-1536-4e74-ad88-1ad93f2825d3')\"\n",
              "              title=\"Convert this dataframe to an interactive table.\"\n",
              "              style=\"display:none;\">\n",
              "        \n",
              "  <svg xmlns=\"http://www.w3.org/2000/svg\" height=\"24px\"viewBox=\"0 0 24 24\"\n",
              "       width=\"24px\">\n",
              "    <path d=\"M0 0h24v24H0V0z\" fill=\"none\"/>\n",
              "    <path d=\"M18.56 5.44l.94 2.06.94-2.06 2.06-.94-2.06-.94-.94-2.06-.94 2.06-2.06.94zm-11 1L8.5 8.5l.94-2.06 2.06-.94-2.06-.94L8.5 2.5l-.94 2.06-2.06.94zm10 10l.94 2.06.94-2.06 2.06-.94-2.06-.94-.94-2.06-.94 2.06-2.06.94z\"/><path d=\"M17.41 7.96l-1.37-1.37c-.4-.4-.92-.59-1.43-.59-.52 0-1.04.2-1.43.59L10.3 9.45l-7.72 7.72c-.78.78-.78 2.05 0 2.83L4 21.41c.39.39.9.59 1.41.59.51 0 1.02-.2 1.41-.59l7.78-7.78 2.81-2.81c.8-.78.8-2.07 0-2.86zM5.41 20L4 18.59l7.72-7.72 1.47 1.35L5.41 20z\"/>\n",
              "  </svg>\n",
              "      </button>\n",
              "      \n",
              "  <style>\n",
              "    .colab-df-container {\n",
              "      display:flex;\n",
              "      flex-wrap:wrap;\n",
              "      gap: 12px;\n",
              "    }\n",
              "\n",
              "    .colab-df-convert {\n",
              "      background-color: #E8F0FE;\n",
              "      border: none;\n",
              "      border-radius: 50%;\n",
              "      cursor: pointer;\n",
              "      display: none;\n",
              "      fill: #1967D2;\n",
              "      height: 32px;\n",
              "      padding: 0 0 0 0;\n",
              "      width: 32px;\n",
              "    }\n",
              "\n",
              "    .colab-df-convert:hover {\n",
              "      background-color: #E2EBFA;\n",
              "      box-shadow: 0px 1px 2px rgba(60, 64, 67, 0.3), 0px 1px 3px 1px rgba(60, 64, 67, 0.15);\n",
              "      fill: #174EA6;\n",
              "    }\n",
              "\n",
              "    [theme=dark] .colab-df-convert {\n",
              "      background-color: #3B4455;\n",
              "      fill: #D2E3FC;\n",
              "    }\n",
              "\n",
              "    [theme=dark] .colab-df-convert:hover {\n",
              "      background-color: #434B5C;\n",
              "      box-shadow: 0px 1px 3px 1px rgba(0, 0, 0, 0.15);\n",
              "      filter: drop-shadow(0px 1px 2px rgba(0, 0, 0, 0.3));\n",
              "      fill: #FFFFFF;\n",
              "    }\n",
              "  </style>\n",
              "\n",
              "      <script>\n",
              "        const buttonEl =\n",
              "          document.querySelector('#df-7c3ba268-1536-4e74-ad88-1ad93f2825d3 button.colab-df-convert');\n",
              "        buttonEl.style.display =\n",
              "          google.colab.kernel.accessAllowed ? 'block' : 'none';\n",
              "\n",
              "        async function convertToInteractive(key) {\n",
              "          const element = document.querySelector('#df-7c3ba268-1536-4e74-ad88-1ad93f2825d3');\n",
              "          const dataTable =\n",
              "            await google.colab.kernel.invokeFunction('convertToInteractive',\n",
              "                                                     [key], {});\n",
              "          if (!dataTable) return;\n",
              "\n",
              "          const docLinkHtml = 'Like what you see? Visit the ' +\n",
              "            '<a target=\"_blank\" href=https://colab.research.google.com/notebooks/data_table.ipynb>data table notebook</a>'\n",
              "            + ' to learn more about interactive tables.';\n",
              "          element.innerHTML = '';\n",
              "          dataTable['output_type'] = 'display_data';\n",
              "          await google.colab.output.renderOutput(dataTable, element);\n",
              "          const docLink = document.createElement('div');\n",
              "          docLink.innerHTML = docLinkHtml;\n",
              "          element.appendChild(docLink);\n",
              "        }\n",
              "      </script>\n",
              "    </div>\n",
              "  </div>\n",
              "  "
            ]
          },
          "metadata": {},
          "execution_count": 43
        }
      ]
    },
    {
      "cell_type": "code",
      "source": [
        "import plotly.express as pe\n",
        "pe.scatter_3d(final3Df2,x=\"principal component 1\",y=\"principal component 2\",z=\"principal component 3\", color = y_kmeanPCA2)"
      ],
      "metadata": {
        "colab": {
          "base_uri": "https://localhost:8080/",
          "height": 542
        },
        "id": "joz9OQnzpdJw",
        "outputId": "0b6b3110-3183-4942-daaa-8531f2906b69"
      },
      "execution_count": null,
      "outputs": [
        {
          "output_type": "display_data",
          "data": {
            "text/html": [
              "<html>\n",
              "<head><meta charset=\"utf-8\" /></head>\n",
              "<body>\n",
              "    <div>            <script src=\"https://cdnjs.cloudflare.com/ajax/libs/mathjax/2.7.5/MathJax.js?config=TeX-AMS-MML_SVG\"></script><script type=\"text/javascript\">if (window.MathJax) {MathJax.Hub.Config({SVG: {font: \"STIX-Web\"}});}</script>                <script type=\"text/javascript\">window.PlotlyConfig = {MathJaxConfig: 'local'};</script>\n",
              "        <script src=\"https://cdn.plot.ly/plotly-2.8.3.min.js\"></script>                <div id=\"f6562b8b-c9a3-48d6-85a0-29769634c52a\" class=\"plotly-graph-div\" style=\"height:525px; width:100%;\"></div>            <script type=\"text/javascript\">                                    window.PLOTLYENV=window.PLOTLYENV || {};                                    if (document.getElementById(\"f6562b8b-c9a3-48d6-85a0-29769634c52a\")) {                    Plotly.newPlot(                        \"f6562b8b-c9a3-48d6-85a0-29769634c52a\",                        [{\"hovertemplate\":\"principal component 1=%{x}<br>principal component 2=%{y}<br>principal component 3=%{z}<br>color=%{marker.color}<extra></extra>\",\"legendgroup\":\"\",\"marker\":{\"color\":[2,2,2,2,2,2,2,2,2,2,2,2,2,2,2,2,2,2,2,2,2,2,2,2,2,2,2,2,2,2,2,2,2,2,2,2,2,2,2,2,2,2,2,2,2,2,2,2,2,2,0,0,0,1,1,1,0,1,1,1,1,1,1,1,1,0,1,1,1,1,0,1,1,1,1,0,0,0,1,1,1,1,1,1,1,0,0,1,1,1,1,1,1,1,1,1,1,1,1,1,0,1,0,0,0,0,1,0,1,0,0,1,0,1,1,0,0,0,0,1,0,1,0,1,0,0,1,1,0,0,0,0,0,1,1,0,0,0,1,0,0,0,1,0,0,0,1,0,0,1],\"coloraxis\":\"coloraxis\",\"symbol\":\"circle\"},\"mode\":\"markers\",\"name\":\"\",\"scene\":\"scene\",\"showlegend\":false,\"x\":[-2.2645417283949034,-2.086425500616158,-2.3679504490625254,-2.3041971611520085,-2.3887774935056414,-2.070536807180553,-2.445711339630283,-2.233841858709265,-2.34195767645539,-2.1886757552808693,-2.1634865562665224,-2.3273777541343734,-2.2240827220450017,-2.6397162608446285,-2.1922915084984287,-2.2514652145840643,-2.202750480080085,-2.1901791637910515,-1.8940742930236676,-2.3399490704234074,-1.9145563949595166,-2.2046453975338136,-2.7741697937051564,-1.8204115633372133,-2.2282174994597246,-1.9570240073413965,-2.052063311276686,-2.168193653345021,-2.140305963284157,-2.2687901943878765,-2.1445544292771346,-1.8319381022015864,-2.6082028676633464,-2.437950859095142,-2.1886757552808693,-2.2111198968124217,-2.0444165193198,-2.1886757552808693,-2.4359522029660194,-2.17054720188427,-2.2865272388409297,-1.8717072235369505,-2.557834419537513,-1.9642792903547366,-2.1333728329200277,-2.075357592837306,-2.3812582168023724,-2.398191687662638,-2.226781213091518,-2.2059541686484017,1.1039936528045722,0.7324814400086807,1.2421095053189377,0.3973072828233272,1.072593948201545,0.3844581461690013,0.7487150759515526,-0.4978633877981182,0.9262223675330984,0.004968025584318978,-0.12469746138037062,0.4387301177805465,0.5516339814225077,0.7171650662368513,-0.03725838296568845,0.8758905359406832,0.3480064019802084,0.15339254456866705,1.215303209216154,0.15694117564425067,0.7382561043698956,0.47236968234456844,1.2279882140834424,0.6293810453149018,0.7004727992084582,0.8735369874014337,1.25422219052245,1.3582398473872712,0.6621261375659374,-0.04728151331988002,0.12153420888011869,0.014118226051387753,0.23601083732659692,1.0566914280905764,0.22141708833021762,0.43178316074105333,1.0494133552191802,1.0358782103228246,0.06706759987298008,0.27542506625183405,0.2723350662617718,0.6231705397262214,0.3300053638372265,-0.3736276226873762,0.2829443429551026,0.08905311031901127,0.22435678320860597,0.5738834855584669,-0.4570128725046748,0.25224447326946914,1.8476725943096637,1.1531898082521288,2.206349497126593,1.4386854023261815,1.867890702555584,2.7541967088257526,0.35837447484166746,2.3030058981503188,2.0017352992189164,2.267554599102268,1.3659094292022136,1.5990645856518693,1.8842518537520743,1.253086514377591,1.4640615229856224,1.5918093026385283,1.4712801894655434,2.437378482193507,3.309141182676078,1.2539809866905776,2.0404962596630387,0.9739151144704733,2.8980644358432763,1.3291936913234932,1.7042407085196052,1.957727661793435,1.1719045079878683,1.0197810528162627,1.786008861248468,1.8647779127074662,2.4354973914151428,2.3160824119611534,1.8603714258523156,1.1112717256759688,1.1974691551180376,2.800949403734028,1.5801552485205363,1.3470444243548017,0.923432977766384,1.8535519840664405,2.0161572006777586,1.9031168585994869,1.1531898082521288,2.043308439287809,2.0016909669349974,1.870522071460125,1.558491890723717,1.5208450639985898,1.3763911906419273,0.9592985756160376],\"y\":[0.5057039027737841,-0.6554047293691346,-0.3184773108472492,-0.5753677125331953,0.6747673967025152,1.518548559888513,0.07456267500687389,0.24761393175226507,-1.0951463625829554,-0.44862904833755896,1.0705955760377264,0.15858745465947602,-0.709118158030226,-0.938281982107854,1.8899785123164656,2.722371076574469,1.5137502825462188,0.5143043082206927,1.431110706941237,1.1580334289850007,0.4304651632801381,0.952457317288998,0.48951702650349477,0.10675079283540627,0.16218616266619693,-0.6078925674838078,0.26601431198165504,0.5520164953235399,0.3366404088450542,-0.31487860284052827,-0.48394209676925876,0.4452668355028073,1.8284751927341,2.1853916156308917,-0.44862904833755896,-0.18433781054027856,0.6849564262949368,-0.44862904833755896,-0.882169414775617,0.29272695496644646,0.46799171567093784,-2.3276916061149096,-0.45381638048979317,0.4973916400183832,1.1714321117742033,-0.6919173471364096,1.1506325928736663,-0.3623907647258571,1.0254825528235447,0.0322378452737796,0.8631124458513245,0.5986355733419972,0.6148224496122869,-1.7581689474435256,-0.2117579026798954,-0.5910624686227365,0.7786986113887819,-1.8488687712754417,0.03033082678338136,-1.029401112403088,-2.6580626779617607,-0.05888128502145437,-1.7725815648562542,-0.18543431450504383,-0.4327950987141687,0.5099981510591476,-0.19062164665727788,-0.7907254562344853,-1.633355644515482,-1.3031032701729108,0.4024703816185357,-0.4166082224438792,-0.940914792530272,-0.4168116425417719,-0.06349392765170202,0.25070861070205414,-0.0826200998131122,0.3288202662704021,-0.22434607094346407,-1.0572124126050202,-1.5635923798655775,-1.5733923546480593,-0.7759237840118163,-0.6369012837689368,-0.2808476930856404,0.8551369202180025,0.5221972645127767,-1.39246648438778,-0.21262073489338879,-1.3298159131577019,-1.1194415241194038,0.027542633302294464,-0.9889007318191547,-2.017932265204172,-0.85395071698655,-0.17490854779054174,-0.3804846594865455,-0.15371997408006488,-1.5394645102639806,-0.595860745965031,0.8716966617734127,-0.7013261138565754,0.5544701049349228,-0.05001052226888553,0.29119280176116913,0.7884322063548452,-1.560094583977289,0.4095166952219437,-0.723865359312659,1.9214429914653548,0.6939480398041611,-0.42824883590033935,0.4143327579500842,-1.1673913352452454,-0.4441475694791236,0.6770353716018516,0.25319247196681555,2.5567573414948015,-0.0023613201020824923,-1.7175838442659768,0.9073987650150531,-0.5711743763662661,0.3977913591718686,-0.4867605419037237,1.014148424835785,1.0033345154297773,-0.3188966173105676,0.06554296309664809,-0.19327279985689128,0.55538153157899,0.24665446806897456,2.6261838690226273,-0.18467239440998312,-0.29598610243039014,-0.8171677419136159,0.8447481937849748,1.0724744961271222,0.42225596589554615,0.019230370546893197,0.672422728971604,0.6103970375551129,0.6860248318586996,-0.7013261138565754,0.8646848804720187,1.0485500466234177,0.3828218376229984,-0.9053136014070654,0.2667945748539109,1.0163619287948853,-0.022283944660567125],\"z\":[-0.12194334778175998,-0.22725083239924815,0.05147962364496686,0.09886044443740301,0.021427848973115612,0.03068425828072543,0.34219763621375454,-0.08257446445485098,0.15356239869462499,-0.24655952238860812,-0.26400937334710467,0.10016561562692805,-0.22321451399276113,0.18957003015127183,-0.46948009463594725,0.03260379665903335,-0.0013634915813940118,-0.03861559488011966,-0.37074283399203317,0.1374177189256545,-0.4160068747562896,0.1647383463805436,0.33883638434349445,0.04006147242624758,0.12420142802351761,-0.2985910287763137,0.09209297881395304,-0.2012954816243518,-0.2653145445366299,0.07551543604155617,-0.06785576071331634,-0.265375243884075,0.05141951815449983,-0.07934975488701793,-0.24655952238860812,-0.2186245277449367,-0.47941157047978483,-0.24655952238860812,0.20155758667584342,-0.16993853576297513,0.04073653896247463,-0.19452860985788084,0.3135718375693399,0.31475561006397534,0.252793221689411,-0.05655900818948713,0.062101903489547215,0.1468556324186213,-0.17664530203897957,-0.14659352736712902,-0.6855551077942373,-0.09406680197491321,-0.5548465341001644,-0.018569482353449428,-0.39744743760450035,0.1267976895916914,0.14865602261265656,0.2555552499784254,-0.5954598892691505,0.5428670487940238,-0.03981344818563184,0.20670349127562324,-0.7613802230457309,-0.06729984236136119,0.19806144915679597,-0.5035058317132016,0.49283151759658705,-0.29860451573021124,-0.4794099138261456,-0.16858674603688112,0.61677262566721,-0.26271828296845523,-0.3667048589319061,-0.28996247361138344,-0.44476755904949167,-0.472148885851825,-0.7268435294994512,-0.26145807366185964,0.0873681069173404,-0.31531919466201436,-0.145241737641035,-0.23658142800820198,-0.1479728848579969,0.10675323371866048,0.6675596602128353,0.4507314870527183,-0.3961422664149752,-0.6854343029563257,0.2941282619311934,0.09344476854004695,0.09817189094727745,-0.019304654380142876,-0.19596807283921527,0.11218405322355292,0.13411882305647888,0.13144837518696117,0.15876900264185015,-0.2700394164332425,0.1961261733139727,0.09474993972957203,1.002760985779278,0.5314646350398206,-0.20549591009804036,0.16339046381870664,0.39400433318681355,-0.5862327043799539,0.9909998953229909,-0.6541666870038293,-0.39407044826972454,0.39251765781193165,0.28327951601832685,0.023304082122132967,0.024548553964213574,0.5821302708905556,1.0041105249947537,0.6366507209624217,0.03665750918367596,-0.13420008174692682,-0.7069339592752082,-0.2646220838822472,0.23187811428391875,0.8295037810733951,-0.8609268420176824,-0.0047073493334984584,0.2959578765436418,-0.42281705175205014,0.13065190995584375,0.3380421696229951,0.2700025257687445,-0.7175106833798804,-0.7302340057881253,-0.4996195425630397,0.35333027867038164,-0.182659607660602,-0.16321378151183688,-0.5470009572124543,0.9433926084622694,0.18002870593854817,0.41739430346558937,-0.01482032936269286,0.42591494688952675,0.12779936404399145,0.5314646350398206,0.33526606052310326,0.6292688881501901,0.2545323186790221,-0.025381909859828047,0.1792772025903603,0.9314050519376967,0.5287941871703031],\"type\":\"scatter3d\"}],                        {\"template\":{\"data\":{\"bar\":[{\"error_x\":{\"color\":\"#2a3f5f\"},\"error_y\":{\"color\":\"#2a3f5f\"},\"marker\":{\"line\":{\"color\":\"#E5ECF6\",\"width\":0.5},\"pattern\":{\"fillmode\":\"overlay\",\"size\":10,\"solidity\":0.2}},\"type\":\"bar\"}],\"barpolar\":[{\"marker\":{\"line\":{\"color\":\"#E5ECF6\",\"width\":0.5},\"pattern\":{\"fillmode\":\"overlay\",\"size\":10,\"solidity\":0.2}},\"type\":\"barpolar\"}],\"carpet\":[{\"aaxis\":{\"endlinecolor\":\"#2a3f5f\",\"gridcolor\":\"white\",\"linecolor\":\"white\",\"minorgridcolor\":\"white\",\"startlinecolor\":\"#2a3f5f\"},\"baxis\":{\"endlinecolor\":\"#2a3f5f\",\"gridcolor\":\"white\",\"linecolor\":\"white\",\"minorgridcolor\":\"white\",\"startlinecolor\":\"#2a3f5f\"},\"type\":\"carpet\"}],\"choropleth\":[{\"colorbar\":{\"outlinewidth\":0,\"ticks\":\"\"},\"type\":\"choropleth\"}],\"contour\":[{\"colorbar\":{\"outlinewidth\":0,\"ticks\":\"\"},\"colorscale\":[[0.0,\"#0d0887\"],[0.1111111111111111,\"#46039f\"],[0.2222222222222222,\"#7201a8\"],[0.3333333333333333,\"#9c179e\"],[0.4444444444444444,\"#bd3786\"],[0.5555555555555556,\"#d8576b\"],[0.6666666666666666,\"#ed7953\"],[0.7777777777777778,\"#fb9f3a\"],[0.8888888888888888,\"#fdca26\"],[1.0,\"#f0f921\"]],\"type\":\"contour\"}],\"contourcarpet\":[{\"colorbar\":{\"outlinewidth\":0,\"ticks\":\"\"},\"type\":\"contourcarpet\"}],\"heatmap\":[{\"colorbar\":{\"outlinewidth\":0,\"ticks\":\"\"},\"colorscale\":[[0.0,\"#0d0887\"],[0.1111111111111111,\"#46039f\"],[0.2222222222222222,\"#7201a8\"],[0.3333333333333333,\"#9c179e\"],[0.4444444444444444,\"#bd3786\"],[0.5555555555555556,\"#d8576b\"],[0.6666666666666666,\"#ed7953\"],[0.7777777777777778,\"#fb9f3a\"],[0.8888888888888888,\"#fdca26\"],[1.0,\"#f0f921\"]],\"type\":\"heatmap\"}],\"heatmapgl\":[{\"colorbar\":{\"outlinewidth\":0,\"ticks\":\"\"},\"colorscale\":[[0.0,\"#0d0887\"],[0.1111111111111111,\"#46039f\"],[0.2222222222222222,\"#7201a8\"],[0.3333333333333333,\"#9c179e\"],[0.4444444444444444,\"#bd3786\"],[0.5555555555555556,\"#d8576b\"],[0.6666666666666666,\"#ed7953\"],[0.7777777777777778,\"#fb9f3a\"],[0.8888888888888888,\"#fdca26\"],[1.0,\"#f0f921\"]],\"type\":\"heatmapgl\"}],\"histogram\":[{\"marker\":{\"pattern\":{\"fillmode\":\"overlay\",\"size\":10,\"solidity\":0.2}},\"type\":\"histogram\"}],\"histogram2d\":[{\"colorbar\":{\"outlinewidth\":0,\"ticks\":\"\"},\"colorscale\":[[0.0,\"#0d0887\"],[0.1111111111111111,\"#46039f\"],[0.2222222222222222,\"#7201a8\"],[0.3333333333333333,\"#9c179e\"],[0.4444444444444444,\"#bd3786\"],[0.5555555555555556,\"#d8576b\"],[0.6666666666666666,\"#ed7953\"],[0.7777777777777778,\"#fb9f3a\"],[0.8888888888888888,\"#fdca26\"],[1.0,\"#f0f921\"]],\"type\":\"histogram2d\"}],\"histogram2dcontour\":[{\"colorbar\":{\"outlinewidth\":0,\"ticks\":\"\"},\"colorscale\":[[0.0,\"#0d0887\"],[0.1111111111111111,\"#46039f\"],[0.2222222222222222,\"#7201a8\"],[0.3333333333333333,\"#9c179e\"],[0.4444444444444444,\"#bd3786\"],[0.5555555555555556,\"#d8576b\"],[0.6666666666666666,\"#ed7953\"],[0.7777777777777778,\"#fb9f3a\"],[0.8888888888888888,\"#fdca26\"],[1.0,\"#f0f921\"]],\"type\":\"histogram2dcontour\"}],\"mesh3d\":[{\"colorbar\":{\"outlinewidth\":0,\"ticks\":\"\"},\"type\":\"mesh3d\"}],\"parcoords\":[{\"line\":{\"colorbar\":{\"outlinewidth\":0,\"ticks\":\"\"}},\"type\":\"parcoords\"}],\"pie\":[{\"automargin\":true,\"type\":\"pie\"}],\"scatter\":[{\"marker\":{\"colorbar\":{\"outlinewidth\":0,\"ticks\":\"\"}},\"type\":\"scatter\"}],\"scatter3d\":[{\"line\":{\"colorbar\":{\"outlinewidth\":0,\"ticks\":\"\"}},\"marker\":{\"colorbar\":{\"outlinewidth\":0,\"ticks\":\"\"}},\"type\":\"scatter3d\"}],\"scattercarpet\":[{\"marker\":{\"colorbar\":{\"outlinewidth\":0,\"ticks\":\"\"}},\"type\":\"scattercarpet\"}],\"scattergeo\":[{\"marker\":{\"colorbar\":{\"outlinewidth\":0,\"ticks\":\"\"}},\"type\":\"scattergeo\"}],\"scattergl\":[{\"marker\":{\"colorbar\":{\"outlinewidth\":0,\"ticks\":\"\"}},\"type\":\"scattergl\"}],\"scattermapbox\":[{\"marker\":{\"colorbar\":{\"outlinewidth\":0,\"ticks\":\"\"}},\"type\":\"scattermapbox\"}],\"scatterpolar\":[{\"marker\":{\"colorbar\":{\"outlinewidth\":0,\"ticks\":\"\"}},\"type\":\"scatterpolar\"}],\"scatterpolargl\":[{\"marker\":{\"colorbar\":{\"outlinewidth\":0,\"ticks\":\"\"}},\"type\":\"scatterpolargl\"}],\"scatterternary\":[{\"marker\":{\"colorbar\":{\"outlinewidth\":0,\"ticks\":\"\"}},\"type\":\"scatterternary\"}],\"surface\":[{\"colorbar\":{\"outlinewidth\":0,\"ticks\":\"\"},\"colorscale\":[[0.0,\"#0d0887\"],[0.1111111111111111,\"#46039f\"],[0.2222222222222222,\"#7201a8\"],[0.3333333333333333,\"#9c179e\"],[0.4444444444444444,\"#bd3786\"],[0.5555555555555556,\"#d8576b\"],[0.6666666666666666,\"#ed7953\"],[0.7777777777777778,\"#fb9f3a\"],[0.8888888888888888,\"#fdca26\"],[1.0,\"#f0f921\"]],\"type\":\"surface\"}],\"table\":[{\"cells\":{\"fill\":{\"color\":\"#EBF0F8\"},\"line\":{\"color\":\"white\"}},\"header\":{\"fill\":{\"color\":\"#C8D4E3\"},\"line\":{\"color\":\"white\"}},\"type\":\"table\"}]},\"layout\":{\"annotationdefaults\":{\"arrowcolor\":\"#2a3f5f\",\"arrowhead\":0,\"arrowwidth\":1},\"autotypenumbers\":\"strict\",\"coloraxis\":{\"colorbar\":{\"outlinewidth\":0,\"ticks\":\"\"}},\"colorscale\":{\"diverging\":[[0,\"#8e0152\"],[0.1,\"#c51b7d\"],[0.2,\"#de77ae\"],[0.3,\"#f1b6da\"],[0.4,\"#fde0ef\"],[0.5,\"#f7f7f7\"],[0.6,\"#e6f5d0\"],[0.7,\"#b8e186\"],[0.8,\"#7fbc41\"],[0.9,\"#4d9221\"],[1,\"#276419\"]],\"sequential\":[[0.0,\"#0d0887\"],[0.1111111111111111,\"#46039f\"],[0.2222222222222222,\"#7201a8\"],[0.3333333333333333,\"#9c179e\"],[0.4444444444444444,\"#bd3786\"],[0.5555555555555556,\"#d8576b\"],[0.6666666666666666,\"#ed7953\"],[0.7777777777777778,\"#fb9f3a\"],[0.8888888888888888,\"#fdca26\"],[1.0,\"#f0f921\"]],\"sequentialminus\":[[0.0,\"#0d0887\"],[0.1111111111111111,\"#46039f\"],[0.2222222222222222,\"#7201a8\"],[0.3333333333333333,\"#9c179e\"],[0.4444444444444444,\"#bd3786\"],[0.5555555555555556,\"#d8576b\"],[0.6666666666666666,\"#ed7953\"],[0.7777777777777778,\"#fb9f3a\"],[0.8888888888888888,\"#fdca26\"],[1.0,\"#f0f921\"]]},\"colorway\":[\"#636efa\",\"#EF553B\",\"#00cc96\",\"#ab63fa\",\"#FFA15A\",\"#19d3f3\",\"#FF6692\",\"#B6E880\",\"#FF97FF\",\"#FECB52\"],\"font\":{\"color\":\"#2a3f5f\"},\"geo\":{\"bgcolor\":\"white\",\"lakecolor\":\"white\",\"landcolor\":\"#E5ECF6\",\"showlakes\":true,\"showland\":true,\"subunitcolor\":\"white\"},\"hoverlabel\":{\"align\":\"left\"},\"hovermode\":\"closest\",\"mapbox\":{\"style\":\"light\"},\"paper_bgcolor\":\"white\",\"plot_bgcolor\":\"#E5ECF6\",\"polar\":{\"angularaxis\":{\"gridcolor\":\"white\",\"linecolor\":\"white\",\"ticks\":\"\"},\"bgcolor\":\"#E5ECF6\",\"radialaxis\":{\"gridcolor\":\"white\",\"linecolor\":\"white\",\"ticks\":\"\"}},\"scene\":{\"xaxis\":{\"backgroundcolor\":\"#E5ECF6\",\"gridcolor\":\"white\",\"gridwidth\":2,\"linecolor\":\"white\",\"showbackground\":true,\"ticks\":\"\",\"zerolinecolor\":\"white\"},\"yaxis\":{\"backgroundcolor\":\"#E5ECF6\",\"gridcolor\":\"white\",\"gridwidth\":2,\"linecolor\":\"white\",\"showbackground\":true,\"ticks\":\"\",\"zerolinecolor\":\"white\"},\"zaxis\":{\"backgroundcolor\":\"#E5ECF6\",\"gridcolor\":\"white\",\"gridwidth\":2,\"linecolor\":\"white\",\"showbackground\":true,\"ticks\":\"\",\"zerolinecolor\":\"white\"}},\"shapedefaults\":{\"line\":{\"color\":\"#2a3f5f\"}},\"ternary\":{\"aaxis\":{\"gridcolor\":\"white\",\"linecolor\":\"white\",\"ticks\":\"\"},\"baxis\":{\"gridcolor\":\"white\",\"linecolor\":\"white\",\"ticks\":\"\"},\"bgcolor\":\"#E5ECF6\",\"caxis\":{\"gridcolor\":\"white\",\"linecolor\":\"white\",\"ticks\":\"\"}},\"title\":{\"x\":0.05},\"xaxis\":{\"automargin\":true,\"gridcolor\":\"white\",\"linecolor\":\"white\",\"ticks\":\"\",\"title\":{\"standoff\":15},\"zerolinecolor\":\"white\",\"zerolinewidth\":2},\"yaxis\":{\"automargin\":true,\"gridcolor\":\"white\",\"linecolor\":\"white\",\"ticks\":\"\",\"title\":{\"standoff\":15},\"zerolinecolor\":\"white\",\"zerolinewidth\":2}}},\"scene\":{\"domain\":{\"x\":[0.0,1.0],\"y\":[0.0,1.0]},\"xaxis\":{\"title\":{\"text\":\"principal component 1\"}},\"yaxis\":{\"title\":{\"text\":\"principal component 2\"}},\"zaxis\":{\"title\":{\"text\":\"principal component 3\"}}},\"coloraxis\":{\"colorbar\":{\"title\":{\"text\":\"color\"}},\"colorscale\":[[0.0,\"#0d0887\"],[0.1111111111111111,\"#46039f\"],[0.2222222222222222,\"#7201a8\"],[0.3333333333333333,\"#9c179e\"],[0.4444444444444444,\"#bd3786\"],[0.5555555555555556,\"#d8576b\"],[0.6666666666666666,\"#ed7953\"],[0.7777777777777778,\"#fb9f3a\"],[0.8888888888888888,\"#fdca26\"],[1.0,\"#f0f921\"]]},\"legend\":{\"tracegroupgap\":0},\"margin\":{\"t\":60}},                        {\"responsive\": true}                    ).then(function(){\n",
              "                            \n",
              "var gd = document.getElementById('f6562b8b-c9a3-48d6-85a0-29769634c52a');\n",
              "var x = new MutationObserver(function (mutations, observer) {{\n",
              "        var display = window.getComputedStyle(gd).display;\n",
              "        if (!display || display === 'none') {{\n",
              "            console.log([gd, 'removed!']);\n",
              "            Plotly.purge(gd);\n",
              "            observer.disconnect();\n",
              "        }}\n",
              "}});\n",
              "\n",
              "// Listen for the removal of the full notebook cells\n",
              "var notebookContainer = gd.closest('#notebook-container');\n",
              "if (notebookContainer) {{\n",
              "    x.observe(notebookContainer, {childList: true});\n",
              "}}\n",
              "\n",
              "// Listen for the clearing of the current output cell\n",
              "var outputEl = gd.closest('.output');\n",
              "if (outputEl) {{\n",
              "    x.observe(outputEl, {childList: true});\n",
              "}}\n",
              "\n",
              "                        })                };                            </script>        </div>\n",
              "</body>\n",
              "</html>"
            ]
          },
          "metadata": {}
        }
      ]
    },
    {
      "cell_type": "code",
      "source": [
        "from sklearn.metrics import rand_score\n",
        "ris = rand_score(df[\"class\"], y_kmeans3)\n",
        "print(ris)"
      ],
      "metadata": {
        "colab": {
          "base_uri": "https://localhost:8080/"
        },
        "id": "tsKjgVGucOoc",
        "outputId": "93abeeff-5c76-49ed-fbb0-bcdc52489555"
      },
      "execution_count": null,
      "outputs": [
        {
          "output_type": "stream",
          "name": "stdout",
          "text": [
            "0.8797315436241611\n"
          ]
        }
      ]
    }
  ],
  "metadata": {
    "colab": {
      "provenance": [],
      "include_colab_link": true
    },
    "kernelspec": {
      "display_name": "Python 3",
      "name": "python3"
    },
    "language_info": {
      "name": "python"
    }
  },
  "nbformat": 4,
  "nbformat_minor": 0
}