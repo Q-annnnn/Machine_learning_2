{
  "nbformat": 4,
  "nbformat_minor": 0,
  "metadata": {
    "colab": {
      "provenance": [],
      "include_colab_link": true
    },
    "kernelspec": {
      "name": "python3",
      "display_name": "Python 3"
    },
    "language_info": {
      "name": "python"
    }
  },
  "cells": [
    {
      "cell_type": "markdown",
      "metadata": {
        "id": "view-in-github",
        "colab_type": "text"
      },
      "source": [
        "<a href=\"https://colab.research.google.com/github/Q-annnnn/USTH_Machine_learning_2/blob/main/LW1_QUAN_TRUNG.ipynb\" target=\"_parent\"><img src=\"https://colab.research.google.com/assets/colab-badge.svg\" alt=\"Open In Colab\"/></a>"
      ]
    },
    {
      "cell_type": "code",
      "execution_count": null,
      "metadata": {
        "id": "IWMTsLafZ9r-"
      },
      "outputs": [],
      "source": [
        "import numpy as np\n",
        "import pandas as pd"
      ]
    },
    {
      "cell_type": "code",
      "source": [
        "#load data set to Pandas dataframe\n",
        "df = pd.read_csv(\"https://archive.ics.uci.edu/ml/machine-learning-databases/00267/data_banknote_authentication.txt\",\n",
        "                 names = [\"variance\", \"skewness\", \"curtosis\",\"entropy\", \"class\"])"
      ],
      "metadata": {
        "id": "e5AdR9Ij3ayM"
      },
      "execution_count": null,
      "outputs": []
    },
    {
      "cell_type": "code",
      "source": [
        "df"
      ],
      "metadata": {
        "colab": {
          "base_uri": "https://localhost:8080/",
          "height": 423
        },
        "id": "e7UWVVRp4SoW",
        "outputId": "da04f62d-2be0-4186-b0a8-6f80a3339b02"
      },
      "execution_count": null,
      "outputs": [
        {
          "output_type": "execute_result",
          "data": {
            "text/plain": [
              "      variance  skewness  curtosis  entropy  class\n",
              "0      3.62160   8.66610   -2.8073 -0.44699      0\n",
              "1      4.54590   8.16740   -2.4586 -1.46210      0\n",
              "2      3.86600  -2.63830    1.9242  0.10645      0\n",
              "3      3.45660   9.52280   -4.0112 -3.59440      0\n",
              "4      0.32924  -4.45520    4.5718 -0.98880      0\n",
              "...        ...       ...       ...      ...    ...\n",
              "1367   0.40614   1.34920   -1.4501 -0.55949      1\n",
              "1368  -1.38870  -4.87730    6.4774  0.34179      1\n",
              "1369  -3.75030 -13.45860   17.5932 -2.77710      1\n",
              "1370  -3.56370  -8.38270   12.3930 -1.28230      1\n",
              "1371  -2.54190  -0.65804    2.6842  1.19520      1\n",
              "\n",
              "[1372 rows x 5 columns]"
            ],
            "text/html": [
              "\n",
              "  <div id=\"df-31fff633-ecbe-421c-9de2-47deda4f72a4\">\n",
              "    <div class=\"colab-df-container\">\n",
              "      <div>\n",
              "<style scoped>\n",
              "    .dataframe tbody tr th:only-of-type {\n",
              "        vertical-align: middle;\n",
              "    }\n",
              "\n",
              "    .dataframe tbody tr th {\n",
              "        vertical-align: top;\n",
              "    }\n",
              "\n",
              "    .dataframe thead th {\n",
              "        text-align: right;\n",
              "    }\n",
              "</style>\n",
              "<table border=\"1\" class=\"dataframe\">\n",
              "  <thead>\n",
              "    <tr style=\"text-align: right;\">\n",
              "      <th></th>\n",
              "      <th>variance</th>\n",
              "      <th>skewness</th>\n",
              "      <th>curtosis</th>\n",
              "      <th>entropy</th>\n",
              "      <th>class</th>\n",
              "    </tr>\n",
              "  </thead>\n",
              "  <tbody>\n",
              "    <tr>\n",
              "      <th>0</th>\n",
              "      <td>3.62160</td>\n",
              "      <td>8.66610</td>\n",
              "      <td>-2.8073</td>\n",
              "      <td>-0.44699</td>\n",
              "      <td>0</td>\n",
              "    </tr>\n",
              "    <tr>\n",
              "      <th>1</th>\n",
              "      <td>4.54590</td>\n",
              "      <td>8.16740</td>\n",
              "      <td>-2.4586</td>\n",
              "      <td>-1.46210</td>\n",
              "      <td>0</td>\n",
              "    </tr>\n",
              "    <tr>\n",
              "      <th>2</th>\n",
              "      <td>3.86600</td>\n",
              "      <td>-2.63830</td>\n",
              "      <td>1.9242</td>\n",
              "      <td>0.10645</td>\n",
              "      <td>0</td>\n",
              "    </tr>\n",
              "    <tr>\n",
              "      <th>3</th>\n",
              "      <td>3.45660</td>\n",
              "      <td>9.52280</td>\n",
              "      <td>-4.0112</td>\n",
              "      <td>-3.59440</td>\n",
              "      <td>0</td>\n",
              "    </tr>\n",
              "    <tr>\n",
              "      <th>4</th>\n",
              "      <td>0.32924</td>\n",
              "      <td>-4.45520</td>\n",
              "      <td>4.5718</td>\n",
              "      <td>-0.98880</td>\n",
              "      <td>0</td>\n",
              "    </tr>\n",
              "    <tr>\n",
              "      <th>...</th>\n",
              "      <td>...</td>\n",
              "      <td>...</td>\n",
              "      <td>...</td>\n",
              "      <td>...</td>\n",
              "      <td>...</td>\n",
              "    </tr>\n",
              "    <tr>\n",
              "      <th>1367</th>\n",
              "      <td>0.40614</td>\n",
              "      <td>1.34920</td>\n",
              "      <td>-1.4501</td>\n",
              "      <td>-0.55949</td>\n",
              "      <td>1</td>\n",
              "    </tr>\n",
              "    <tr>\n",
              "      <th>1368</th>\n",
              "      <td>-1.38870</td>\n",
              "      <td>-4.87730</td>\n",
              "      <td>6.4774</td>\n",
              "      <td>0.34179</td>\n",
              "      <td>1</td>\n",
              "    </tr>\n",
              "    <tr>\n",
              "      <th>1369</th>\n",
              "      <td>-3.75030</td>\n",
              "      <td>-13.45860</td>\n",
              "      <td>17.5932</td>\n",
              "      <td>-2.77710</td>\n",
              "      <td>1</td>\n",
              "    </tr>\n",
              "    <tr>\n",
              "      <th>1370</th>\n",
              "      <td>-3.56370</td>\n",
              "      <td>-8.38270</td>\n",
              "      <td>12.3930</td>\n",
              "      <td>-1.28230</td>\n",
              "      <td>1</td>\n",
              "    </tr>\n",
              "    <tr>\n",
              "      <th>1371</th>\n",
              "      <td>-2.54190</td>\n",
              "      <td>-0.65804</td>\n",
              "      <td>2.6842</td>\n",
              "      <td>1.19520</td>\n",
              "      <td>1</td>\n",
              "    </tr>\n",
              "  </tbody>\n",
              "</table>\n",
              "<p>1372 rows × 5 columns</p>\n",
              "</div>\n",
              "      <button class=\"colab-df-convert\" onclick=\"convertToInteractive('df-31fff633-ecbe-421c-9de2-47deda4f72a4')\"\n",
              "              title=\"Convert this dataframe to an interactive table.\"\n",
              "              style=\"display:none;\">\n",
              "        \n",
              "  <svg xmlns=\"http://www.w3.org/2000/svg\" height=\"24px\"viewBox=\"0 0 24 24\"\n",
              "       width=\"24px\">\n",
              "    <path d=\"M0 0h24v24H0V0z\" fill=\"none\"/>\n",
              "    <path d=\"M18.56 5.44l.94 2.06.94-2.06 2.06-.94-2.06-.94-.94-2.06-.94 2.06-2.06.94zm-11 1L8.5 8.5l.94-2.06 2.06-.94-2.06-.94L8.5 2.5l-.94 2.06-2.06.94zm10 10l.94 2.06.94-2.06 2.06-.94-2.06-.94-.94-2.06-.94 2.06-2.06.94z\"/><path d=\"M17.41 7.96l-1.37-1.37c-.4-.4-.92-.59-1.43-.59-.52 0-1.04.2-1.43.59L10.3 9.45l-7.72 7.72c-.78.78-.78 2.05 0 2.83L4 21.41c.39.39.9.59 1.41.59.51 0 1.02-.2 1.41-.59l7.78-7.78 2.81-2.81c.8-.78.8-2.07 0-2.86zM5.41 20L4 18.59l7.72-7.72 1.47 1.35L5.41 20z\"/>\n",
              "  </svg>\n",
              "      </button>\n",
              "      \n",
              "  <style>\n",
              "    .colab-df-container {\n",
              "      display:flex;\n",
              "      flex-wrap:wrap;\n",
              "      gap: 12px;\n",
              "    }\n",
              "\n",
              "    .colab-df-convert {\n",
              "      background-color: #E8F0FE;\n",
              "      border: none;\n",
              "      border-radius: 50%;\n",
              "      cursor: pointer;\n",
              "      display: none;\n",
              "      fill: #1967D2;\n",
              "      height: 32px;\n",
              "      padding: 0 0 0 0;\n",
              "      width: 32px;\n",
              "    }\n",
              "\n",
              "    .colab-df-convert:hover {\n",
              "      background-color: #E2EBFA;\n",
              "      box-shadow: 0px 1px 2px rgba(60, 64, 67, 0.3), 0px 1px 3px 1px rgba(60, 64, 67, 0.15);\n",
              "      fill: #174EA6;\n",
              "    }\n",
              "\n",
              "    [theme=dark] .colab-df-convert {\n",
              "      background-color: #3B4455;\n",
              "      fill: #D2E3FC;\n",
              "    }\n",
              "\n",
              "    [theme=dark] .colab-df-convert:hover {\n",
              "      background-color: #434B5C;\n",
              "      box-shadow: 0px 1px 3px 1px rgba(0, 0, 0, 0.15);\n",
              "      filter: drop-shadow(0px 1px 2px rgba(0, 0, 0, 0.3));\n",
              "      fill: #FFFFFF;\n",
              "    }\n",
              "  </style>\n",
              "\n",
              "      <script>\n",
              "        const buttonEl =\n",
              "          document.querySelector('#df-31fff633-ecbe-421c-9de2-47deda4f72a4 button.colab-df-convert');\n",
              "        buttonEl.style.display =\n",
              "          google.colab.kernel.accessAllowed ? 'block' : 'none';\n",
              "\n",
              "        async function convertToInteractive(key) {\n",
              "          const element = document.querySelector('#df-31fff633-ecbe-421c-9de2-47deda4f72a4');\n",
              "          const dataTable =\n",
              "            await google.colab.kernel.invokeFunction('convertToInteractive',\n",
              "                                                     [key], {});\n",
              "          if (!dataTable) return;\n",
              "\n",
              "          const docLinkHtml = 'Like what you see? Visit the ' +\n",
              "            '<a target=\"_blank\" href=https://colab.research.google.com/notebooks/data_table.ipynb>data table notebook</a>'\n",
              "            + ' to learn more about interactive tables.';\n",
              "          element.innerHTML = '';\n",
              "          dataTable['output_type'] = 'display_data';\n",
              "          await google.colab.output.renderOutput(dataTable, element);\n",
              "          const docLink = document.createElement('div');\n",
              "          docLink.innerHTML = docLinkHtml;\n",
              "          element.appendChild(docLink);\n",
              "        }\n",
              "      </script>\n",
              "    </div>\n",
              "  </div>\n",
              "  "
            ]
          },
          "metadata": {},
          "execution_count": 3
        }
      ]
    },
    {
      "cell_type": "code",
      "source": [
        "#define 'features'\n",
        "features = [\"variance\", \"skewness\", \"curtosis\",\"entropy\"]\n",
        "#separating out the feature values\n",
        "x = df.loc[:, features].values\n",
        "#separating out the class values\n",
        "y = df.loc[:,[\"class\"]].values\n"
      ],
      "metadata": {
        "id": "9aJSUuqH5qvU"
      },
      "execution_count": null,
      "outputs": []
    },
    {
      "cell_type": "code",
      "source": [
        "x"
      ],
      "metadata": {
        "colab": {
          "base_uri": "https://localhost:8080/"
        },
        "id": "IWacoRLB7MaG",
        "outputId": "e46b0da8-d261-49f5-fcdf-e4f967af02dc"
      },
      "execution_count": null,
      "outputs": [
        {
          "output_type": "execute_result",
          "data": {
            "text/plain": [
              "array([[  3.6216 ,   8.6661 ,  -2.8073 ,  -0.44699],\n",
              "       [  4.5459 ,   8.1674 ,  -2.4586 ,  -1.4621 ],\n",
              "       [  3.866  ,  -2.6383 ,   1.9242 ,   0.10645],\n",
              "       ...,\n",
              "       [ -3.7503 , -13.4586 ,  17.5932 ,  -2.7771 ],\n",
              "       [ -3.5637 ,  -8.3827 ,  12.393  ,  -1.2823 ],\n",
              "       [ -2.5419 ,  -0.65804,   2.6842 ,   1.1952 ]])"
            ]
          },
          "metadata": {},
          "execution_count": 5
        }
      ]
    },
    {
      "cell_type": "code",
      "source": [
        "y"
      ],
      "metadata": {
        "colab": {
          "base_uri": "https://localhost:8080/"
        },
        "id": "IYGWgHRg7M-r",
        "outputId": "44e18a1d-94b8-4562-c0a5-10b46ed9dfe4"
      },
      "execution_count": null,
      "outputs": [
        {
          "output_type": "execute_result",
          "data": {
            "text/plain": [
              "array([[0],\n",
              "       [0],\n",
              "       [0],\n",
              "       ...,\n",
              "       [1],\n",
              "       [1],\n",
              "       [1]])"
            ]
          },
          "metadata": {},
          "execution_count": 6
        }
      ]
    },
    {
      "cell_type": "code",
      "source": [
        "from statistics import mean\n",
        "from statistics import variance"
      ],
      "metadata": {
        "id": "EYVvaDF4ABPL"
      },
      "execution_count": null,
      "outputs": []
    },
    {
      "cell_type": "code",
      "source": [
        "#find mean\n",
        "mean_arr = [0]*4\n",
        "for i in range (0,4):\n",
        "  mean_arr[i] = mean(x[:,i])\n",
        "mean_arr"
      ],
      "metadata": {
        "colab": {
          "base_uri": "https://localhost:8080/"
        },
        "id": "I2UP5482AMY0",
        "outputId": "df38ce70-ba13-4549-b3b0-fe0d7cf92344"
      },
      "execution_count": null,
      "outputs": [
        {
          "output_type": "execute_result",
          "data": {
            "text/plain": [
              "[0.43373525706997085,\n",
              " 1.9223531206393587,\n",
              " 1.3976271172667638,\n",
              " -1.1916565200437317]"
            ]
          },
          "metadata": {},
          "execution_count": 8
        }
      ]
    },
    {
      "cell_type": "code",
      "source": [
        "#find variance\n",
        "var_arr = [0]*4\n",
        "for i in range (0,4):\n",
        "  var_arr[i] = variance(x[:,i])\n",
        "var_arr"
      ],
      "metadata": {
        "colab": {
          "base_uri": "https://localhost:8080/"
        },
        "id": "Lgm7wP4VDSXk",
        "outputId": "ade5ed84-ac5a-4199-b4b4-2e8bf8c33ebe"
      },
      "execution_count": null,
      "outputs": [
        {
          "output_type": "execute_result",
          "data": {
            "text/plain": [
              "[8.081299121945175, 34.44570967968295, 18.576359377624268, 4.414256203357671]"
            ]
          },
          "metadata": {},
          "execution_count": 9
        }
      ]
    },
    {
      "cell_type": "code",
      "source": [
        "#separating out the features as a Pandas dataframe\n",
        "banknote_data = df.loc[:,features]\n",
        "banknote_data"
      ],
      "metadata": {
        "colab": {
          "base_uri": "https://localhost:8080/",
          "height": 423
        },
        "id": "OVYBfeLZSI3w",
        "outputId": "ecbecc07-bdc8-428a-d489-ec959ddcc03b"
      },
      "execution_count": null,
      "outputs": [
        {
          "output_type": "execute_result",
          "data": {
            "text/plain": [
              "      variance  skewness  curtosis  entropy\n",
              "0      3.62160   8.66610   -2.8073 -0.44699\n",
              "1      4.54590   8.16740   -2.4586 -1.46210\n",
              "2      3.86600  -2.63830    1.9242  0.10645\n",
              "3      3.45660   9.52280   -4.0112 -3.59440\n",
              "4      0.32924  -4.45520    4.5718 -0.98880\n",
              "...        ...       ...       ...      ...\n",
              "1367   0.40614   1.34920   -1.4501 -0.55949\n",
              "1368  -1.38870  -4.87730    6.4774  0.34179\n",
              "1369  -3.75030 -13.45860   17.5932 -2.77710\n",
              "1370  -3.56370  -8.38270   12.3930 -1.28230\n",
              "1371  -2.54190  -0.65804    2.6842  1.19520\n",
              "\n",
              "[1372 rows x 4 columns]"
            ],
            "text/html": [
              "\n",
              "  <div id=\"df-69b29d1d-43d2-4fbd-8437-e9c680fcabb4\">\n",
              "    <div class=\"colab-df-container\">\n",
              "      <div>\n",
              "<style scoped>\n",
              "    .dataframe tbody tr th:only-of-type {\n",
              "        vertical-align: middle;\n",
              "    }\n",
              "\n",
              "    .dataframe tbody tr th {\n",
              "        vertical-align: top;\n",
              "    }\n",
              "\n",
              "    .dataframe thead th {\n",
              "        text-align: right;\n",
              "    }\n",
              "</style>\n",
              "<table border=\"1\" class=\"dataframe\">\n",
              "  <thead>\n",
              "    <tr style=\"text-align: right;\">\n",
              "      <th></th>\n",
              "      <th>variance</th>\n",
              "      <th>skewness</th>\n",
              "      <th>curtosis</th>\n",
              "      <th>entropy</th>\n",
              "    </tr>\n",
              "  </thead>\n",
              "  <tbody>\n",
              "    <tr>\n",
              "      <th>0</th>\n",
              "      <td>3.62160</td>\n",
              "      <td>8.66610</td>\n",
              "      <td>-2.8073</td>\n",
              "      <td>-0.44699</td>\n",
              "    </tr>\n",
              "    <tr>\n",
              "      <th>1</th>\n",
              "      <td>4.54590</td>\n",
              "      <td>8.16740</td>\n",
              "      <td>-2.4586</td>\n",
              "      <td>-1.46210</td>\n",
              "    </tr>\n",
              "    <tr>\n",
              "      <th>2</th>\n",
              "      <td>3.86600</td>\n",
              "      <td>-2.63830</td>\n",
              "      <td>1.9242</td>\n",
              "      <td>0.10645</td>\n",
              "    </tr>\n",
              "    <tr>\n",
              "      <th>3</th>\n",
              "      <td>3.45660</td>\n",
              "      <td>9.52280</td>\n",
              "      <td>-4.0112</td>\n",
              "      <td>-3.59440</td>\n",
              "    </tr>\n",
              "    <tr>\n",
              "      <th>4</th>\n",
              "      <td>0.32924</td>\n",
              "      <td>-4.45520</td>\n",
              "      <td>4.5718</td>\n",
              "      <td>-0.98880</td>\n",
              "    </tr>\n",
              "    <tr>\n",
              "      <th>...</th>\n",
              "      <td>...</td>\n",
              "      <td>...</td>\n",
              "      <td>...</td>\n",
              "      <td>...</td>\n",
              "    </tr>\n",
              "    <tr>\n",
              "      <th>1367</th>\n",
              "      <td>0.40614</td>\n",
              "      <td>1.34920</td>\n",
              "      <td>-1.4501</td>\n",
              "      <td>-0.55949</td>\n",
              "    </tr>\n",
              "    <tr>\n",
              "      <th>1368</th>\n",
              "      <td>-1.38870</td>\n",
              "      <td>-4.87730</td>\n",
              "      <td>6.4774</td>\n",
              "      <td>0.34179</td>\n",
              "    </tr>\n",
              "    <tr>\n",
              "      <th>1369</th>\n",
              "      <td>-3.75030</td>\n",
              "      <td>-13.45860</td>\n",
              "      <td>17.5932</td>\n",
              "      <td>-2.77710</td>\n",
              "    </tr>\n",
              "    <tr>\n",
              "      <th>1370</th>\n",
              "      <td>-3.56370</td>\n",
              "      <td>-8.38270</td>\n",
              "      <td>12.3930</td>\n",
              "      <td>-1.28230</td>\n",
              "    </tr>\n",
              "    <tr>\n",
              "      <th>1371</th>\n",
              "      <td>-2.54190</td>\n",
              "      <td>-0.65804</td>\n",
              "      <td>2.6842</td>\n",
              "      <td>1.19520</td>\n",
              "    </tr>\n",
              "  </tbody>\n",
              "</table>\n",
              "<p>1372 rows × 4 columns</p>\n",
              "</div>\n",
              "      <button class=\"colab-df-convert\" onclick=\"convertToInteractive('df-69b29d1d-43d2-4fbd-8437-e9c680fcabb4')\"\n",
              "              title=\"Convert this dataframe to an interactive table.\"\n",
              "              style=\"display:none;\">\n",
              "        \n",
              "  <svg xmlns=\"http://www.w3.org/2000/svg\" height=\"24px\"viewBox=\"0 0 24 24\"\n",
              "       width=\"24px\">\n",
              "    <path d=\"M0 0h24v24H0V0z\" fill=\"none\"/>\n",
              "    <path d=\"M18.56 5.44l.94 2.06.94-2.06 2.06-.94-2.06-.94-.94-2.06-.94 2.06-2.06.94zm-11 1L8.5 8.5l.94-2.06 2.06-.94-2.06-.94L8.5 2.5l-.94 2.06-2.06.94zm10 10l.94 2.06.94-2.06 2.06-.94-2.06-.94-.94-2.06-.94 2.06-2.06.94z\"/><path d=\"M17.41 7.96l-1.37-1.37c-.4-.4-.92-.59-1.43-.59-.52 0-1.04.2-1.43.59L10.3 9.45l-7.72 7.72c-.78.78-.78 2.05 0 2.83L4 21.41c.39.39.9.59 1.41.59.51 0 1.02-.2 1.41-.59l7.78-7.78 2.81-2.81c.8-.78.8-2.07 0-2.86zM5.41 20L4 18.59l7.72-7.72 1.47 1.35L5.41 20z\"/>\n",
              "  </svg>\n",
              "      </button>\n",
              "      \n",
              "  <style>\n",
              "    .colab-df-container {\n",
              "      display:flex;\n",
              "      flex-wrap:wrap;\n",
              "      gap: 12px;\n",
              "    }\n",
              "\n",
              "    .colab-df-convert {\n",
              "      background-color: #E8F0FE;\n",
              "      border: none;\n",
              "      border-radius: 50%;\n",
              "      cursor: pointer;\n",
              "      display: none;\n",
              "      fill: #1967D2;\n",
              "      height: 32px;\n",
              "      padding: 0 0 0 0;\n",
              "      width: 32px;\n",
              "    }\n",
              "\n",
              "    .colab-df-convert:hover {\n",
              "      background-color: #E2EBFA;\n",
              "      box-shadow: 0px 1px 2px rgba(60, 64, 67, 0.3), 0px 1px 3px 1px rgba(60, 64, 67, 0.15);\n",
              "      fill: #174EA6;\n",
              "    }\n",
              "\n",
              "    [theme=dark] .colab-df-convert {\n",
              "      background-color: #3B4455;\n",
              "      fill: #D2E3FC;\n",
              "    }\n",
              "\n",
              "    [theme=dark] .colab-df-convert:hover {\n",
              "      background-color: #434B5C;\n",
              "      box-shadow: 0px 1px 3px 1px rgba(0, 0, 0, 0.15);\n",
              "      filter: drop-shadow(0px 1px 2px rgba(0, 0, 0, 0.3));\n",
              "      fill: #FFFFFF;\n",
              "    }\n",
              "  </style>\n",
              "\n",
              "      <script>\n",
              "        const buttonEl =\n",
              "          document.querySelector('#df-69b29d1d-43d2-4fbd-8437-e9c680fcabb4 button.colab-df-convert');\n",
              "        buttonEl.style.display =\n",
              "          google.colab.kernel.accessAllowed ? 'block' : 'none';\n",
              "\n",
              "        async function convertToInteractive(key) {\n",
              "          const element = document.querySelector('#df-69b29d1d-43d2-4fbd-8437-e9c680fcabb4');\n",
              "          const dataTable =\n",
              "            await google.colab.kernel.invokeFunction('convertToInteractive',\n",
              "                                                     [key], {});\n",
              "          if (!dataTable) return;\n",
              "\n",
              "          const docLinkHtml = 'Like what you see? Visit the ' +\n",
              "            '<a target=\"_blank\" href=https://colab.research.google.com/notebooks/data_table.ipynb>data table notebook</a>'\n",
              "            + ' to learn more about interactive tables.';\n",
              "          element.innerHTML = '';\n",
              "          dataTable['output_type'] = 'display_data';\n",
              "          await google.colab.output.renderOutput(dataTable, element);\n",
              "          const docLink = document.createElement('div');\n",
              "          docLink.innerHTML = docLinkHtml;\n",
              "          element.appendChild(docLink);\n",
              "        }\n",
              "      </script>\n",
              "    </div>\n",
              "  </div>\n",
              "  "
            ]
          },
          "metadata": {},
          "execution_count": 10
        }
      ]
    },
    {
      "cell_type": "code",
      "source": [
        "#find covariance\n",
        "banknote_data.cov()"
      ],
      "metadata": {
        "colab": {
          "base_uri": "https://localhost:8080/",
          "height": 175
        },
        "id": "ghpd5qBpVFQ6",
        "outputId": "19e68831-f09c-40f2-c422-6428916bb208"
      },
      "execution_count": null,
      "outputs": [
        {
          "output_type": "execute_result",
          "data": {
            "text/plain": [
              "          variance   skewness   curtosis   entropy\n",
              "variance  8.081299   4.405083  -4.666323  1.653338\n",
              "skewness  4.405083  34.445710 -19.905119 -6.490033\n",
              "curtosis -4.666323 -19.905119  18.576359  2.887241\n",
              "entropy   1.653338  -6.490033   2.887241  4.414256"
            ],
            "text/html": [
              "\n",
              "  <div id=\"df-684723f6-aa85-4ca5-87b5-ace86a887fbf\">\n",
              "    <div class=\"colab-df-container\">\n",
              "      <div>\n",
              "<style scoped>\n",
              "    .dataframe tbody tr th:only-of-type {\n",
              "        vertical-align: middle;\n",
              "    }\n",
              "\n",
              "    .dataframe tbody tr th {\n",
              "        vertical-align: top;\n",
              "    }\n",
              "\n",
              "    .dataframe thead th {\n",
              "        text-align: right;\n",
              "    }\n",
              "</style>\n",
              "<table border=\"1\" class=\"dataframe\">\n",
              "  <thead>\n",
              "    <tr style=\"text-align: right;\">\n",
              "      <th></th>\n",
              "      <th>variance</th>\n",
              "      <th>skewness</th>\n",
              "      <th>curtosis</th>\n",
              "      <th>entropy</th>\n",
              "    </tr>\n",
              "  </thead>\n",
              "  <tbody>\n",
              "    <tr>\n",
              "      <th>variance</th>\n",
              "      <td>8.081299</td>\n",
              "      <td>4.405083</td>\n",
              "      <td>-4.666323</td>\n",
              "      <td>1.653338</td>\n",
              "    </tr>\n",
              "    <tr>\n",
              "      <th>skewness</th>\n",
              "      <td>4.405083</td>\n",
              "      <td>34.445710</td>\n",
              "      <td>-19.905119</td>\n",
              "      <td>-6.490033</td>\n",
              "    </tr>\n",
              "    <tr>\n",
              "      <th>curtosis</th>\n",
              "      <td>-4.666323</td>\n",
              "      <td>-19.905119</td>\n",
              "      <td>18.576359</td>\n",
              "      <td>2.887241</td>\n",
              "    </tr>\n",
              "    <tr>\n",
              "      <th>entropy</th>\n",
              "      <td>1.653338</td>\n",
              "      <td>-6.490033</td>\n",
              "      <td>2.887241</td>\n",
              "      <td>4.414256</td>\n",
              "    </tr>\n",
              "  </tbody>\n",
              "</table>\n",
              "</div>\n",
              "      <button class=\"colab-df-convert\" onclick=\"convertToInteractive('df-684723f6-aa85-4ca5-87b5-ace86a887fbf')\"\n",
              "              title=\"Convert this dataframe to an interactive table.\"\n",
              "              style=\"display:none;\">\n",
              "        \n",
              "  <svg xmlns=\"http://www.w3.org/2000/svg\" height=\"24px\"viewBox=\"0 0 24 24\"\n",
              "       width=\"24px\">\n",
              "    <path d=\"M0 0h24v24H0V0z\" fill=\"none\"/>\n",
              "    <path d=\"M18.56 5.44l.94 2.06.94-2.06 2.06-.94-2.06-.94-.94-2.06-.94 2.06-2.06.94zm-11 1L8.5 8.5l.94-2.06 2.06-.94-2.06-.94L8.5 2.5l-.94 2.06-2.06.94zm10 10l.94 2.06.94-2.06 2.06-.94-2.06-.94-.94-2.06-.94 2.06-2.06.94z\"/><path d=\"M17.41 7.96l-1.37-1.37c-.4-.4-.92-.59-1.43-.59-.52 0-1.04.2-1.43.59L10.3 9.45l-7.72 7.72c-.78.78-.78 2.05 0 2.83L4 21.41c.39.39.9.59 1.41.59.51 0 1.02-.2 1.41-.59l7.78-7.78 2.81-2.81c.8-.78.8-2.07 0-2.86zM5.41 20L4 18.59l7.72-7.72 1.47 1.35L5.41 20z\"/>\n",
              "  </svg>\n",
              "      </button>\n",
              "      \n",
              "  <style>\n",
              "    .colab-df-container {\n",
              "      display:flex;\n",
              "      flex-wrap:wrap;\n",
              "      gap: 12px;\n",
              "    }\n",
              "\n",
              "    .colab-df-convert {\n",
              "      background-color: #E8F0FE;\n",
              "      border: none;\n",
              "      border-radius: 50%;\n",
              "      cursor: pointer;\n",
              "      display: none;\n",
              "      fill: #1967D2;\n",
              "      height: 32px;\n",
              "      padding: 0 0 0 0;\n",
              "      width: 32px;\n",
              "    }\n",
              "\n",
              "    .colab-df-convert:hover {\n",
              "      background-color: #E2EBFA;\n",
              "      box-shadow: 0px 1px 2px rgba(60, 64, 67, 0.3), 0px 1px 3px 1px rgba(60, 64, 67, 0.15);\n",
              "      fill: #174EA6;\n",
              "    }\n",
              "\n",
              "    [theme=dark] .colab-df-convert {\n",
              "      background-color: #3B4455;\n",
              "      fill: #D2E3FC;\n",
              "    }\n",
              "\n",
              "    [theme=dark] .colab-df-convert:hover {\n",
              "      background-color: #434B5C;\n",
              "      box-shadow: 0px 1px 3px 1px rgba(0, 0, 0, 0.15);\n",
              "      filter: drop-shadow(0px 1px 2px rgba(0, 0, 0, 0.3));\n",
              "      fill: #FFFFFF;\n",
              "    }\n",
              "  </style>\n",
              "\n",
              "      <script>\n",
              "        const buttonEl =\n",
              "          document.querySelector('#df-684723f6-aa85-4ca5-87b5-ace86a887fbf button.colab-df-convert');\n",
              "        buttonEl.style.display =\n",
              "          google.colab.kernel.accessAllowed ? 'block' : 'none';\n",
              "\n",
              "        async function convertToInteractive(key) {\n",
              "          const element = document.querySelector('#df-684723f6-aa85-4ca5-87b5-ace86a887fbf');\n",
              "          const dataTable =\n",
              "            await google.colab.kernel.invokeFunction('convertToInteractive',\n",
              "                                                     [key], {});\n",
              "          if (!dataTable) return;\n",
              "\n",
              "          const docLinkHtml = 'Like what you see? Visit the ' +\n",
              "            '<a target=\"_blank\" href=https://colab.research.google.com/notebooks/data_table.ipynb>data table notebook</a>'\n",
              "            + ' to learn more about interactive tables.';\n",
              "          element.innerHTML = '';\n",
              "          dataTable['output_type'] = 'display_data';\n",
              "          await google.colab.output.renderOutput(dataTable, element);\n",
              "          const docLink = document.createElement('div');\n",
              "          docLink.innerHTML = docLinkHtml;\n",
              "          element.appendChild(docLink);\n",
              "        }\n",
              "      </script>\n",
              "    </div>\n",
              "  </div>\n",
              "  "
            ]
          },
          "metadata": {},
          "execution_count": 11
        }
      ]
    },
    {
      "cell_type": "code",
      "source": [
        "#find correlation\n",
        "coma = banknote_data.corr()\n",
        "coma"
      ],
      "metadata": {
        "colab": {
          "base_uri": "https://localhost:8080/",
          "height": 175
        },
        "id": "2D30YbbgVeQO",
        "outputId": "03c186e5-8369-41b4-979a-fadd373f8cf9"
      },
      "execution_count": null,
      "outputs": [
        {
          "output_type": "execute_result",
          "data": {
            "text/plain": [
              "          variance  skewness  curtosis   entropy\n",
              "variance  1.000000  0.264026 -0.380850  0.276817\n",
              "skewness  0.264026  1.000000 -0.786895 -0.526321\n",
              "curtosis -0.380850 -0.786895  1.000000  0.318841\n",
              "entropy   0.276817 -0.526321  0.318841  1.000000"
            ],
            "text/html": [
              "\n",
              "  <div id=\"df-06a9318b-f83a-4c6e-b703-d28ab9a944d7\">\n",
              "    <div class=\"colab-df-container\">\n",
              "      <div>\n",
              "<style scoped>\n",
              "    .dataframe tbody tr th:only-of-type {\n",
              "        vertical-align: middle;\n",
              "    }\n",
              "\n",
              "    .dataframe tbody tr th {\n",
              "        vertical-align: top;\n",
              "    }\n",
              "\n",
              "    .dataframe thead th {\n",
              "        text-align: right;\n",
              "    }\n",
              "</style>\n",
              "<table border=\"1\" class=\"dataframe\">\n",
              "  <thead>\n",
              "    <tr style=\"text-align: right;\">\n",
              "      <th></th>\n",
              "      <th>variance</th>\n",
              "      <th>skewness</th>\n",
              "      <th>curtosis</th>\n",
              "      <th>entropy</th>\n",
              "    </tr>\n",
              "  </thead>\n",
              "  <tbody>\n",
              "    <tr>\n",
              "      <th>variance</th>\n",
              "      <td>1.000000</td>\n",
              "      <td>0.264026</td>\n",
              "      <td>-0.380850</td>\n",
              "      <td>0.276817</td>\n",
              "    </tr>\n",
              "    <tr>\n",
              "      <th>skewness</th>\n",
              "      <td>0.264026</td>\n",
              "      <td>1.000000</td>\n",
              "      <td>-0.786895</td>\n",
              "      <td>-0.526321</td>\n",
              "    </tr>\n",
              "    <tr>\n",
              "      <th>curtosis</th>\n",
              "      <td>-0.380850</td>\n",
              "      <td>-0.786895</td>\n",
              "      <td>1.000000</td>\n",
              "      <td>0.318841</td>\n",
              "    </tr>\n",
              "    <tr>\n",
              "      <th>entropy</th>\n",
              "      <td>0.276817</td>\n",
              "      <td>-0.526321</td>\n",
              "      <td>0.318841</td>\n",
              "      <td>1.000000</td>\n",
              "    </tr>\n",
              "  </tbody>\n",
              "</table>\n",
              "</div>\n",
              "      <button class=\"colab-df-convert\" onclick=\"convertToInteractive('df-06a9318b-f83a-4c6e-b703-d28ab9a944d7')\"\n",
              "              title=\"Convert this dataframe to an interactive table.\"\n",
              "              style=\"display:none;\">\n",
              "        \n",
              "  <svg xmlns=\"http://www.w3.org/2000/svg\" height=\"24px\"viewBox=\"0 0 24 24\"\n",
              "       width=\"24px\">\n",
              "    <path d=\"M0 0h24v24H0V0z\" fill=\"none\"/>\n",
              "    <path d=\"M18.56 5.44l.94 2.06.94-2.06 2.06-.94-2.06-.94-.94-2.06-.94 2.06-2.06.94zm-11 1L8.5 8.5l.94-2.06 2.06-.94-2.06-.94L8.5 2.5l-.94 2.06-2.06.94zm10 10l.94 2.06.94-2.06 2.06-.94-2.06-.94-.94-2.06-.94 2.06-2.06.94z\"/><path d=\"M17.41 7.96l-1.37-1.37c-.4-.4-.92-.59-1.43-.59-.52 0-1.04.2-1.43.59L10.3 9.45l-7.72 7.72c-.78.78-.78 2.05 0 2.83L4 21.41c.39.39.9.59 1.41.59.51 0 1.02-.2 1.41-.59l7.78-7.78 2.81-2.81c.8-.78.8-2.07 0-2.86zM5.41 20L4 18.59l7.72-7.72 1.47 1.35L5.41 20z\"/>\n",
              "  </svg>\n",
              "      </button>\n",
              "      \n",
              "  <style>\n",
              "    .colab-df-container {\n",
              "      display:flex;\n",
              "      flex-wrap:wrap;\n",
              "      gap: 12px;\n",
              "    }\n",
              "\n",
              "    .colab-df-convert {\n",
              "      background-color: #E8F0FE;\n",
              "      border: none;\n",
              "      border-radius: 50%;\n",
              "      cursor: pointer;\n",
              "      display: none;\n",
              "      fill: #1967D2;\n",
              "      height: 32px;\n",
              "      padding: 0 0 0 0;\n",
              "      width: 32px;\n",
              "    }\n",
              "\n",
              "    .colab-df-convert:hover {\n",
              "      background-color: #E2EBFA;\n",
              "      box-shadow: 0px 1px 2px rgba(60, 64, 67, 0.3), 0px 1px 3px 1px rgba(60, 64, 67, 0.15);\n",
              "      fill: #174EA6;\n",
              "    }\n",
              "\n",
              "    [theme=dark] .colab-df-convert {\n",
              "      background-color: #3B4455;\n",
              "      fill: #D2E3FC;\n",
              "    }\n",
              "\n",
              "    [theme=dark] .colab-df-convert:hover {\n",
              "      background-color: #434B5C;\n",
              "      box-shadow: 0px 1px 3px 1px rgba(0, 0, 0, 0.15);\n",
              "      filter: drop-shadow(0px 1px 2px rgba(0, 0, 0, 0.3));\n",
              "      fill: #FFFFFF;\n",
              "    }\n",
              "  </style>\n",
              "\n",
              "      <script>\n",
              "        const buttonEl =\n",
              "          document.querySelector('#df-06a9318b-f83a-4c6e-b703-d28ab9a944d7 button.colab-df-convert');\n",
              "        buttonEl.style.display =\n",
              "          google.colab.kernel.accessAllowed ? 'block' : 'none';\n",
              "\n",
              "        async function convertToInteractive(key) {\n",
              "          const element = document.querySelector('#df-06a9318b-f83a-4c6e-b703-d28ab9a944d7');\n",
              "          const dataTable =\n",
              "            await google.colab.kernel.invokeFunction('convertToInteractive',\n",
              "                                                     [key], {});\n",
              "          if (!dataTable) return;\n",
              "\n",
              "          const docLinkHtml = 'Like what you see? Visit the ' +\n",
              "            '<a target=\"_blank\" href=https://colab.research.google.com/notebooks/data_table.ipynb>data table notebook</a>'\n",
              "            + ' to learn more about interactive tables.';\n",
              "          element.innerHTML = '';\n",
              "          dataTable['output_type'] = 'display_data';\n",
              "          await google.colab.output.renderOutput(dataTable, element);\n",
              "          const docLink = document.createElement('div');\n",
              "          docLink.innerHTML = docLinkHtml;\n",
              "          element.appendChild(docLink);\n",
              "        }\n",
              "      </script>\n",
              "    </div>\n",
              "  </div>\n",
              "  "
            ]
          },
          "metadata": {},
          "execution_count": 12
        }
      ]
    },
    {
      "cell_type": "code",
      "source": [
        "import seaborn as sea\n",
        "import matplotlib.pyplot as plt\n",
        "plt.figure(figsize=(9,7))\n",
        "sea.heatmap(coma, cbar=True, fmt=\".2f\", annot= True, cmap= \"BuPu\")"
      ],
      "metadata": {
        "colab": {
          "base_uri": "https://localhost:8080/",
          "height": 449
        },
        "id": "Vw6u07VzVmL_",
        "outputId": "7be2cbf6-cef3-43b9-ae39-c83be745404e"
      },
      "execution_count": null,
      "outputs": [
        {
          "output_type": "execute_result",
          "data": {
            "text/plain": [
              "<matplotlib.axes._subplots.AxesSubplot at 0x7f9f46cb1670>"
            ]
          },
          "metadata": {},
          "execution_count": 13
        },
        {
          "output_type": "display_data",
          "data": {
            "text/plain": [
              "<Figure size 648x504 with 2 Axes>"
            ],
            "image/png": "[encoded data removed]"
          },
          "metadata": {
            "needs_background": "light"
          }
        }
      ]
    },
    {
      "cell_type": "markdown",
      "source": [
        "PCA"
      ],
      "metadata": {
        "id": "YMvDlxgHVse3"
      }
    },
    {
      "cell_type": "code",
      "source": [
        "from sklearn.preprocessing import StandardScaler\n",
        "#Standardlizing features\n",
        "datascaled = StandardScaler().fit_transform(banknote_data)\n",
        "datascaled"
      ],
      "metadata": {
        "colab": {
          "base_uri": "https://localhost:8080/"
        },
        "id": "buDwcjLfXOjN",
        "outputId": "b06bea6d-233d-4d38-9f8f-322d23427402"
      },
      "execution_count": null,
      "outputs": [
        {
          "output_type": "execute_result",
          "data": {
            "text/plain": [
              "array([[ 1.12180565,  1.14945512, -0.97597007,  0.35456135],\n",
              "       [ 1.44706568,  1.06445293, -0.89503626, -0.12876744],\n",
              "       [ 1.20780971, -0.77735215,  0.12221838,  0.61807317],\n",
              "       ...,\n",
              "       [-1.47235682, -2.62164576,  3.75901744, -0.75488418],\n",
              "       [-1.40669251, -1.75647104,  2.552043  , -0.04315848],\n",
              "       [-1.04712236, -0.43982168,  0.29861555,  1.1364645 ]])"
            ]
          },
          "metadata": {},
          "execution_count": 14
        }
      ]
    },
    {
      "cell_type": "code",
      "source": [
        "from sklearn.decomposition import PCA\n",
        "#PCA 2D projection\n",
        "pca = PCA(n_components=2)\n",
        "principalComponents = pca.fit_transform(datascaled)\n",
        "\n",
        "principalDf = pd.DataFrame(data = principalComponents\n",
        "             , columns = ['principal component 1', 'principal component 2'])\n"
      ],
      "metadata": {
        "id": "OXhzGF0geoqs"
      },
      "execution_count": null,
      "outputs": []
    },
    {
      "cell_type": "code",
      "source": [
        "principalComponents"
      ],
      "metadata": {
        "colab": {
          "base_uri": "https://localhost:8080/"
        },
        "id": "H7yQ4T_8RWUF",
        "outputId": "c96cc448-efa0-4833-d793-f6d9a2d4f993"
      },
      "execution_count": null,
      "outputs": [
        {
          "output_type": "execute_result",
          "data": {
            "text/plain": [
              "array([[-1.47280494, -1.16391668],\n",
              "       [-1.63944068, -1.09381204],\n",
              "       [ 0.51391884, -1.32487953],\n",
              "       ...,\n",
              "       [ 4.04932734,  2.03602288],\n",
              "       [ 3.01961738,  1.39214023],\n",
              "       [ 1.17058249,  0.09103094]])"
            ]
          },
          "metadata": {},
          "execution_count": 16
        }
      ]
    },
    {
      "cell_type": "code",
      "source": [
        "principalDf"
      ],
      "metadata": {
        "colab": {
          "base_uri": "https://localhost:8080/",
          "height": 423
        },
        "id": "t7EIQWNJRaSV",
        "outputId": "23de03b2-6a3d-4288-d984-357a7866c5c6"
      },
      "execution_count": null,
      "outputs": [
        {
          "output_type": "execute_result",
          "data": {
            "text/plain": [
              "      principal component 1  principal component 2\n",
              "0                 -1.472805              -1.163917\n",
              "1                 -1.639441              -1.093812\n",
              "2                  0.513919              -1.324880\n",
              "3                 -2.310952              -0.202514\n",
              "4                  1.193416               0.024654\n",
              "...                     ...                    ...\n",
              "1367              -0.221995              -0.290458\n",
              "1368               1.909395               0.142149\n",
              "1369               4.049327               2.036023\n",
              "1370               3.019617               1.392140\n",
              "1371               1.170582               0.091031\n",
              "\n",
              "[1372 rows x 2 columns]"
            ],
            "text/html": [
              "\n",
              "  <div id=\"df-5529cbd5-13e2-4c69-8e54-565544cfac8c\">\n",
              "    <div class=\"colab-df-container\">\n",
              "      <div>\n",
              "<style scoped>\n",
              "    .dataframe tbody tr th:only-of-type {\n",
              "        vertical-align: middle;\n",
              "    }\n",
              "\n",
              "    .dataframe tbody tr th {\n",
              "        vertical-align: top;\n",
              "    }\n",
              "\n",
              "    .dataframe thead th {\n",
              "        text-align: right;\n",
              "    }\n",
              "</style>\n",
              "<table border=\"1\" class=\"dataframe\">\n",
              "  <thead>\n",
              "    <tr style=\"text-align: right;\">\n",
              "      <th></th>\n",
              "      <th>principal component 1</th>\n",
              "      <th>principal component 2</th>\n",
              "    </tr>\n",
              "  </thead>\n",
              "  <tbody>\n",
              "    <tr>\n",
              "      <th>0</th>\n",
              "      <td>-1.472805</td>\n",
              "      <td>-1.163917</td>\n",
              "    </tr>\n",
              "    <tr>\n",
              "      <th>1</th>\n",
              "      <td>-1.639441</td>\n",
              "      <td>-1.093812</td>\n",
              "    </tr>\n",
              "    <tr>\n",
              "      <th>2</th>\n",
              "      <td>0.513919</td>\n",
              "      <td>-1.324880</td>\n",
              "    </tr>\n",
              "    <tr>\n",
              "      <th>3</th>\n",
              "      <td>-2.310952</td>\n",
              "      <td>-0.202514</td>\n",
              "    </tr>\n",
              "    <tr>\n",
              "      <th>4</th>\n",
              "      <td>1.193416</td>\n",
              "      <td>0.024654</td>\n",
              "    </tr>\n",
              "    <tr>\n",
              "      <th>...</th>\n",
              "      <td>...</td>\n",
              "      <td>...</td>\n",
              "    </tr>\n",
              "    <tr>\n",
              "      <th>1367</th>\n",
              "      <td>-0.221995</td>\n",
              "      <td>-0.290458</td>\n",
              "    </tr>\n",
              "    <tr>\n",
              "      <th>1368</th>\n",
              "      <td>1.909395</td>\n",
              "      <td>0.142149</td>\n",
              "    </tr>\n",
              "    <tr>\n",
              "      <th>1369</th>\n",
              "      <td>4.049327</td>\n",
              "      <td>2.036023</td>\n",
              "    </tr>\n",
              "    <tr>\n",
              "      <th>1370</th>\n",
              "      <td>3.019617</td>\n",
              "      <td>1.392140</td>\n",
              "    </tr>\n",
              "    <tr>\n",
              "      <th>1371</th>\n",
              "      <td>1.170582</td>\n",
              "      <td>0.091031</td>\n",
              "    </tr>\n",
              "  </tbody>\n",
              "</table>\n",
              "<p>1372 rows × 2 columns</p>\n",
              "</div>\n",
              "      <button class=\"colab-df-convert\" onclick=\"convertToInteractive('df-5529cbd5-13e2-4c69-8e54-565544cfac8c')\"\n",
              "              title=\"Convert this dataframe to an interactive table.\"\n",
              "              style=\"display:none;\">\n",
              "        \n",
              "  <svg xmlns=\"http://www.w3.org/2000/svg\" height=\"24px\"viewBox=\"0 0 24 24\"\n",
              "       width=\"24px\">\n",
              "    <path d=\"M0 0h24v24H0V0z\" fill=\"none\"/>\n",
              "    <path d=\"M18.56 5.44l.94 2.06.94-2.06 2.06-.94-2.06-.94-.94-2.06-.94 2.06-2.06.94zm-11 1L8.5 8.5l.94-2.06 2.06-.94-2.06-.94L8.5 2.5l-.94 2.06-2.06.94zm10 10l.94 2.06.94-2.06 2.06-.94-2.06-.94-.94-2.06-.94 2.06-2.06.94z\"/><path d=\"M17.41 7.96l-1.37-1.37c-.4-.4-.92-.59-1.43-.59-.52 0-1.04.2-1.43.59L10.3 9.45l-7.72 7.72c-.78.78-.78 2.05 0 2.83L4 21.41c.39.39.9.59 1.41.59.51 0 1.02-.2 1.41-.59l7.78-7.78 2.81-2.81c.8-.78.8-2.07 0-2.86zM5.41 20L4 18.59l7.72-7.72 1.47 1.35L5.41 20z\"/>\n",
              "  </svg>\n",
              "      </button>\n",
              "      \n",
              "  <style>\n",
              "    .colab-df-container {\n",
              "      display:flex;\n",
              "      flex-wrap:wrap;\n",
              "      gap: 12px;\n",
              "    }\n",
              "\n",
              "    .colab-df-convert {\n",
              "      background-color: #E8F0FE;\n",
              "      border: none;\n",
              "      border-radius: 50%;\n",
              "      cursor: pointer;\n",
              "      display: none;\n",
              "      fill: #1967D2;\n",
              "      height: 32px;\n",
              "      padding: 0 0 0 0;\n",
              "      width: 32px;\n",
              "    }\n",
              "\n",
              "    .colab-df-convert:hover {\n",
              "      background-color: #E2EBFA;\n",
              "      box-shadow: 0px 1px 2px rgba(60, 64, 67, 0.3), 0px 1px 3px 1px rgba(60, 64, 67, 0.15);\n",
              "      fill: #174EA6;\n",
              "    }\n",
              "\n",
              "    [theme=dark] .colab-df-convert {\n",
              "      background-color: #3B4455;\n",
              "      fill: #D2E3FC;\n",
              "    }\n",
              "\n",
              "    [theme=dark] .colab-df-convert:hover {\n",
              "      background-color: #434B5C;\n",
              "      box-shadow: 0px 1px 3px 1px rgba(0, 0, 0, 0.15);\n",
              "      filter: drop-shadow(0px 1px 2px rgba(0, 0, 0, 0.3));\n",
              "      fill: #FFFFFF;\n",
              "    }\n",
              "  </style>\n",
              "\n",
              "      <script>\n",
              "        const buttonEl =\n",
              "          document.querySelector('#df-5529cbd5-13e2-4c69-8e54-565544cfac8c button.colab-df-convert');\n",
              "        buttonEl.style.display =\n",
              "          google.colab.kernel.accessAllowed ? 'block' : 'none';\n",
              "\n",
              "        async function convertToInteractive(key) {\n",
              "          const element = document.querySelector('#df-5529cbd5-13e2-4c69-8e54-565544cfac8c');\n",
              "          const dataTable =\n",
              "            await google.colab.kernel.invokeFunction('convertToInteractive',\n",
              "                                                     [key], {});\n",
              "          if (!dataTable) return;\n",
              "\n",
              "          const docLinkHtml = 'Like what you see? Visit the ' +\n",
              "            '<a target=\"_blank\" href=https://colab.research.google.com/notebooks/data_table.ipynb>data table notebook</a>'\n",
              "            + ' to learn more about interactive tables.';\n",
              "          element.innerHTML = '';\n",
              "          dataTable['output_type'] = 'display_data';\n",
              "          await google.colab.output.renderOutput(dataTable, element);\n",
              "          const docLink = document.createElement('div');\n",
              "          docLink.innerHTML = docLinkHtml;\n",
              "          element.appendChild(docLink);\n",
              "        }\n",
              "      </script>\n",
              "    </div>\n",
              "  </div>\n",
              "  "
            ]
          },
          "metadata": {},
          "execution_count": 17
        }
      ]
    },
    {
      "cell_type": "code",
      "source": [
        "finalDf = pd.concat([principalDf, df[['class']]], axis = 1)\n",
        "finalDf"
      ],
      "metadata": {
        "colab": {
          "base_uri": "https://localhost:8080/",
          "height": 423
        },
        "id": "_3SgoNqdNMlo",
        "outputId": "f943a9ed-feaa-4295-90c6-c4afe4e70d9c"
      },
      "execution_count": null,
      "outputs": [
        {
          "output_type": "execute_result",
          "data": {
            "text/plain": [
              "      principal component 1  principal component 2  class\n",
              "0                 -1.472805              -1.163917      0\n",
              "1                 -1.639441              -1.093812      0\n",
              "2                  0.513919              -1.324880      0\n",
              "3                 -2.310952              -0.202514      0\n",
              "4                  1.193416               0.024654      0\n",
              "...                     ...                    ...    ...\n",
              "1367              -0.221995              -0.290458      1\n",
              "1368               1.909395               0.142149      1\n",
              "1369               4.049327               2.036023      1\n",
              "1370               3.019617               1.392140      1\n",
              "1371               1.170582               0.091031      1\n",
              "\n",
              "[1372 rows x 3 columns]"
            ],
            "text/html": [
              "\n",
              "  <div id=\"df-cde4f77a-4c65-45cd-b9be-2cbeb567a249\">\n",
              "    <div class=\"colab-df-container\">\n",
              "      <div>\n",
              "<style scoped>\n",
              "    .dataframe tbody tr th:only-of-type {\n",
              "        vertical-align: middle;\n",
              "    }\n",
              "\n",
              "    .dataframe tbody tr th {\n",
              "        vertical-align: top;\n",
              "    }\n",
              "\n",
              "    .dataframe thead th {\n",
              "        text-align: right;\n",
              "    }\n",
              "</style>\n",
              "<table border=\"1\" class=\"dataframe\">\n",
              "  <thead>\n",
              "    <tr style=\"text-align: right;\">\n",
              "      <th></th>\n",
              "      <th>principal component 1</th>\n",
              "      <th>principal component 2</th>\n",
              "      <th>class</th>\n",
              "    </tr>\n",
              "  </thead>\n",
              "  <tbody>\n",
              "    <tr>\n",
              "      <th>0</th>\n",
              "      <td>-1.472805</td>\n",
              "      <td>-1.163917</td>\n",
              "      <td>0</td>\n",
              "    </tr>\n",
              "    <tr>\n",
              "      <th>1</th>\n",
              "      <td>-1.639441</td>\n",
              "      <td>-1.093812</td>\n",
              "      <td>0</td>\n",
              "    </tr>\n",
              "    <tr>\n",
              "      <th>2</th>\n",
              "      <td>0.513919</td>\n",
              "      <td>-1.324880</td>\n",
              "      <td>0</td>\n",
              "    </tr>\n",
              "    <tr>\n",
              "      <th>3</th>\n",
              "      <td>-2.310952</td>\n",
              "      <td>-0.202514</td>\n",
              "      <td>0</td>\n",
              "    </tr>\n",
              "    <tr>\n",
              "      <th>4</th>\n",
              "      <td>1.193416</td>\n",
              "      <td>0.024654</td>\n",
              "      <td>0</td>\n",
              "    </tr>\n",
              "    <tr>\n",
              "      <th>...</th>\n",
              "      <td>...</td>\n",
              "      <td>...</td>\n",
              "      <td>...</td>\n",
              "    </tr>\n",
              "    <tr>\n",
              "      <th>1367</th>\n",
              "      <td>-0.221995</td>\n",
              "      <td>-0.290458</td>\n",
              "      <td>1</td>\n",
              "    </tr>\n",
              "    <tr>\n",
              "      <th>1368</th>\n",
              "      <td>1.909395</td>\n",
              "      <td>0.142149</td>\n",
              "      <td>1</td>\n",
              "    </tr>\n",
              "    <tr>\n",
              "      <th>1369</th>\n",
              "      <td>4.049327</td>\n",
              "      <td>2.036023</td>\n",
              "      <td>1</td>\n",
              "    </tr>\n",
              "    <tr>\n",
              "      <th>1370</th>\n",
              "      <td>3.019617</td>\n",
              "      <td>1.392140</td>\n",
              "      <td>1</td>\n",
              "    </tr>\n",
              "    <tr>\n",
              "      <th>1371</th>\n",
              "      <td>1.170582</td>\n",
              "      <td>0.091031</td>\n",
              "      <td>1</td>\n",
              "    </tr>\n",
              "  </tbody>\n",
              "</table>\n",
              "<p>1372 rows × 3 columns</p>\n",
              "</div>\n",
              "      <button class=\"colab-df-convert\" onclick=\"convertToInteractive('df-cde4f77a-4c65-45cd-b9be-2cbeb567a249')\"\n",
              "              title=\"Convert this dataframe to an interactive table.\"\n",
              "              style=\"display:none;\">\n",
              "        \n",
              "  <svg xmlns=\"http://www.w3.org/2000/svg\" height=\"24px\"viewBox=\"0 0 24 24\"\n",
              "       width=\"24px\">\n",
              "    <path d=\"M0 0h24v24H0V0z\" fill=\"none\"/>\n",
              "    <path d=\"M18.56 5.44l.94 2.06.94-2.06 2.06-.94-2.06-.94-.94-2.06-.94 2.06-2.06.94zm-11 1L8.5 8.5l.94-2.06 2.06-.94-2.06-.94L8.5 2.5l-.94 2.06-2.06.94zm10 10l.94 2.06.94-2.06 2.06-.94-2.06-.94-.94-2.06-.94 2.06-2.06.94z\"/><path d=\"M17.41 7.96l-1.37-1.37c-.4-.4-.92-.59-1.43-.59-.52 0-1.04.2-1.43.59L10.3 9.45l-7.72 7.72c-.78.78-.78 2.05 0 2.83L4 21.41c.39.39.9.59 1.41.59.51 0 1.02-.2 1.41-.59l7.78-7.78 2.81-2.81c.8-.78.8-2.07 0-2.86zM5.41 20L4 18.59l7.72-7.72 1.47 1.35L5.41 20z\"/>\n",
              "  </svg>\n",
              "      </button>\n",
              "      \n",
              "  <style>\n",
              "    .colab-df-container {\n",
              "      display:flex;\n",
              "      flex-wrap:wrap;\n",
              "      gap: 12px;\n",
              "    }\n",
              "\n",
              "    .colab-df-convert {\n",
              "      background-color: #E8F0FE;\n",
              "      border: none;\n",
              "      border-radius: 50%;\n",
              "      cursor: pointer;\n",
              "      display: none;\n",
              "      fill: #1967D2;\n",
              "      height: 32px;\n",
              "      padding: 0 0 0 0;\n",
              "      width: 32px;\n",
              "    }\n",
              "\n",
              "    .colab-df-convert:hover {\n",
              "      background-color: #E2EBFA;\n",
              "      box-shadow: 0px 1px 2px rgba(60, 64, 67, 0.3), 0px 1px 3px 1px rgba(60, 64, 67, 0.15);\n",
              "      fill: #174EA6;\n",
              "    }\n",
              "\n",
              "    [theme=dark] .colab-df-convert {\n",
              "      background-color: #3B4455;\n",
              "      fill: #D2E3FC;\n",
              "    }\n",
              "\n",
              "    [theme=dark] .colab-df-convert:hover {\n",
              "      background-color: #434B5C;\n",
              "      box-shadow: 0px 1px 3px 1px rgba(0, 0, 0, 0.15);\n",
              "      filter: drop-shadow(0px 1px 2px rgba(0, 0, 0, 0.3));\n",
              "      fill: #FFFFFF;\n",
              "    }\n",
              "  </style>\n",
              "\n",
              "      <script>\n",
              "        const buttonEl =\n",
              "          document.querySelector('#df-cde4f77a-4c65-45cd-b9be-2cbeb567a249 button.colab-df-convert');\n",
              "        buttonEl.style.display =\n",
              "          google.colab.kernel.accessAllowed ? 'block' : 'none';\n",
              "\n",
              "        async function convertToInteractive(key) {\n",
              "          const element = document.querySelector('#df-cde4f77a-4c65-45cd-b9be-2cbeb567a249');\n",
              "          const dataTable =\n",
              "            await google.colab.kernel.invokeFunction('convertToInteractive',\n",
              "                                                     [key], {});\n",
              "          if (!dataTable) return;\n",
              "\n",
              "          const docLinkHtml = 'Like what you see? Visit the ' +\n",
              "            '<a target=\"_blank\" href=https://colab.research.google.com/notebooks/data_table.ipynb>data table notebook</a>'\n",
              "            + ' to learn more about interactive tables.';\n",
              "          element.innerHTML = '';\n",
              "          dataTable['output_type'] = 'display_data';\n",
              "          await google.colab.output.renderOutput(dataTable, element);\n",
              "          const docLink = document.createElement('div');\n",
              "          docLink.innerHTML = docLinkHtml;\n",
              "          element.appendChild(docLink);\n",
              "        }\n",
              "      </script>\n",
              "    </div>\n",
              "  </div>\n",
              "  "
            ]
          },
          "metadata": {},
          "execution_count": 18
        }
      ]
    },
    {
      "cell_type": "code",
      "source": [
        "pca.explained_variance_"
      ],
      "metadata": {
        "colab": {
          "base_uri": "https://localhost:8080/"
        },
        "id": "30Umwctwnsfg",
        "outputId": "4bed2015-8092-4bcc-d907-90ef5c8442f6"
      },
      "execution_count": null,
      "outputs": [
        {
          "output_type": "execute_result",
          "data": {
            "text/plain": [
              "array([2.18149408, 1.29409812])"
            ]
          },
          "metadata": {},
          "execution_count": 32
        }
      ]
    },
    {
      "cell_type": "code",
      "source": [
        "pca.explained_variance_ratio_"
      ],
      "metadata": {
        "colab": {
          "base_uri": "https://localhost:8080/"
        },
        "id": "l23nxxiHJoIS",
        "outputId": "d6e1a558-f141-4548-db5d-35d8f29f56ef"
      },
      "execution_count": null,
      "outputs": [
        {
          "output_type": "execute_result",
          "data": {
            "text/plain": [
              "array([0.54497602, 0.32328872])"
            ]
          },
          "metadata": {},
          "execution_count": 19
        }
      ]
    },
    {
      "cell_type": "code",
      "source": [
        "pca.explained_variance_ratio_.sum()"
      ],
      "metadata": {
        "colab": {
          "base_uri": "https://localhost:8080/"
        },
        "id": "nTPo81aAJvz0",
        "outputId": "6f5db2c0-c966-4307-cd91-c3285dc68b15"
      },
      "execution_count": null,
      "outputs": [
        {
          "output_type": "execute_result",
          "data": {
            "text/plain": [
              "0.868264743372138"
            ]
          },
          "metadata": {},
          "execution_count": 20
        }
      ]
    },
    {
      "cell_type": "code",
      "source": [
        "import matplotlib.pyplot as plt"
      ],
      "metadata": {
        "id": "muFkvh91P_7n"
      },
      "execution_count": null,
      "outputs": []
    },
    {
      "cell_type": "code",
      "source": [
        "fig = plt.figure(figsize = (8,8))\n",
        "ax = fig.add_subplot(1,1,1)\n",
        "ax.set_xlabel('Principal Component 1', fontsize = 15)\n",
        "ax.set_ylabel('Principal Component 2', fontsize = 15)\n",
        "ax.set_title('2 component PCA', fontsize = 20)\n",
        "\n",
        "targets = [0,1]\n",
        "colors = ['r', 'g', 'b']\n",
        "for target, color in zip(targets,colors):\n",
        "    indicesToKeep = finalDf['class'] == target\n",
        "    ax.scatter(finalDf.loc[indicesToKeep, 'principal component 1']\n",
        "               , finalDf.loc[indicesToKeep, 'principal component 2']\n",
        "               , c = color\n",
        "               , s = 50)\n",
        "ax.legend(targets)\n",
        "ax.grid()"
      ],
      "metadata": {
        "colab": {
          "base_uri": "https://localhost:8080/",
          "height": 523
        },
        "id": "c7XVK-RwOj5F",
        "outputId": "9ab27537-e2f5-4a4b-d135-171a9a698178"
      },
      "execution_count": null,
      "outputs": [
        {
          "output_type": "display_data",
          "data": {
            "text/plain": [
              "<Figure size 576x576 with 1 Axes>"
            ],
            "image/png": "[encoded data removed]"
          },
          "metadata": {
            "needs_background": "light"
          }
        }
      ]
    },
    {
      "cell_type": "code",
      "source": [
        "plt.figure(figsize=(8,6))\n",
        "plt.scatter(principalComponents[:,0],principalComponents[:,1], c=y)\n",
        "plt.xlable= (\"component 1\")\n",
        "plt.ylable= (\"component 2\")"
      ],
      "metadata": {
        "colab": {
          "base_uri": "https://localhost:8080/",
          "height": 374
        },
        "id": "AbcYyiU9YtTM",
        "outputId": "d92b2883-c4cc-41db-a5e8-ed07bee633c6"
      },
      "execution_count": null,
      "outputs": [
        {
          "output_type": "display_data",
          "data": {
            "text/plain": [
              "<Figure size 576x432 with 1 Axes>"
            ],
            "image/png": "[encoded data removed]"
          },
          "metadata": {
            "needs_background": "light"
          }
        }
      ]
    },
    {
      "cell_type": "code",
      "source": [
        "#PCA 3D projection\n",
        "pca3D = PCA(n_components = 3)\n",
        "principalComponents3 = pca3D.fit_transform(datascaled)\n",
        "principal3Df = pd.DataFrame(data = principalComponents3\n",
        "             , columns = ['principal component 1', 'principal component 2', 'principal component 3'])"
      ],
      "metadata": {
        "id": "HClB4kO4cpBi"
      },
      "execution_count": null,
      "outputs": []
    },
    {
      "cell_type": "code",
      "source": [
        "principalComponents3"
      ],
      "metadata": {
        "colab": {
          "base_uri": "https://localhost:8080/"
        },
        "id": "JqYEIX1qej8y",
        "outputId": "d9f4a47f-549f-41d3-bd85-80bbfa61adfd"
      },
      "execution_count": null,
      "outputs": [
        {
          "output_type": "execute_result",
          "data": {
            "text/plain": [
              "array([[-1.47280494, -1.16391668, -0.16725349],\n",
              "       [-1.63944068, -1.09381204,  0.37118695],\n",
              "       [ 0.51391884, -1.32487953,  0.50911186],\n",
              "       ...,\n",
              "       [ 4.04932734,  2.03602288,  1.78592393],\n",
              "       [ 3.01961738,  1.39214023,  0.68147895],\n",
              "       [ 1.17058249,  0.09103094, -1.11306082]])"
            ]
          },
          "metadata": {},
          "execution_count": 25
        }
      ]
    },
    {
      "cell_type": "code",
      "source": [
        "principal3Df"
      ],
      "metadata": {
        "colab": {
          "base_uri": "https://localhost:8080/",
          "height": 423
        },
        "id": "NiYLDnt4ej_K",
        "outputId": "b0f3f121-227d-4438-de65-1d9f939b39a0"
      },
      "execution_count": null,
      "outputs": [
        {
          "output_type": "execute_result",
          "data": {
            "text/plain": [
              "      principal component 1  principal component 2  principal component 3\n",
              "0                 -1.472805              -1.163917              -0.167253\n",
              "1                 -1.639441              -1.093812               0.371187\n",
              "2                  0.513919              -1.324880               0.509112\n",
              "3                 -2.310952              -0.202514               0.540781\n",
              "4                  1.193416               0.024654               0.421189\n",
              "...                     ...                    ...                    ...\n",
              "1367              -0.221995              -0.290458              -0.512657\n",
              "1368               1.909395               0.142149              -0.091369\n",
              "1369               4.049327               2.036023               1.785924\n",
              "1370               3.019617               1.392140               0.681479\n",
              "1371               1.170582               0.091031              -1.113061\n",
              "\n",
              "[1372 rows x 3 columns]"
            ],
            "text/html": [
              "\n",
              "  <div id=\"df-1511dc6f-72cc-4458-b707-42eaa6f1655c\">\n",
              "    <div class=\"colab-df-container\">\n",
              "      <div>\n",
              "<style scoped>\n",
              "    .dataframe tbody tr th:only-of-type {\n",
              "        vertical-align: middle;\n",
              "    }\n",
              "\n",
              "    .dataframe tbody tr th {\n",
              "        vertical-align: top;\n",
              "    }\n",
              "\n",
              "    .dataframe thead th {\n",
              "        text-align: right;\n",
              "    }\n",
              "</style>\n",
              "<table border=\"1\" class=\"dataframe\">\n",
              "  <thead>\n",
              "    <tr style=\"text-align: right;\">\n",
              "      <th></th>\n",
              "      <th>principal component 1</th>\n",
              "      <th>principal component 2</th>\n",
              "      <th>principal component 3</th>\n",
              "    </tr>\n",
              "  </thead>\n",
              "  <tbody>\n",
              "    <tr>\n",
              "      <th>0</th>\n",
              "      <td>-1.472805</td>\n",
              "      <td>-1.163917</td>\n",
              "      <td>-0.167253</td>\n",
              "    </tr>\n",
              "    <tr>\n",
              "      <th>1</th>\n",
              "      <td>-1.639441</td>\n",
              "      <td>-1.093812</td>\n",
              "      <td>0.371187</td>\n",
              "    </tr>\n",
              "    <tr>\n",
              "      <th>2</th>\n",
              "      <td>0.513919</td>\n",
              "      <td>-1.324880</td>\n",
              "      <td>0.509112</td>\n",
              "    </tr>\n",
              "    <tr>\n",
              "      <th>3</th>\n",
              "      <td>-2.310952</td>\n",
              "      <td>-0.202514</td>\n",
              "      <td>0.540781</td>\n",
              "    </tr>\n",
              "    <tr>\n",
              "      <th>4</th>\n",
              "      <td>1.193416</td>\n",
              "      <td>0.024654</td>\n",
              "      <td>0.421189</td>\n",
              "    </tr>\n",
              "    <tr>\n",
              "      <th>...</th>\n",
              "      <td>...</td>\n",
              "      <td>...</td>\n",
              "      <td>...</td>\n",
              "    </tr>\n",
              "    <tr>\n",
              "      <th>1367</th>\n",
              "      <td>-0.221995</td>\n",
              "      <td>-0.290458</td>\n",
              "      <td>-0.512657</td>\n",
              "    </tr>\n",
              "    <tr>\n",
              "      <th>1368</th>\n",
              "      <td>1.909395</td>\n",
              "      <td>0.142149</td>\n",
              "      <td>-0.091369</td>\n",
              "    </tr>\n",
              "    <tr>\n",
              "      <th>1369</th>\n",
              "      <td>4.049327</td>\n",
              "      <td>2.036023</td>\n",
              "      <td>1.785924</td>\n",
              "    </tr>\n",
              "    <tr>\n",
              "      <th>1370</th>\n",
              "      <td>3.019617</td>\n",
              "      <td>1.392140</td>\n",
              "      <td>0.681479</td>\n",
              "    </tr>\n",
              "    <tr>\n",
              "      <th>1371</th>\n",
              "      <td>1.170582</td>\n",
              "      <td>0.091031</td>\n",
              "      <td>-1.113061</td>\n",
              "    </tr>\n",
              "  </tbody>\n",
              "</table>\n",
              "<p>1372 rows × 3 columns</p>\n",
              "</div>\n",
              "      <button class=\"colab-df-convert\" onclick=\"convertToInteractive('df-1511dc6f-72cc-4458-b707-42eaa6f1655c')\"\n",
              "              title=\"Convert this dataframe to an interactive table.\"\n",
              "              style=\"display:none;\">\n",
              "        \n",
              "  <svg xmlns=\"http://www.w3.org/2000/svg\" height=\"24px\"viewBox=\"0 0 24 24\"\n",
              "       width=\"24px\">\n",
              "    <path d=\"M0 0h24v24H0V0z\" fill=\"none\"/>\n",
              "    <path d=\"M18.56 5.44l.94 2.06.94-2.06 2.06-.94-2.06-.94-.94-2.06-.94 2.06-2.06.94zm-11 1L8.5 8.5l.94-2.06 2.06-.94-2.06-.94L8.5 2.5l-.94 2.06-2.06.94zm10 10l.94 2.06.94-2.06 2.06-.94-2.06-.94-.94-2.06-.94 2.06-2.06.94z\"/><path d=\"M17.41 7.96l-1.37-1.37c-.4-.4-.92-.59-1.43-.59-.52 0-1.04.2-1.43.59L10.3 9.45l-7.72 7.72c-.78.78-.78 2.05 0 2.83L4 21.41c.39.39.9.59 1.41.59.51 0 1.02-.2 1.41-.59l7.78-7.78 2.81-2.81c.8-.78.8-2.07 0-2.86zM5.41 20L4 18.59l7.72-7.72 1.47 1.35L5.41 20z\"/>\n",
              "  </svg>\n",
              "      </button>\n",
              "      \n",
              "  <style>\n",
              "    .colab-df-container {\n",
              "      display:flex;\n",
              "      flex-wrap:wrap;\n",
              "      gap: 12px;\n",
              "    }\n",
              "\n",
              "    .colab-df-convert {\n",
              "      background-color: #E8F0FE;\n",
              "      border: none;\n",
              "      border-radius: 50%;\n",
              "      cursor: pointer;\n",
              "      display: none;\n",
              "      fill: #1967D2;\n",
              "      height: 32px;\n",
              "      padding: 0 0 0 0;\n",
              "      width: 32px;\n",
              "    }\n",
              "\n",
              "    .colab-df-convert:hover {\n",
              "      background-color: #E2EBFA;\n",
              "      box-shadow: 0px 1px 2px rgba(60, 64, 67, 0.3), 0px 1px 3px 1px rgba(60, 64, 67, 0.15);\n",
              "      fill: #174EA6;\n",
              "    }\n",
              "\n",
              "    [theme=dark] .colab-df-convert {\n",
              "      background-color: #3B4455;\n",
              "      fill: #D2E3FC;\n",
              "    }\n",
              "\n",
              "    [theme=dark] .colab-df-convert:hover {\n",
              "      background-color: #434B5C;\n",
              "      box-shadow: 0px 1px 3px 1px rgba(0, 0, 0, 0.15);\n",
              "      filter: drop-shadow(0px 1px 2px rgba(0, 0, 0, 0.3));\n",
              "      fill: #FFFFFF;\n",
              "    }\n",
              "  </style>\n",
              "\n",
              "      <script>\n",
              "        const buttonEl =\n",
              "          document.querySelector('#df-1511dc6f-72cc-4458-b707-42eaa6f1655c button.colab-df-convert');\n",
              "        buttonEl.style.display =\n",
              "          google.colab.kernel.accessAllowed ? 'block' : 'none';\n",
              "\n",
              "        async function convertToInteractive(key) {\n",
              "          const element = document.querySelector('#df-1511dc6f-72cc-4458-b707-42eaa6f1655c');\n",
              "          const dataTable =\n",
              "            await google.colab.kernel.invokeFunction('convertToInteractive',\n",
              "                                                     [key], {});\n",
              "          if (!dataTable) return;\n",
              "\n",
              "          const docLinkHtml = 'Like what you see? Visit the ' +\n",
              "            '<a target=\"_blank\" href=https://colab.research.google.com/notebooks/data_table.ipynb>data table notebook</a>'\n",
              "            + ' to learn more about interactive tables.';\n",
              "          element.innerHTML = '';\n",
              "          dataTable['output_type'] = 'display_data';\n",
              "          await google.colab.output.renderOutput(dataTable, element);\n",
              "          const docLink = document.createElement('div');\n",
              "          docLink.innerHTML = docLinkHtml;\n",
              "          element.appendChild(docLink);\n",
              "        }\n",
              "      </script>\n",
              "    </div>\n",
              "  </div>\n",
              "  "
            ]
          },
          "metadata": {},
          "execution_count": 26
        }
      ]
    },
    {
      "cell_type": "code",
      "source": [
        "final3Df = pd.concat([principal3Df, df[['class']]], axis = 1)\n",
        "final3Df"
      ],
      "metadata": {
        "colab": {
          "base_uri": "https://localhost:8080/",
          "height": 423
        },
        "id": "5ZppgGnXet1L",
        "outputId": "01277789-212f-4953-aa78-dc853ff14acc"
      },
      "execution_count": null,
      "outputs": [
        {
          "output_type": "execute_result",
          "data": {
            "text/plain": [
              "      principal component 1  principal component 2  principal component 3  \\\n",
              "0                 -1.472805              -1.163917              -0.167253   \n",
              "1                 -1.639441              -1.093812               0.371187   \n",
              "2                  0.513919              -1.324880               0.509112   \n",
              "3                 -2.310952              -0.202514               0.540781   \n",
              "4                  1.193416               0.024654               0.421189   \n",
              "...                     ...                    ...                    ...   \n",
              "1367              -0.221995              -0.290458              -0.512657   \n",
              "1368               1.909395               0.142149              -0.091369   \n",
              "1369               4.049327               2.036023               1.785924   \n",
              "1370               3.019617               1.392140               0.681479   \n",
              "1371               1.170582               0.091031              -1.113061   \n",
              "\n",
              "      class  \n",
              "0         0  \n",
              "1         0  \n",
              "2         0  \n",
              "3         0  \n",
              "4         0  \n",
              "...     ...  \n",
              "1367      1  \n",
              "1368      1  \n",
              "1369      1  \n",
              "1370      1  \n",
              "1371      1  \n",
              "\n",
              "[1372 rows x 4 columns]"
            ],
            "text/html": [
              "\n",
              "  <div id=\"df-e04af7d1-ca74-4541-9e10-d965ddecfdd9\">\n",
              "    <div class=\"colab-df-container\">\n",
              "      <div>\n",
              "<style scoped>\n",
              "    .dataframe tbody tr th:only-of-type {\n",
              "        vertical-align: middle;\n",
              "    }\n",
              "\n",
              "    .dataframe tbody tr th {\n",
              "        vertical-align: top;\n",
              "    }\n",
              "\n",
              "    .dataframe thead th {\n",
              "        text-align: right;\n",
              "    }\n",
              "</style>\n",
              "<table border=\"1\" class=\"dataframe\">\n",
              "  <thead>\n",
              "    <tr style=\"text-align: right;\">\n",
              "      <th></th>\n",
              "      <th>principal component 1</th>\n",
              "      <th>principal component 2</th>\n",
              "      <th>principal component 3</th>\n",
              "      <th>class</th>\n",
              "    </tr>\n",
              "  </thead>\n",
              "  <tbody>\n",
              "    <tr>\n",
              "      <th>0</th>\n",
              "      <td>-1.472805</td>\n",
              "      <td>-1.163917</td>\n",
              "      <td>-0.167253</td>\n",
              "      <td>0</td>\n",
              "    </tr>\n",
              "    <tr>\n",
              "      <th>1</th>\n",
              "      <td>-1.639441</td>\n",
              "      <td>-1.093812</td>\n",
              "      <td>0.371187</td>\n",
              "      <td>0</td>\n",
              "    </tr>\n",
              "    <tr>\n",
              "      <th>2</th>\n",
              "      <td>0.513919</td>\n",
              "      <td>-1.324880</td>\n",
              "      <td>0.509112</td>\n",
              "      <td>0</td>\n",
              "    </tr>\n",
              "    <tr>\n",
              "      <th>3</th>\n",
              "      <td>-2.310952</td>\n",
              "      <td>-0.202514</td>\n",
              "      <td>0.540781</td>\n",
              "      <td>0</td>\n",
              "    </tr>\n",
              "    <tr>\n",
              "      <th>4</th>\n",
              "      <td>1.193416</td>\n",
              "      <td>0.024654</td>\n",
              "      <td>0.421189</td>\n",
              "      <td>0</td>\n",
              "    </tr>\n",
              "    <tr>\n",
              "      <th>...</th>\n",
              "      <td>...</td>\n",
              "      <td>...</td>\n",
              "      <td>...</td>\n",
              "      <td>...</td>\n",
              "    </tr>\n",
              "    <tr>\n",
              "      <th>1367</th>\n",
              "      <td>-0.221995</td>\n",
              "      <td>-0.290458</td>\n",
              "      <td>-0.512657</td>\n",
              "      <td>1</td>\n",
              "    </tr>\n",
              "    <tr>\n",
              "      <th>1368</th>\n",
              "      <td>1.909395</td>\n",
              "      <td>0.142149</td>\n",
              "      <td>-0.091369</td>\n",
              "      <td>1</td>\n",
              "    </tr>\n",
              "    <tr>\n",
              "      <th>1369</th>\n",
              "      <td>4.049327</td>\n",
              "      <td>2.036023</td>\n",
              "      <td>1.785924</td>\n",
              "      <td>1</td>\n",
              "    </tr>\n",
              "    <tr>\n",
              "      <th>1370</th>\n",
              "      <td>3.019617</td>\n",
              "      <td>1.392140</td>\n",
              "      <td>0.681479</td>\n",
              "      <td>1</td>\n",
              "    </tr>\n",
              "    <tr>\n",
              "      <th>1371</th>\n",
              "      <td>1.170582</td>\n",
              "      <td>0.091031</td>\n",
              "      <td>-1.113061</td>\n",
              "      <td>1</td>\n",
              "    </tr>\n",
              "  </tbody>\n",
              "</table>\n",
              "<p>1372 rows × 4 columns</p>\n",
              "</div>\n",
              "      <button class=\"colab-df-convert\" onclick=\"convertToInteractive('df-e04af7d1-ca74-4541-9e10-d965ddecfdd9')\"\n",
              "              title=\"Convert this dataframe to an interactive table.\"\n",
              "              style=\"display:none;\">\n",
              "        \n",
              "  <svg xmlns=\"http://www.w3.org/2000/svg\" height=\"24px\"viewBox=\"0 0 24 24\"\n",
              "       width=\"24px\">\n",
              "    <path d=\"M0 0h24v24H0V0z\" fill=\"none\"/>\n",
              "    <path d=\"M18.56 5.44l.94 2.06.94-2.06 2.06-.94-2.06-.94-.94-2.06-.94 2.06-2.06.94zm-11 1L8.5 8.5l.94-2.06 2.06-.94-2.06-.94L8.5 2.5l-.94 2.06-2.06.94zm10 10l.94 2.06.94-2.06 2.06-.94-2.06-.94-.94-2.06-.94 2.06-2.06.94z\"/><path d=\"M17.41 7.96l-1.37-1.37c-.4-.4-.92-.59-1.43-.59-.52 0-1.04.2-1.43.59L10.3 9.45l-7.72 7.72c-.78.78-.78 2.05 0 2.83L4 21.41c.39.39.9.59 1.41.59.51 0 1.02-.2 1.41-.59l7.78-7.78 2.81-2.81c.8-.78.8-2.07 0-2.86zM5.41 20L4 18.59l7.72-7.72 1.47 1.35L5.41 20z\"/>\n",
              "  </svg>\n",
              "      </button>\n",
              "      \n",
              "  <style>\n",
              "    .colab-df-container {\n",
              "      display:flex;\n",
              "      flex-wrap:wrap;\n",
              "      gap: 12px;\n",
              "    }\n",
              "\n",
              "    .colab-df-convert {\n",
              "      background-color: #E8F0FE;\n",
              "      border: none;\n",
              "      border-radius: 50%;\n",
              "      cursor: pointer;\n",
              "      display: none;\n",
              "      fill: #1967D2;\n",
              "      height: 32px;\n",
              "      padding: 0 0 0 0;\n",
              "      width: 32px;\n",
              "    }\n",
              "\n",
              "    .colab-df-convert:hover {\n",
              "      background-color: #E2EBFA;\n",
              "      box-shadow: 0px 1px 2px rgba(60, 64, 67, 0.3), 0px 1px 3px 1px rgba(60, 64, 67, 0.15);\n",
              "      fill: #174EA6;\n",
              "    }\n",
              "\n",
              "    [theme=dark] .colab-df-convert {\n",
              "      background-color: #3B4455;\n",
              "      fill: #D2E3FC;\n",
              "    }\n",
              "\n",
              "    [theme=dark] .colab-df-convert:hover {\n",
              "      background-color: #434B5C;\n",
              "      box-shadow: 0px 1px 3px 1px rgba(0, 0, 0, 0.15);\n",
              "      filter: drop-shadow(0px 1px 2px rgba(0, 0, 0, 0.3));\n",
              "      fill: #FFFFFF;\n",
              "    }\n",
              "  </style>\n",
              "\n",
              "      <script>\n",
              "        const buttonEl =\n",
              "          document.querySelector('#df-e04af7d1-ca74-4541-9e10-d965ddecfdd9 button.colab-df-convert');\n",
              "        buttonEl.style.display =\n",
              "          google.colab.kernel.accessAllowed ? 'block' : 'none';\n",
              "\n",
              "        async function convertToInteractive(key) {\n",
              "          const element = document.querySelector('#df-e04af7d1-ca74-4541-9e10-d965ddecfdd9');\n",
              "          const dataTable =\n",
              "            await google.colab.kernel.invokeFunction('convertToInteractive',\n",
              "                                                     [key], {});\n",
              "          if (!dataTable) return;\n",
              "\n",
              "          const docLinkHtml = 'Like what you see? Visit the ' +\n",
              "            '<a target=\"_blank\" href=https://colab.research.google.com/notebooks/data_table.ipynb>data table notebook</a>'\n",
              "            + ' to learn more about interactive tables.';\n",
              "          element.innerHTML = '';\n",
              "          dataTable['output_type'] = 'display_data';\n",
              "          await google.colab.output.renderOutput(dataTable, element);\n",
              "          const docLink = document.createElement('div');\n",
              "          docLink.innerHTML = docLinkHtml;\n",
              "          element.appendChild(docLink);\n",
              "        }\n",
              "      </script>\n",
              "    </div>\n",
              "  </div>\n",
              "  "
            ]
          },
          "metadata": {},
          "execution_count": 27
        }
      ]
    },
    {
      "cell_type": "code",
      "source": [
        "pca3D.explained_variance_"
      ],
      "metadata": {
        "colab": {
          "base_uri": "https://localhost:8080/"
        },
        "id": "MHjv7KTWnwkb",
        "outputId": "587cfe34-82dd-493a-ab0d-54d077eb813e"
      },
      "execution_count": null,
      "outputs": [
        {
          "output_type": "execute_result",
          "data": {
            "text/plain": [
              "array([2.18149408, 1.29409812, 0.35163873])"
            ]
          },
          "metadata": {},
          "execution_count": 34
        }
      ]
    },
    {
      "cell_type": "code",
      "source": [
        "pca3D.explained_variance_ratio_"
      ],
      "metadata": {
        "colab": {
          "base_uri": "https://localhost:8080/"
        },
        "id": "CcySXcIeibqr",
        "outputId": "4f75b4c1-5c9d-454e-d88c-48b1ba79603a"
      },
      "execution_count": null,
      "outputs": [
        {
          "output_type": "execute_result",
          "data": {
            "text/plain": [
              "array([0.54497602, 0.32328872, 0.08784561])"
            ]
          },
          "metadata": {},
          "execution_count": 29
        }
      ]
    },
    {
      "cell_type": "code",
      "source": [
        "pca3D.explained_variance_ratio_.sum()"
      ],
      "metadata": {
        "colab": {
          "base_uri": "https://localhost:8080/"
        },
        "id": "8nAQRTweie4Q",
        "outputId": "3871b1db-374b-4e72-9311-72399ee65f4a"
      },
      "execution_count": null,
      "outputs": [
        {
          "output_type": "execute_result",
          "data": {
            "text/plain": [
              "0.9561103518752202"
            ]
          },
          "metadata": {},
          "execution_count": 30
        }
      ]
    },
    {
      "cell_type": "code",
      "source": [
        "import plotly.express as pe\n",
        "pe.scatter_3d(final3Df,x=\"principal component 1\",y=\"principal component 2\",z=\"principal component 3\", color = \"class\")"
      ],
      "metadata": {
        "colab": {
          "base_uri": "https://localhost:8080/",
          "height": 542
        },
        "id": "N4BlOToDe0GB",
        "outputId": "dd41c1a4-d786-44dc-cb29-412d13d62028"
      },
      "execution_count": null,
      "outputs": [
        {
          "output_type": "display_data",
          "data": {
            "text/html": [
              "<html>\n",
              "<head><meta charset=\"utf-8\" /></head>\n",
              "<body>\n",
              "    <div>            <script src=\"https://cdnjs.cloudflare.com/ajax/libs/mathjax/2.7.5/MathJax.js?config=TeX-AMS-MML_SVG\"></script><script type=\"text/javascript\">if (window.MathJax) {MathJax.Hub.Config({SVG: {font: \"STIX-Web\"}});}</script>                <script type=\"text/javascript\">window.PlotlyConfig = {MathJaxConfig: 'local'};</script>\n",
              "        <script src=\"https://cdn.plot.ly/plotly-2.8.3.min.js\"></script>                <div id=\"95a80a11-08f4-489c-8682-8b62d39ee6ce\" class=\"plotly-graph-div\" style=\"height:525px; width:100%;\"></div>            <script type=\"text/javascript\">                                    window.PLOTLYENV=window.PLOTLYENV || {};                                    if (document.getElementById(\"95a80a11-08f4-489c-8682-8b62d39ee6ce\")) {                    Plotly.newPlot(                        \"95a80a11-08f4-489c-8682-8b62d39ee6ce\",                        [{\"hovertemplate\":\"principal component 1=%{x}<br>principal component 2=%{y}<br>principal component 3=%{z}<br>class=%{marker.color}<extra></extra>\",\"legendgroup\":\"\",\"marker\":{\"color\":[0,0,0,0,0,0,0,0,0,0,0,0,0,0,0,0,0,0,0,0,0,0,0,0,0,0,0,0,0,0,0,0,0,0,0,0,0,0,0,0,0,0,0,0,0,0,0,0,0,0,0,0,0,0,0,0,0,0,0,0,0,0,0,0,0,0,0,0,0,0,0,0,0,0,0,0,0,0,0,0,0,0,0,0,0,0,0,0,0,0,0,0,0,0,0,0,0,0,0,0,0,0,0,0,0,0,0,0,0,0,0,0,0,0,0,0,0,0,0,0,0,0,0,0,0,0,0,0,0,0,0,0,0,0,0,0,0,0,0,0,0,0,0,0,0,0,0,0,0,0,0,0,0,0,0,0,0,0,0,0,0,0,0,0,0,0,0,0,0,0,0,0,0,0,0,0,0,0,0,0,0,0,0,0,0,0,0,0,0,0,0,0,0,0,0,0,0,0,0,0,0,0,0,0,0,0,0,0,0,0,0,0,0,0,0,0,0,0,0,0,0,0,0,0,0,0,0,0,0,0,0,0,0,0,0,0,0,0,0,0,0,0,0,0,0,0,0,0,0,0,0,0,0,0,0,0,0,0,0,0,0,0,0,0,0,0,0,0,0,0,0,0,0,0,0,0,0,0,0,0,0,0,0,0,0,0,0,0,0,0,0,0,0,0,0,0,0,0,0,0,0,0,0,0,0,0,0,0,0,0,0,0,0,0,0,0,0,0,0,0,0,0,0,0,0,0,0,0,0,0,0,0,0,0,0,0,0,0,0,0,0,0,0,0,0,0,0,0,0,0,0,0,0,0,0,0,0,0,0,0,0,0,0,0,0,0,0,0,0,0,0,0,0,0,0,0,0,0,0,0,0,0,0,0,0,0,0,0,0,0,0,0,0,0,0,0,0,0,0,0,0,0,0,0,0,0,0,0,0,0,0,0,0,0,0,0,0,0,0,0,0,0,0,0,0,0,0,0,0,0,0,0,0,0,0,0,0,0,0,0,0,0,0,0,0,0,0,0,0,0,0,0,0,0,0,0,0,0,0,0,0,0,0,0,0,0,0,0,0,0,0,0,0,0,0,0,0,0,0,0,0,0,0,0,0,0,0,0,0,0,0,0,0,0,0,0,0,0,0,0,0,0,0,0,0,0,0,0,0,0,0,0,0,0,0,0,0,0,0,0,0,0,0,0,0,0,0,0,0,0,0,0,0,0,0,0,0,0,0,0,0,0,0,0,0,0,0,0,0,0,0,0,0,0,0,0,0,0,0,0,0,0,0,0,0,0,0,0,0,0,0,0,0,0,0,0,0,0,0,0,0,0,0,0,0,0,0,0,0,0,0,0,0,0,0,0,0,0,0,0,0,0,0,0,0,0,0,0,0,0,0,0,0,0,0,0,0,0,0,0,0,0,0,0,0,0,0,0,0,0,0,0,0,0,0,0,0,0,0,0,0,0,0,0,0,0,0,0,0,0,0,0,0,0,0,0,0,0,0,0,0,0,0,0,0,0,0,0,0,0,0,0,0,0,0,0,0,0,0,0,0,0,0,0,0,0,0,0,0,0,0,0,0,0,0,0,0,0,0,0,0,0,0,0,0,0,0,0,0,0,0,0,0,0,0,0,0,0,0,0,0,0,0,0,0,0,0,0,0,0,0,0,0,0,0,0,0,0,0,0,0,0,0,0,0,0,0,0,0,0,0,0,0,0,0,0,0,0,0,0,0,0,1,1,1,1,1,1,1,1,1,1,1,1,1,1,1,1,1,1,1,1,1,1,1,1,1,1,1,1,1,1,1,1,1,1,1,1,1,1,1,1,1,1,1,1,1,1,1,1,1,1,1,1,1,1,1,1,1,1,1,1,1,1,1,1,1,1,1,1,1,1,1,1,1,1,1,1,1,1,1,1,1,1,1,1,1,1,1,1,1,1,1,1,1,1,1,1,1,1,1,1,1,1,1,1,1,1,1,1,1,1,1,1,1,1,1,1,1,1,1,1,1,1,1,1,1,1,1,1,1,1,1,1,1,1,1,1,1,1,1,1,1,1,1,1,1,1,1,1,1,1,1,1,1,1,1,1,1,1,1,1,1,1,1,1,1,1,1,1,1,1,1,1,1,1,1,1,1,1,1,1,1,1,1,1,1,1,1,1,1,1,1,1,1,1,1,1,1,1,1,1,1,1,1,1,1,1,1,1,1,1,1,1,1,1,1,1,1,1,1,1,1,1,1,1,1,1,1,1,1,1,1,1,1,1,1,1,1,1,1,1,1,1,1,1,1,1,1,1,1,1,1,1,1,1,1,1,1,1,1,1,1,1,1,1,1,1,1,1,1,1,1,1,1,1,1,1,1,1,1,1,1,1,1,1,1,1,1,1,1,1,1,1,1,1,1,1,1,1,1,1,1,1,1,1,1,1,1,1,1,1,1,1,1,1,1,1,1,1,1,1,1,1,1,1,1,1,1,1,1,1,1,1,1,1,1,1,1,1,1,1,1,1,1,1,1,1,1,1,1,1,1,1,1,1,1,1,1,1,1,1,1,1,1,1,1,1,1,1,1,1,1,1,1,1,1,1,1,1,1,1,1,1,1,1,1,1,1,1,1,1,1,1,1,1,1,1,1,1,1,1,1,1,1,1,1,1,1,1,1,1,1,1,1,1,1,1,1,1,1,1,1,1,1,1,1,1,1,1,1,1,1,1,1,1,1,1,1,1,1,1,1,1,1,1,1,1,1,1,1,1,1,1,1,1,1,1,1,1,1,1,1,1,1,1,1,1,1,1,1,1,1,1,1,1,1,1,1,1,1,1,1,1,1,1,1,1,1,1,1,1,1,1,1,1,1,1,1,1,1,1,1,1,1,1,1,1,1,1,1,1,1,1,1,1,1,1,1,1,1,1,1,1,1,1,1,1,1,1,1,1,1,1,1,1,1,1,1,1,1,1,1,1,1,1,1,1,1,1,1,1,1,1,1,1,1,1,1,1,1,1,1,1,1,1,1,1,1,1,1,1,1,1,1,1,1,1,1,1,1,1,1,1,1,1,1,1,1,1,1,1,1,1,1,1,1,1,1,1,1,1,1,1,1,1,1,1,1,1,1,1],\"coloraxis\":\"coloraxis\",\"symbol\":\"circle\"},\"mode\":\"markers\",\"name\":\"\",\"scene\":\"scene\",\"showlegend\":false,\"x\":[-1.4728049377542896,-1.639440684742552,0.5139188365335405,-2.310952327930475,1.193415940103919,-2.319122799003427,-0.1623054186632681,1.9213761758074324,-0.8582112018202538,-1.3236068801603358,-1.257874198262256,0.7187398568430033,-1.2892273714180968,-0.9586790688596718,-1.5099230848111942,1.003518479260304,-0.13416646842356694,0.6208750274686966,1.4687735725208666,-2.7745246756347024,-1.5585899137431347,1.1934194418081407,-2.47491263534814,-1.328329737008027,-2.559978352422413,1.4577824932230101,1.2533690660349577,-1.0009020274825946,-2.60319834095821,0.8992888688251452,1.0390677122380223,0.3075811763909634,-1.454038736492779,-1.332157823030437,1.59910836436702,-0.8881498927297319,-0.8156849145252948,0.24153619257748563,-0.7205111803491249,-2.26664038512884,-1.5856149340745695,-2.514576605858264,-1.1662925547632392,-0.10660822001712424,-0.7549614642260134,-2.6425965739257316,-0.9778791769184113,-2.6425965739257316,-1.2082671931745235,0.19528992245851787,0.8056305420513997,-0.6560889297376735,-0.991114092905792,-1.0181380099805384,-1.2057806050764093,0.21598976393130692,-0.7076394091609565,-1.0192871311124843,1.2792833082177382,-2.268666294322349,0.5770638813404276,-0.20961069386859668,-2.726593656950989,0.40710118788841937,-0.4114644483861583,0.10133040897272481,0.7644484073001737,-1.9358998908349578,-1.2018332115562615,-1.3061174169258654,0.6104258225914144,0.35236081947702863,-2.515438910436207,1.0039006925212755,-2.781110333095059,-0.1557638707963454,-1.6429823981843132,-0.28365562726006277,-0.6060343525993217,0.38103011587809565,-1.6340178160903267,-0.07808069695755004,-1.7619840571429672,-1.327016955479457,-0.6630097168704333,-0.12433354691739604,1.4252567831158527,-0.46021303868068614,0.6357418204930262,0.3402213522211375,-1.2801983686312077,-0.2979956556115073,-1.6634906844822996,1.9163377870912548,0.20605864293457044,1.5104526690926998,0.1543008687377297,1.9759761358252816,-2.7637943737263084,-1.412570733445504,0.8534275249056048,0.8136790951506251,0.1765210137747857,1.0037619278512104,0.19704007573618823,0.5125837010359109,-2.4858805097743693,-1.0054736144272869,-2.3930970945996086,-2.4098115521407006,0.9187258595461983,-0.4736165648344829,-2.0040324056287817,-0.8807155481853034,-1.114136824098582,-0.40768042875689386,-1.1112689869823829,-0.5863711506225108,0.614953912347348,1.2087390140880259,-2.448802407822807,-2.7009330675167886,-1.304603444085714,1.3766671411715912,-1.5453864545901017,-0.8883200019138555,-1.5718141705343998,0.5460025828269194,0.08441018658787937,0.3447224327267634,0.926978837865113,-1.8156152989790322,-0.41391169315482834,-0.156724629932088,-1.5359792491125626,-2.592012464310353,-2.671513392004205,-1.6296169155117843,-2.7210851261757742,-2.514576605858264,0.8632225849402906,0.5683299314327871,-0.5469673476295632,0.9298148519841237,-2.5093439040366126,0.836807992226642,0.3227567133949707,1.115788538804068,0.0630282674719813,-1.2375612075561373,-1.6633295167317925,-1.1142010100235857,0.05915197583948892,-2.791753599165348,-1.21323109021044,0.8927096871127016,1.4437202942290452,0.7504870347234524,0.9675103055861226,0.05447286904218167,-0.6371337896091815,-1.6691133302332244,-1.2709484022858821,-2.0624276843012055,-0.024244321058118228,0.6684657374239562,-1.2442412142050356,-1.362355575558797,-1.5597842942887181,-1.1055421566533696,0.29570424544594076,0.701400924665108,1.7366372500571488,-1.5575290394563144,0.2624497552824971,0.8371596299200302,-2.3577760119342264,-0.956934140663286,1.7271621537201869,-1.96488548429969,-0.19597350088702342,1.590411237320427,-1.1535432275775166,-1.0978352863137437,-1.3516814906767032,-1.3377425572884516,0.9847902333997635,-0.5787359515067249,0.7267293015055015,1.4192474500211394,1.2087390140880259,-2.629337924693943,0.8576665320418448,-0.23726265311216313,-2.189340727933783,-1.0054736144272869,-1.3155653926131712,-0.9012083805664555,0.7217515305070368,-1.340909199964098,-1.0287681389019376,0.8685793965645435,-2.6425974493517868,-2.5650896610482277,-0.703726339888076,-0.14007541874839624,-1.276832636213112,-1.7268586641435824,-1.154525020484813,0.8039620434821706,-2.5681256177859546,-2.6848653555654827,-1.6041707304431332,0.7590612936771177,0.0818904247054367,-0.5021337219782803,-0.19253453327179001,0.7698872671888448,-1.0507544311084396,-2.2492351687517673,-1.1403518618307174,-0.7101872333338206,0.8482898544794425,-2.721043186444562,0.22776288451990606,0.567496781389608,0.29570424544594076,-1.812919090126824,0.5437742555861803,-0.012116562439122215,1.4189733838905658,-1.4060008411717362,0.6987010972206078,1.4176738121624328,-0.11241496715264665,0.16479343737888774,-1.2847526009916646,0.7456953674188324,0.30455313778211623,-1.9885628861889417,-0.8752555478780193,1.4410830355941031,-0.12847634312566422,-0.8564895938687099,-1.697223419630829,0.620267759533135,0.9782320981389213,0.8856779058159924,0.18538936469564632,-1.3654159929115008,0.809418474183682,-1.9418940700824536,-1.2597951894212065,-0.5235414361861288,-2.775812156789962,1.1584834961661081,0.6762648458012664,-0.3406234663592426,0.18156257062651382,0.12186490172837505,-1.2604813921911233,-0.08591424928511776,-1.316220569943014,-1.6344650522056332,-0.9494484917449578,-0.170024433377992,-1.0690920674947246,-2.5561346502518165,1.2087390140880259,-0.1448336600361579,-2.6826940579923644,-2.45986001439343,0.39499002678537454,-0.6787061074093246,0.025286112154865325,-1.0566687302948214,0.09493456572067537,1.5176167177283404,-1.4067344325607802,-1.3412843127016647,1.5719824211044444,0.6415001615976804,0.9167208942263568,1.6205465168078097,-2.2492351687517673,1.8082113347271447,1.4620881344738101,-1.9114521391747965,0.659759964363592,-0.9438919346948471,-0.32503875484333505,-2.2816585919953374,-1.1395600571544224,0.7234484727452144,0.5072768510707448,-1.0778965079960892,-1.3824709439894627,-1.1523616443843374,0.7497196909379421,-1.6180455775165927,1.1934194418081407,-0.6390935083281435,-1.2682228906654578,-1.0847234810568873,-2.1035747658181982,-1.4112082893025506,-2.12975858201092,1.4679471755329572,-2.6685017468728076,-1.5341548558838383,0.6369050551635215,0.8263653235823317,0.37724179554758214,-0.9562253906701382,-1.2070300969166214,1.1934194418081407,-1.1134828698474744,-0.7535084703874033,1.4827771163768437,-0.04756111905975169,0.836807992226642,-2.2815216784013077,1.4818681071816626,-2.482891114134677,0.4331328591128428,-0.06314039391809023,1.8938602037780052,-2.808003805450696,-0.9632791960357879,0.23922143063330895,0.2374253823560238,0.7257066450299421,0.31012826872796556,-1.0663353723407094,0.1983598467994371,1.3095007768038998,-0.3399170489800531,0.784729406904692,-0.13358452213939462,-0.5490874660663333,-1.4916926296687156,-2.1314458335850053,0.24059906801547407,-1.8493960539655507,-0.9663780511950584,-1.0054736144272869,0.2696672773196938,0.17868126424734138,-0.14396479638895135,-0.007056958292935344,-1.4680158251304711,0.836807992226642,1.1934194418081407,-0.1342503672994285,-2.3733376577981216,-1.0429117672962,-1.608267173807901,-1.5150512840497536,-2.4135180102509515,-1.5252339995397413,1.1190859585005395,-0.20472421501137902,0.009097680546375119,0.38044645619524065,-1.1959161920313175,0.14944640677163318,-0.9835210040440783,-1.3831360176822103,-0.37830673590195657,0.25397880593257366,-2.0225573591838573,0.7405501107312572,-1.9684373925589007,-1.3364247927769057,1.277548907661443,-1.9600569191689907,-1.5953177432424326,-1.420296647124108,-2.1184741100815816,-0.23851356930597942,0.9645962432206024,-2.5805204948778626,0.6145129707440758,-2.5958529301324806,-1.9045700181594152,-1.0756543775671568,-1.0968677002937677,0.782765016871923,-1.0314414455885648,-2.7176680118490126,-1.4961940605814688,-1.015886866450272,-0.2038617329356053,-2.4061583426673376,-2.259521604203654,-0.8387938513867311,-0.14715753890607544,-0.3645249095562473,0.36229245681693495,-0.7779896231624636,0.9563418445023373,1.6594159419816246,-0.4506393735010304,0.6578504131142502,0.18538936469564632,-0.9668381262295079,-1.0789116535344385,-0.45360269898307576,0.060550029958358065,-0.5864009642376389,0.9150328442776551,0.3667049284809052,-2.340587388669359,0.8010732079378374,-1.7619288810561484,1.113369446593912,-2.695552997696792,0.6879153776827215,1.2841466879773153,1.6151155900948087,-1.1344112064663743,1.4429838927729772,-2.6666706900527477,-1.3328692823789996,-0.47407489545463366,1.4250451318309216,-1.1465439868754608,-2.2492351687517673,0.15623321262647324,1.4162517801788188,-1.0338537417626448,-0.053926135837401544,-1.834485641560605,-1.9235700155679942,-2.643466340690868,-1.240512818150621,0.18538936469564632,-0.28027684399565245,-0.9775486876495135,-0.12049270229339668,0.5511308394001367,-1.881764249068557,-2.328006159046757,-0.1978354001131431,-0.3530993833791622,0.7209119137281006,-0.2485964915587976,-0.1499844061940672,-2.562697097528087,0.9382731255297679,1.2497528918876635,-1.6301333700323541,-1.2411363208627744,-2.320020856245673,-0.37164228532263965,-2.3135084229689653,0.35824731169837853,0.6056000139405168,0.8930173916182629,-1.385185482093789,-1.195228152373241,-1.544314376012292,-1.4820316920630632,-1.1526341352462486,0.12826215564736984,-2.322509742095197,-0.026622583651674282,-1.5720801723687898,-1.6599780904339727,-0.3307018987017206,-1.339883889609675,-0.4894405517175373,-1.0355561464851146,-1.2396333677160913,-2.0288355481576863,0.5820589271809053,0.18538936469564632,-1.0067955700566644,1.3530162555641092,0.08585008163486572,1.1468980252195418,-1.666593724296225,-1.281588482548956,-0.8739245198778982,-0.045150532715829465,-1.37856906450376,-1.2959061146675876,-1.6191182079167377,-1.066887718051457,-0.15264417239150335,-0.902805521362433,1.2502692084845242,-0.9312589887863261,-2.5069587555462176,1.39245140546492,-2.5133890476467973,1.2429721006818937,1.7967719451458857,0.29570424544594076,-0.5274190326306781,-0.30491572097155606,0.12730925647221053,1.9553504594040765,-0.0979566606441265,-0.882384524018589,-1.564164917693716,-1.425153032570516,-1.0105104878165363,0.11737564795478778,-1.1522839854177218,0.10232534504758246,0.0385914751061583,-2.3960560842055814,-1.3570907300513415,0.4197667260402347,-1.4102827705568453,-1.5549167337273806,0.08609957532466786,0.5332636761507458,-1.06774957948,-0.717334672637507,-1.8845422728794419,0.4964257762586535,0.6592027550068885,0.0010995850194451986,-1.3544691275185496,-1.540346221782496,-1.325045965389941,0.347126278329609,-2.2815663152746235,-1.2535884901952408,-2.3728036966303656,0.3424673992939776,-0.48845158947513906,-1.5734187881400685,1.484891705403978,0.49405679026054494,1.5874115423838113,0.7679297517979603,-0.1525941485935075,0.611559236648676,-0.3757950420466899,-2.349058679874946,-2.2093435864412854,0.04076377149444268,0.8201962203774751,-1.2529484888822613,1.0275934620931093,-0.7970642006936838,0.523783837398794,0.10576437803981321,-1.80742508665139,-2.5248654411693288,0.8747453405946578,1.4686771783411672,-0.3204381096601736,-1.1431235450865567,0.21428058458487986,0.8924347718467435,1.0587231956633518,-2.8057690451578523,1.5969586760004937,-2.1977571333226487,-2.6144921518408473,0.9295619503099439,-1.0972774304808808,-1.1387611733168632,-1.8028098466128115,-0.23148922365755126,1.94153983546682,0.06344974061116229,1.0115776215313672,-2.719051615649596,-1.7213089834127908,-1.2761106295165152,-1.1923613021372157,-1.7957869274308558,0.8347004594245269,0.7676642059640251,-1.310053835245529,-1.687339474436826,-2.371184159197994,0.20176501823766435,1.923056264459888,-0.5079781501463265,0.8895831610622694,-1.1429277133845632,-1.433529430296202,-1.514485161443143,-1.2284799090502263,0.800591959816058,1.6558107619079265,0.5925208591686475,1.2114342598344447,-0.555896548104634,-1.4318659569128953,-0.2775389414362161,-2.838138660376201,-1.1447418207818603,0.6173471774519892,-0.17673501105849632,0.10017378418302413,-2.4973882782765533,-0.20331036818434847,-1.812919090126824,-1.2413992263303015,-2.146464475309511,-2.831847069613668,-0.5028911312812676,-1.1429327833691496,-1.2390155042758277,-2.419996168668534,1.2878349308002204,0.10106663049456352,-0.6140509380064741,-2.514576605858264,-1.144619835814401,-1.5144869122952538,-0.3126113863428216,-0.9880812336789939,0.9856525221304873,0.5430809897991262,0.1659520809025529,-0.9825565855863334,-1.5449318719086764,0.7140280617794329,-0.3767306776104176,0.6406913337093443,0.24538741685730237,0.8434514320718016,-0.07956054555277557,0.7519349753138039,1.2006432963871878,0.5520736891256605,-1.1543584934490059,0.6300224517556708,1.8401707675308954,-0.9361404949862838,-0.740663954679159,0.6598789617733265,0.04043073830467713,-0.24328858772845618,0.0801543015549124,-0.36111318509520013,0.6746237624363401,-0.7689505097993335,-1.8889592154421815,-0.04831327693715928,-0.3442493693685611,1.656637300828894,-1.1361279463029947,1.4599164319413818,0.7049823725565684,1.337470173316012,-0.12636924057021653,-2.359820385996296,-1.075064427123206,-1.5144869122952538,1.8717264699671616,-0.0637225855703782,0.666523211907358,-0.4614829102712549,-1.7213481748248258,0.690358025867333,-0.65213016351661,-0.33468501134351486,0.8633600487996791,1.5193522203451786,0.2957124498548916,0.4193623383271849,0.9033884617297232,0.8368068819111918,0.7871895602747021,-1.2306161096452033,-1.1892180119392481,-0.4166978779255818,-0.7979091843888075,-2.4597315384186103,0.22450586820990678,-0.8806209434205776,-0.10384448035872379,1.1955897846944152,0.8442262328304129,0.9467409467872988,-1.253962780745646,-1.4323075529965021,-0.38030081699667,-0.6853500617586782,-0.8743775174422833,0.6357805952012504,-1.1817168754649383,0.29570424544594076,-2.6621543099901883,-1.421463232055141,0.569771547708705,-1.7925115007852062,-1.518427616912546,-0.904309089862953,1.2198238725074466,-2.60476561148045,-1.0283451682307785,-2.792309142087098,1.1576686458670484,0.02939572518275891,-1.1022602382068558,0.712100502136085,0.20754145677541602,0.8349021121280363,-0.8189510141078978,-0.370408450685624,0.4493251866065775,1.4389073535442858,-1.2591712243314084,-2.53824354863023,0.02045615703719035,-1.5101488333475488,0.836807992226642,-1.2592031759164997,-0.8919261001041275,1.237752149552313,0.026328751452094817,1.392204998177175,-1.7315298973467528,-0.5240819022346835,-1.8808461955532205,0.6317668238046861,-1.1897209647551676,-1.812919090126824,0.18538375484494807,0.9529570182403366,-2.106185169661287,-1.2187041930179792,-1.179590072519857,0.7213637486002948,0.12846658841486502,-0.7961890431457914,-1.1604162571809287,-1.463411150797591,-1.2443783394968253,1.8842228748711045,-2.21686445460858,0.7399765765854939,-1.1910402416722645,-0.06274034842916983,-1.676310081811373,0.27692833394227734,-1.3138291221027287,-0.5383047916616632,1.035486747197577,0.8958739138441998,1.2833986675770674,-1.4548942992643394,-0.6343792766922239,1.6045155156015893,0.9936615449022003,-0.17443513376374561,-2.5065012589011477,0.007052322186080866,-0.048111171202105174,-1.2196445769354094,0.36553051126318725,-0.21217584627439692,-0.5387927680942688,0.3137366589186265,2.5000869767638454,3.9944310930702445,3.093362223108778,0.9512785320340201,-0.6507955913796362,-0.8083505552327676,0.21425723451197393,2.013782915297591,2.6849345594738905,1.9593901012819732,0.3836081988510358,-1.1022091743654845,-1.0793263932686494,-0.4114818791324391,1.0967635866490177,2.6745947330432176,3.388145314292378,1.969134900298672,0.39294346040182054,-1.5325600253479754,-0.9783603180407401,0.6570385118719525,2.1074597503434385,2.6163376759982806,1.2103163992116028,-0.3052288953658543,-1.7126620168636653,-1.4501068270761388,0.848578461496994,2.055386943707971,1.798961033030669,0.0009551712135652071,-1.5299844398219469,-2.212072986374002,-1.4118791444593124,0.13421805213098176,0.8735372128910098,0.5550226239891679,-0.5201079455433409,-1.0618542163112101,-1.0651836591068828,-0.5166898623503698,-0.8223441255893564,0.20643941788829046,0.6302962857843759,0.18093228515387005,-0.552861131298794,-0.4049612497470451,0.06676784907470142,-0.05089180660592938,1.033726109266012,2.6266273191830027,2.7478694341279097,-0.2098525472757536,-0.22175629320841667,1.9432027027756367,3.9861666032747003,3.031433536247793,1.0828958353832772,-0.5828352067692114,0.3020734203154304,2.41337685560668,3.8687833470899116,3.055879345688736,0.8862374975904472,-0.7086437523715926,-0.8838526400414112,0.21515821741543556,1.9255603401211765,2.6101951970163615,1.8794762341791165,0.3741829249906935,-1.1341116519915655,-1.14010443661791,-0.5199758697670611,1.1280534594594784,2.6576143535956867,3.24526910287008,1.8667414211684354,0.35796417889824256,-1.5682772927327187,-1.0029052630080058,0.6257829859407745,2.146883949980375,2.4476282860631198,1.1359045490377135,-0.2856223997989025,-1.7293633771685448,-1.3943125469232271,0.8608630796719224,2.1030291952591584,1.8389828886848818,-0.006065373086982016,-1.540276098993774,-2.207077790807519,-1.3822587575972818,0.11310295732800185,0.8269448784724368,0.4532149706424972,-0.5376429984862936,-1.0618169282109644,-1.0585865801371468,-0.5378204155198707,-0.8171078768738541,0.1535448448369856,0.5736970121465904,0.06284818986077761,-0.6077244726062114,-0.41396826576939133,-0.01684218316370093,-0.1529947874335397,0.9059502925572738,2.504893632133296,2.5770538643311554,-0.286048296243906,-0.24611922357308302,1.938309427877001,3.9721552474047197,2.9273291523418155,1.0168029929474527,-0.4351422660475309,0.7272200512785538,2.869113694747838,4.131792271625109,2.9210679160321678,0.798384768581997,-0.6793734032068807,-0.6816406669353285,0.5084711327837025,2.141240922589805,2.7174520557992454,1.8107865465443176,0.25289023153216283,-1.154456094786064,-1.3020072148332045,-0.21457421029746354,1.3483756609353514,2.6495912621596363,3.0143819088254458,1.652510936273929,0.06312877791790823,-1.5901792423160352,-0.7336698099913956,0.8670861954699657,2.0934436239033727,2.2115003730149696,1.0482710341678685,-0.53607224270006,-1.666737690240706,-1.0556487152253118,1.0557256845806802,2.008398404640436,1.3805006005784457,-0.12100478364531782,-1.6855922130909482,-2.0605199734166963,-1.0410788264689834,0.3421190025230683,0.9726544898118045,0.24472401605973176,-0.5743110106288043,-1.1747377601798317,-1.0165748896913847,-0.6274438792355147,-0.5762860111717903,0.28992519583394344,0.5818466740731295,-0.12075414634939531,-0.5302558222259001,-0.33916185247648584,0.13137165191036895,0.13445604355297036,1.3851213928337456,2.8848595675277915,2.7350651568296445,-0.30713152039447056,0.10663099429637651,2.5679153704634268,4.237797818711165,2.9242220669737002,0.9930466027834018,-0.5649805204187702,0.22991888279526906,2.425165099363773,3.8318176115959566,3.1506243619065812,1.0750461871052408,-0.5545615236031319,-0.8332241328755523,0.1640786307984284,1.9926884280185087,2.683732926465937,1.965017250422961,0.4871856645443021,-1.0437026774737075,-0.9534798206535013,-0.5596893994734755,0.9777670371756944,2.5878892803220856,3.33145962586085,2.030761674037259,0.6017428462605797,-1.4962968232047955,-1.0617906139863358,0.5280935302431838,1.9840216231208498,2.415236152285016,1.1343237646713695,-0.2210333707432793,-1.6957287494886415,-1.5268608940552726,0.8148081868355466,2.0141644156105594,1.771129106937072,0.09499135996186103,-1.4268587585608625,-2.236640334536519,-1.4631425105899467,0.062084411344728925,0.8358337433322219,0.45282158354472035,-0.4837984514333334,-0.9593404166532514,-1.0231138919126053,-0.49158909666130507,-0.8031036648298477,0.2137750720048026,0.5758218428618898,0.12913366538733026,-0.5614751554093694,-0.29056230910007685,0.09782907025050931,-0.13298170197154827,0.912895256465671,2.5970417641131207,2.7778159432437826,-0.14580397215163993,-0.2342634078607394,1.8992271305672788,4.009361202922427,3.10373553134891,1.2187248917651672,-0.41557382875868704,0.7487971720604197,2.8652801739766107,3.97463924654786,2.8256446640366453,0.7743975198344396,-0.6706150467494209,-0.6766855058308178,0.6113232230285074,2.2401017840178685,2.775622648447852,1.8133223601258708,0.2960403709857669,-1.1929489391910664,-1.2958670974568538,-0.17836585439810212,1.4430121512061247,2.865159849602512,3.164591181750641,1.7815801316771986,0.15874003165249995,-1.5942319827971105,-0.6668035738762319,1.0183958074791766,2.342613887977376,2.4035822218528646,1.0720135767213508,-0.5320054242837956,-1.6605423862146795,-0.8594618033672138,1.1370125218892897,2.2835572977962393,1.6836877479774581,-0.15420961904792221,-1.741070802483561,-2.0709795616960567,-0.987023120745237,0.4318342657679508,1.0388541023233522,0.37189857730750414,-0.5169175723520958,-1.1780782710675157,-0.9731850854157986,-0.5998937604211959,-0.5139664248579745,0.3882005347705553,0.6876418377136565,-0.012554185207446325,-0.5084727423906547,-0.3134295174457431,0.09656778786355866,0.13912744327190624,1.3070837654146177,2.8192307690079885,2.61989043523724,-0.2577666190818936,0.14983559606814698,2.4800462774687504,4.096237537768327,2.704190063362526,0.9189330044639084,-0.43562046887759787,0.6729708245503463,2.756762689023487,4.07287320704669,2.78964404286189,0.7949050393766536,-0.6751153152758206,-0.67525942187163,0.5790584032073953,2.2772176932669064,2.808355453244847,1.8770236438846024,0.3503299963480398,-1.143831977447636,-1.230393628434522,-0.20042721906721875,1.5676215902321733,2.8642324295238404,3.346007849791977,1.8998430080487967,0.25779846528979433,-1.5877545771589834,-0.7496396907494669,1.010009638968602,2.4278782870657802,2.435639687482477,1.140977463102001,-0.48271143339778333,-1.6271617178053164,-0.9477687291648724,1.3123975949931743,2.34316451818673,1.6928790636061914,-0.023694927541358903,-1.6334378086299375,-2.062990163761495,-1.03889997251419,0.3621056587650514,1.003542202920781,0.3805837799052193,-0.4945199966389241,-1.1236941455324356,-0.9539250617157709,-0.5615684895867288,-0.5854121651196416,0.2942142559392603,0.6162283821225873,-0.05153343254001684,-0.5157470949465454,-0.324962649897181,0.16498258675003843,0.06683345814061743,1.2756531810491005,2.9554623791409664,2.7953032793271855,-0.28001439967908676,0.07824192072609036,2.3948327871871995,4.112749759058889,2.874761293841947,0.9768652215928204,-0.5776845543510417,0.31611264769029723,2.5668035409566397,4.0608816401314725,3.1158446929441723,0.9993515244006136,-0.6609916115680433,-0.8632149430630265,0.15725429533701651,2.0144733077320462,2.857860022231275,2.092478377859679,0.4921878006327887,-1.093150011977449,-1.18014751583301,-0.4372013294767434,1.072306394653336,2.6551613698416614,3.356149436459759,2.0501883861054715,0.47180321570480077,-1.509281907434416,-0.9197882343248562,0.7468525694231255,2.160775404098798,2.576414613241785,1.263470417803114,-0.17002593139206815,-1.7053930271589366,-1.4178984927488107,0.9021345240700505,1.990580652822125,1.629033241007415,0.004415813364926474,-1.4529425403741678,-2.198757117485424,-1.451235852165192,0.2336799807665319,1.0236240466408202,0.600641273671145,-0.4637852593232515,-1.0719221497967404,-1.1250574826575372,-0.5509017936415395,-0.922523980718063,0.2574142395178063,0.7147548837157729,0.25673896494003307,-0.5224573103693746,-0.4457522600638102,-0.013603660253584081,-0.05955331171149355,1.0965730486285208,2.7678948354793915,2.871631572378566,-0.25295131023702033,-0.28232044515814503,1.9098863969895155,3.9763973405289446,3.0316602243268993,1.1540201037572093,-0.6238720152921072,0.3042825671886033,2.450710885012008,3.9788879908977233,3.040124849838683,0.9518237529470884,-0.6416411080269157,-0.9568771947427633,0.10414841922929426,1.9978502883287166,2.8349257019965894,2.0553367050797346,0.4269256729558716,-1.088226356012673,-1.2215534977128228,-0.563839700152733,0.9477354491456417,2.6778040353510804,3.280232945992722,1.9661465860472314,0.4247472853881048,-1.5286351464875982,-0.9988739902480622,0.6269360836938926,2.015483635588236,2.510456313033144,1.2276531158378752,-0.1866062607147752,-1.7003949415965758,-1.438524065333192,0.782795905287004,2.0471700018165535,1.7847865147134356,0.067991331314688,-1.4504611647839345,-2.2222168338134294,-1.54108890351839,0.2624252452543831,0.9564819451205083,0.553085147351551,-0.5781468864606075,-1.1504956258400845,-1.1914920579566592,-0.6545835855457295,-0.9528004584286471,0.15335972292036126,0.5858997929474272,0.1357227593694669,-0.6288291025000233,-0.5132270561694139,-0.09447595885052489,-0.053869976930280776,0.9592693321561644,2.5182888513775556,2.6010116912090417,-0.25806563258856713,-0.28181915609579383,1.8900693350491644,3.9457273201362915,2.9558690092326003,1.1386499956171228,-0.6502398270623215,0.2545908151720098,2.433964572283091,3.9574056915178004,2.950660591886765,0.9528217121116791,-0.6644093166454639,-0.917628002382239,0.08579074409888265,1.9590523569597444,2.7572341605492823,1.997876492151191,0.40041414427146405,-1.1452074717016576,-1.206939664101544,-0.5302061448296675,0.9325206965863648,2.5692145869823455,3.2581544058132352,1.9170049301803813,0.3549686560227324,-1.5704509784568457,-0.9578910137340974,0.6864176514771307,2.1571457969863843,2.5206310940348597,1.2465894815577316,-0.21134696432290648,-1.696409103105218,-1.4481209869414622,0.8320444395190315,2.0706474958237746,1.7740437783267493,0.11694600107438644,-1.4439971971591488,-2.1835190172847265,-1.4817004624022796,0.2079833184807455,0.9039267258731761,0.5755956909032338,-0.5541624449644516,-1.1230175141932008,-1.1681107666871169,-0.6174274665571018,-0.9498969225241515,0.2259314312494549,0.5999569870387913,0.13765739611128447,-0.6275898266777287,-0.4799577922213526,-0.03868183929679861,-0.08395958119699372,0.9546233742089946,2.5242150863554316,2.556197545106888,-0.2787145647901529,-0.2874458453251118,1.8085308577199237,3.8427419782000625,2.832665434546255,1.093999686282923,-0.5512463646949365,0.3656449793430762,2.5536832760028534,3.963127901807141,3.1080767501174793,1.0413275530935124,-0.6222916117583274,-0.8095490749219884,0.2352744572634073,2.0180256652984796,2.8341532507968856,2.045388692953881,0.5042594810345825,-1.0573416606835193,-1.0442444881764827,-0.40596785827121656,1.0223694309361462,2.728235669045924,3.404110026464022,2.0819679468504573,0.47559919353492985,-1.5055097044107004,-0.8496966304392635,0.6596025647113118,2.106221995194488,2.721689748718185,1.3141660631407586,-0.1368549241675027,-1.6778710252108235,-1.3524817063898085,0.9711306059745937,2.1200825895119237,1.8572638968333948,0.10842966181056816,-1.447521998552585,-2.218947481306799,-1.4164635084367685,0.2764457072585051,1.056446280458849,0.622487518176166,-0.5100211740884405,-1.0723474811563132,-1.1093809924269007,-0.5580937347162898,-0.8480005402194536,0.3113557188426792,0.7538591904230901,0.252358303985028,-0.5401862178255042,-0.4197093436192104,0.03513984878998989,-0.019688402767802347,1.0679760024254144,2.6547313279642397,2.748548153804498,-0.2247928060652813,-0.22199526688889498,1.909394904619919,4.049327342951025,3.019617378037375,1.170582485903558],\"y\":[-1.1639166839908779,-1.0938120376889982,-1.3248795347768931,-0.2025143461665877,0.024653666357346872,-0.5723432389678058,-1.3846165590874322,-0.4421531014692344,-0.954482526593497,-0.49921912815097713,-0.3964754757937599,-1.570687050802246,0.19695628135991372,1.179622918842594,-1.0741978175308438,-1.9058570272417077,-1.1594448779771287,-0.5283985516003946,0.19738619137394045,-0.5224517793663057,-1.7266681913496056,0.024664287941800693,-0.18966039707419022,-0.041515621145921874,-0.43607334370336953,0.6199733958433324,-0.2564348046593818,1.0712462423117153,-1.1507998809841289,-1.847841502235791,-0.11956223555192001,-0.7063917285101007,-1.1814317056138262,1.5593102195328383,0.23071511853220972,-0.7237598980825029,-0.7809647507028848,-1.4457045236648505,-1.662319524498847,-0.24556830217079784,-1.2715885947219923,1.7522984126274723,0.3496022221541481,-0.45528848310161213,-1.1858661460437274,2.1164201079346863,-0.12107034492313405,2.1164201079346863,-1.1789944612996095,-0.6418512367939738,-1.2047532685233988,-2.0364665808226285,-0.6629389374410215,-0.602766883390434,-1.5078279078081258,-1.8879999738668278,-1.0734227196319972,-2.023571480206427,-1.3173193028090953,2.114762910377679,-0.8376138354353533,-0.19027516685621776,-0.17570719745021504,-0.6638872570537955,-2.2348476160880844,-0.9495055927867333,-1.5684474819003833,-0.14314623589519382,0.2847587971857329,0.43592647124060546,-1.4432665891196934,-1.9208722310993602,-0.45115147587018006,-1.6473307746844426,-0.210985139369272,-1.0006169793405,-0.7746276454981504,0.009568189747596309,-0.01253464532348384,-0.712868830012842,-0.7887001405313752,-1.696206646912624,-1.287512419673571,0.14805476609410015,-1.4026168000548664,-1.5473513632646128,-0.036371597064158274,-0.4041767429564869,-1.5602839137616853,-1.5500395990437192,-0.42572648753269077,-1.4538744068163927,-1.0500409414653433,-0.7951269778862298,-1.2758178461995404,0.9376428421731603,-1.3349248487141994,-0.6301012786850441,0.1472976290203934,2.2939727111761594,-0.7729109907103172,-1.9390524568052092,-1.9903645590235626,-1.0246167669764512,-1.6863601852037298,-1.8237203741752501,0.483135573380538,0.7466137773013951,0.005844376257540942,0.13572436707431226,-1.2443579003407612,-0.654719390332699,-0.4167068194505719,-1.6497227668623857,-0.2939436751125817,-0.9518089090530443,-1.3905151261109339,-0.9680356471632156,-1.558734827584164,-0.33650187536750964,-0.017184998136151926,-0.011500491320917424,1.7670194868131968,0.0894511568186206,1.641989852696722,-1.185727951380251,2.339452740882288,-1.2129409453436428,-2.1166274793338666,-1.566230850624796,-0.9957480915701808,-1.245982315098714,-0.9529528222747875,-0.18480251170368872,1.690650602641367,-0.2130789176836668,-0.6636161043638604,-1.358146657015837,-0.4640938407831077,1.7522984126274723,-1.0707220989362825,-0.3253105411347286,-1.6253482518939055,-1.5119059489898383,-0.1052376614543813,-0.06961875784407276,-1.8055445040716973,-0.984777512805831,-1.4343046195328046,-0.20703148790011044,-1.05350819911061,1.359569013349519,-2.015230106013377,0.25743975937197244,-0.07280673256914068,-0.7435605689845899,-0.8478272507153025,-1.2959707448474433,-0.6357851272794295,-0.6570773490122825,-1.9304941513760054,-0.9338147216007627,0.8662657287973432,0.02653532015525747,-2.092105187267762,-1.4272092484271042,-0.02005533589476592,0.22542600981851324,1.9383616434769007,0.4048966843051732,-0.24923614294667476,-1.6412524755939013,0.17425891076197358,1.8629612745841317,-0.8152327216186988,-1.1356246753978547,1.346199985592157,-1.2237576712710678,-0.1021964095561737,-0.11664287060112472,-0.6696188682342771,0.00027696045676669427,1.323217200383245,-0.7967145258714144,1.8502012394375167,1.4924061670434792,-1.0343858616203547,-0.7599409474742337,-1.5369054093617656,-0.6692478181442018,-0.33650187536750964,-0.029732029417200545,-0.7300468611495914,-1.787487662499499,2.7374623594228282,0.7466137773013951,-1.1580191101067556,-0.15086963612231813,-1.6563397426544655,-1.8337927689539841,1.4555019391839126,-1.3601359021849095,2.116417452538573,-0.16619912279321775,-0.16503897532571762,-2.0492336153266337,-1.6191071596920221,-0.6296380934004417,-0.26387780799475397,-0.4811936681121957,-0.22628997651582708,0.19709812463079546,-0.6743168821693377,-0.46452378227100155,-1.6182057619427397,-2.392043544619627,-0.5903933872159988,-0.32866102709685835,0.9383492401458395,1.791868665397026,1.5593051037012755,-0.9949839572868401,-0.208433232887619,-0.34502522237437216,0.04261793669152536,-0.7279120324923452,-0.24923614294667476,2.0874023106542574,-0.9858415171208954,-2.340151448312012,-0.003134447401605411,2.1692486295140685,-0.6595294744164664,-0.289460032870513,-1.1483583567425037,-0.7351662908619038,1.804505217979508,-1.6043632915646622,-1.8360921878958603,-0.06852423305057563,-1.2291529898769944,0.10246921411710613,-0.5571219449566325,-1.0506846551125437,-0.5516573079059685,-1.5873592449437146,-0.9471838132924508,-0.5930181450651363,-0.24518191978097825,0.062236456381607075,-1.4516163990252586,0.8920219240948232,0.14915909990281462,-2.090084137107361,0.10088328099381388,-1.8006991428128372,-1.1467140738264827,-1.0841348488043332,-1.5703463709514458,-1.1285957261175903,-1.0250172082743465,-1.3455949832511302,-0.015547760576595628,-1.340125289112866,-0.6676212522017761,-0.6706540203568423,0.2700175484586647,-0.047936299332634366,-0.33650187536750964,-2.0997149810816356,0.09047578602529939,-0.7747352514988582,-1.752907229842748,-1.1195231104562786,-2.053616064831456,-1.1293255149730663,-1.5283811370483094,0.15515585946871874,0.00512987224384963,0.1688529497477498,-0.3718255624212776,-1.4907121201983327,-0.8830597099033068,-0.3267876153389468,1.791868665397026,-0.2761098632356259,0.10728678328032748,0.7113108996182471,-0.4665473481124475,-0.6770507522250041,-0.818576223527744,2.7393166113271574,-1.3845810161681116,-0.5511220071436777,-0.865991053984682,-0.1749732988014085,0.6157224261550932,0.07540909547800674,-0.24145618442543135,-0.5653027556411896,0.024664287941800693,-1.2679721082914197,-0.3096734525984727,1.3803705100891237,0.0100668206496642,-0.009357596261697902,1.0443199194817014,0.16677639673833797,-0.2607598569109278,-1.146489372551643,-1.425055561536187,-1.4935220670710048,-0.654855772135107,-0.5401045943034015,-0.3533187466069294,0.024664287941800693,-1.892932237654245,-0.49593162844157845,-0.020852536740220324,-1.0168171658146914,-0.06961875784407276,-0.34646527494897417,0.1591181452675805,-0.16114664832063574,-1.713328624572317,-1.7301757973472935,0.43380884233916395,0.059813761188525855,-1.0688313682257928,-0.6680626875787568,-0.4312889906128867,-0.9671915733395567,-1.7012826225039306,-0.9368597649823066,-1.5507690898628737,-1.5816149438874727,-1.4082503681248795,-0.6379975570753059,-0.4030884550421728,-0.8566133256569822,-1.4359021212964975,2.170867801853109,-1.7071745995139729,0.7374871915561481,-1.3170195851951514,0.7466137773013951,-1.6138934388430508,-1.2512268654912673,-1.2132776770290334,1.2885634006442948,1.8828312589023302,-0.06961875784407276,0.024664287941800693,-0.37064424079763386,-0.11872431100502558,1.0581813202969172,-0.781231696538626,-0.9551236264166091,0.24730807087046433,2.096652581736197,-0.9713742477108148,-1.2264226649454015,-0.8494635498779469,-1.3714565458577028,-1.868225050080447,-1.5686674247115875,-1.249271747457949,-0.347234900804495,-1.1557354636277286,-1.1014412531894482,-0.030930662043039753,-1.3411552577420804,0.77067405902813,-0.5975110640169239,0.4864116345288677,0.8852931074269368,-0.8604214123188549,1.9895134253262199,-0.11545773106422028,-1.518403777880797,-0.3986565826279348,-0.6890985451552871,-0.5306651259034489,0.0005742345367167278,0.83738364957958,-0.3495881884339403,1.5641431699527026,-1.8279807434668294,1.468774244398419,0.12660990964566224,0.7964429924759107,-0.12866567328808393,-0.3840461555816151,-0.23717791495016574,2.752368813813307,-0.12599361387251917,-1.1616711396121828,0.24652163194538104,-1.7663906711722792,-0.6924828955500472,-0.2004322830147216,-0.4145012217777075,-0.9545861359224777,-1.1679589113289097,-0.24518191978097825,0.5353494323961877,0.7669317646822738,0.13932149050011097,-1.6889814578751925,-0.28413814701861134,-0.9873215416190434,-1.8129188399394733,-0.30042375002632915,-1.8881938517374715,-0.31726124620654583,-1.4995140424912399,-0.22863491675825517,-0.28627673351244715,0.1566523151523004,-0.13585260705700944,1.6855535510969017,0.08908408378238744,-0.3539099286930763,1.1096227809992312,-0.9456646060779016,0.1023838769057583,1.5251719084253603,1.791868665397026,-1.2822091360823178,-0.6787058460225194,0.04910072540831396,-0.6126503145385735,-1.2567366938120237,-0.1094608796582831,-0.7175442870717709,-0.4113320722718888,-0.24518191978097825,-0.20440294497925784,-1.4174015696217388,-2.0327434759929903,-1.7167158727263485,0.7060649989909977,-0.1314161474515334,-1.3234640837886211,-0.7482574379012351,-1.0278240657057407,-0.9135775063484393,-1.475583397076807,-0.09288045882085048,-1.6030293702137084,-1.5809656285173512,-1.568992922142593,-0.028422490294697143,-0.2704997856589102,-0.810965862086015,0.15799604606630618,-0.8763238490573422,-0.49863412855383726,-1.7801408581963656,-0.10527306585373607,-0.10095676939807956,-0.8693701333863414,-1.3826055487749103,1.4108366047418996,-2.2432825882413017,3.1220840113935138,-0.3852191998452066,-0.8139288240545318,-1.1280715392163538,0.030703920474892656,0.17368890877472234,-0.11553780584027683,-1.3408879573561117,-0.45862476977038474,-0.11971937607503176,-1.8757061158057884,-0.24518191978097825,-1.1066541291445773,0.41314108826284596,-0.7659089243485504,-0.10764144928074644,-0.7811671721675756,0.931446704078622,0.2821988456364025,-2.0494740476264157,-0.9551063928493544,-1.0769299930694696,-0.9939140150264275,0.35583203813681974,-1.2034287517802917,-0.1422004864505181,-1.2215603075386108,1.3042393193969413,0.2586560069466298,-0.8425939659892003,1.5307425990070196,-1.4118783857516943,-0.23990282184566106,-0.24923614294667476,-0.3365875094699495,-1.3878788136099853,-0.5059820190014008,-0.5409384611907188,-1.7130698712496917,-0.8574339389930526,-0.6294880690886786,0.19531091302122242,-1.6196515023919704,-1.9456257727715363,0.45480317438670276,-1.3956210122854897,-1.556862169194708,0.21394780749168982,-1.817247926185466,-0.8492404788426701,-1.7392454457405582,2.2909873286949343,-0.8946191839435466,-1.618735771563508,-0.9897513564586385,-1.0250631742306595,0.7402553260375919,0.016747358484588547,-0.785817109727878,-0.22994659254255215,-0.0855608444720874,0.11804924742285908,-0.13304305295134142,-1.7977349911081795,2.474575236791108,-1.7930908329614792,-0.12753844480523574,-1.1061991086266343,0.054516168574045745,-1.2446563488760984,-0.001060370560375346,-0.8069259706268593,-0.20832187893196175,0.1067678103920786,-1.7330799026919044,-1.939679973492113,-1.3311168701663072,0.1241582179121269,2.3143168043798514,-1.6921451261582063,-1.174577928813056,-0.5036531089778311,-1.2334024124545022,-0.0973167984255999,-1.7601047304841568,-1.6339275406937466,-0.9220580811587399,-0.02983295574802265,-0.7807323565361439,-0.8305396643757118,-0.7448709854068707,-0.0051998677698946285,-1.6787720686412262,-1.389340577721125,-0.991354192815964,-0.009894369607536804,-0.17395449777273245,2.79740999084372,-0.1848930514354924,-1.1060199339647219,0.014135690693074413,-0.4534484176527355,-1.1652387909840805,-1.6036939383987299,-0.3917006536708907,-1.5266893369331136,-0.4230060264973761,-0.624031163152332,-0.7556737946492331,-0.37354738617202926,-0.41160501081295886,0.8957707360485007,-1.103955294516381,-0.5089334267778981,-0.2757892014072029,-1.1305719397447556,2.6809657536344416,-1.5313431635645813,-0.5637085353018807,-0.14895225157996275,-1.158366438239008,0.025552418228750422,-0.09801594235888743,0.4859193423769452,-0.14965797097027983,-1.8402762391328809,0.06446002257788304,-0.45141450842699843,0.8066848766686348,-2.014881877766156,-0.348849379879744,-0.27588308713249504,-0.565487291710502,0.3916490512184435,-1.3948441165679595,-0.719527757263292,-1.0247160120537357,0.2501420710815344,-1.3674143607639926,2.0874023106542574,-0.07296064284872618,2.3029628294267357,-0.607517286342542,-2.0184297227868946,-0.9883089714174881,1.2327731750390512,-0.18397376521758607,0.039978788202983145,-1.9525297662268868,-1.056533532400609,1.7522984126274723,-1.1869655291797037,0.4859140315847183,-0.704458974778939,0.6344766221069056,-1.1901365777907873,-1.7591757541535502,-1.972561778664368,-1.4286381022540349,-1.194148588123884,-1.5688023280868515,-0.883812514398988,-0.584582382936902,-1.3766820290390298,-0.8405579301450402,-1.1903910167682263,-0.903860386984808,-1.5255328128858512,-1.7230304714553342,-2.3353751854852787,-0.49566442188591264,-0.5445368048958036,-1.242296012559008,-1.1216424839914232,-1.3404892532433632,-1.4981187290391458,-0.346544879219752,-2.001072882809558,-0.10503475853984791,-1.1488576621807494,-0.8626626845043459,0.6453006552598891,-1.4179578510685804,-0.3178606419043526,-0.0823413246961112,0.27259742448881313,-1.0994252585009103,-1.6488575038921385,-1.0812886844587746,-1.3055754861385598,0.19124410732435027,1.0808574093026362,0.4859140315847183,0.041025643480948726,-0.7667495172399096,-1.6799157444194197,0.014349018282132807,-0.7391124967453914,-1.2698027967776602,-2.091160439999817,-0.8846551540222298,-0.38972072340841957,-0.1661846674562112,-0.2492425512666185,-2.027547989049814,-1.1238464852331898,-0.06960473513187271,-0.8112014137307854,1.8638634567488044,-0.506388488790558,0.012796266940814345,0.01664953086450983,1.464209241767866,-1.019620731662431,-0.18209068801304892,-1.3306195883291783,-0.6350362510272902,-1.2148862140001429,-1.5897101426237217,1.8910680470353534,-1.0474836037827704,-0.22600284987645916,0.3511979849826451,-0.47876516895100885,-0.8856211859691339,-1.886570560547359,-0.24923614294667476,-0.09664297447066868,-0.17617827374473832,-0.5737120021611402,0.8211780740530304,0.3645948332305935,-1.3379990230570313,-1.1411739932382752,-0.05741691986389117,-1.354736555721464,-0.54932726868559,-1.5930015066268934,-0.607756630991373,-1.2619356576783765,-1.6506113082589315,-1.6387934746890478,-1.3888613760836865,-1.8457510058978766,-1.123126101870817,-1.0447571232521728,0.03158690603630699,-1.4908119485809774,-0.18567344369032412,-0.9706296585564697,-1.0943798427836469,-0.06961875784407276,-0.3777035466275231,-1.4887127667989717,-0.9857644660194631,-2.041130981818067,0.17038605719588237,-1.1881666733150344,-0.24413348132152943,-1.2506691344050216,-0.988512529371585,0.9922099821196781,2.0874023106542574,-0.24519136684969492,0.614118248715221,-0.16002536670352854,-0.007575082626286092,1.782259070713197,-1.424310787561288,-1.0867925843752544,-1.3674662218330893,1.4213209264227944,-1.0744660586026773,0.005764977308171167,-0.4377056598238591,2.7924309791192563,-1.2648796176615262,0.08872916611464163,-2.0237837961444582,-1.2663195941886103,-0.36257758516609917,-1.4369625010276093,0.013139569035597272,-0.14308599497169433,-0.19566369437159484,-1.5982552936960526,0.14016268844105076,-0.19840793460996842,-1.1328158869958225,-1.2089093013228929,-1.9297136651442643,-0.19728987110002316,-0.9779116685436287,-1.713628208517047,1.0091143015687327,-1.4811900041887287,-0.9521737179592049,0.6419704710734263,-0.5241669886207052,0.05759504601306118,1.5465390204437994,0.6311429397466294,-0.07829779866851776,0.7647309105870848,0.7798904417244646,-0.45669773647206185,-0.06537301730493345,0.7804445158733894,0.04859145260759062,-0.3129889695965941,0.6066644861931516,3.358863055552874,0.8821401178431199,-0.37958386541252104,0.45164845117700053,1.774679220814402,0.2901743613106442,-0.42954334795561416,0.6549341176350006,2.0811702589835117,0.1710479088781472,0.5215125115903374,1.1561508816519348,-0.380000010108411,-0.7094719468847441,0.47437575481266925,2.9809871183919108,0.43883498510292035,0.18784545637395497,0.17940741678613314,-0.688104995028791,-0.07965184431342277,1.167409450398214,3.0199706928180743,0.8402116895892894,0.1314598881362087,-0.11380440703052855,-0.4738194933516809,-0.1633003527672308,0.5510885837252024,1.7384705986099096,2.5306325766141957,1.1864160984648102,0.5323037740389036,0.26519122353353847,0.08636097107731054,0.17937057598508782,0.5614625857310198,0.7934889585264586,-0.02381041583192307,1.1464878797496163,1.5667502555749977,0.7840612499028625,-0.23739059988172398,0.2360286061656981,2.270111587758827,1.5623893188958995,0.34947087150785383,0.9747673332906419,-0.1503717145906853,0.3020898091869065,1.6528546054029967,0.7949480795377983,0.10541522368042594,1.035051930574978,1.0706809279726726,-0.07447893910266716,0.2723732357285771,0.9815723295001735,0.19204940091070208,-0.16563336746797927,0.8666216096511496,3.554961847411525,1.1181212502502067,-0.05731521109801421,0.8017132122217443,2.0148531819528928,0.41995761295226314,-0.3175494889142819,0.8946097712333204,2.266552343521512,0.36534335974783366,0.7069534039674482,1.2781118566363856,-0.3008125328238186,-0.593461362186497,0.7489955124125999,3.147237157422329,0.637408713274292,0.3432542157348995,0.3094843539067899,-0.573841913398787,0.08666025695683782,1.4165443334625714,3.1462345301367503,0.9453827422299541,0.2990507780136319,0.04818732123597634,-0.2790665788434531,-0.0422487388630315,0.7448583047041876,1.9776289342167135,2.692005172898759,1.2857754048549606,0.6777542988132262,0.4107867044253222,0.1849765248535618,0.23796307759486496,0.6185458427363729,1.072797900782071,0.23632092678326375,1.3025458211590029,1.6936835201257752,1.1309148366526518,0.1410217693052022,0.5260997455657284,2.356669671940911,1.6534063886955785,0.4712891463329251,0.43085389744282004,-0.5133531054421527,0.00331657197739989,1.0438856597633814,-0.014302369953862798,-0.4734533084520583,0.7501692033292963,0.5364079927217569,-0.4333960299744255,-0.04878154185107743,0.4591660048795902,-0.47347039075795727,-0.5600779646729671,0.6300037299518034,3.206981276367671,0.5782236603895534,-0.3312084783144406,0.7270975437781866,1.6125496694340906,-0.08564857532289476,-0.6028520170216012,0.6185943384699915,1.7016877588099018,0.1341433545749243,0.7118177586242476,0.8631798965929383,-0.7611381529655278,-0.9435812964480111,0.41597877580935777,2.5487288578925202,0.4735961129883939,0.2721546789728747,-0.1064421452174367,-0.9877846656052972,-0.20785051631747084,1.0118735177866738,2.7474275533745978,0.6338705261018007,-0.08855277007314605,-0.5693060729114223,-0.7908616353046841,-0.3649240878281738,0.5099927667503462,1.8539676141127823,2.400666019294086,1.0159514004768635,0.2788460569723979,-0.05937008124559704,-0.2813739860949275,-0.1763679235656453,0.29586880784901026,0.5232274066512651,0.025557628214384825,1.0695480969586524,1.316285471374895,0.605334052130987,-0.37597205749822643,0.2008248091717298,1.7211677888116232,0.8884378198962715,-0.08954036537480638,0.8645532383505682,-0.3199106515899358,-0.07292800253681259,1.209216905486564,0.51902219291081,-0.22866648286260174,0.6676051297743365,0.9817313576705624,-0.2540391292049025,-0.13880020697595755,0.6028362091386881,-0.1337790669504334,-0.40899466360322057,0.5296723408432171,3.4848334764541335,1.1598834847938955,-0.16108294810494853,0.4682462961386488,1.7645056943193362,0.10780257324757801,-0.6199093674155459,0.5870206431168086,2.366976414198931,0.36575599889215626,0.48906516337300915,1.0904816297275768,-0.5609710564708198,-0.8664346058066213,0.43601884132902463,3.355559473477293,0.6793212482688252,0.17635184709629873,0.14247292490915486,-0.8236595531700897,-0.158956351480341,1.2314899309625766,3.2901837014040325,1.0183911916343458,0.14664369248123357,-0.11674238887218687,-0.543598463282349,-0.21313063938918952,0.5923858110544468,1.6983631997944908,2.68259129054427,1.2436913278959862,0.47938920064569585,0.187467255572234,0.041667173295046725,0.09229930510068371,0.48802044891551233,0.8114999643583323,0.021939312501425584,1.0962067107564388,1.6227270470623507,0.8337244369516476,-0.10895622987759056,0.20209319324901576,1.8925551839753272,1.3319276469763477,0.12824249078521033,0.4032739855510298,-0.4491133480146758,0.17017975787154657,1.2018641332301216,0.18263222662579465,-0.22063789842902773,0.9843412499706935,0.4678320172542936,-0.4713501525725134,-0.0006931762935411833,0.5034856310366037,-0.3655325535846085,-0.41718482314327976,0.8499502691590114,3.013503230231096,0.4522741199732347,-0.38723880274940975,0.7340921450834892,1.4612856911418515,-0.11488568480844547,-0.5046854143552358,0.8555726328115305,1.529527851953511,-0.06470723298236865,0.5789269926151492,0.6712047621632423,-0.7461531781815831,-0.7673658907700399,0.6345047677620558,2.3133083006491484,0.19247885591491262,0.07277523648793208,-0.30075415009322004,-0.8349795328365337,0.051459957226424054,1.2444760237457324,2.4926321853211393,0.47719556328725665,-0.1487670653457732,-0.5469885732623752,-0.6035311991642903,-0.12401361475893716,0.7225459427988997,1.940933376500695,2.2182829316655424,0.835495438332284,0.22686733382765806,-0.08347579090007985,-0.10846075927479337,0.01949720376789473,0.48886391267416096,0.5783476794002235,0.1508471504825624,1.1851906026576604,1.462519081260391,0.6870638430338503,-0.271528858659633,0.45407617361428165,1.9711116154689254,1.1112976428040584,0.15693629150742908,0.33050971997005424,-0.6343088345063103,0.02117873484379855,1.1693420646373893,0.15271755259050565,-0.3940578487019231,0.7537799220017931,0.42912776451091494,-0.6166767722871099,-0.21904911533180102,0.340870828166177,-0.5597366416760965,-0.6529193393045533,0.5966496921116743,3.077206523331296,0.5137177630277179,-0.46414221450772547,0.4961759243853836,1.3148254767834335,-0.36409835923874867,-0.7683165860897989,0.6159691771923054,1.6953809387785752,-0.001142408545821062,0.4884203403842916,0.6328053265436575,-0.9615867312540486,-1.0012416946918365,0.42139068063353097,2.5755082369620097,0.27049148437940396,-0.0062631402963618,-0.34364033541639744,-1.0712444652324185,-0.20751006220930115,1.0786735670311367,2.7776958517883448,0.668615204553571,-0.04536692026467015,-0.49719130088530517,-0.7705744615939767,-0.3270427515084066,0.5320101267631178,1.900568176138614,2.4381333314879674,1.05424713628229,0.40397735627902304,0.056317434050852294,-0.11618015764647265,-0.03791188259934355,0.4264669207476367,0.557773420556221,0.030226431255094496,1.0674518261287587,1.3732216897102325,0.5929141766941046,-0.4112932268655453,0.30474034385023424,1.9082955269245447,1.098135877783991,0.03949289371183297,1.0584570781135294,-0.1755074210860534,0.23890609952002104,1.4920367870886522,0.5879532362056004,-0.23739562967926536,0.7917802262749528,1.1697909238737867,-0.10144220037880843,0.16393033548536004,0.7308801943717246,-0.022590479499716782,-0.4953626168348594,0.6518800413964347,3.804989711768512,1.2085153457209388,-0.04862073163787776,0.7953174881169562,1.8423587826925127,0.23366634551274826,-0.5316208879828596,0.6823189542778554,2.4083004353796675,0.5030638021620528,0.7244940299164548,1.244385097428384,-0.46503243147828455,-0.7859448044320195,0.5399278570435573,3.3457008856105026,0.8111123803826996,0.5193835053262778,0.5107936143665627,-0.6706599201319302,-0.14953532358134336,1.2114608087260108,3.5052685205385625,1.0727734597052578,0.17772718416705965,-0.12972635147099143,-0.5635249381570313,-0.16667224426750343,0.6507389731024091,1.897429869144457,3.0056203326086717,1.406046813998192,0.5588087177628902,0.23860492158653382,0.037444277101294346,0.24494146720795792,0.6100529986003879,1.3050062480825924,0.2629628512281861,1.009288426000246,1.4972350528468055,1.310204087796649,0.19565509788678234,0.4402441869176666,2.1608065694733125,1.5891525826696251,0.3208416038402122,1.1943990511197367,-0.01902959116291798,0.3647830876868192,1.8124446167420822,0.8663288800445236,0.05521427440203268,0.8727402578147977,1.3642018953761483,0.05374124577714011,0.17955903286090036,0.9107225029080444,0.1530035360506733,-0.2564089247472422,0.7247660823912137,3.8596023303376734,1.3716068539129627,0.030984690467931782,0.7269317560902036,1.897416219924368,0.3836320857368709,-0.28928499289861287,0.8443837918952478,2.532012546997776,0.5270003947422677,0.7349743911185038,1.3400626296271547,-0.23192742941281955,-0.571150954701265,0.7202143069076341,3.4895649655918635,0.8645979628291963,0.4732377340971896,0.46434942659819345,-0.6009789705841243,-0.012927416057224821,1.4114459686517489,3.6025630699042845,1.1522661459017842,0.3085698423335652,0.05854305539378407,-0.2753055925330798,0.036595891804509506,0.8769016674128901,2.0583608769384156,3.0643622195903917,1.5144997010984447,0.7425083150456747,0.4536069390818671,0.20023166453397268,0.3461423328340122,0.768170230016211,1.3930401634751046,0.3697932470060461,1.2044479813272086,1.6231720305744706,1.39607106352549,0.3738205843428072,0.548089634807797,2.292587585196372,1.649033809218156,0.452234739411727,1.1920971838756322,0.001502699722274414,0.4382746887276258,1.7928038581012686,0.8595825280348424,0.03967893066621912,0.9370294374683042,1.3240217247650152,0.04497849516193953,0.2642262582902794,0.9683037851290152,0.19548615195862604,-0.19149560260568393,0.8158481527418048,3.8349202361696704,1.2805384890607807,0.0054339576561955654,0.8415223177895821,2.0923175082876413,0.5351221546926124,-0.20327904714256798,0.8651602447706837,2.448047735246263,0.5034879069969932,0.7516717072469609,1.450068456447633,-0.18721599629771063,-0.5318055095217457,0.7214799766381337,3.4007121630645543,0.7909521009919654,0.45297763028569044,0.460979504878052,-0.5920832760885151,0.023809161003604615,1.3554724529569646,3.5515144336810907,1.1444266478551937,0.3790758651108806,0.09856522144450591,-0.2466200404253065,0.037993756075119775,0.8370613225364008,1.9677175292766451,3.0168352566374654,1.5045100603353085,0.7704510493118925,0.4884154325529768,0.25238981172558783,0.2880031896558244,0.678717193214278,1.452024549464331,0.5097210043301413,1.3462137275088513,1.7563623026574597,1.4075461476460756,0.4048825229918695,0.6065963682955731,2.378629260315973,1.7557594728821235,0.5032864300672962,0.5585384268734346,-0.5918702916720784,-0.0652137792666203,1.278954782737069,0.4137864189989109,-0.4104584091599419,0.5333558714067269,0.6379832225993138,-0.5662801614948754,-0.1594172436233377,0.5205817673067842,-0.2216417575056899,-0.6801621658670872,0.3799116194477135,3.247342524931442,0.6401453640529572,-0.5634482468221583,0.4187032798002446,1.6373634841086473,0.0205216170209593,-0.7542976229178653,0.43605160372687785,1.7569742408169067,-0.10638371193587286,0.31433616901585004,0.9059123558805069,-0.7750347362955816,-1.056305795598475,0.26873719364703436,2.7909047741056936,0.24078659439864092,-0.05574359215473679,-0.03685720743368209,-1.135515363191995,-0.4001968257177763,0.9865604992660676,2.973636855479255,0.6395000291355191,-0.12177600574182791,-0.44701006976348534,-0.7833504172629268,-0.3898671186093798,0.4244725117229963,1.6589504566994038,2.4922599402926986,1.0251637788567038,0.27555429126471087,-0.07815841188210355,-0.22464536852356282,-0.0737766781889989,0.3435457294554733,0.7868255114189426,-0.11045178794144069,0.8860212246615752,1.382104773787017,0.7380299966217991,-0.2904576381575927,0.14214947274310838,2.036022875971114,1.3921402256745308,0.09103093577569081],\"z\":[-0.16725349191402636,0.37118694895649806,0.5091118606838154,0.5407811646711311,0.42118919463647514,0.6136163473031252,0.06640968126778772,1.1916348935656271,0.09177699170076577,-0.47430991039120024,-0.5051518263277706,0.37552758127850117,0.6009023692040525,0.03279109105798369,-0.20047536304175062,0.48826358772645906,-0.17840209849962313,-0.10540864984096539,1.434288388231952,0.9951592969488509,0.341558017064525,0.42118070030113475,0.7734190507363558,-0.26118227788143417,0.706168820167712,1.5069328333394487,0.5977053626309808,0.5201599459799914,1.0416520363138746,0.63575067725552,-0.07407314281511794,-0.06568257508117459,0.19411976279027107,0.6469185894565064,-0.12907554356963888,-0.06775291052931165,0.03418001432965175,0.163417041139662,0.011718543597240933,0.5278804307736379,-0.034104839078708225,0.7272781431279272,-0.23198794326478175,-0.21590264305350143,-0.3239990503857444,0.7861199564517373,0.44240089128691984,0.7861199564517373,0.054788389809381284,0.03629529961628617,1.0256486980054282,0.0037018222142688718,0.3592858572301619,0.07605175972401867,0.2285719424752106,0.30114657134168443,-0.3346032422255883,0.18243515474240776,0.44330397965374563,1.0247873651766648,0.6563527231226068,-0.21929622557940673,0.8816224962276038,0.09950762133064671,-0.06049104870829988,0.11630387631463966,0.7320987929399609,0.19642235660268847,0.22709079527935705,-0.12549882230984052,0.4678970882302084,-0.08696892065399588,0.8819785872633529,0.5106505678777249,0.8869827418363275,-0.1933503991422421,0.3219937524229943,-0.2544454188180712,-0.29201484575949377,-0.23904742168395288,-0.2505348220095109,0.21761264421086515,0.35446433069639904,0.502981654070547,-0.32735998898826485,0.1316503001508355,-0.24078695376892048,-0.36097277707651015,0.4206647444631445,0.1854674794980014,-0.4309202668868625,0.20351933431677274,0.2730729832898803,0.9666697819736327,0.1728924299441818,1.1574040336946927,-0.134929374929898,1.0214551966295882,1.0013349495015837,0.531310300567791,1.0209259144916594,0.3039152550963699,0.2880641088819334,0.778490324884703,0.16163065357953596,-0.2146158061382223,0.6688070787888578,-0.781403933312441,0.5544393361422054,0.6304296835758016,0.8476492798711982,-0.332426538701234,0.2997701809089485,-0.16952957470219424,-0.01835556611070331,-0.1429106119369563,-0.13614957466405664,-0.4086178231191385,-0.22412874947649042,0.345380299470747,0.7383760761878249,0.9685722986546182,0.6244556602883764,-0.3294044514736469,0.6848060633980855,-0.3034739375387758,0.7829389001967909,0.6109596374723227,-0.13631498603709866,-0.02470980637737899,0.7408872476860475,0.4474742278195894,-0.37321978765157476,-0.2220417026388606,0.6632194194025276,0.8435320771447737,0.9459925419003667,0.3312476833112914,1.0837273987092262,0.7272781431279272,0.048871063385096974,0.5934604682441692,-0.0824652791223842,0.5052360217132525,0.8099673199154233,0.2615675444446429,-0.11438818663939687,0.05649367524232117,0.0895017681271908,0.6081942814240042,0.4106691401807996,0.09912497855197894,0.1883404951883175,0.9168113091634611,0.3333902840541286,0.662593644344002,0.6856104573593395,0.6871794341725221,0.6162894123209499,-0.19636267408968391,0.01664139490433848,-0.021186016573771213,0.43814904555505557,0.3279238527778214,-0.025618797309525827,0.6370768093945706,-0.08951223526119322,0.06023641974625893,0.5749760856296368,-0.13401746924555533,-0.13135347681812454,0.32243393797275877,-0.16994872125231883,0.8569316572717942,-0.023824454435300294,0.7174873312897799,0.5276987080812532,-0.031517808280901935,0.33072690883055444,0.20337359444645278,-0.20270764032489252,0.40301619182538545,0.5799014432664518,0.05509490403544865,0.6002593329390273,0.42571428031773695,0.712098184024432,-0.31654987612486046,0.7397499857689941,1.0733906487385971,0.345380299470747,0.9141356857709247,0.07488019201481455,0.2530126241382714,0.9547373142143767,-0.781403933312441,0.19599151857115937,0.33030200661639936,0.30065436646969534,0.32581868195105335,0.040864837161013,0.7038577766445298,0.786122080035572,0.9012559757304033,-0.19103574756281788,-0.06082954494700706,0.27081901004455183,-0.23660247338582266,0.20860457315044026,0.7689941618953994,0.8638922013199384,0.9055323271422624,-0.23032169696836644,-0.039536765182872954,0.1978486511570915,0.09975592627469805,-0.28293158541788627,0.4878164148133557,0.4343636640598352,0.2918117130484689,0.07745263845521916,-0.3300107568397183,0.5351255178048467,0.880942217789484,-0.24393126503519705,-0.04800129175085416,-0.13135347681812454,0.0873163894178916,0.4990744100535195,0.02709856037377273,-0.3341246710617859,0.6319118317834093,0.5591641691665057,0.319911422703625,-0.12390982630737983,0.11477606971541837,0.7686984211140683,0.30200384695839944,-0.07568447616072758,0.2462384766425915,-0.1945481231754672,-0.22097639578949124,-0.013240396208564665,-0.25534492341232423,-0.19800999327529623,0.4337770541225881,-0.010779953807357637,0.5964967487495166,-0.2774990268088954,-0.1139898016987081,0.8718100144986792,0.4202797818205085,-0.1919052228339786,0.00035066822129709084,1.0423686660343354,0.3768797284113781,0.3525680183490014,-0.39268880851092836,0.04271058907730277,0.18701413728140232,0.17042333116145253,-0.1063717627294902,0.2646946161065017,0.2999887093389118,0.002143609577949646,-0.17634724387863476,-0.27641072640511066,0.8500334643306656,0.345380299470747,-0.047531161852925365,0.9609995776662731,0.9003711633059386,0.2931562721421107,-0.29969473654701206,0.2429592536356134,-0.08341063753749735,0.20938223244988668,1.3587910294385408,-0.29471828733805894,0.5570628964618861,0.1458230843510422,0.4773503337663591,0.6523211787855434,0.28341193086621247,0.2918117130484689,1.164573428799951,1.2656879445662026,0.4092738982913617,-0.2195104102017677,0.43355380123213344,0.10404148547170378,0.9734898089627567,-0.035126545763901416,0.5166852600950874,0.37653400814884075,0.34561873248125313,-0.029058171924806562,0.1542188214140027,0.4738353547319541,-0.2638691380260684,0.42118070030113475,-0.3015073615470869,-0.1284372547448675,0.04108727260571695,0.29775680423654477,-0.18580298190766684,0.31531555861601396,1.489661164074284,0.9875062925023678,0.16991697754808427,0.5364454463240397,1.0876525450156767,0.06176411958020642,-0.08732200844639318,-0.4602843145631329,0.42118070030113475,0.2635025140954358,0.4077513683020007,1.2482094112409028,0.19069755924184312,0.2615675444446429,0.5409232613755613,-0.31929737504126876,0.7709683323669911,-0.12556973165894755,0.17973965848917028,0.9573076687190313,1.0656608468361608,0.10528346386972993,0.05407730605973601,-0.037592633474362536,0.08754728939050864,-0.15306778974179516,-0.11178397711213271,0.201842084891814,0.3207697101907336,0.19056386084313293,-0.04492973866290591,-0.16964856971426062,-0.4200712613128358,0.27180422925829184,0.9343972848400518,0.057117096469792836,0.3303403703167232,-0.15306573348212182,-0.781403933312441,0.23427149353123078,0.20212876764640356,0.00888058485997404,-1.0056303468569583,0.8356110585642442,0.2615675444446429,0.42118070030113475,-0.18062274833776745,0.6636730776829581,0.5710658164310214,-0.27699276502024045,-0.17148269202559227,0.6360147867089747,0.4744517936899234,0.5458319255231248,0.1286581374208681,-0.21802216310848635,-0.16593670795379842,0.2877723311581911,0.14474780963888395,-0.14364562671425687,0.6553857253517739,0.19344940631528912,-0.23118956163544244,0.20328784762944946,0.7423657831409731,0.3801229948944476,-0.39061451947145415,0.07546858438306331,0.4274679685356228,-0.09981752855921272,0.5934618327532754,0.37842113456048077,0.2517378582979767,0.5831124354944058,0.9665666099807144,-0.08071725918112684,0.8774129541999416,0.3612456189683248,0.29568363800461606,-0.08926614583435877,0.4676539399729469,-0.02242505762145652,0.9731174979452814,-0.07358827377120392,0.44469590873709686,-0.24050144585366204,0.6551200331484597,0.9774753493689069,-0.03626957633180549,-0.18136939199292257,-0.26605748726507167,0.2621828438573111,0.32229550181670474,0.7029554064337925,1.1876801276846156,-0.4030640783161875,0.3205652742111186,-0.2774990268088954,0.4120247552290729,0.39819567986494764,-0.24249562949577905,0.1231258373562321,-0.40510577315915963,0.07973071593791115,-0.022572444214106587,0.5981472594307242,-0.22277024711131327,-0.2031086415157392,0.5278379709912893,0.8790893810550324,0.40463722671881575,-0.152326395874136,1.3843794728752454,0.07750420063158972,-0.09944079728371778,0.9974168035870015,0.5626595566797307,-0.43062050566657595,1.4678958923019727,0.40534209748744915,0.2918117130484689,0.1805345556860666,0.9514822461158311,0.31599679350381105,-0.2069044633822883,0.4410810285983053,0.13251787176611482,1.0202738905153326,-0.5209349955609371,-0.2774990268088954,-0.2340724115419442,-0.05331647072861312,-0.08009468923489742,-0.13818491075073383,0.39361873992619995,0.5711349751163814,0.17183165364559097,-0.48643550257463825,0.5697805137843356,-0.0589952190489785,0.14708907332892648,0.8615851115457607,0.40404535888856036,0.4274995530637758,0.4389666553024249,-0.29224020639525705,0.527471726844311,-0.41667196208960805,0.5453325323518243,0.004460116765396598,-0.16420785402736002,0.4253515903095077,-0.4625115901178006,-0.26261905121287243,-0.1424379846690433,0.3042462834647081,0.0160304438603494,0.316998109462943,1.1556173959963638,-0.03483030975290301,-0.1523680984874295,0.30755309977432205,-0.1621981368177514,-0.02212706725498714,-0.29418730854232433,-0.1005105394719871,0.3351679360800756,0.27767866325604423,-0.10565525022172818,-0.2774990268088954,0.0162941404325206,-0.12002716080938328,0.076063238224388,0.6957063431754489,-0.23623783549588004,0.42908812333770596,0.35801610597641365,-0.053669202873214854,0.13127314803865262,0.13130494290045752,-0.10936487995283797,0.46744444070207297,-0.15871413754642055,0.3491689650971375,0.5251115201114667,0.047392004800620495,0.6839283308672528,0.757423125290924,0.5232357523571387,0.44652549173215095,0.2463697887382263,-0.13135347681812454,-0.3108302813360149,0.16858956907018408,-0.043751168113189624,1.031165810814543,0.4082855134568923,-0.004480857076893098,-0.1661494381515824,0.6601410575713799,-0.001737289737590303,0.2873910684418112,-0.2689459526419957,0.16475218791527893,0.1479104833355757,0.5852789702010617,0.37622346171456383,0.07863880948550153,0.4065922451464393,0.6887284982013745,-0.23658459566430246,0.37360425465175173,0.12403607040194756,0.06685936006909671,0.37531662139782423,0.30869047845122777,0.2521439291659019,-0.2834740177068046,-0.13111848588052877,0.5502764676094173,0.5375287873789124,-0.2135162403406696,1.1430272513785569,0.3241623341791742,0.566696263572334,0.024813725454849108,-0.290344528124046,0.371274999502454,1.4907779559504373,0.5854584304324547,0.16510738387800558,0.6514788268907082,-0.018974018815097582,-0.07623321320058993,0.10177911100717273,0.5923930713766385,0.9362232405507932,0.12414844793781607,0.9426906316483815,-0.5037599986522429,0.6186833396170579,0.4162884988396633,-0.15065499332974938,0.06464203801703428,-0.06798942368180243,0.7963699456409965,0.8639636536591561,0.8469147998001405,0.03999594884101507,0.23031196213604013,0.09122028857207247,0.8730470567755078,0.1751684263585167,0.9204550444049601,0.07956683144472244,0.9643535685490431,0.8357771115521712,-0.007253227963915793,0.27967011910304573,0.2942650485889775,0.47647951173211434,0.20811000995778847,1.107492357238217,0.15572143487850226,0.8843904251273889,1.0336879762936044,-0.22261874061819223,-0.5097627946375066,0.3118905779114649,0.3507559685246193,0.9167328565010309,0.7152613491484188,-0.41454489362062696,0.39899303964861726,0.9970540694004686,0.27702935295552106,1.2015417676066393,-0.38281962436574224,1.126267344784964,0.2722681890716247,-0.10786040822434038,-0.427995785748859,-0.35257735150961617,0.451884800211482,1.3912830907603437,0.0583807356044737,-0.272980166329681,0.035685601774521944,0.5881363878573592,-0.2774373301947204,1.1066277203075912,0.44471894566736714,0.5043286198845126,-0.45833078855326465,0.03387424510649024,0.6547922767956353,0.16334524997360253,0.0873163894178916,-0.192625531733351,0.9565665908391535,1.1350473252036009,-0.016941626341946715,0.015521026866440739,0.7121734476280247,0.7100054592900655,-0.2219690590749696,0.21581771739655295,-0.2957940578351577,0.7272781431279272,0.11879605115407878,-0.42799153858118894,-0.17343618529983276,0.5195761569315682,0.6369791127324874,-0.20782463675955257,0.26281405128264207,-0.19597593995885795,0.34495672214990425,0.4310619800423146,-0.37275438209640693,0.4911149120551087,0.18873113532802,1.1555963848069732,-0.22115343428704295,0.08962597159209595,0.4736937120674602,0.3668992776047144,0.3276984247043726,0.45236257506156485,1.0725828128914612,-0.22093122093184478,-0.31200946904215676,0.5655040603117436,0.2803772581848618,-0.1615120255406276,0.24820680288371644,-0.22446458875879696,0.3216471424376463,0.09515697130807294,0.4886595469805991,0.18329332031020285,-0.27177925196625985,0.1883836220523523,-0.18101695142976465,0.6924010839050405,0.6405737600204398,0.8972600896873086,0.13561105729364684,0.5688652573774646,-0.027954082418283597,-0.42799153858118894,1.1497526569884473,0.059076298830718674,0.3813652570236804,-0.42170192773555826,-0.13922408022314078,0.6013457852910978,-0.011926415529430459,-0.35112585458959816,0.3958183184763072,0.22330542410969315,-0.13135840082087347,-0.053963524676367954,0.6972317502574379,0.261566908071097,0.38042881942974155,0.6098072198286943,-0.5167928840324315,-0.4533169725480564,-0.3365732397862994,0.6647522651190483,0.019130805848290033,-0.35918145407976987,0.07737923387442673,0.7313223212059784,0.7071298788379845,0.6521487306746988,0.4837648569325538,0.24156689028567757,-0.18770060715595824,-0.3484607758525365,0.34067316103868206,0.610121262160353,0.30837260145913264,-0.13135347681812454,0.8441019415521898,-0.10885269902108526,-0.2897196715285175,0.36373308455175213,0.5490432790234321,-0.14895694851109192,0.706539579658467,0.8643568342216619,-0.06618139884696166,1.144516902348393,0.40709345408104836,-0.16580406555798202,-0.09518357025300059,0.48283433139158277,-0.10951298009666738,1.0027355861993406,0.10766917403266475,0.10921619391171325,0.06979393900116353,1.3844934654844607,0.18353980350563132,0.8414461977805915,0.07875214519699618,-0.1781047763747735,0.2615675444446429,0.5240195805198661,-0.08200041821229312,0.11786604368740038,0.2199516164368008,0.32399824276827405,0.380508607813961,-0.25541645069589763,0.399763441419663,0.8198704817268996,0.5770623880000659,0.0873163894178916,-0.27749140881871603,0.3943743743841842,0.36252054057900107,-0.10723025780056569,0.02184616005767725,0.45355921052542686,0.0983621488072323,-0.17698541200014795,0.6973073283961514,0.23119300469206844,-0.14943582529342767,1.026139782776252,0.9532947724923595,0.5237670122570278,-0.16852097279070036,-0.01117921517598682,0.39935822675229493,-0.0956335342281854,0.1530387214077015,-0.39796687128884123,0.5539484730495593,0.4483356648630373,0.6195693670813868,0.6656715782464679,-0.4873962885362985,0.8267991312948149,0.10466843210131455,0.011475749061614141,0.7925134790479769,0.11984358746178221,-0.11881680685219807,0.5735732453596449,-0.05776981448392829,-0.19348476373653026,-0.5162053606918087,-0.5798238080288395,-0.11762713062259199,1.0971902424102242,-0.24117402837355909,-1.2760459039003984,-0.6476617122028039,-0.1852896771296035,-0.5666496067951498,-0.10628424104870376,0.39986182948405913,-0.3000204772190911,-0.8714037122075627,-0.2496838641542529,0.05066892988822099,-0.4131524137381488,-0.7288709096802692,0.3329539080134435,1.2292907271793578,-0.18156184037124176,-0.863544661796573,0.09920361716768718,-0.0764797103011745,-0.7477507891556239,0.01380767298145825,0.6536030761092447,-0.556047020032004,-0.704531639848988,0.19932705533839584,0.24798645685239476,-0.9245313466210625,-0.5052795315415481,-0.27839963741269375,-0.8624042748679591,-0.11332753972501607,0.6379956976834362,-0.23927214869328428,-1.01594894096714,-0.9527495341278427,-0.7574542378590254,-0.7679016273867559,-0.4329421475309707,-0.24592513577206002,-0.429946378712486,-0.9865734286114785,-1.1613699150374528,-1.1056117052852414,-0.8874886714027475,-0.8004006904557631,-0.7509684836333383,-0.760725430140394,-0.5546972426827325,-0.5871952830090961,0.47523224459644253,0.05926021292767968,-0.8596472548200004,-0.5384848283386398,-0.04596256303009501,1.8987977230820792,0.635559281863326,-1.1433198569516414,-0.4655209508933716,-0.5994179282505049,-0.1859468068515221,0.960191213059591,-0.1922821510322285,-1.2564864021739914,-0.6173287729652507,-0.1795357548600761,-0.5240867240200423,-0.04237354980690493,0.37182056478876374,-0.2732092752171139,-0.8812504690842715,-0.24937355809355594,0.045520124952915804,-0.45644407115919555,-0.646585469726892,0.4988920308456126,1.2802260062706132,-0.11229896910879857,-0.8422041501188866,0.11374016450281108,-0.13506554965880643,-0.7961451884301648,0.03443966518352787,0.5874947395711242,-0.565515376329534,-0.679623459324611,0.2112104538628578,0.23672210001724342,-0.9068941048279854,-0.4612290129177977,-0.25003375431959673,-0.8766151119924904,-0.11196579455245717,0.6298688450268041,-0.2897017170290174,-1.0368870631294274,-0.9507365609929764,-0.7928547344984829,-0.7673355021527695,-0.4624965165970281,-0.28992895311990835,-0.4507533675220187,-0.9603147109872517,-1.18319609162822,-1.1163282249590367,-0.8971755481421679,-0.7704462064462375,-0.734069778006072,-0.8108121500942003,-0.6388138089600746,-0.6676766811900581,0.3414567556617356,-0.011028335202378376,-0.8696152857554379,-0.5560623365374011,-0.16123729000837414,1.719477330751472,0.4922954477818809,-1.1885275055286135,-0.5090397272164632,-0.5898544227162515,-0.02083022157734235,0.8774769018099395,-0.5191878126945257,-1.2625503636483746,-0.6107421200860761,-0.23234644921501216,-0.48312415176623796,0.08636662498208146,0.3511148549195183,-0.47873173098884436,-0.8659200268739312,-0.19346120893214594,0.1385821051433889,-0.48798241109968227,-0.4923166035320087,0.802437712899362,1.2609878381020279,-0.1932526684768376,-0.7215682756028968,0.1916764414867506,-0.15798458270747137,-0.5502901632600368,0.40551064031965334,0.6598729583626458,-0.4892098924302108,-0.5235966488859153,0.19245421332935023,0.026540389636145904,-0.6870567087374257,-0.12683353179083975,-0.18147541442804815,-0.6676714690907694,0.09768543232267651,0.5647193203086769,-0.41096248459305207,-0.9938774307796255,-0.8157094984048362,-0.6703955392181828,-0.6023633311500147,-0.24522946923834246,-0.2409407564940084,-0.3322543841828416,-1.01564453817534,-1.1281391236216063,-0.9779507107784045,-0.7129585454079224,-0.7166060436775792,-0.7184046250362769,-0.7963067309075798,-0.6378689793743212,-0.38056084532859136,0.6152045463024195,0.029435169563375756,-0.8190106974363527,-0.597059534496132,0.07069922589619956,1.6969109832116749,0.28667293951637013,-1.167795684136207,-0.46635866770804496,-0.5897173096994159,-0.3210516580076833,0.8145067759329895,-0.09574966070647095,-1.2935011887136256,-0.6814320835121791,-0.17267770797323848,-0.5877681742422981,-0.22902251197234685,0.2959281112418401,-0.26178674865914126,-0.8812262920488906,-0.31226143863074163,-0.02163085705862297,-0.37821874539063016,-0.7419041165200748,0.3215694338968142,1.3007192057992667,-0.14219675513738633,-0.9246889285035088,0.0457558224941392,0.00687167314546093,-0.726634856408596,-0.12290336058980876,0.680570415565186,-0.531843969872204,-0.6869189900063489,0.2011070926568246,0.35791911594343334,-0.8392249015100582,-0.5429333515601715,-0.11581963952579273,-0.8413348524521768,-0.1384100155331748,0.6092603958621443,-0.2570843480409953,-1.0002012209163027,-0.9327762723576667,-0.6796024882029675,-0.7485327564056556,-0.4796131859378257,-0.33237427985973905,-0.5137502356820909,-1.1086639078578306,-1.2507298306655557,-1.1683687064893316,-0.8760201426503461,-0.7599828636928171,-0.815273165158458,-0.8683883856500881,-0.6683765741363656,-0.6780027410137539,0.4171758013293376,0.21100713552307418,-0.9380112371929837,-0.5473404440881707,-0.20911777781091784,1.5526754725989573,0.5538448556141621,-1.251683002779485,-0.521647537584389,-0.6213661128700465,0.011710382089992425,0.8234236113432922,-0.5636952902021243,-1.2750823184874682,-0.6682095359378369,-0.291592584882133,-0.5303076010350388,0.1064199439531785,0.3320526961668479,-0.5199312968775404,-0.9096844617903616,-0.24453623997531937,0.1364721477248523,-0.5306416596015202,-0.526678684120518,0.77227454081785,1.0760346973206598,-0.3368367916088627,-0.7828047093025167,0.11903496989298909,-0.23298351235166315,-0.6405486840648618,0.31788573608688186,0.43477048329909884,-0.6864021524041569,-0.6063635747968986,0.14854478618289843,-0.043918978229787915,-0.9150483613701033,-0.2772071711798181,-0.3817212940741394,-0.8088101053525487,0.04429192147122186,0.48723110433124334,-0.5221726842973671,-1.042250832758258,-0.9001666731117507,-0.8414970457593536,-0.7501446201022174,-0.34467828943021245,-0.316525640325533,-0.4069901517335359,-1.0598566174728083,-1.2249857116840073,-1.1070478458527366,-0.8934296466125496,-0.8182893213293146,-0.756632865783829,-0.8575894931295082,-0.6846792779919726,-0.4254876168313579,0.5440552436033664,-0.10764757024618717,-0.8499218931026221,-0.6266480288940205,0.18347324290388414,1.7545593251767968,0.18864617058746194,-1.1893930711528204,-0.5272685906696323,-0.5985357638363581,0.06762757726248488,1.0735141923706646,-0.3591151935793935,-1.2009205321827383,-0.6287864235161106,-0.28623831844894077,-0.585672582831788,0.059060532529996636,0.37751320411510514,-0.40864591665922256,-0.8739520953525499,-0.21823934077393078,0.08407808343476525,-0.5282796203157584,-0.5865649119567313,0.6499193896603704,1.1720075720594754,-0.320840790059853,-0.8312815433097851,0.13269360554146012,-0.2105337503244908,-0.6954383322176788,0.3230841641311555,0.5725560893030917,-0.58937503302732,-0.5782909994212901,0.17876654631557246,0.02673026872725151,-0.8528647315685322,-0.3517693654740167,-0.44111915715280664,-0.8032330544694056,0.007714221855128961,0.5564811436962149,-0.465652696848205,-1.0201684159237976,-0.8912264569701487,-0.8437127428948716,-0.7583737229952379,-0.3464538800901636,-0.28829552537556924,-0.4056476722521984,-1.0980392979762088,-1.2085992681030453,-1.0742719588338654,-0.8675938151018767,-0.8328810600511781,-0.7727644186750938,-0.8360162439126301,-0.6767614393495085,-0.5113727312163207,0.4816062110538167,-0.04878414622315979,-0.8060617698611263,-0.6094680717267223,0.1042255402635879,1.742003499280578,0.38612458065076977,-1.157730031889162,-0.47259452488107967,-0.6123844613834158,-0.22686542948387356,0.9599076525729626,-0.17765455276007924,-1.2936644226736782,-0.586490939009972,-0.15809989231705354,-0.5924171195479635,-0.17189495368722793,0.31130451434571477,-0.32581354139420104,-0.9966076629921904,-0.26365393993063374,0.16908066182689113,-0.39338744645546025,-0.6946555398149494,0.4514083217676775,1.2084124323507561,-0.14420992066238175,-0.9102255006988667,0.061246403167195186,-0.11102431381078981,-0.6758683969809527,0.05942991047977575,0.6882048148155476,-0.5708676308315239,-0.7646365227442993,0.1697524039371385,0.29164686875172874,-0.7864068519324446,-0.2936285195778344,0.06471757246147884,-0.7296401012847931,-0.11481072419736546,0.6213137166181432,-0.14331384904591582,-1.0249385791060306,-0.9124777237255902,-0.7387828077838555,-0.7743496679894598,-0.3988110096172248,-0.18847236535853226,-0.38788809576214467,-0.8801673773730884,-1.1317602177275277,-1.13660318194307,-0.9155367023106399,-0.8183248617519278,-0.7056852722643621,-0.740559439603146,-0.5853061457881714,-0.7569866038581179,0.09855587468197974,-0.07639459865250388,-0.799487809819996,-0.5961643675163965,-0.2286234664998977,1.6233538203536269,0.6670630457379872,-1.1150365319831177,-0.5064700929207951,-0.665807824091297,-0.2808890995299731,1.093704852496539,-0.08542894948003735,-1.223318177827851,-0.629848123429938,-0.17533952630130817,-0.6549065738987007,-0.27327981049373956,0.3353280629140904,-0.31053959566526335,-0.9297021492013274,-0.2922487176130965,0.12581551305597535,-0.42330579569635063,-0.8011351297682975,0.3117308902047922,1.2082640572036627,-0.14631363386736815,-0.8759914873753436,0.07563326215706956,-0.10069466967113092,-0.7802442881748355,-0.06798193344438438,0.6582473780916548,-0.5048459167323445,-0.7430127861333461,0.19366825295989096,0.3220698513393048,-0.9217818561137987,-0.4461678555708377,-0.06116485136222712,-0.8484487190588191,-0.1692687822951449,0.6205851563522888,-0.16947782726516458,-1.063653563944008,-0.9880698944477799,-0.7921177914118476,-0.7574117630647985,-0.39035261180186315,-0.1862041052647606,-0.39062105540951514,-0.864964055222555,-1.1553497206895076,-1.1555134512151681,-0.8842713184034602,-0.8317947031554715,-0.7232038980677783,-0.7930261850201595,-0.6307496445599946,-0.7197326044998859,0.22266786326565147,-0.05265459373651153,-0.8957047140159102,-0.6024304762164258,-0.213027246997247,1.6365261509109186,0.6036383407195772,-1.1712028588607741,-0.4873143529033383,-0.630884131647772,-0.27927707732749824,0.977015965137662,-0.20669051102671354,-1.2593129651163901,-0.6710593285109265,-0.14081966300250393,-0.5591096765379119,-0.2147017216157644,0.32501265995694384,-0.3212905674967316,-0.9363313742345298,-0.30251073372310805,0.1491957380193432,-0.3913474690325765,-0.7086092371409696,0.3938789912328303,1.3511732636331824,-0.07830360070158965,-0.8299109623013569,0.03182026388058799,-0.08993877620454574,-0.7317467957334702,0.05315267681506561,0.7206234653631777,-0.5482603214112922,-0.7285984609952344,0.1515465015875693,0.2918970953372359,-0.8590011267187488,-0.46836537126454963,-0.16368061517915286,-0.9003673268262575,-0.19944677640610423,0.582826610750566,-0.14662342418820082,-1.0541311231259505,-0.9798043888157636,-0.7755843674706812,-0.787870789630334,-0.43309394844497245,-0.2168124201963179,-0.39719175969667064,-0.9178141529626961,-1.1366282750968142,-1.148889523599673,-0.9004545717054045,-0.8116037297915566,-0.7740889892315056,-0.8122040085430656,-0.6743178726895381,-0.7205219069124559,0.2098009106516919,-0.040739830075293304,-0.87778340918841,-0.6241775317395298,-0.28690512450192135,1.6066904053383428,0.6281576609784377,-1.1041786949430012,-0.46260256439132935,-0.542560204851519,-0.15468807839655455,0.9518216792701931,-0.14318643320984578,-1.2498954817330037,-0.6319871985525788,-0.13083882326733368,-0.5087418688418233,-0.06846388321820378,0.38494950287166246,-0.2741831302880461,-0.9262071738521325,-0.25870685995383585,0.14602039508602782,-0.40558146668400574,-0.680391349174919,0.5530593018687231,1.4183860525081997,-0.04587183747242323,-0.8954956218203963,0.09193106058880798,-0.1046902657502355,-0.7517801111681788,0.06093270165186823,0.7450610008377012,-0.5855762174949345,-0.7525548828686868,0.1865767455965168,0.24733276292206274,-0.84640665977133,-0.4703263121828098,-0.13664194339591368,-0.882482230166655,-0.13187392840841516,0.6684414992246329,-0.2378682081992767,-1.0624984966507012,-0.9115686554009816,-0.7370915063008787,-0.7290930497717375,-0.38055868813417587,-0.19003847570989635,-0.42283919415754123,-1.0255654659154043,-1.1946007167074384,-1.1160308244382133,-0.8802056483026899,-0.7659001295376066,-0.7132361999972935,-0.7599827047463019,-0.5662922575771252,-0.624402403600134,0.3280790413568702,0.03654447515697839,-0.823070427250803,-0.5126572946979977,-0.09136936389757612,1.785923926787087,0.6814789489455318,-1.113060821933473],\"type\":\"scatter3d\"}],                        {\"template\":{\"data\":{\"bar\":[{\"error_x\":{\"color\":\"#2a3f5f\"},\"error_y\":{\"color\":\"#2a3f5f\"},\"marker\":{\"line\":{\"color\":\"#E5ECF6\",\"width\":0.5},\"pattern\":{\"fillmode\":\"overlay\",\"size\":10,\"solidity\":0.2}},\"type\":\"bar\"}],\"barpolar\":[{\"marker\":{\"line\":{\"color\":\"#E5ECF6\",\"width\":0.5},\"pattern\":{\"fillmode\":\"overlay\",\"size\":10,\"solidity\":0.2}},\"type\":\"barpolar\"}],\"carpet\":[{\"aaxis\":{\"endlinecolor\":\"#2a3f5f\",\"gridcolor\":\"white\",\"linecolor\":\"white\",\"minorgridcolor\":\"white\",\"startlinecolor\":\"#2a3f5f\"},\"baxis\":{\"endlinecolor\":\"#2a3f5f\",\"gridcolor\":\"white\",\"linecolor\":\"white\",\"minorgridcolor\":\"white\",\"startlinecolor\":\"#2a3f5f\"},\"type\":\"carpet\"}],\"choropleth\":[{\"colorbar\":{\"outlinewidth\":0,\"ticks\":\"\"},\"type\":\"choropleth\"}],\"contour\":[{\"colorbar\":{\"outlinewidth\":0,\"ticks\":\"\"},\"colorscale\":[[0.0,\"#0d0887\"],[0.1111111111111111,\"#46039f\"],[0.2222222222222222,\"#7201a8\"],[0.3333333333333333,\"#9c179e\"],[0.4444444444444444,\"#bd3786\"],[0.5555555555555556,\"#d8576b\"],[0.6666666666666666,\"#ed7953\"],[0.7777777777777778,\"#fb9f3a\"],[0.8888888888888888,\"#fdca26\"],[1.0,\"#f0f921\"]],\"type\":\"contour\"}],\"contourcarpet\":[{\"colorbar\":{\"outlinewidth\":0,\"ticks\":\"\"},\"type\":\"contourcarpet\"}],\"heatmap\":[{\"colorbar\":{\"outlinewidth\":0,\"ticks\":\"\"},\"colorscale\":[[0.0,\"#0d0887\"],[0.1111111111111111,\"#46039f\"],[0.2222222222222222,\"#7201a8\"],[0.3333333333333333,\"#9c179e\"],[0.4444444444444444,\"#bd3786\"],[0.5555555555555556,\"#d8576b\"],[0.6666666666666666,\"#ed7953\"],[0.7777777777777778,\"#fb9f3a\"],[0.8888888888888888,\"#fdca26\"],[1.0,\"#f0f921\"]],\"type\":\"heatmap\"}],\"heatmapgl\":[{\"colorbar\":{\"outlinewidth\":0,\"ticks\":\"\"},\"colorscale\":[[0.0,\"#0d0887\"],[0.1111111111111111,\"#46039f\"],[0.2222222222222222,\"#7201a8\"],[0.3333333333333333,\"#9c179e\"],[0.4444444444444444,\"#bd3786\"],[0.5555555555555556,\"#d8576b\"],[0.6666666666666666,\"#ed7953\"],[0.7777777777777778,\"#fb9f3a\"],[0.8888888888888888,\"#fdca26\"],[1.0,\"#f0f921\"]],\"type\":\"heatmapgl\"}],\"histogram\":[{\"marker\":{\"pattern\":{\"fillmode\":\"overlay\",\"size\":10,\"solidity\":0.2}},\"type\":\"histogram\"}],\"histogram2d\":[{\"colorbar\":{\"outlinewidth\":0,\"ticks\":\"\"},\"colorscale\":[[0.0,\"#0d0887\"],[0.1111111111111111,\"#46039f\"],[0.2222222222222222,\"#7201a8\"],[0.3333333333333333,\"#9c179e\"],[0.4444444444444444,\"#bd3786\"],[0.5555555555555556,\"#d8576b\"],[0.6666666666666666,\"#ed7953\"],[0.7777777777777778,\"#fb9f3a\"],[0.8888888888888888,\"#fdca26\"],[1.0,\"#f0f921\"]],\"type\":\"histogram2d\"}],\"histogram2dcontour\":[{\"colorbar\":{\"outlinewidth\":0,\"ticks\":\"\"},\"colorscale\":[[0.0,\"#0d0887\"],[0.1111111111111111,\"#46039f\"],[0.2222222222222222,\"#7201a8\"],[0.3333333333333333,\"#9c179e\"],[0.4444444444444444,\"#bd3786\"],[0.5555555555555556,\"#d8576b\"],[0.6666666666666666,\"#ed7953\"],[0.7777777777777778,\"#fb9f3a\"],[0.8888888888888888,\"#fdca26\"],[1.0,\"#f0f921\"]],\"type\":\"histogram2dcontour\"}],\"mesh3d\":[{\"colorbar\":{\"outlinewidth\":0,\"ticks\":\"\"},\"type\":\"mesh3d\"}],\"parcoords\":[{\"line\":{\"colorbar\":{\"outlinewidth\":0,\"ticks\":\"\"}},\"type\":\"parcoords\"}],\"pie\":[{\"automargin\":true,\"type\":\"pie\"}],\"scatter\":[{\"marker\":{\"colorbar\":{\"outlinewidth\":0,\"ticks\":\"\"}},\"type\":\"scatter\"}],\"scatter3d\":[{\"line\":{\"colorbar\":{\"outlinewidth\":0,\"ticks\":\"\"}},\"marker\":{\"colorbar\":{\"outlinewidth\":0,\"ticks\":\"\"}},\"type\":\"scatter3d\"}],\"scattercarpet\":[{\"marker\":{\"colorbar\":{\"outlinewidth\":0,\"ticks\":\"\"}},\"type\":\"scattercarpet\"}],\"scattergeo\":[{\"marker\":{\"colorbar\":{\"outlinewidth\":0,\"ticks\":\"\"}},\"type\":\"scattergeo\"}],\"scattergl\":[{\"marker\":{\"colorbar\":{\"outlinewidth\":0,\"ticks\":\"\"}},\"type\":\"scattergl\"}],\"scattermapbox\":[{\"marker\":{\"colorbar\":{\"outlinewidth\":0,\"ticks\":\"\"}},\"type\":\"scattermapbox\"}],\"scatterpolar\":[{\"marker\":{\"colorbar\":{\"outlinewidth\":0,\"ticks\":\"\"}},\"type\":\"scatterpolar\"}],\"scatterpolargl\":[{\"marker\":{\"colorbar\":{\"outlinewidth\":0,\"ticks\":\"\"}},\"type\":\"scatterpolargl\"}],\"scatterternary\":[{\"marker\":{\"colorbar\":{\"outlinewidth\":0,\"ticks\":\"\"}},\"type\":\"scatterternary\"}],\"surface\":[{\"colorbar\":{\"outlinewidth\":0,\"ticks\":\"\"},\"colorscale\":[[0.0,\"#0d0887\"],[0.1111111111111111,\"#46039f\"],[0.2222222222222222,\"#7201a8\"],[0.3333333333333333,\"#9c179e\"],[0.4444444444444444,\"#bd3786\"],[0.5555555555555556,\"#d8576b\"],[0.6666666666666666,\"#ed7953\"],[0.7777777777777778,\"#fb9f3a\"],[0.8888888888888888,\"#fdca26\"],[1.0,\"#f0f921\"]],\"type\":\"surface\"}],\"table\":[{\"cells\":{\"fill\":{\"color\":\"#EBF0F8\"},\"line\":{\"color\":\"white\"}},\"header\":{\"fill\":{\"color\":\"#C8D4E3\"},\"line\":{\"color\":\"white\"}},\"type\":\"table\"}]},\"layout\":{\"annotationdefaults\":{\"arrowcolor\":\"#2a3f5f\",\"arrowhead\":0,\"arrowwidth\":1},\"autotypenumbers\":\"strict\",\"coloraxis\":{\"colorbar\":{\"outlinewidth\":0,\"ticks\":\"\"}},\"colorscale\":{\"diverging\":[[0,\"#8e0152\"],[0.1,\"#c51b7d\"],[0.2,\"#de77ae\"],[0.3,\"#f1b6da\"],[0.4,\"#fde0ef\"],[0.5,\"#f7f7f7\"],[0.6,\"#e6f5d0\"],[0.7,\"#b8e186\"],[0.8,\"#7fbc41\"],[0.9,\"#4d9221\"],[1,\"#276419\"]],\"sequential\":[[0.0,\"#0d0887\"],[0.1111111111111111,\"#46039f\"],[0.2222222222222222,\"#7201a8\"],[0.3333333333333333,\"#9c179e\"],[0.4444444444444444,\"#bd3786\"],[0.5555555555555556,\"#d8576b\"],[0.6666666666666666,\"#ed7953\"],[0.7777777777777778,\"#fb9f3a\"],[0.8888888888888888,\"#fdca26\"],[1.0,\"#f0f921\"]],\"sequentialminus\":[[0.0,\"#0d0887\"],[0.1111111111111111,\"#46039f\"],[0.2222222222222222,\"#7201a8\"],[0.3333333333333333,\"#9c179e\"],[0.4444444444444444,\"#bd3786\"],[0.5555555555555556,\"#d8576b\"],[0.6666666666666666,\"#ed7953\"],[0.7777777777777778,\"#fb9f3a\"],[0.8888888888888888,\"#fdca26\"],[1.0,\"#f0f921\"]]},\"colorway\":[\"#636efa\",\"#EF553B\",\"#00cc96\",\"#ab63fa\",\"#FFA15A\",\"#19d3f3\",\"#FF6692\",\"#B6E880\",\"#FF97FF\",\"#FECB52\"],\"font\":{\"color\":\"#2a3f5f\"},\"geo\":{\"bgcolor\":\"white\",\"lakecolor\":\"white\",\"landcolor\":\"#E5ECF6\",\"showlakes\":true,\"showland\":true,\"subunitcolor\":\"white\"},\"hoverlabel\":{\"align\":\"left\"},\"hovermode\":\"closest\",\"mapbox\":{\"style\":\"light\"},\"paper_bgcolor\":\"white\",\"plot_bgcolor\":\"#E5ECF6\",\"polar\":{\"angularaxis\":{\"gridcolor\":\"white\",\"linecolor\":\"white\",\"ticks\":\"\"},\"bgcolor\":\"#E5ECF6\",\"radialaxis\":{\"gridcolor\":\"white\",\"linecolor\":\"white\",\"ticks\":\"\"}},\"scene\":{\"xaxis\":{\"backgroundcolor\":\"#E5ECF6\",\"gridcolor\":\"white\",\"gridwidth\":2,\"linecolor\":\"white\",\"showbackground\":true,\"ticks\":\"\",\"zerolinecolor\":\"white\"},\"yaxis\":{\"backgroundcolor\":\"#E5ECF6\",\"gridcolor\":\"white\",\"gridwidth\":2,\"linecolor\":\"white\",\"showbackground\":true,\"ticks\":\"\",\"zerolinecolor\":\"white\"},\"zaxis\":{\"backgroundcolor\":\"#E5ECF6\",\"gridcolor\":\"white\",\"gridwidth\":2,\"linecolor\":\"white\",\"showbackground\":true,\"ticks\":\"\",\"zerolinecolor\":\"white\"}},\"shapedefaults\":{\"line\":{\"color\":\"#2a3f5f\"}},\"ternary\":{\"aaxis\":{\"gridcolor\":\"white\",\"linecolor\":\"white\",\"ticks\":\"\"},\"baxis\":{\"gridcolor\":\"white\",\"linecolor\":\"white\",\"ticks\":\"\"},\"bgcolor\":\"#E5ECF6\",\"caxis\":{\"gridcolor\":\"white\",\"linecolor\":\"white\",\"ticks\":\"\"}},\"title\":{\"x\":0.05},\"xaxis\":{\"automargin\":true,\"gridcolor\":\"white\",\"linecolor\":\"white\",\"ticks\":\"\",\"title\":{\"standoff\":15},\"zerolinecolor\":\"white\",\"zerolinewidth\":2},\"yaxis\":{\"automargin\":true,\"gridcolor\":\"white\",\"linecolor\":\"white\",\"ticks\":\"\",\"title\":{\"standoff\":15},\"zerolinecolor\":\"white\",\"zerolinewidth\":2}}},\"scene\":{\"domain\":{\"x\":[0.0,1.0],\"y\":[0.0,1.0]},\"xaxis\":{\"title\":{\"text\":\"principal component 1\"}},\"yaxis\":{\"title\":{\"text\":\"principal component 2\"}},\"zaxis\":{\"title\":{\"text\":\"principal component 3\"}}},\"coloraxis\":{\"colorbar\":{\"title\":{\"text\":\"class\"}},\"colorscale\":[[0.0,\"#0d0887\"],[0.1111111111111111,\"#46039f\"],[0.2222222222222222,\"#7201a8\"],[0.3333333333333333,\"#9c179e\"],[0.4444444444444444,\"#bd3786\"],[0.5555555555555556,\"#d8576b\"],[0.6666666666666666,\"#ed7953\"],[0.7777777777777778,\"#fb9f3a\"],[0.8888888888888888,\"#fdca26\"],[1.0,\"#f0f921\"]]},\"legend\":{\"tracegroupgap\":0},\"margin\":{\"t\":60}},                        {\"responsive\": true}                    ).then(function(){\n",
              "                            \n",
              "var gd = document.getElementById('95a80a11-08f4-489c-8682-8b62d39ee6ce');\n",
              "var x = new MutationObserver(function (mutations, observer) {{\n",
              "        var display = window.getComputedStyle(gd).display;\n",
              "        if (!display || display === 'none') {{\n",
              "            console.log([gd, 'removed!']);\n",
              "            Plotly.purge(gd);\n",
              "            observer.disconnect();\n",
              "        }}\n",
              "}});\n",
              "\n",
              "// Listen for the removal of the full notebook cells\n",
              "var notebookContainer = gd.closest('#notebook-container');\n",
              "if (notebookContainer) {{\n",
              "    x.observe(notebookContainer, {childList: true});\n",
              "}}\n",
              "\n",
              "// Listen for the clearing of the current output cell\n",
              "var outputEl = gd.closest('.output');\n",
              "if (outputEl) {{\n",
              "    x.observe(outputEl, {childList: true});\n",
              "}}\n",
              "\n",
              "                        })                };                            </script>        </div>\n",
              "</body>\n",
              "</html>"
            ]
          },
          "metadata": {}
        }
      ]
    }
  ]
}