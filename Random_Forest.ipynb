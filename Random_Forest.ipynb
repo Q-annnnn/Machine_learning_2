{
  "nbformat": 4,
  "nbformat_minor": 0,
  "metadata": {
    "colab": {
      "provenance": [],
      "include_colab_link": true
    },
    "kernelspec": {
      "name": "python3",
      "display_name": "Python 3"
    },
    "language_info": {
      "name": "python"
    }
  },
  "cells": [
    {
      "cell_type": "markdown",
      "metadata": {
        "id": "view-in-github",
        "colab_type": "text"
      },
      "source": [
        "<a href=\"https://colab.research.google.com/github/Q-annnnn/USTH_Machine_learning_2/blob/main/Random_Forest.ipynb\" target=\"_parent\"><img src=\"https://colab.research.google.com/assets/colab-badge.svg\" alt=\"Open In Colab\"/></a>"
      ]
    },
    {
      "cell_type": "code",
      "source": [
        "import pandas as pd\n",
        "import numpy as  np\n",
        "import matplotlib.pyplot as plt\n",
        "from plotnine import ggplot, aes, geom_point\n",
        "from sklearn.decomposition import PCA\n",
        "from sklearn.ensemble import RandomForestClassifier\n",
        "from sklearn.model_selection import train_test_split\n",
        "from sklearn.metrics import accuracy_score\n",
        "import random\n",
        "from sklearn import tree\n",
        "from sklearn.model_selection import KFold\n",
        "from sklearn.model_selection import cross_val_score\n",
        "import math\n",
        "from statistics import mean\n",
        "\n"
      ],
      "metadata": {
        "id": "UR5MFQxx8XUm"
      },
      "execution_count": null,
      "outputs": []
    },
    {
      "cell_type": "code",
      "execution_count": null,
      "metadata": {
        "id": "Yq7uvc8IDBuQ"
      },
      "outputs": [],
      "source": [
        "url = 'https://archive.ics.uci.edu/ml/machine-learning-databases/mammographic-masses/mammographic_masses.data'\n",
        "data = pd.read_csv(url, names=[\"BI-RADS assessment\",\"Age\",\"Shape\",\"Margin\",\"Density\",\"Severity\"])\n",
        "data = data.replace([\"?\"], 0)\n",
        "X = data.iloc[:, :-1].values\n",
        "y = data.iloc[:, -1].values\n"
      ]
    },
    {
      "cell_type": "code",
      "source": [
        "X_train, X_test, y_train, y_test = train_test_split(X, y, test_size=0.1, random_state=42)\n",
        "X_train\n"
      ],
      "metadata": {
        "id": "TzB0qir0OU68",
        "colab": {
          "base_uri": "https://localhost:8080/"
        },
        "outputId": "ac3fb0e0-af93-4e59-e492-796634b365c3"
      },
      "execution_count": null,
      "outputs": [
        {
          "output_type": "execute_result",
          "data": {
            "text/plain": [
              "array([['5', '52', '4', '5', '3'],\n",
              "       ['5', '65', '4', '5', '3'],\n",
              "       ['5', '62', '3', '5', '2'],\n",
              "       ...,\n",
              "       ['5', '62', '4', '5', '3'],\n",
              "       ['4', '68', '4', '5', '3'],\n",
              "       ['4', '58', '4', '4', 0]], dtype=object)"
            ]
          },
          "metadata": {},
          "execution_count": 3
        }
      ]
    },
    {
      "cell_type": "code",
      "source": [
        "cv = KFold(n_splits=100,random_state=42, shuffle=True)"
      ],
      "metadata": {
        "id": "VcSA8xMQCAy9"
      },
      "execution_count": null,
      "outputs": []
    },
    {
      "cell_type": "code",
      "source": [],
      "metadata": {
        "id": "dSGRN_BvAoD0"
      },
      "execution_count": null,
      "outputs": []
    },
    {
      "cell_type": "code",
      "source": [
        "# Create a list to store the accuracies of the decision trees on each fold\n",
        "accuracies = []\n",
        "\n",
        "# Train a decision tree classifier on each fold\n",
        "for train_idx, test_idx in cv.split(X):\n",
        "    # Split the data into training and testing sets for this fold\n",
        "    X_train, X_test = X[train_idx], X[test_idx]\n",
        "    y_train, y_test = y[train_idx], y[test_idx]\n",
        "\n",
        "    # Train the decision tree on the training set\n",
        "    DC.fit(X_train, y_train)\n",
        "\n",
        "    # Test the decision tree on the testing set\n",
        "    y_pred = DC.predict(X_test)\n",
        "\n",
        "    # Compute the accuracy of the decision tree on this fold\n",
        "    acc = accuracy_score(y_test, y_pred)\n",
        "    accuracies.append(acc)\n",
        "accuracies\n",
        "\n"
      ],
      "metadata": {
        "id": "zMjqNQ6kOjIx",
        "colab": {
          "base_uri": "https://localhost:8080/"
        },
        "outputId": "df5282f9-bfbc-4f7b-d274-f05260609e0c"
      },
      "execution_count": null,
      "outputs": [
        {
          "output_type": "execute_result",
          "data": {
            "text/plain": [
              "[0.8,\n",
              " 0.7,\n",
              " 0.5,\n",
              " 0.6,\n",
              " 0.8,\n",
              " 0.8,\n",
              " 0.7,\n",
              " 0.8,\n",
              " 0.6,\n",
              " 0.7,\n",
              " 0.8,\n",
              " 0.9,\n",
              " 0.8,\n",
              " 0.7,\n",
              " 0.7,\n",
              " 0.8,\n",
              " 1.0,\n",
              " 0.7,\n",
              " 1.0,\n",
              " 0.5,\n",
              " 0.8,\n",
              " 0.7,\n",
              " 0.9,\n",
              " 1.0,\n",
              " 0.8,\n",
              " 0.8,\n",
              " 0.5,\n",
              " 1.0,\n",
              " 0.9,\n",
              " 0.5,\n",
              " 0.7,\n",
              " 0.7,\n",
              " 0.9,\n",
              " 0.7,\n",
              " 0.8,\n",
              " 0.7,\n",
              " 0.6,\n",
              " 0.7,\n",
              " 0.6,\n",
              " 0.9,\n",
              " 0.8,\n",
              " 0.9,\n",
              " 0.9,\n",
              " 0.6,\n",
              " 0.9,\n",
              " 0.9,\n",
              " 1.0,\n",
              " 0.8,\n",
              " 0.8,\n",
              " 0.7,\n",
              " 0.6,\n",
              " 0.8,\n",
              " 0.8,\n",
              " 0.7,\n",
              " 0.7,\n",
              " 0.8,\n",
              " 0.8,\n",
              " 0.6,\n",
              " 0.8,\n",
              " 0.7,\n",
              " 0.8,\n",
              " 0.7777777777777778,\n",
              " 0.7777777777777778,\n",
              " 0.5555555555555556,\n",
              " 1.0,\n",
              " 0.4444444444444444,\n",
              " 0.6666666666666666,\n",
              " 0.6666666666666666,\n",
              " 1.0,\n",
              " 1.0,\n",
              " 0.8888888888888888,\n",
              " 0.5555555555555556,\n",
              " 0.6666666666666666,\n",
              " 0.6666666666666666,\n",
              " 0.8888888888888888,\n",
              " 0.5555555555555556,\n",
              " 0.7777777777777778,\n",
              " 0.5555555555555556,\n",
              " 1.0,\n",
              " 0.4444444444444444,\n",
              " 0.8888888888888888,\n",
              " 0.7777777777777778,\n",
              " 0.8888888888888888,\n",
              " 0.6666666666666666,\n",
              " 0.6666666666666666,\n",
              " 0.7777777777777778,\n",
              " 0.7777777777777778,\n",
              " 0.6666666666666666,\n",
              " 0.6666666666666666,\n",
              " 0.6666666666666666,\n",
              " 0.7777777777777778,\n",
              " 0.8888888888888888,\n",
              " 0.8888888888888888,\n",
              " 0.7777777777777778,\n",
              " 0.7777777777777778,\n",
              " 0.7777777777777778,\n",
              " 0.7777777777777778,\n",
              " 0.7777777777777778,\n",
              " 0.6666666666666666,\n",
              " 0.4444444444444444]"
            ]
          },
          "metadata": {},
          "execution_count": 42
        }
      ]
    },
    {
      "cell_type": "code",
      "source": [
        "DC=tree.DecisionTreeClassifier()\n",
        "accuracy = 0\n",
        "error = 0\n",
        "\n",
        "# Perform k-fold cross-validation\n",
        "for train_index, test_index in cv.split(X):\n",
        "    X_train, X_test = X[train_index], X[test_index]\n",
        "    y_train, y_test = y[train_index], y[test_index]\n",
        "\n",
        "    # Train decision tree classifier\n",
        "    DC.fit(X_train, y_train)\n",
        "\n",
        "    # Evaluate classifier on test data\n",
        "    y_pred = DC.predict(X_test)\n",
        "    accuracy += sum(y_pred == y_test) / len(y_test)\n",
        "    error += sum(y_pred != y_test) / len(y_test)\n",
        "\n",
        "# Calculate average accuracy and error\n",
        "accuracy /= cv.get_n_splits()\n",
        "error /= cv.get_n_splits()\n",
        "\n",
        "# Print results\n",
        "print(f'Accuracy: {accuracy:.4f}')\n",
        "print(f'Error: {error:.4f}')\n",
        "\n"
      ],
      "metadata": {
        "id": "1d_ApClwqRhi",
        "colab": {
          "base_uri": "https://localhost:8080/"
        },
        "outputId": "f902ffb0-65c0-4d26-8613-33f85e571177"
      },
      "execution_count": null,
      "outputs": [
        {
          "output_type": "stream",
          "name": "stdout",
          "text": [
            "Accuracy: 0.7518\n",
            "Error: 0.2482\n"
          ]
        }
      ]
    }
  ]
}